{
 "cells": [
  {
   "cell_type": "markdown",
   "metadata": {},
   "source": [
    "# Project 6: Analyzing Stock Sentiment from Twits\n",
    "## Instructions\n",
    "Each problem consists of a function to implement and instructions on how to implement the function.  The parts of the function that need to be implemented are marked with a `# TODO` comment.\n",
    "\n",
    "## Packages\n",
    "When you implement the functions, you'll only need to you use the packages you've used in the classroom, like [Pandas](https://pandas.pydata.org/) and [Numpy](http://www.numpy.org/). These packages will be imported for you. We recommend you don't add any import statements, otherwise the grader might not be able to run your code.\n",
    "\n",
    "### Load Packages"
   ]
  },
  {
   "cell_type": "code",
   "execution_count": 1,
   "metadata": {},
   "outputs": [],
   "source": [
    "import json\n",
    "import nltk\n",
    "import os\n",
    "import random\n",
    "import re\n",
    "import torch\n",
    "\n",
    "from torch import nn, optim\n",
    "import torch.nn.functional as F"
   ]
  },
  {
   "cell_type": "markdown",
   "metadata": {},
   "source": [
    "## Introduction\n",
    "When deciding the value of a company, it's important to follow the news. For example, a product recall or natural disaster in a company's product chain. You want to be able to turn this information into a signal. Currently, the best tool for the job is a Neural Network. \n",
    "\n",
    "For this project, you'll use posts from the social media site [StockTwits](https://en.wikipedia.org/wiki/StockTwits). The community on StockTwits is full of investors, traders, and entrepreneurs. Each message posted is called a Twit. This is similar to Twitter's version of a post, called a Tweet. You'll build a model around these twits that generate a sentiment score.\n",
    "\n",
    "We've collected a bunch of twits, then hand labeled the sentiment of each. To capture the degree of sentiment, we'll use a five-point scale: very negative, negative, neutral, positive, very positive. Each twit is labeled -2 to 2 in steps of 1, from very negative to very positive respectively. You'll build a sentiment analysis model that will learn to assign sentiment to twits on its own, using this labeled data.\n",
    "\n",
    "The first thing we should to do, is load the data.\n",
    "\n",
    "## Import Twits \n",
    "### Load Twits Data \n",
    "This JSON file contains a list of objects for each twit in the `'data'` field:\n",
    "\n",
    "```\n",
    "{'data':\n",
    "  {'message_body': 'Neutral twit body text here',\n",
    "   'sentiment': 0},\n",
    "  {'message_body': 'Happy twit body text here',\n",
    "   'sentiment': 1},\n",
    "   ...\n",
    "}\n",
    "```\n",
    "\n",
    "The fields represent the following:\n",
    "\n",
    "* `'message_body'`: The text of the twit.\n",
    "* `'sentiment'`: Sentiment score for the twit, ranges from -2 to 2 in steps of 1, with 0 being neutral.\n",
    "\n",
    "\n",
    "To see what the data look like by printing the first 10 twits from the list. "
   ]
  },
  {
   "cell_type": "code",
   "execution_count": 2,
   "metadata": {},
   "outputs": [
    {
     "name": "stdout",
     "output_type": "stream",
     "text": [
      "[{'message_body': '$FITB great buy at 26.00...ill wait', 'sentiment': 2, 'timestamp': '2018-07-01T00:00:09Z'}, {'message_body': '@StockTwits $MSFT', 'sentiment': 1, 'timestamp': '2018-07-01T00:00:42Z'}, {'message_body': '#STAAnalystAlert for $TDG : Jefferies Maintains with a rating of Hold setting target price at USD 350.00. Our own verdict is Buy  http://www.stocktargetadvisor.com/toprating', 'sentiment': 2, 'timestamp': '2018-07-01T00:01:24Z'}, {'message_body': '$AMD I heard there’s a guy who knows someone who thinks somebody knows something - on StockTwits.', 'sentiment': 1, 'timestamp': '2018-07-01T00:01:47Z'}, {'message_body': '$AMD reveal yourself!', 'sentiment': 0, 'timestamp': '2018-07-01T00:02:13Z'}, {'message_body': '$AAPL Why the drop? I warren Buffet taking out his position?', 'sentiment': 1, 'timestamp': '2018-07-01T00:03:10Z'}, {'message_body': '$BA bears have 1 reason on 06-29 to pay more attention https://dividendbot.com?s=BA', 'sentiment': -2, 'timestamp': '2018-07-01T00:04:09Z'}, {'message_body': '$BAC ok good we&#39;re not dropping in price over the weekend, lol', 'sentiment': 1, 'timestamp': '2018-07-01T00:04:17Z'}, {'message_body': '$AMAT - Daily Chart, we need to get back to above 50.', 'sentiment': 2, 'timestamp': '2018-07-01T00:08:01Z'}, {'message_body': '$GME 3% drop per week after spike... if no news in 3 months, back to 12s... if BO, then bingo... what is the odds?', 'sentiment': -2, 'timestamp': '2018-07-01T00:09:03Z'}]\n"
     ]
    }
   ],
   "source": [
    "with open(os.path.join('..', '..', 'data', 'project_6_stocktwits', 'twits.json'), 'r') as f:\n",
    "    twits = json.load(f)\n",
    "\n",
    "print(twits['data'][:10])"
   ]
  },
  {
   "cell_type": "code",
   "execution_count": 3,
   "metadata": {},
   "outputs": [
    {
     "name": "stdout",
     "output_type": "stream",
     "text": [
      "../../data/project_6_stocktwits/twits.json\n"
     ]
    }
   ],
   "source": [
    "print(os.path.join('..', '..', 'data', 'project_6_stocktwits', 'twits.json'))"
   ]
  },
  {
   "cell_type": "markdown",
   "metadata": {},
   "source": [
    "### Length of Data\n",
    "Now let's look at the number of twits in dataset. Print the number of twits below."
   ]
  },
  {
   "cell_type": "code",
   "execution_count": 4,
   "metadata": {},
   "outputs": [
    {
     "name": "stdout",
     "output_type": "stream",
     "text": [
      "1548010\n"
     ]
    }
   ],
   "source": [
    "\"\"\"print out the number of twits\"\"\"\n",
    "\n",
    "# TODO Implement \n",
    "print(len(twits['data']))\n"
   ]
  },
  {
   "cell_type": "markdown",
   "metadata": {},
   "source": [
    "### Split Message Body and Sentiment Score"
   ]
  },
  {
   "cell_type": "code",
   "execution_count": 5,
   "metadata": {},
   "outputs": [],
   "source": [
    "messages = [twit['message_body'] for twit in twits['data']]\n",
    "# Since the sentiment scores are discrete, we'll scale the sentiments to 0 to 4 for use in our network\n",
    "sentiments = [twit['sentiment'] + 2 for twit in twits['data']]"
   ]
  },
  {
   "cell_type": "code",
   "execution_count": 6,
   "metadata": {},
   "outputs": [
    {
     "data": {
      "text/plain": [
       "[4, 3, 4, 3, 2, 3, 0, 3, 4, 0]"
      ]
     },
     "execution_count": 6,
     "metadata": {},
     "output_type": "execute_result"
    }
   ],
   "source": [
    "sentiments[:10]"
   ]
  },
  {
   "cell_type": "markdown",
   "metadata": {},
   "source": [
    "## Preprocessing the Data\n",
    "With our data in hand we need to preprocess our text. These twits are collected by filtering on ticker symbols where these are denoted with a leader $ symbol in the twit itself. For example,\n",
    "\n",
    "`{'message_body': 'RT @google Our annual look at the year in Google blogging (and beyond) http://t.co/sptHOAh8 $GOOG',\n",
    " 'sentiment': 0}`\n",
    "\n",
    "The ticker symbols don't provide information on the sentiment, and they are in every twit, so we should remove them. This twit also has the `@google` username, again not providing sentiment information, so we should also remove it. We also see a URL `http://t.co/sptHOAh8`. Let's remove these too.\n",
    "\n",
    "The easiest way to remove specific words or phrases is with regex using the `re` module. You can sub out specific patterns with a space:\n",
    "\n",
    "```python\n",
    "re.sub(pattern, ' ', text)\n",
    "```\n",
    "This will substitute a space with anywhere the pattern matches in the text. Later when we tokenize the text, we'll split appropriately on those spaces."
   ]
  },
  {
   "cell_type": "markdown",
   "metadata": {},
   "source": [
    "### Pre-Processing"
   ]
  },
  {
   "cell_type": "code",
   "execution_count": 7,
   "metadata": {},
   "outputs": [
    {
     "name": "stdout",
     "output_type": "stream",
     "text": [
      "[nltk_data] Downloading package wordnet to /root/nltk_data...\n",
      "[nltk_data]   Unzipping corpora/wordnet.zip.\n"
     ]
    }
   ],
   "source": [
    "nltk.download('wordnet')\n",
    "\n",
    "\n",
    "def preprocess(message):\n",
    "    \"\"\"\n",
    "    This function takes a string as input, then performs these operations: \n",
    "        - lowercase\n",
    "        - remove URLs\n",
    "        - remove ticker symbols \n",
    "        - removes punctuation\n",
    "        - tokenize by splitting the string on whitespace \n",
    "        - removes any single character tokens\n",
    "    \n",
    "    Parameters\n",
    "    ----------\n",
    "        message : The text message to be preprocessed.\n",
    "        \n",
    "    Returns\n",
    "    -------\n",
    "        tokens: The preprocessed text into tokens.\n",
    "    \"\"\" \n",
    "    #TODO: Implement \n",
    "\n",
    "    # Lowercase the twit message\n",
    "    text = message.lower()\n",
    "    \n",
    "    # Replace URLs with a space in the message\n",
    "    text = re.sub(r'https?://[^\\s]+', ' ', text)\n",
    "    \n",
    "    # Replace ticker symbols with a space. The ticker symbols are any stock symbol that starts with $.\n",
    "    text = re.sub(r'\\$[a-zA-Z0-9]*', ' ', text)\n",
    "    \n",
    "    # Replace StockTwits usernames with a space. The usernames are any word that starts with @.\n",
    "    text = re.sub(r'@[a-zA-Z0-9]*', ' ', text)\n",
    "\n",
    "    # Replace everything not a letter with a space\n",
    "    text = re.sub('[^a-z]',' ',text)\n",
    "    \n",
    "    # Tokenize by splitting the string on whitespace into a list of words\n",
    "    tokens = text.split(' ')\n",
    "\n",
    "    # Lemmatize words using the WordNetLemmatizer. You can ignore any word that is not longer than one character.\n",
    "    wnl = nltk.stem.WordNetLemmatizer()\n",
    "    tokens = [wnl.lemmatize(word, 'v') for word in tokens if len(word) > 1]\n",
    "    \n",
    "    return tokens"
   ]
  },
  {
   "cell_type": "markdown",
   "metadata": {},
   "source": [
    "### Preprocess All the Twits \n",
    "Now we can preprocess each of the twits in our dataset. Apply the function `preprocess` to all the twit messages."
   ]
  },
  {
   "cell_type": "code",
   "execution_count": 8,
   "metadata": {},
   "outputs": [],
   "source": [
    "# TODO Implement\n",
    "\n",
    "tokenized = [preprocess(message) for message in messages]"
   ]
  },
  {
   "cell_type": "code",
   "execution_count": 9,
   "metadata": {},
   "outputs": [
    {
     "data": {
      "text/plain": [
       "1548010"
      ]
     },
     "execution_count": 9,
     "metadata": {},
     "output_type": "execute_result"
    }
   ],
   "source": [
    "len(tokenized)"
   ]
  },
  {
   "cell_type": "code",
   "execution_count": 10,
   "metadata": {},
   "outputs": [
    {
     "data": {
      "text/plain": [
       "list"
      ]
     },
     "execution_count": 10,
     "metadata": {},
     "output_type": "execute_result"
    }
   ],
   "source": [
    "type(tokenized)"
   ]
  },
  {
   "cell_type": "code",
   "execution_count": 11,
   "metadata": {},
   "outputs": [
    {
     "data": {
      "text/plain": [
       "[['great', 'buy', 'at', 'ill', 'wait'],\n",
       " [],\n",
       " ['staanalystalert',\n",
       "  'for',\n",
       "  'jefferies',\n",
       "  'maintain',\n",
       "  'with',\n",
       "  'rat',\n",
       "  'of',\n",
       "  'hold',\n",
       "  'set',\n",
       "  'target',\n",
       "  'price',\n",
       "  'at',\n",
       "  'usd',\n",
       "  'our',\n",
       "  'own',\n",
       "  'verdict',\n",
       "  'be',\n",
       "  'buy'],\n",
       " ['hear',\n",
       "  'there',\n",
       "  'guy',\n",
       "  'who',\n",
       "  'know',\n",
       "  'someone',\n",
       "  'who',\n",
       "  'think',\n",
       "  'somebody',\n",
       "  'know',\n",
       "  'something',\n",
       "  'on',\n",
       "  'stocktwits'],\n",
       " ['reveal', 'yourself']]"
      ]
     },
     "execution_count": 11,
     "metadata": {},
     "output_type": "execute_result"
    }
   ],
   "source": [
    "tokenized[:5]"
   ]
  },
  {
   "cell_type": "code",
   "execution_count": null,
   "metadata": {},
   "outputs": [],
   "source": []
  },
  {
   "cell_type": "code",
   "execution_count": 12,
   "metadata": {},
   "outputs": [],
   "source": [
    "bow_list = [word for twit in tokenized for word in twit]"
   ]
  },
  {
   "cell_type": "code",
   "execution_count": 13,
   "metadata": {},
   "outputs": [
    {
     "data": {
      "text/plain": [
       "['great',\n",
       " 'buy',\n",
       " 'at',\n",
       " 'ill',\n",
       " 'wait',\n",
       " 'staanalystalert',\n",
       " 'for',\n",
       " 'jefferies',\n",
       " 'maintain',\n",
       " 'with',\n",
       " 'rat',\n",
       " 'of',\n",
       " 'hold',\n",
       " 'set',\n",
       " 'target',\n",
       " 'price',\n",
       " 'at',\n",
       " 'usd',\n",
       " 'our',\n",
       " 'own',\n",
       " 'verdict',\n",
       " 'be',\n",
       " 'buy',\n",
       " 'hear',\n",
       " 'there',\n",
       " 'guy',\n",
       " 'who',\n",
       " 'know',\n",
       " 'someone',\n",
       " 'who',\n",
       " 'think',\n",
       " 'somebody',\n",
       " 'know',\n",
       " 'something',\n",
       " 'on',\n",
       " 'stocktwits',\n",
       " 'reveal',\n",
       " 'yourself',\n",
       " 'why',\n",
       " 'the',\n",
       " 'drop',\n",
       " 'warren',\n",
       " 'buffet',\n",
       " 'take',\n",
       " 'out',\n",
       " 'his',\n",
       " 'position',\n",
       " 'bear',\n",
       " 'have',\n",
       " 'reason',\n",
       " 'on',\n",
       " 'to',\n",
       " 'pay',\n",
       " 'more',\n",
       " 'attention',\n",
       " 'ok',\n",
       " 'good',\n",
       " 'we',\n",
       " 're',\n",
       " 'not',\n",
       " 'drop',\n",
       " 'in',\n",
       " 'price',\n",
       " 'over',\n",
       " 'the',\n",
       " 'weekend',\n",
       " 'lol',\n",
       " 'daily',\n",
       " 'chart',\n",
       " 'we',\n",
       " 'need',\n",
       " 'to',\n",
       " 'get',\n",
       " 'back',\n",
       " 'to',\n",
       " 'above',\n",
       " 'drop',\n",
       " 'per',\n",
       " 'week',\n",
       " 'after',\n",
       " 'spike',\n",
       " 'if',\n",
       " 'no',\n",
       " 'news',\n",
       " 'in',\n",
       " 'months',\n",
       " 'back',\n",
       " 'to',\n",
       " 'if',\n",
       " 'bo',\n",
       " 'then',\n",
       " 'bingo',\n",
       " 'what',\n",
       " 'be',\n",
       " 'the',\n",
       " 'odds',\n",
       " 'strong',\n",
       " 'buy',\n",
       " 'short',\n",
       " 'ratio',\n",
       " 'be',\n",
       " 'at',\n",
       " 'and',\n",
       " 'short',\n",
       " 'to',\n",
       " 'float',\n",
       " 'be',\n",
       " 'via',\n",
       " 'price',\n",
       " 'squeeze',\n",
       " 'perfect',\n",
       " 'place',\n",
       " 'for',\n",
       " 'an',\n",
       " 'option',\n",
       " 'straddle',\n",
       " 'near',\n",
       " 'the',\n",
       " 'support',\n",
       " 'trend',\n",
       " 'start',\n",
       " 'of',\n",
       " 'new',\n",
       " 'on',\n",
       " 'monday',\n",
       " 'expect',\n",
       " 'strong',\n",
       " 'buy',\n",
       " 'volume',\n",
       " 'across',\n",
       " 'key',\n",
       " 'company',\n",
       " 'of',\n",
       " 'various',\n",
       " 'sectors',\n",
       " 'breakout',\n",
       " 'strategy',\n",
       " 'current',\n",
       " 'portfolio',\n",
       " 'bull',\n",
       " 'have',\n",
       " 'reason',\n",
       " 'on',\n",
       " 'to',\n",
       " 'pay',\n",
       " 'more',\n",
       " 'attention',\n",
       " 'catalysts',\n",
       " 'continue',\n",
       " 'this',\n",
       " 'new',\n",
       " 'uptrend',\n",
       " 'pill',\n",
       " 'pack',\n",
       " 'buy',\n",
       " 'out',\n",
       " 'amazon',\n",
       " 'prime',\n",
       " 'day',\n",
       " 'earn',\n",
       " 'test',\n",
       " 'break',\n",
       " 'of',\n",
       " 'soon',\n",
       " 'have',\n",
       " 'move',\n",
       " 'on',\n",
       " 'check',\n",
       " 'out',\n",
       " 'the',\n",
       " 'movement',\n",
       " 'and',\n",
       " 'peer',\n",
       " 'at',\n",
       " 'staanalystalert',\n",
       " 'for',\n",
       " 'mkm',\n",
       " 'partner',\n",
       " 'set',\n",
       " 'price',\n",
       " 'target',\n",
       " 'with',\n",
       " 'rat',\n",
       " 'of',\n",
       " 'buy',\n",
       " 'set',\n",
       " 'target',\n",
       " 'price',\n",
       " 'at',\n",
       " 'usd',\n",
       " 'our',\n",
       " 'own',\n",
       " 'verdict',\n",
       " 'be',\n",
       " 'buy',\n",
       " 'think',\n",
       " 'it',\n",
       " 'be',\n",
       " 'too',\n",
       " 'early',\n",
       " 'to',\n",
       " 'tell',\n",
       " 'what',\n",
       " 'go',\n",
       " 'to',\n",
       " 'happen',\n",
       " 'monday',\n",
       " 'even',\n",
       " 'with',\n",
       " 'the',\n",
       " 'current',\n",
       " 'news',\n",
       " 'about',\n",
       " 'raisinf',\n",
       " 'output',\n",
       " 'there',\n",
       " 'be',\n",
       " 'still',\n",
       " 'so',\n",
       " 'many',\n",
       " 'have',\n",
       " 'current',\n",
       " 'ratio',\n",
       " 'of',\n",
       " 'so',\n",
       " 'it',\n",
       " 'be',\n",
       " 'financially',\n",
       " 'healthy',\n",
       " 'and',\n",
       " 'have',\n",
       " 'no',\n",
       " 'problem',\n",
       " 'in',\n",
       " 'meet',\n",
       " 'its',\n",
       " 'obligations',\n",
       " 'bullish',\n",
       " 'stock',\n",
       " 'to',\n",
       " 'watch',\n",
       " 'setups',\n",
       " 'timeframes',\n",
       " 'blog',\n",
       " 'by',\n",
       " 'just',\n",
       " 'short',\n",
       " 'it',\n",
       " 'high',\n",
       " 'alert',\n",
       " 'for',\n",
       " 'next',\n",
       " 'week',\n",
       " 'gt',\n",
       " 'breakdown',\n",
       " 'the',\n",
       " 'current',\n",
       " 'ratio',\n",
       " 'of',\n",
       " 'be',\n",
       " 'much',\n",
       " 'better',\n",
       " 'than',\n",
       " 'the',\n",
       " 'industry',\n",
       " 'average',\n",
       " 'of',\n",
       " 'miss',\n",
       " 'these',\n",
       " 'days',\n",
       " 'if',\n",
       " 'break',\n",
       " 'and',\n",
       " 'confirm',\n",
       " 'next',\n",
       " 'week',\n",
       " 'you',\n",
       " 'will',\n",
       " 'see',\n",
       " 'violent',\n",
       " 'move',\n",
       " 'downward',\n",
       " 'to',\n",
       " 'my',\n",
       " 'buy',\n",
       " 'price',\n",
       " 'bear',\n",
       " 'have',\n",
       " 'reason',\n",
       " 'on',\n",
       " 'to',\n",
       " 'pay',\n",
       " 'more',\n",
       " 'attention',\n",
       " 'breakouts',\n",
       " 'base',\n",
       " 'gap',\n",
       " 'and',\n",
       " 'day',\n",
       " 'ma',\n",
       " 'gap',\n",
       " 'gap',\n",
       " 'gap',\n",
       " 'and',\n",
       " 'day',\n",
       " 'ma',\n",
       " 'cabot',\n",
       " 'weekly',\n",
       " 'video',\n",
       " 'quot',\n",
       " 'resilient',\n",
       " 'growth',\n",
       " 'stock',\n",
       " 'to',\n",
       " 'watch',\n",
       " 'quot',\n",
       " 'when',\n",
       " 'be',\n",
       " 'kid',\n",
       " 'my',\n",
       " 'froend',\n",
       " 'tell',\n",
       " 'me',\n",
       " 'the',\n",
       " 'moon',\n",
       " 'be',\n",
       " 'make',\n",
       " 'out',\n",
       " 'of',\n",
       " 'cheese',\n",
       " 'short',\n",
       " 'volume',\n",
       " 'percent',\n",
       " 'for',\n",
       " 'be',\n",
       " 'on',\n",
       " 'and',\n",
       " 'day',\n",
       " 'rank',\n",
       " 'be',\n",
       " 'th',\n",
       " 'percentile',\n",
       " 'thank',\n",
       " 'you',\n",
       " 'don',\n",
       " 'feel',\n",
       " 'the',\n",
       " 'need',\n",
       " 'to',\n",
       " 'tell',\n",
       " 'or',\n",
       " 'to',\n",
       " 'do',\n",
       " 'well',\n",
       " 'for',\n",
       " 'me',\n",
       " 'they',\n",
       " 'already',\n",
       " 'have',\n",
       " 'during',\n",
       " 'the',\n",
       " 'youtube',\n",
       " 'interview',\n",
       " 'mitch',\n",
       " 'couldn',\n",
       " 'remember',\n",
       " 'single',\n",
       " 'movie',\n",
       " 'he',\n",
       " 'watch',\n",
       " 'all',\n",
       " 'year',\n",
       " 'except',\n",
       " 'star',\n",
       " 'war',\n",
       " 'black',\n",
       " 'panther',\n",
       " 'clothe',\n",
       " 'staanalystalert',\n",
       " 'for',\n",
       " 'jefferies',\n",
       " 'downgrade',\n",
       " 'with',\n",
       " 'rat',\n",
       " 'of',\n",
       " 'hold',\n",
       " 'set',\n",
       " 'target',\n",
       " 'price',\n",
       " 'at',\n",
       " 'usd',\n",
       " 'our',\n",
       " 'own',\n",
       " 'verdict',\n",
       " 'be',\n",
       " 'hold',\n",
       " 'short',\n",
       " 'sale',\n",
       " 'volume',\n",
       " 'not',\n",
       " 'short',\n",
       " 'interest',\n",
       " 'for',\n",
       " 'on',\n",
       " 'be',\n",
       " 'via',\n",
       " 'have',\n",
       " 'better',\n",
       " 'return',\n",
       " 'on',\n",
       " 'equity',\n",
       " 'than',\n",
       " 'the',\n",
       " 'industry',\n",
       " 'average',\n",
       " 'of',\n",
       " 'although',\n",
       " 'the',\n",
       " 'market',\n",
       " 'be',\n",
       " 'up',\n",
       " 'be',\n",
       " 'do',\n",
       " 'even',\n",
       " 'better',\n",
       " 'it',\n",
       " 'have',\n",
       " 'advance',\n",
       " 'as',\n",
       " 'of',\n",
       " 'more',\n",
       " 'info',\n",
       " 'peer',\n",
       " 'at',\n",
       " 'july',\n",
       " 'will',\n",
       " 'be',\n",
       " 'the',\n",
       " 'most',\n",
       " 'bullish',\n",
       " 'day',\n",
       " 'of',\n",
       " 'the',\n",
       " 'year',\n",
       " 'for',\n",
       " 'stock',\n",
       " 'option',\n",
       " 'volume',\n",
       " 'be',\n",
       " 'normal',\n",
       " 'on',\n",
       " 'friday',\n",
       " 'with',\n",
       " 'contract',\n",
       " 'call',\n",
       " 'volume',\n",
       " 'be',\n",
       " 'and',\n",
       " 'put',\n",
       " 'volume',\n",
       " 'be',\n",
       " 'third',\n",
       " 'design',\n",
       " 'win',\n",
       " 'the',\n",
       " 'time',\n",
       " 'match',\n",
       " 'it',\n",
       " 'probably',\n",
       " 'arm',\n",
       " 'alcohol',\n",
       " 'stock',\n",
       " 'tobacco',\n",
       " 'stock',\n",
       " 'and',\n",
       " 'firearm',\n",
       " 'stock',\n",
       " 'to',\n",
       " 'buy',\n",
       " 'president',\n",
       " 'trump',\n",
       " 'tweet',\n",
       " 'just',\n",
       " 'speak',\n",
       " 'to',\n",
       " 'king',\n",
       " 'salman',\n",
       " 'of',\n",
       " 'saudi',\n",
       " 'arabia',\n",
       " 'and',\n",
       " 'explain',\n",
       " 'to',\n",
       " 'him',\n",
       " 'that',\n",
       " 'because',\n",
       " 'of',\n",
       " 'the',\n",
       " 'turmoil',\n",
       " 'amp',\n",
       " 'today',\n",
       " 'insight',\n",
       " 'on',\n",
       " 'intc',\n",
       " 'mama',\n",
       " 'say',\n",
       " 'get',\n",
       " 'ice',\n",
       " 'cream',\n",
       " 'if',\n",
       " 'finish',\n",
       " 'my',\n",
       " 'due',\n",
       " 'dil',\n",
       " 'just',\n",
       " 'notice',\n",
       " 'they',\n",
       " 'have',\n",
       " 'the',\n",
       " 'last',\n",
       " 'jedi',\n",
       " 'on',\n",
       " 'stream',\n",
       " 'love',\n",
       " 'this',\n",
       " 'stock',\n",
       " 'here',\n",
       " 'you',\n",
       " 'go',\n",
       " 'will',\n",
       " 'just',\n",
       " 'leave',\n",
       " 'this',\n",
       " 'here',\n",
       " 'good',\n",
       " 'view',\n",
       " 'daily',\n",
       " 'still',\n",
       " 'look',\n",
       " 'good',\n",
       " 'ema',\n",
       " 'hold',\n",
       " 'above',\n",
       " 'ema',\n",
       " 'and',\n",
       " 'stochastics',\n",
       " 'turn',\n",
       " 'healthy',\n",
       " 'as',\n",
       " 'spy',\n",
       " 'qqq',\n",
       " 'opposite',\n",
       " 'with',\n",
       " 'forward',\n",
       " 'pe',\n",
       " 'of',\n",
       " 'the',\n",
       " 'valuation',\n",
       " 'of',\n",
       " 'can',\n",
       " 'be',\n",
       " 'describe',\n",
       " 'as',\n",
       " 'cheap',\n",
       " 'saber',\n",
       " 'capital',\n",
       " 'presentation',\n",
       " 'common',\n",
       " 'denominator',\n",
       " 'of',\n",
       " 'tencent',\n",
       " 'facebook',\n",
       " 'and',\n",
       " 'google',\n",
       " 'how',\n",
       " 'expect',\n",
       " 'the',\n",
       " 'earn',\n",
       " 'be',\n",
       " 'one',\n",
       " 'of',\n",
       " 'the',\n",
       " 'better',\n",
       " 'perform',\n",
       " 'stock',\n",
       " 'in',\n",
       " 'the',\n",
       " 'crude',\n",
       " 'petroleum',\n",
       " 'and',\n",
       " 'natural',\n",
       " 'gas',\n",
       " 'industry',\n",
       " 'pu',\n",
       " 'it',\n",
       " 'simply',\n",
       " 'havent',\n",
       " 'lose',\n",
       " 'on',\n",
       " 'any',\n",
       " 'brown',\n",
       " 'guy',\n",
       " 'run',\n",
       " 'tech',\n",
       " 'company',\n",
       " 'mfs',\n",
       " 'be',\n",
       " 'well',\n",
       " 'educate',\n",
       " 'know',\n",
       " 'their',\n",
       " 'shit',\n",
       " 'more',\n",
       " 'more',\n",
       " 'every',\n",
       " 'year',\n",
       " 'former',\n",
       " 'president',\n",
       " 'of',\n",
       " 'global',\n",
       " 'manufacture',\n",
       " 'at',\n",
       " 'pfizer',\n",
       " 'be',\n",
       " 'an',\n",
       " 'independent',\n",
       " 'director',\n",
       " 'at',\n",
       " 'nat',\n",
       " 'ricciardi',\n",
       " 'may',\n",
       " 'be',\n",
       " 'the',\n",
       " 'safest',\n",
       " 'stock',\n",
       " 'own',\n",
       " 'special',\n",
       " 'limit',\n",
       " 'offer',\n",
       " 'june',\n",
       " 'th',\n",
       " 'june',\n",
       " 'th',\n",
       " 'tradenet',\n",
       " 'be',\n",
       " 'offer',\n",
       " 'discount',\n",
       " 'on',\n",
       " 'intro',\n",
       " 'program',\n",
       " 'below',\n",
       " 'buy',\n",
       " 'put',\n",
       " 'on',\n",
       " 'financials',\n",
       " 'great',\n",
       " 'summary',\n",
       " 'of',\n",
       " 'jeff',\n",
       " 'gundlach',\n",
       " 'sohn',\n",
       " 'presentation',\n",
       " 'long',\n",
       " 'thesis',\n",
       " 'for',\n",
       " 'energy',\n",
       " 'stock',\n",
       " 'low',\n",
       " 'peg',\n",
       " 'ratio',\n",
       " 'which',\n",
       " 'compensate',\n",
       " 'the',\n",
       " 'pe',\n",
       " 'for',\n",
       " 'growth',\n",
       " 'indicate',\n",
       " 'rather',\n",
       " 'cheap',\n",
       " 'valuation',\n",
       " 'great',\n",
       " 'summary',\n",
       " 'of',\n",
       " 'jeff',\n",
       " 'gundlach',\n",
       " 'sohn',\n",
       " 'pres',\n",
       " 'long',\n",
       " 'thesis',\n",
       " 'for',\n",
       " 'energy',\n",
       " 'equities',\n",
       " 'come',\n",
       " 'seem',\n",
       " 'be',\n",
       " 'the',\n",
       " 'support',\n",
       " 'next',\n",
       " 'if',\n",
       " 'under',\n",
       " 'be',\n",
       " 'likely',\n",
       " 'have',\n",
       " 'move',\n",
       " 'on',\n",
       " 'check',\n",
       " 'out',\n",
       " 'the',\n",
       " 'movement',\n",
       " 'and',\n",
       " 'peer',\n",
       " 'at',\n",
       " 'bullshit',\n",
       " 'worthless',\n",
       " 'mean',\n",
       " 'fuck',\n",
       " 'nothing',\n",
       " 'this',\n",
       " 'be',\n",
       " 'macau',\n",
       " 'not',\n",
       " 'fuck',\n",
       " 'usa',\n",
       " 'take',\n",
       " 'this',\n",
       " 'let',\n",
       " 'me',\n",
       " 'know',\n",
       " 'where',\n",
       " 'be',\n",
       " 'we',\n",
       " 'right',\n",
       " 'now',\n",
       " 'lol',\n",
       " 'the',\n",
       " 'chart',\n",
       " 'look',\n",
       " 'so',\n",
       " 'ugly',\n",
       " 'without',\n",
       " 'clear',\n",
       " 'support',\n",
       " 'level',\n",
       " 'short',\n",
       " 'term',\n",
       " 'bearish',\n",
       " 'll',\n",
       " 'buy',\n",
       " 'when',\n",
       " 'this',\n",
       " 'be',\n",
       " 'at',\n",
       " 'great',\n",
       " 'summary',\n",
       " 'of',\n",
       " 'jeff',\n",
       " 'gundlach',\n",
       " 'sohn',\n",
       " 'presentation',\n",
       " 'long',\n",
       " 'thesis',\n",
       " 'for',\n",
       " 'energy',\n",
       " 'stock',\n",
       " 'previously',\n",
       " 'there',\n",
       " 'be',\n",
       " 'mo',\n",
       " 'run',\n",
       " 'up',\n",
       " 'follow',\n",
       " 'by',\n",
       " 'drop',\n",
       " 'we',\n",
       " 'be',\n",
       " 'at',\n",
       " 'the',\n",
       " 'end',\n",
       " 'of',\n",
       " 'month',\n",
       " 'of',\n",
       " 'another',\n",
       " 'runup',\n",
       " 'and',\n",
       " 'have',\n",
       " 'drop',\n",
       " 'about',\n",
       " 'smart',\n",
       " 'money',\n",
       " 'bet',\n",
       " 'on',\n",
       " 'call',\n",
       " 'deal',\n",
       " 'update',\n",
       " 'although',\n",
       " 'the',\n",
       " 'technical',\n",
       " 'rat',\n",
       " 'be',\n",
       " 'bad',\n",
       " 'do',\n",
       " 'present',\n",
       " 'nice',\n",
       " 'setup',\n",
       " 'opportunity',\n",
       " 'will',\n",
       " 'completely',\n",
       " 'scale',\n",
       " 'out',\n",
       " 'in',\n",
       " 'time',\n",
       " 'to',\n",
       " 'gobble',\n",
       " 'up',\n",
       " 'my',\n",
       " 'next',\n",
       " 'long',\n",
       " 'play',\n",
       " 'aka',\n",
       " 'my',\n",
       " 'favorite',\n",
       " 'gt',\n",
       " 'short',\n",
       " 'sale',\n",
       " 'volume',\n",
       " 'not',\n",
       " 'short',\n",
       " 'interest',\n",
       " 'for',\n",
       " 'be',\n",
       " 'via',\n",
       " 'them',\n",
       " 'be',\n",
       " 'iddy',\n",
       " 'bitty',\n",
       " 'kiddy',\n",
       " 'hand',\n",
       " 'short',\n",
       " 'interest',\n",
       " 'ratio',\n",
       " 'of',\n",
       " 'be',\n",
       " 'at',\n",
       " 'and',\n",
       " 'short',\n",
       " 'to',\n",
       " 'float',\n",
       " 'be',\n",
       " 'via',\n",
       " 'then',\n",
       " 'awesome',\n",
       " 'it',\n",
       " 'be',\n",
       " 'now',\n",
       " 'be',\n",
       " 'concern',\n",
       " 'if',\n",
       " 'not',\n",
       " 'over',\n",
       " 'by',\n",
       " 'eow',\n",
       " 'might',\n",
       " 'get',\n",
       " 'under',\n",
       " 'next',\n",
       " 'wk',\n",
       " 'or',\n",
       " 'soon',\n",
       " 'throwback',\n",
       " 'staanalystalert',\n",
       " 'for',\n",
       " 'us',\n",
       " 'capital',\n",
       " 'advisors',\n",
       " 'upgrade',\n",
       " 'with',\n",
       " 'rat',\n",
       " 'of',\n",
       " 'hold',\n",
       " 'our',\n",
       " 'own',\n",
       " 'verdict',\n",
       " 'be',\n",
       " 'buy',\n",
       " 'lol',\n",
       " 'all',\n",
       " 'these',\n",
       " 'shorties',\n",
       " 'be',\n",
       " 'dream',\n",
       " 'of',\n",
       " 'great',\n",
       " 'depression',\n",
       " 'or',\n",
       " 'somethin',\n",
       " 'loll',\n",
       " 'just',\n",
       " 'update',\n",
       " 'hormel',\n",
       " 'foods',\n",
       " 'dividend',\n",
       " 'king',\n",
       " 'stock',\n",
       " 'analysis',\n",
       " 'dividend',\n",
       " 'king',\n",
       " 'consumer',\n",
       " 'defensive',\n",
       " 'today',\n",
       " 'insight',\n",
       " 'on',\n",
       " 'just',\n",
       " 'update',\n",
       " 'intel',\n",
       " 'valuation',\n",
       " 'profitability',\n",
       " 'and',\n",
       " 'dividend',\n",
       " 'safety',\n",
       " 'score',\n",
       " 'analysis',\n",
       " 'dividends',\n",
       " 'technology',\n",
       " 'today',\n",
       " 'insight',\n",
       " 'on',\n",
       " 'the',\n",
       " 'long',\n",
       " 'and',\n",
       " 'short',\n",
       " 'term',\n",
       " 'trend',\n",
       " 'be',\n",
       " 'both',\n",
       " 'positive',\n",
       " 'this',\n",
       " 'be',\n",
       " 'look',\n",
       " 'good',\n",
       " 'they',\n",
       " 'so',\n",
       " 'mad',\n",
       " 'at',\n",
       " 'me',\n",
       " 'still',\n",
       " 'back',\n",
       " 'to',\n",
       " 'by',\n",
       " 'july',\n",
       " 'report',\n",
       " 'and',\n",
       " 'block',\n",
       " 'this',\n",
       " 'person',\n",
       " 'spam',\n",
       " 'should',\n",
       " 'open',\n",
       " 'at',\n",
       " 'on',\n",
       " 'monday',\n",
       " 'my',\n",
       " 'projection',\n",
       " 'for',\n",
       " 'if',\n",
       " 'thats',\n",
       " 'true',\n",
       " 'under',\n",
       " 'be',\n",
       " 'next',\n",
       " 'week',\n",
       " 'thats',\n",
       " 'why',\n",
       " 'prefer',\n",
       " 'to',\n",
       " 'buy',\n",
       " 'from',\n",
       " 'support',\n",
       " 'level',\n",
       " 'what',\n",
       " 'turd',\n",
       " 'percent',\n",
       " 'short',\n",
       " 'volume',\n",
       " 'for',\n",
       " 'be',\n",
       " 'on',\n",
       " 'wal',\n",
       " 'mart',\n",
       " 'dividend',\n",
       " 'aristocrat',\n",
       " 'dividend',\n",
       " 'aristocrat',\n",
       " 'consumer',\n",
       " 'defensive',\n",
       " 'valueinvesting',\n",
       " 'dvb',\n",
       " 'aaamp',\n",
       " 'look',\n",
       " 'for',\n",
       " 'marriage',\n",
       " ...]"
      ]
     },
     "execution_count": 13,
     "metadata": {},
     "output_type": "execute_result"
    }
   ],
   "source": [
    "bow_list"
   ]
  },
  {
   "cell_type": "markdown",
   "metadata": {},
   "source": [
    "### Bag of Words\n",
    "Now with all of our messages tokenized, we want to create a vocabulary and count up how often each word appears in our entire corpus. Use the [`Counter`](https://docs.python.org/3.1/library/collections.html#collections.Counter) function to count up all the tokens."
   ]
  },
  {
   "cell_type": "code",
   "execution_count": 14,
   "metadata": {},
   "outputs": [],
   "source": [
    "import collections\n",
    "from collections import Counter\n",
    "\n",
    "from sklearn.feature_extraction.text import CountVectorizer\n",
    "\n",
    "\"\"\"\n",
    "Create a vocabulary by using Bag of words\n",
    "\"\"\"\n",
    "bow_list = [word for twit in tokenized for word in twit]\n",
    "#bow = CountVectorizer().fit_transform(tokenized).to_array()\n",
    "bow = Counter(bow_list)\n",
    "# TODO: Implement \n",
    "\n"
   ]
  },
  {
   "cell_type": "code",
   "execution_count": null,
   "metadata": {},
   "outputs": [],
   "source": []
  },
  {
   "cell_type": "code",
   "execution_count": 15,
   "metadata": {},
   "outputs": [
    {
     "data": {
      "text/plain": [
       "dict_values([17566, 119292, 138459, 881, 19014, 4072, 273550, 1056, 1849, 68866, 17765, 211377, 39784, 9712, 16980, 40057, 2955, 12209, 10960, 3735, 581289, 3828, 25592, 13436, 17683, 22691, 5155, 32105, 1096, 6010, 241668, 1439, 489, 1207, 21691, 398911, 23039, 1011, 1304, 30186, 56717, 6261, 17476, 33765, 107328, 7865, 379518, 11379, 55366, 3528, 4524, 43657, 64757, 12661, 68311, 205291, 32676, 3561, 30941, 14022, 16192, 23065, 75484, 43516, 17856, 16565, 37023, 34396, 2539, 59001, 40392, 19732, 7370, 610, 20974, 180, 79145, 392, 17202, 93855, 7552, 208520, 4815, 23490, 6307, 1993, 3331, 22445, 7753, 2290, 6269, 17479, 10051, 17203, 46415, 7284, 41663, 43476, 781, 8470, 22151, 84, 226, 6424, 1465, 6184, 2356, 27211, 336, 7008, 203572, 1688, 129, 337, 10845, 1819, 48572, 56337, 5691, 25144, 16160, 33950, 6022, 2707, 3181, 164, 1391, 167788, 18991, 4770, 9860, 108396, 13055, 16280, 27608, 1, 109, 35239, 45800, 9461, 570, 1808, 2093, 2450, 25761, 449, 25206, 75521, 20662, 1931, 39, 539, 53983, 73196, 22498, 23708, 46982, 9390, 985, 16601, 13788, 29130, 7248, 9969, 11750, 14131, 18920, 6448, 94326, 128695, 50745, 147, 831, 51362, 253, 8099, 10299, 4932, 105, 6494, 2633, 40091, 137, 36084, 30042, 2260, 1, 25922, 2216, 33836, 117, 6299, 5974, 6495, 1398, 9859, 25449, 8529, 37497, 59359, 16550, 56357, 9658, 2561, 598, 658, 62, 1252, 4984, 2171, 518, 11371, 59896, 22205, 1147, 2541, 4962, 1222, 19, 248, 6430, 10070, 16086, 7349, 1586, 1869, 54282, 122524, 1586, 46191, 3811, 3144, 8235, 1623, 10856, 14349, 72087, 37761, 1574, 770, 13367, 40238, 1539, 5059, 336, 72, 148, 1, 2805, 11837, 1615, 1490, 1248, 4, 606, 149, 1244, 2091, 89677, 7871, 129, 35681, 75476, 7095, 1984, 162, 29744, 443, 165, 1668, 3687, 3, 1408, 38788, 177, 1899, 11472, 74791, 6303, 5225, 49928, 1388, 73, 6907, 2199, 655, 867, 3420, 4511, 4213, 44260, 422, 7837, 13, 2910, 595, 1385, 9, 164, 8707, 3236, 24453, 26414, 1811, 489, 249, 516, 1506, 39, 636, 214, 11562, 14394, 256, 19512, 9460, 24, 191, 24227, 6634, 8941, 433, 2508, 509, 452, 145, 5040, 136, 4, 10943, 153, 615, 1770, 2403, 1300, 5, 1673, 39, 1204, 11232, 989, 463, 687, 41, 23, 38341, 977, 2740, 23227, 614, 8193, 351, 2618, 2368, 352, 1689, 39057, 6819, 8997, 3646, 882, 1025, 7159, 6421, 6994, 279, 1071, 27497, 12422, 19059, 57511, 1842, 2339, 2978, 9642, 17577, 11440, 13146, 2035, 676, 6643, 17601, 9542, 14004, 180, 3334, 24888, 5132, 6881, 21480, 10162, 13242, 2754, 17346, 6177, 5240, 1017, 670, 220, 12693, 336, 764, 11059, 1, 10, 4, 3902, 1846, 1677, 2109, 8906, 1305, 59, 13300, 147, 9216, 808, 1248, 138, 27, 51, 115, 619, 7094, 3377, 1521, 277, 7968, 1887, 1126, 2706, 1369, 2470, 6238, 7607, 1240, 111979, 11621, 671, 274, 24027, 23899, 103, 2258, 2132, 523, 62396, 962, 125, 145, 226, 53, 22, 28, 31, 9192, 3175, 53, 14315, 13418, 27633, 940, 69379, 3423, 2098, 2618, 3202, 25834, 3075, 6935, 1374, 1, 21423, 72954, 7823, 26, 2428, 20008, 1553, 1881, 227, 5592, 747, 1895, 49289, 4117, 374, 8323, 181, 53512, 339, 4822, 13671, 10, 12, 3264, 716, 52736, 613, 515, 32, 8301, 236, 10027, 417, 2296, 113, 1969, 6474, 1687, 4356, 432, 1341, 3672, 3246, 290, 9661, 9018, 5609, 273, 1100, 1347, 1518, 367, 5922, 97, 95, 255, 5634, 33, 2233, 588, 13660, 233, 40, 88, 18, 1579, 4801, 183, 933, 5619, 212, 1742, 2, 932, 650, 3513, 726, 8473, 1318, 6562, 610, 3828, 934, 2897, 5948, 19, 10, 1, 1, 80, 1, 750, 1775, 9675, 63, 2054, 2850, 963, 12599, 11236, 8489, 3145, 1254, 6095, 8303, 1928, 1592, 574, 4598, 4774, 354, 147, 976, 421, 1239, 2077, 162, 75, 23, 7, 4504, 713, 1287, 3236, 430, 7224, 867, 12569, 7073, 214, 6, 476, 2313, 89, 2327, 3781, 190, 447, 545, 213, 1745, 138, 1306, 16, 5510, 12178, 19012, 949, 2928, 6535, 731, 545, 1, 176, 309, 306, 1, 11, 1, 4, 1168, 6277, 6157, 1, 204, 80, 296, 1494, 245, 16, 82, 227, 2986, 171, 7520, 757, 13945, 10431, 7295, 1347, 22612, 1681, 25, 46, 11, 41, 32, 506, 48, 1297, 7340, 5400, 4130, 567, 649, 1439, 2660, 15615, 2582, 5358, 14597, 6263, 3075, 2917, 306, 18360, 17280, 4297, 229, 388, 5251, 1453, 199, 519, 6999, 58, 4809, 596, 6742, 828, 36729, 3615, 12091, 7836, 2065, 9729, 2763, 986, 93, 2203, 673, 9821, 44, 1, 573, 373, 22411, 30472, 3753, 31, 25481, 7917, 2012, 516, 126, 92, 1520, 867, 4712, 9996, 375, 2519, 9176, 1136, 2127, 1559, 39, 701, 728, 11288, 3391, 59, 306, 8089, 5996, 16221, 1009, 16939, 933, 2, 4493, 729, 5174, 16217, 8521, 1714, 7, 46, 76, 63, 23, 113, 27, 4264, 5160, 3196, 1988, 3207, 2645, 2205, 91, 24, 45, 4172, 65, 13031, 1399, 3047, 524, 4744, 273, 5521, 6834, 575, 162, 161, 540, 3734, 4, 1728, 5, 274, 3448, 3363, 2300, 557, 6, 557, 23, 4, 31, 9, 2289, 5420, 2350, 1799, 7225, 1698, 392, 774, 3244, 133, 1173, 406, 2055, 130, 9853, 2082, 55, 273, 928, 2116, 1460, 2528, 1845, 925, 33292, 323, 1290, 9, 1809, 771, 4475, 266, 764, 152, 715, 328, 44, 408, 52, 286, 5120, 7035, 3252, 926, 7815, 593, 2187, 336, 271, 1, 1400, 84, 6, 3819, 378, 16986, 1035, 172, 107, 1, 346, 148, 4694, 15, 1663, 1266, 70, 745, 22423, 1003, 151, 766, 6, 28, 53, 67, 1, 20, 8, 221, 1899, 2662, 1226, 9071, 9307, 1670, 1149, 5, 3528, 4277, 737, 3393, 3568, 1056, 3430, 1982, 629, 505, 771, 3017, 70151, 442, 3390, 505, 119, 5527, 42, 1266, 336, 6256, 5083, 14464, 1638, 10453, 2551, 249, 8409, 283, 304, 1156, 937, 143, 2513, 398, 11, 695, 5189, 1313, 14640, 615, 8247, 511, 1664, 60, 25511, 70, 1692, 1158, 895, 794, 722, 2136, 1077, 243, 21, 8290, 2683, 683, 798, 104, 29, 392, 144, 16448, 333, 94, 549, 7, 3408, 1267, 2106, 17, 3552, 2865, 1209, 75, 1747, 1, 6177, 2528, 9080, 1381, 1221, 176, 84, 1, 236, 39, 7032, 18487, 9, 3, 92, 94, 1285, 572, 5024, 2284, 237, 5, 914, 18, 94, 652, 220, 339, 456, 679, 900, 2411, 500, 10, 288, 839, 1910, 11444, 242, 1237, 93, 51, 1628, 1671, 240, 3202, 2861, 9093, 1484, 303, 15832, 7011, 2988, 1506, 2321, 1808, 857, 320, 191, 333, 412, 16, 1261, 984, 1156, 1215, 336, 227, 1961, 474, 539, 30, 48, 7, 320, 85, 13, 535, 7, 679, 156, 1207, 2213, 3996, 4065, 5690, 10052, 633, 1381, 9140, 10, 1298, 37, 2914, 5753, 4868, 1218, 281, 169, 5197, 2630, 628, 13, 4867, 2057, 125, 1075, 378, 78, 2556, 2379, 72, 833, 1362, 56, 268, 59, 6118, 3558, 1902, 126, 11996, 1279, 304, 2123, 188, 7035, 5240, 3342, 2, 1721, 1, 5143, 851, 1, 7188, 1585, 17, 1, 1, 33, 947, 545, 1409, 2286, 21252, 1, 17, 104, 4764, 11, 2854, 52, 69, 103, 1018, 2183, 174, 1755, 3451, 43, 897, 4156, 2041, 2588, 300, 300, 1643, 1176, 95, 4404, 1351, 308, 1212, 259, 3078, 148, 246, 955, 4401, 805, 2399, 3754, 4815, 1472, 1436, 382, 4485, 1572, 27304, 3357, 103, 453, 586, 5162, 11306, 364, 884, 4424, 466, 996, 266, 7220, 5296, 31928, 1827, 1478, 1307, 495, 1358, 1244, 3547, 2777, 401, 2128, 9727, 22, 496, 29, 447, 580, 183, 21, 75, 377, 5539, 1141, 13846, 2679, 188, 1974, 142, 1301, 7956, 464, 607, 86, 126, 89, 6367, 3865, 53, 6373, 765, 4858, 219, 597, 4387, 2456, 5159, 1217, 4821, 1279, 160, 1, 17059, 3359, 738, 2274, 1510, 8404, 7318, 7, 1, 17, 4, 10, 1, 362, 1, 1047, 3648, 32, 1003, 111, 165, 741, 623, 37179, 150, 224, 1742, 1439, 4944, 246, 162, 9081, 1478, 11983, 100, 2, 100, 1504, 10, 25, 808, 1, 2, 1, 40, 2984, 46, 1231, 2419, 113, 490, 938, 4679, 3546, 3459, 1323, 100, 3970, 572, 192, 55, 1127, 23, 210, 987, 97, 20938, 1199, 217, 701, 379, 27, 1834, 373, 374, 120, 3718, 4857, 272, 870, 14054, 8247, 37, 167, 2203, 1411, 1345, 367, 3056, 482, 1725, 1093, 7227, 1639, 212, 987, 11, 710, 6, 2, 537, 1301, 672, 883, 1088, 48, 233, 835, 2529, 1485, 17, 511, 1190, 842, 1600, 83, 464, 73, 675, 5619, 3807, 77, 149, 1311, 1526, 76, 633, 540, 1, 37, 2161, 112, 58, 38, 1092, 18429, 111, 201, 151, 263, 683, 3406, 778, 4176, 943, 1046, 135, 330, 5252, 975, 61, 591, 185, 58, 107, 1488, 32, 3908, 106, 6493, 345, 6490, 282, 263, 183, 2837, 604, 111, 1, 2476, 1770, 645, 5, 12248, 260, 326, 136, 764, 5673, 293, 15, 194, 144, 314, 356, 256, 4456, 177, 4148, 120, 1141, 2256, 148, 36, 1089, 3430, 1710, 1042, 1433, 2091, 659, 1809, 944, 426, 146, 828, 154, 34, 3877, 67, 163, 2388, 5851, 27, 781, 156, 2760, 13398, 1038, 23744, 12762, 22687, 1285, 459, 386, 363, 228, 173, 1, 7119, 17, 194, 79, 1131, 560, 1724, 92, 1337, 5136, 229, 468, 17, 662, 912, 271, 1547, 955, 13120, 167, 225, 1427, 1, 1081, 928, 1385, 2658, 2, 47, 498, 1546, 394, 226, 1267, 7110, 58, 186, 599, 2104, 87, 2953, 2196, 1880, 729, 34, 12, 12, 22, 184, 3523, 8127, 172, 550, 371, 35, 126, 858, 5852, 1370, 2578, 7, 1, 105, 67, 72, 749, 167, 1530, 2127, 147, 1431, 193, 287, 202, 368, 288, 1348, 709, 66, 536, 20, 20650, 3178, 3405, 183, 306, 528, 2696, 3999, 1550, 1046, 147, 33, 907, 2074, 9551, 2204, 390, 1135, 5306, 2991, 253, 258, 1888, 2186, 1469, 16989, 74, 408, 356, 3476, 18, 99, 18, 1777, 970, 172, 5101, 4894, 53, 1475, 5827, 3656, 3309, 1031, 7632, 3665, 615, 189, 896, 207, 438, 665, 593, 336, 1190, 2107, 34, 1, 1081, 62, 5, 2153, 425, 824, 666, 2418, 240, 501, 331, 461, 3955, 1417, 1771, 22, 1143, 269, 2294, 9, 2051, 2, 416, 360, 101, 490, 548, 62, 17888, 6181, 3045, 2743, 1961, 2508, 30, 183, 1142, 1653, 2213, 267, 206, 1752, 6997, 2403, 1446, 7799, 794, 502, 1347, 930, 3782, 749, 4090, 1347, 15, 1706, 847, 114, 1232, 24, 585, 98, 269, 206, 285, 47, 27, 584, 41, 412, 3157, 154, 1557, 81, 2173, 1190, 635, 5307, 943, 1549, 3542, 1071, 89, 3372, 496, 568, 1898, 1059, 519, 3511, 396, 7025, 1, 1000, 87, 134, 567, 369, 323, 2692, 3991, 272, 166, 31, 696, 1623, 443, 2256, 985, 1603, 211, 233, 205, 170, 217, 184, 50, 637, 22, 1066, 2697, 768, 3140, 330, 118, 4084, 1396, 447, 269, 699, 3580, 126, 328, 330, 23, 25, 1094, 1595, 17165, 2317, 88, 4031, 5099, 73, 110, 79, 596, 207, 1835, 70, 1099, 5374, 67, 3, 7604, 102, 1967, 462, 52, 319, 332, 57, 106, 73, 3, 2, 493, 591, 287, 207, 39, 4969, 12, 421, 1, 1130, 951, 1, 965, 3475, 495, 3, 2057, 1268, 219, 1710, 1706, 176, 471, 1218, 722, 789, 235, 1503, 2429, 8416, 651, 34, 459, 645, 1967, 386, 22, 950, 247, 2013, 272, 3240, 86, 18, 362, 902, 1, 191, 1313, 1049, 3092, 9355, 137, 446, 2, 470, 1497, 149, 1, 445, 2275, 4346, 15969, 13600, 1613, 19, 698, 1807, 112, 72, 9, 62, 1316, 321, 1047, 67, 21, 549, 765, 75, 4727, 344, 14, 388, 1, 653, 6, 16, 86, 14, 18, 18, 8, 2, 109, 13, 32, 364, 77, 1232, 193, 33, 32, 74, 245, 84, 32, 2, 1, 62, 512, 1336, 31, 105, 4, 22, 4, 39, 37, 1, 660, 2, 1319, 2, 19, 4, 643, 537, 1641, 142, 107, 30, 21024, 1646, 79, 10, 7, 3, 18, 210, 3, 114, 5, 32, 1, 17, 232, 97, 59, 12, 226, 230, 1, 4, 1499, 110, 17, 1077, 1, 9, 102, 55, 1, 442, 1, 52, 9, 64, 125, 9, 60, 1, 7, 21, 3, 199, 1, 6, 33, 4, 80, 33, 132, 12, 1, 22, 210, 39, 276, 152, 140, 378, 1569, 19, 138, 5, 118, 1, 9, 60, 7, 892, 24, 64, 15, 1, 4, 28, 69, 2608, 529, 3, 4, 269, 1, 13, 27, 3, 2, 14, 900, 1924, 444, 44581, 52, 3, 47, 1, 10, 27, 2, 907, 4430, 200, 143, 327, 100, 12, 80, 5, 24, 38, 6, 5, 92, 1, 5, 157, 2, 6, 21, 1, 3, 7, 171, 6, 61, 129, 540, 103, 800, 3, 1, 18, 171, 57, 49, 7, 17, 2, 3, 1, 3, 38, 26, 1, 12, 1, 29, 4, 1, 15, 1, 72, 7, 2, 456, 43, 7, 809, 7, 1, 1, 154, 44, 6, 4, 98, 69, 197, 3, 19, 856, 6, 81, 16, 8, 1, 35, 3, 5858, 26, 5, 18, 63, 17, 18, 1, 29, 124, 43, 63, 341, 871, 643, 146, 115, 74, 217, 66, 3, 31, 62, 111, 121, 12, 12, 1, 45, 116, 43, 156, 1, 7, 5, 18, 19, 90, 55, 35, 5, 1, 3, 33, 72, 58, 70, 95, 111, 9, 131, 33, 173, 26, 2, 93, 27, 868, 303, 431, 795, 17, 3, 14, 3, 79, 81, 40, 61, 8, 70, 26, 175, 12, 53, 90, 2, 22, 301, 4964, 2438, 24, 2, 61, 7, 1, 7, 50, 6, 82, 12, 75, 1, 911, 22, 74, 5, 351, 3, 9, 1, 1, 9, 170, 106, 35, 43, 2, 38, 27, 1, 10, 4, 20, 124, 46, 8, 28, 4, 56, 53, 6, 54, 10, 45, 3, 29, 1, 1, 754, 1, 16, 1274, 631, 2, 37, 5, 2, 268, 1, 100, 24, 12, 42, 66, 448, 35, 299, 18398, 37, 43, 6, 102, 58, 101, 97, 3, 9, 1, 23, 73, 4, 59, 86, 1, 84, 6, 248, 2, 281, 80, 37, 325, 7, 2, 3, 37, 25, 2, 23, 4, 1, 9, 1451, 261, 33, 191, 768, 3533, 2646, 98, 1504, 68, 22, 1086, 6, 3651, 280, 6, 34, 1307, 53, 641, 551, 2877, 1866, 57, 282, 362, 5433, 4145, 1153, 5597, 737, 916, 4868, 7, 171, 498, 32, 147, 2852, 825, 1161, 1356, 1058, 121, 662, 721, 2485, 1450, 2500, 838, 329, 2610, 104, 251, 72, 3517, 16, 1089, 140, 22, 1144, 649, 116, 497, 72, 2658, 28, 6, 6, 930, 302, 593, 529, 4802, 561, 384, 21, 945, 14, 78, 66, 1, 62, 7, 1534, 88, 11, 303, 2165, 41, 1297, 214, 59, 110, 1381, 100, 74, 72, 46, 63, 1, 1432, 734, 58, 79, 451, 367, 4123, 850, 954, 37, 3, 355, 129, 106, 20, 958, 86, 1751, 173, 548, 749, 3607, 1820, 120, 1837, 12, 1767, 127, 788, 3733, 766, 24, 353, 2386, 27, 268, 1143, 157, 25, 30, 81, 1292, 12, 69, 103, 308, 637, 787, 1643, 1, 1, 623, 1, 3, 3881, 332, 2248, 760, 78, 89, 31, 627, 238, 34, 12, 136, 7641, 193, 42, 14, 285, 16, 22, 309, 8, 13, 89, 326, 710, 14, 3540, 387, 1907, 2886, 1, 985, 77, 279, 2829, 75, 285, 1, 1, 4925, 2, 533, 102, 46, 815, 1628, 780, 1472, 108, 1, 117, 404, 49, 1358, 1597, 305, 430, 2637, 1, 225, 286, 192, 731, 3684, 177, 713, 23, 633, 2362, 5324, 1227, 1804, 1, 53, 45, 935, 1265, 414, 1463, 651, 90, 103, 387, 32, 4806, 85, 2679, 104, 1438, 7, 971, 97, 30, 401, 719, 199, 46, 457, 9, 240, 18, 1981, 264, 130, 584, 1307, 740, 488, 573, 3, 122, 2104, 871, 315, 416, 46, 159, 91, 2092, 2946, 104, 1334, 390, 8058, 1896, 1103, 152, 530, 5049, 204, 8, 57, 1, 205, 663, 49, 3216, 3708, 462, 820, 2745, 531, 101, 21, 14, 1970, 1, 1631, 305, 621, 38, 60, 215, 100, 3, 23, 130, 21, 1015, 1259, 145, 30, 23, 3203, 178, 180, 23, 11118, 357, 535, 885, 139, 7, 43, 2, 1235, 89, 1048, 471, 560, 1368, 750, 284, 210, 1259, 192, 286, 248, 4, 24, 3, 24, 502, 65, 212, 1613, 4658, 495, 271, 116, 2, 6, 825, 2, 84, 467, 1311, 1101, 1, 13, 1, 67, 266, 65, 508, 3, 639, 56, 57, 145, 112, 44, 593, 745, 770, 27, 196, 28, 71, 201, 2438, 5050, 57, 552, 399, 1, 16560, 9, 135, 668, 157, 256, 856, 305, 1782, 2, 175, 245, 496, 472, 1063, 80, 103, 1, 1, 1331, 972, 498, 379, 283, 729, 100, 1, 5001, 123, 834, 3, 47, 78, 574, 172, 2609, 23, 7931, 188, 1058, 1211, 162, 273, 261, 1, 8, 2728, 1, 3, 6, 40, 71, 9, 1256, 30, 1, 203, 3508, 4, 2, 172, 1180, 183, 1, 3691, 962, 1, 63, 656, 224, 1, 2747, 154, 172, 81, 116, 9, 3, 281, 170, 1590, 470, 735, 264, 1114, 332, 455, 1, 1898, 3463, 1, 570, 647, 11, 181, 95, 652, 366, 1249, 2220, 237, 4230, 307, 325, 1560, 42, 42, 348, 60, 124, 268, 900, 110, 751, 3, 607, 1532, 2395, 5063, 30, 239, 11, 1085, 1135, 16, 1024, 1315, 259, 698, 533, 42, 5352, 413, 376, 241, 46, 7112, 534, 526, 531, 393, 77, 396, 31, 2264, 116, 3713, 212, 4638, 25, 86, 2, 754, 1052, 1, 283, 2329, 1682, 113, 24, 200, 615, 34, 613, 307, 145, 439, 375, 31, 1402, 12, 223, 389, 2053, 188, 242, 1026, 506, 1, 485, 2345, 831, 115, 4, 93, 158, 542, 364, 573, 151, 498, 767, 1, 95, 22, 1328, 6, 1678, 2482, 135, 1012, 543, 20, 163, 545, 916, 2040, 1956, 97, 196, 208, 183, 986, 10, 674, 150, 1, 213, 216, 922, 640, 441, 1785, 83, 262, 21, 326, 1, 157, 61, 560, 120, 6226, 55, 2, 95, 1161, 1, 140, 1360, 1578, 114, 401, 22, 1629, 1399, 2320, 899, 1439, 1194, 1354, 2947, 828, 288, 136, 1, 376, 46, 499, 173, 4232, 474, 1672, 427, 33, 138, 38, 1944, 38, 119, 193, 56, 3, 19, 634, 53, 780, 16, 1109, 51, 901, 130, 74, 25, 449, 51, 157, 420, 529, 3470, 298, 2027, 3, 138, 9, 2, 891, 1013, 646, 201, 476, 298, 48, 360, 92, 736, 103, 393, 2416, 158, 535, 72, 4444, 92, 253, 106, 715, 311, 4, 215, 92, 2238, 546, 8, 485, 205, 2, 5, 75, 392, 309, 146, 249, 7, 259, 642, 494, 2406, 461, 26, 514, 258, 271, 8, 3, 802, 1277, 421, 1867, 114, 1178, 68, 72, 1766, 2662, 1262, 93, 415, 1, 2, 320, 267, 1, 89, 162, 187, 70, 1299, 178, 63, 756, 69, 93, 16, 46, 1158, 7, 443, 296, 236, 77, 928, 305, 241, 1000, 52, 200, 23, 55, 69, 591, 617, 3, 417, 134, 549, 1065, 280, 200, 293, 594, 1941, 62, 88, 1221, 85, 1087, 3387, 61, 250, 1357, 140, 25, 161, 249, 155, 2, 237, 24, 119, 35, 2012, 15, 1, 244, 557, 23, 16, 208, 64, 1008, 4, 110, 219, 3103, 374, 257, 421, 1, 110, 4368, 69, 3, 16, 1026, 173, 563, 1366, 513, 4545, 1014, 11, 7, 157, 28, 23576, 1127, 65, 12, 40, 446, 33, 16, 302, 1714, 368, 91, 22, 19, 301, 477, 277, 1626, 308, 78, 691, 111, 1754, 58, 703, 7, 122, 40, 2613, 95, 278, 268, 2769, 2172, 56, 68, 4534, 11, 4550, 131, 653, 848, 53, 486, 502, 2, 1197, 55, 503, 58, 448, 193, 6070, 257, 661, 1097, 407, 17, 1, 354, 103, 1141, 7, 9, 419, 689, 12, 1002, 3, 346, 424, 217, 19, 166, 489, 595, 163, 369, 208, 2145, 15, 28, 1010, 1923, 436, 187, 565, 104, 289, 94, 81, 541, 81, 75, 316, 248, 194, 363, 786, 150, 282, 320, 16, 977, 438, 30, 1436, 1717, 197, 17, 266, 147, 274, 798, 1178, 14, 3164, 505, 57, 2703, 440, 11, 181, 664, 1156, 817, 283, 5, 207, 65, 65, 1296, 1637, 6, 323, 629, 756, 693, 153, 2, 30, 123, 104, 66, 1236, 2594, 44, 2001, 355, 30, 55, 385, 1, 15, 4185, 55, 850, 666, 350, 698, 710, 9, 42, 907, 17, 20, 72, 81, 13, 40, 38, 106, 5, 82, 427, 535, 1, 2217, 590, 803, 641, 309, 63, 561, 1021, 903, 1, 80, 2125, 235, 416, 131, 59, 214, 90, 190, 529, 797, 1332, 117, 12, 7, 899, 706, 507, 841, 980, 34, 1278, 278, 9, 228, 48, 90, 864, 439, 444, 109, 33, 67, 24, 1476, 244, 261, 2, 359, 2, 177, 370, 2, 178, 165, 115, 297, 149, 874, 389, 2456, 863, 518, 367, 725, 955, 304, 157, 32, 334, 610, 33, 24, 203, 1341, 8, 83, 3017, 80, 3, 247, 305, 2, 4197, 1667, 201, 18, 36, 89, 19, 532, 31, 12, 37, 1611, 100, 112, 1242, 20, 3, 3, 44, 135, 400, 153, 784, 788, 1020, 1, 5, 358, 76, 1, 37, 1631, 87, 299, 2, 234, 147, 357, 811, 14, 2, 619, 105, 721, 8, 61, 442, 18, 71, 281, 58, 329, 279, 42, 533, 209, 1035, 168, 148, 28, 8, 246, 176, 243, 27, 47, 120, 6, 267, 7064, 255, 1393, 523, 1, 9, 678, 11, 7486, 9, 134, 417, 189, 416, 6, 62, 215, 4, 159, 444, 20, 99, 976, 609, 1194, 2884, 84, 315, 1649, 3149, 45, 760, 711, 280, 71, 14, 64, 9, 134, 415, 2208, 814, 2836, 59, 3, 23, 35, 908, 13, 39, 80, 100, 63, 668, 3019, 1732, 322, 258, 81, 11, 2, 7, 88, 731, 121, 1062, 1, 9, 60, 3, 337, 52, 8, 1100, 4, 442, 82, 58, 676, 46, 41, 49, 106, 612, 2, 142, 146, 661, 39, 2144, 1254, 515, 12, 127, 101, 265, 95, 679, 489, 201, 944, 14, 1192, 795, 2, 419, 10, 599, 1375, 82, 141, 965, 164, 75, 293, 9482, 64, 2565, 1546, 296, 100, 23, 3, 241, 10, 31, 142, 58, 1, 329, 1, 418, 64, 52, 1, 809, 65, 2458, 682, 14, 48, 30, 3, 1844, 1415, 1, 126, 3, 186, 331, 3, 2445, 3049, 107, 23, 593, 21, 1383, 156, 1278, 2083, 46, 9, 2079, 12, 808, 280, 27, 233, 250, 16, 34, 655, 143, 1, 8, 95, 3, 261, 530, 322, 122, 344, 13, 26, 170, 13, 1052, 51, 78, 29, 971, 31, 5, 270, 1516, 268, 71, 233, 60, 221, 12, 58, 7, 4, 1057, 3363, 2672, 1632, 876, 541, 3, 5, 3, 1874, 30, 352, 2419, 4, 85, 483, 1, 41, 84, 2, 311, 573, 380, 115, 2079, 61, 375, 324, 1, 292, 10, 55, 631, 12, 28, 595, 3, 5, 665, 46, 275, 50, 21, 2100, 3358, 2828, 172, 41, 1873, 65, 389, 156, 207, 75, 284, 59, 35, 1, 529, 1, 94, 75, 9, 5, 22, 5, 1, 82, 3, 402, 119, 85, 27, 110, 176, 144, 684, 505, 1, 25, 391, 29, 1, 148, 180, 172, 363, 1368, 47, 65, 582, 29, 52, 137, 121, 12, 2680, 72, 4, 2, 135, 1, 5, 558, 1, 3, 60, 3, 294, 90, 79, 453, 400, 895, 129, 220, 211, 57, 771, 62, 1, 165, 1602, 73, 24, 47, 5, 118, 119, 103, 913, 38, 156, 3, 6, 71, 1080, 99, 13, 416, 491, 273, 131, 1, 74, 2397, 190, 134, 611, 1123, 1365, 19, 1023, 114, 81, 2, 64, 22, 17, 4, 19, 689, 73, 34, 154, 116, 56, 485, 438, 732, 836, 710, 40, 64, 77, 460, 85, 65, 339, 227, 364, 42, 6, 1438, 621, 818, 271, 107, 84, 153, 718, 201, 233, 11, 9, 248, 4049, 1013, 601, 630, 376, 1786, 289, 76, 72, 1, 1484, 1, 484, 831, 655, 105, 532, 82, 70, 856, 23, 629, 709, 50, 3896, 58, 58, 230, 440, 10, 1110, 26, 41, 263, 10, 12, 624, 36, 20, 30, 82, 229, 16, 742, 134, 151, 115, 68, 44, 624, 242, 200, 304, 605, 1, 77, 1040, 1, 604, 639, 278, 829, 112, 52, 16, 9, 34, 640, 283, 77, 181, 236, 47, 779, 1641, 40, 5, 381, 609, 238, 78, 186, 16, 570, 18, 47, 1515, 78, 197, 112, 73, 1, 242, 48, 2, 16, 1, 52, 227, 65, 238, 323, 224, 61, 10, 111, 2191, 410, 19, 6, 25, 145, 599, 184, 138, 1801, 8, 91, 869, 60, 54, 1, 378, 1229, 791, 38, 207, 11791, 49, 57, 1, 22, 26, 1179, 1, 1121, 916, 113, 2, 123, 413, 116, 581, 114, 424, 1, 49, 673, 67, 202, 459, 12, 196, 27, 249, 445, 480, 93, 333, 4, 103, 1, 297, 481, 651, 678, 30, 1, 2, 28, 1, 59, 551, 24, 1716, 2, 53, 263, 377, 913, 585, 78, 94, 4, 43, 31, 770, 659, 1270, 120, 14, 1, 10, 239, 159, 13, 306, 3, 52, 1, 74, 513, 178, 631, 101, 9, 109, 1, 48, 64, 2111, 322, 458, 61, 25, 232, 11, 251, 549, 142, 147, 33, 45, 3, 2, 276, 403, 211, 3, 164, 194, 7, 70, 279, 725, 2, 96, 52763, 31024, 6144, 5685, 31436, 41, 56, 995, 9, 141, 419, 119, 113, 8, 4068, 152, 4, 37, 31, 440, 486, 165, 123, 804, 572, 21, 164, 62, 164, 661, 25, 9, 233, 286, 1, 10406, 17, 49, 1895, 257, 36, 5, 5, 631, 308, 26, 396, 134, 167, 440, 184, 258, 122, 9, 13, 585, 41, 61, 64, 6, 19, 397, 1435, 3364, 1, 333, 68, 27, 231, 411, 392, 63, 867, 203, 29, 1260, 4, 42, 46, 125, 546, 1, 28, 1, 173, 14, 107, 87, 1, 483, 252, 17, 35, 121, 24, 96, 1905, 84, 26, 15, 112, 83, 1, 118, 256, 20, 1, 491, 244, 66, 265, 46, 7, 450, 897, 97, 111, 3140, 15, 519, 466, 2, 457, 63, 10, 6, 164, 258, 14, 215, 1114, 116, 322, 215, 64, 341, 48, 5, 1, 90, 9, 367, 4, 217, 517, 26, 595, 235, 43, 945, 756, 53, 141, 719, 139, 477, 47, 1944, 244, 42, 19, 19, 294, 341, 8, 65, 205, 29, 2, 60, 454, 817, 112, 289, 32, 117, 7, 106, 4, 76, 4073, 396, 2, 1183, 125, 1484, 144, 26, 1069, 504, 850, 162, 2105, 406, 49, 956, 75, 42, 148, 63, 8, 5, 62, 7, 96, 110, 40, 479, 277, 738, 756, 126, 774, 129, 73, 502, 479, 117, 215, 37, 1, 233, 9, 166, 298, 61, 101, 133, 3202, 2437, 178, 58, 127, 627, 137, 588, 942, 512, 713, 26, 785, 109, 4549, 86, 1702, 78, 120, 76, 160, 797, 178, 83, 14, 996, 5, 112, 1493, 475, 25, 173, 104, 576, 3, 1, 149, 35, 671, 318, 59, 429, 130, 6, 29, 529, 397, 107, 69, 18, 77, 1031, 104, 97, 28, 17, 80, 150, 55, 80, 165, 13, 281, 13, 9, 9, 630, 60, 21, 169, 6, 28, 1, 23, 17, 10, 6, 2, 4, 10, 45, 11, 23, 5, 1206, 441, 649, 251, 25, 1, 3, 5, 1282, 1, 131, 123, 44, 17, 187, 23, 2, 10, 6, 966, 229, 150, 215, 109, 427, 10, 43, 64, 7, 5008, 142, 65, 96, 357, 211, 369, 112, 96, 40, 46, 499, 683, 41, 285, 87, 24, 59, 34, 7, 104, 2, 27, 750, 29, 721, 290, 1, 3, 1, 280, 720, 208, 63, 176, 189, 271, 290, 1, 270, 38, 245, 478, 1, 64, 394, 2, 698, 1, 979, 168, 57, 286, 14, 1, 13, 74, 214, 1710, 19, 4, 564, 19, 2, 385, 359, 292, 218, 30, 59, 53, 286, 399, 16, 361, 1, 1034, 700, 144, 1, 10, 157, 24, 342, 260, 345, 3, 7, 1, 371, 1, 699, 763, 10, 33, 9, 1063, 518, 545, 28, 8, 28, 218, 243, 120, 18, 242, 405, 283, 3, 58, 49, 1, 241, 27, 9, 208, 407, 36, 111, 76, 1, 618, 5, 598, 2, 551, 65, 2, 90, 458, 5, 17, 10, 19, 314, 21, 271, 1, 432, 17, 43, 82, 10011, 837, 454, 454, 80, 4, 5, 5, 8, 112, 114, 2, 23, 226, 18, 120, 43, 8, 5, 48, 9, 133, 7, 7, 49, 10, 1, 1, 5, 271, 171, 62, 236, 73, 52, 26, 17, 54, 182, 5, 402, 4, 18, 1, 134, 85, 2, 18, 8, 140, 218, 16, 109, 71, 60, 106, 2, 264, 184, 609, 1, 30, 150, 354, 93, 42, 2, 4136, 103, 55, 5, 24, 2, 2, 1170, 122, 14, 281, 1453, 155, 45, 226, 1096, 1005, 24, 7, 45, 807, 186, 415, 135, 1276, 41, 363, 28, 848, 90, 39, 36, 447, 359, 928, 262, 760, 28, 1948, 766, 49, 166, 1121, 218, 24, 4, 467, 252, 30, 1769, 1, 2, 232, 226, 3, 46, 600, 230, 153, 21, 4, 324, 10, 132, 32, 1, 139, 2, 1082, 284, 466, 636, 685, 715, 421, 1, 38, 1, 33, 186, 1, 158, 75, 1425, 2, 43, 130, 668, 425, 1, 3, 71, 92, 1089, 69, 74, 186, 97, 135, 63, 174, 9, 1, 18, 34, 66, 380, 140, 22, 672, 235, 2, 586, 3727, 174, 171, 4, 27, 36, 1, 275, 3719, 55, 2962, 445, 1, 10, 370, 446, 238, 207, 1, 4, 47, 119, 101, 103, 79, 769, 3, 5, 785, 466, 30, 12, 133, 109, 1165, 2060, 597, 167, 627, 412, 640, 39, 32, 2842, 195, 1, 34, 1, 2, 93, 1, 1, 3, 29, 5, 10, 480, 801, 638, 322, 1, 413, 31, 96, 27, 133, 73, 37, 427, 194, 310, 237, 7, 474, 109, 15, 111, 201, 410, 1454, 553, 1027, 221, 22, 13, 793, 193, 541, 337, 1029, 46, 142, 1130, 224, 2076, 917, 1482, 305, 1957, 732, 4, 16, 224, 134, 219, 145, 159, 8, 1, 3, 1, 2, 743, 2636, 1060, 932, 1, 123, 8, 184, 203, 5, 176, 7, 1509, 86, 174, 479, 1, 87, 24, 923, 1548, 258, 8, 20, 73, 14, 11, 1470, 7, 589, 55, 146, 166, 2799, 218, 37, 315, 194, 154, 27, 202, 400, 226, 113, 845, 296, 1, 30, 617, 179, 411, 65, 3, 1, 92, 15, 1077, 38, 108, 1051, 689, 835, 1, 2094, 1, 1037, 602, 577, 11, 2, 2, 771, 23, 492, 730, 175, 67, 168, 4, 295, 1, 85, 434, 373, 110, 32, 550, 662, 1, 273, 2, 221, 212, 1, 12, 292, 1066, 5990, 1564, 1, 32, 220, 16, 224, 77, 38, 61, 228, 189, 159, 1, 42, 1002, 181, 68, 1144, 361, 1009, 236, 77, 17, 493, 77, 668, 334, 836, 1, 2, 15, 207, 884, 92, 255, 1, 1, 242, 69, 226, 26, 927, 76, 49, 221, 141, 49, 339, 329, 133, 62, 1004, 55, 196, 41, 1, 1, 545, 22, 1, 20, 905, 48, 52, 295, 13, 298, 196, 315, 69, 275, 11, 197, 92, 411, 57, 1380, 44, 375, 108, 26, 2, 121, 311, 235, 477, 1062, 18, 421, 787, 4, 126, 255, 1770, 37, 55, 130, 1444, 20, 1, 59, 31, 193, 703, 1, 213, 5, 326, 948, 154, 112, 113, 382, 1166, 6, 32, 19, 3, 114, 19, 2, 1, 3, 5, 661, 2, 77, 77, 57, 1, 209, 582, 23, 47, 144, 123, 128, 137, 2, 2, 1, 2, 1, 1, 203, 679, 525, 510, 350, 45, 4, 728, 378, 37, 150, 3, 9, 15, 349, 184, 349, 57, 291, 2774, 43, 18, 811, 1, 504, 4, 149, 279, 60, 44, 1419, 66, 58, 1, 1, 28, 793, 1, 297, 128, 470, 481, 333, 442, 113, 194, 287, 18, 18, 36, 18, 398, 53, 69, 36, 72, 54, 18, 36, 36, 36, 90, 36, 18, 18, 18, 9, 36, 18, 36, 36, 18, 18, 36, 18, 123, 18, 18, 115, 18, 18, 18, 36, 18, 18, 22251, 22251, 72, 16, 13, 86, 124, 144, 22, 15, 227, 379, 1827, 1, 4, 7, 205, 7, 1, 292, 3, 382, 1, 108, 30, 25, 1, 352, 23, 2, 476, 81, 1461, 320, 6, 368, 390, 24, 162, 1894, 6, 7, 1, 352, 62, 23, 262, 5, 158, 160, 9, 192, 732, 158, 3, 624, 41, 192, 119, 3, 1236, 300, 27, 57, 31, 68, 60, 19, 16, 5, 86, 81, 1, 36, 47, 31, 121, 493, 82, 11, 91, 89, 578, 14363, 196, 10, 42, 83, 5, 174, 33, 277, 5, 21, 71, 132, 2, 244, 12, 2, 2, 59, 33, 16, 26, 64, 7, 232, 241, 1640, 183, 2, 47, 38, 369, 55, 17, 227, 36, 382, 58, 66, 330, 317, 72, 255, 5, 104, 23, 98, 4, 42, 2, 16, 1109, 442, 4, 6, 14, 8, 1, 79, 52, 95, 69, 286, 7, 75, 45, 1, 3, 790, 1, 74, 773, 174, 8, 300, 98, 90, 6, 87, 203, 109, 86, 96, 32, 104, 117, 93, 106, 8, 424, 392, 200, 188, 172, 84, 1, 52, 1386, 5442, 197, 1, 74, 512, 352, 1523, 263, 262, 73, 76, 1060, 404, 154, 145, 91, 9, 39, 6, 14, 255, 25, 38, 27, 9, 9, 236, 28, 3, 427, 14, 181, 704, 970, 95, 360, 9, 57, 777, 908, 437, 1269, 3, 1, 72, 1, 10, 1225, 304, 1, 443, 86, 6, 352, 24, 44, 59, 88, 28, 45, 49, 9, 317, 206, 23, 44, 11, 367, 8, 268, 36, 110, 550, 72, 631, 225, 1, 566, 16, 315, 274, 3, 1379, 125, 47, 147, 28, 509, 67, 107, 171, 22, 16, 1, 3, 3, 209, 461, 49, 71, 81, 214, 47, 13, 106, 34, 1, 868, 181, 130, 2, 291, 627, 331, 26, 116, 18, 255, 50, 662, 149, 126, 602, 54, 3, 326, 4, 286, 147, 27, 204, 173, 117, 373, 61, 4, 363, 41, 10, 1, 89, 41, 1, 93, 23, 12, 238, 92, 305, 22, 46, 42, 162, 1027, 239, 188, 64, 85, 473, 200, 1, 199, 24, 122, 762, 6, 624, 1, 18, 134, 192, 543, 307, 840, 10, 56, 177, 236, 68, 6, 23, 120, 154, 52, 280, 583, 35, 55, 62, 7, 425, 5, 185, 29, 55, 471, 522, 1, 1, 125, 31, 1, 27, 479, 36, 8, 27, 157, 67, 136, 316, 143, 3, 266, 789, 7, 95, 242, 252, 3, 407, 1, 39, 127, 633, 132, 82, 1295, 2, 40, 2, 127, 10, 158, 172, 61, 178, 812, 273, 19, 12, 28, 244, 528, 203, 549, 307, 823, 165, 227, 8, 19, 1, 284, 338, 254, 13, 335, 1, 2, 279, 71, 6, 2, 17, 1113, 241, 267, 835, 86, 3, 59, 10, 46, 238, 1692, 223, 98, 19, 179, 152, 326, 42, 2, 3, 1, 5, 686, 47, 123, 55, 53, 48, 15, 3855, 2, 82, 137, 278, 4, 32, 129, 446, 373, 50, 32, 380, 67, 231, 606, 160, 151, 336, 390, 2, 4, 1, 66, 142, 153, 534, 339, 240, 19, 1921, 52, 118, 147, 8, 12, 4, 87, 273, 30, 1, 116, 3, 1, 13, 375, 46, 162, 58, 42, 46, 1, 80, 137, 1, 446, 155, 195, 9, 106, 1, 269, 1, 199, 2, 55, 31, 101, 22, 11, 55, 60, 15, 144, 1130, 634, 2, 6, 316, 21, 162, 406, 3, 165, 84, 341, 300, 430, 9, 603, 29, 1, 56, 18, 169, 65, 27, 28, 323, 48, 31, 385, 81, 60, 14, 354, 85, 752, 61, 14, 17, 14, 328, 14, 27, 66, 81, 4, 137, 131, 22, 81, 258, 93, 6, 32, 9, 586, 121, 5, 10, 1, 5, 1, 1, 21, 97, 118, 3, 1, 695, 10, 366, 174, 4, 73, 215, 323, 2, 1, 98, 1, 36, 1, 91, 78, 279, 66, 1, 25, 111, 8, 171, 23, 15, 63, 297, 42, 16, 59, 22, 101, 80, 71, 2, 123, 106, 90, 404, 552, 1, 1, 16, 102, 87, 114, 13, 9, 18, 1, 1, 17, 178, 4, 538, 6, 72, 261, 402, 1, 36, 304, 263, 345, 596, 783, 237, 12, 73, 275, 13, 1, 18, 8, 80, 43, 173, 1, 1, 1, 27, 23, 98, 3, 1787, 2, 20, 1, 84, 71, 1, 3, 1, 55, 63, 100, 342, 8, 12, 824, 1, 49, 52, 242, 1, 1, 1, 37, 2, 267, 33, 10, 3, 71, 202, 23, 3, 61, 54, 32, 1, 43, 53, 816, 65, 2, 31, 2, 125, 252, 379, 1, 52, 67, 76, 64, 1, 12, 32, 1889, 255, 17, 222, 7, 1, 3, 46, 2, 1, 170, 392, 44, 31, 47, 200, 95, 67, 6, 17, 2, 880, 282, 346, 4027, 9950, 4277, 2, 232, 106, 121, 78, 92, 17, 32, 4, 106, 320, 159, 377, 136, 185, 1, 101, 388, 11, 76, 70, 10, 91, 1, 1, 2, 2, 424, 32, 8, 68, 122, 1, 23, 2, 11, 835, 12, 25, 468, 96, 106, 47, 510, 15, 2, 105, 80, 1, 2, 483, 2, 2, 62, 29, 31, 16, 60, 145, 13, 6, 62, 436, 16, 1, 6, 103, 11, 219, 455, 4, 1, 5, 108, 2, 55, 29, 111, 125, 29, 24, 1, 9, 68, 126, 3, 31, 599, 3, 29, 82, 10, 204, 400, 115, 819, 238, 8, 8, 50, 60, 2, 28, 4, 99, 20, 8, 41, 5, 332, 689, 466, 102, 1, 1, 1, 1, 32, 2, 16, 1, 87, 155, 13, 646, 53, 62, 108, 23, 46, 13, 23, 73, 10, 423, 233, 12, 17, 19, 787, 903, 1, 413, 199, 197, 30, 12, 21, 68, 239, 165, 73, 58, 1, 71, 32, 278, 1450, 23, 128, 405, 37, 61, 49, 484, 56, 2, 2, 6, 112, 1037, 42, 11, 134, 394, 1017, 11, 486, 99, 266, 105, 211, 2, 93, 87, 9, 1, 123, 3, 54, 41, 172, 99, 151, 50, 164, 537, 8, 2, 15, 89, 159, 107, 522, 21, 208, 5, 102, 46, 516, 38, 1, 3, 19, 26, 53, 308, 127, 15, 22, 7, 3, 4, 747, 41, 67, 46, 177, 7, 580, 12, 51, 97, 250, 58, 137, 527, 1, 2, 93, 303, 5, 74, 222, 17, 42, 340, 59, 8, 7, 77, 11, 19, 64, 32, 72, 98, 64, 21, 22, 43, 33, 2017, 93, 282, 103, 17, 44, 1, 114, 157, 101, 54, 50, 16, 123, 14, 127, 1, 384, 1, 46, 3, 19, 34, 163, 7, 289, 150, 32, 46, 133, 6, 89, 11, 125, 1, 15, 2, 64, 24, 3, 3, 23, 1, 940, 161, 55, 109, 16, 18, 163, 297, 1, 112, 164, 28, 22, 141, 8, 12, 30, 1058, 19, 89, 217, 61, 64, 17, 108, 56, 225, 323, 1, 2, 136, 32, 56, 60, 65, 87, 440, 283, 29, 202, 119, 114, 637, 47, 15, 10, 299, 6, 10, 6, 22, 93, 27, 232, 92, 91, 21, 60, 26, 196, 39, 5, 1, 21, 3, 45, 78, 377, 191, 7, 34, 415, 1, 391, 12, 24, 7, 81, 23, 249, 166, 159, 30, 3, 7, 24, 112, 71, 19, 7, 381, 121, 102, 45, 1, 171, 23, 1, 57, 7, 39, 284, 1, 45, 146, 24, 332, 5, 5, 637, 2, 79, 57, 1, 151, 7, 19, 2, 3, 70, 16, 19, 21, 226, 138, 367, 99, 124, 84, 447, 22, 7, 15, 8, 2, 130, 26, 76, 4, 55, 44, 3, 1, 120, 123, 243, 1, 150, 139, 22, 38, 55, 152, 33, 13, 1, 5, 67, 12, 695, 31, 3, 40, 60, 38, 1, 1, 251, 106, 19, 606, 1, 161, 186, 76, 18, 258, 1, 1, 2, 55, 1, 1, 115, 73, 1, 217, 143, 30, 44, 67, 310, 175, 220, 36, 1741, 119, 1, 1, 1, 72, 1, 19, 31, 12, 339, 79, 59, 525, 19, 39, 16, 2, 1, 150, 45, 2, 816, 56, 257, 97, 1, 4, 50, 1, 7, 4, 20, 197, 2, 256, 296, 8, 68, 341, 30, 59, 64, 167, 191, 93, 42, 15, 204, 151, 1, 1, 106, 1, 73, 385, 191, 3, 50, 1, 175, 7, 13, 91, 27, 40, 22, 72, 691, 126, 154, 248, 36, 17, 1, 177, 77, 23, 215, 87, 87, 330, 250, 631, 421, 11, 1, 40, 47, 415, 140, 224, 1, 407, 97, 95, 51, 33, 1, 2, 57, 1, 1, 2, 253, 214, 1, 17, 397, 17, 28, 40, 3, 267, 12, 4, 7, 191, 26, 7, 293, 58, 1, 1, 193, 11, 56, 78, 56, 92, 22, 1, 146, 16, 9, 36, 1190, 1068, 1, 66, 105, 180, 48, 199, 14, 9, 1, 49, 3, 28, 123, 14, 64, 34, 46, 7, 17, 1, 110, 143, 1, 12, 1, 260, 332, 158, 72, 8, 184, 274, 13, 95, 513, 5, 163, 7, 14, 95, 840, 982, 405, 191, 220, 420, 401, 1, 71, 3, 35, 8, 384, 477, 55, 54, 500, 90, 5, 69, 209, 38, 198, 329, 5, 121, 62, 215, 18, 265, 59, 124, 22, 66, 221, 735, 14, 266, 60, 307, 182, 433, 1, 1, 10, 11, 304, 1, 18, 1, 95, 368, 1, 44, 61, 78, 242, 2, 8, 70, 207, 105, 17, 385, 40, 430, 61, 56, 96, 55, 1, 94, 3, 1, 306, 50, 4, 87, 302, 75, 53, 24, 73, 14, 139, 34, 435, 1, 54, 58, 1, 9, 74, 5, 89, 19, 2, 69, 227, 1, 4, 513, 4, 11, 152, 24, 208, 88, 70, 16, 90, 285, 45, 70, 5, 29, 9, 21, 8, 1, 9, 149, 28, 95, 1, 25, 262, 432, 144, 74, 174, 82, 24, 80, 1, 127, 21, 53, 43, 67, 102, 42, 1, 27, 6, 82, 32, 3, 115, 366, 352, 41, 698, 1, 89, 30, 36, 100, 1, 266, 1, 67, 16, 60, 5, 34, 96, 1, 116, 221, 8, 2, 219, 467, 292, 31, 132, 142, 1, 13, 78, 177, 337, 110, 168, 174, 10, 12, 8, 464, 19, 17, 47, 115, 154, 124, 122, 6, 215, 13, 1, 94, 23, 1, 97, 7, 113, 128, 195, 201, 1, 1, 1, 17, 4, 19, 23, 1, 2, 79, 18, 14, 1, 152, 110, 178, 643, 6, 50, 4, 264, 272, 118, 55, 112, 2, 17, 545, 43, 72, 25, 170, 42, 63, 18, 7, 1, 37, 290, 8, 21, 66, 1, 230, 11, 12, 86, 228, 86, 101, 1, 125, 273, 44, 18, 246, 5, 2, 36, 7, 11, 67, 166, 79, 227, 128, 5, 42, 3, 652, 41, 16, 23, 73, 129, 2, 1, 67, 122, 17, 1, 1, 76, 2, 1, 13, 61, 887, 1, 20, 185, 710, 58, 336, 586, 43, 1, 8, 18, 52, 47, 26, 28, 16, 1, 1, 63, 2, 124, 1, 79, 50, 29, 397, 16, 1, 9, 205, 47, 99, 73, 44, 27, 155, 17, 9, 43, 125, 130, 1, 1, 2, 3, 8, 128, 6, 52, 315, 7, 79, 1, 4, 4, 84, 45, 375, 1, 40, 53, 15, 174, 82, 15, 133, 45, 218, 246, 222, 5, 1, 74, 1011, 1, 95, 194, 198, 5, 31, 1, 59, 8, 140, 50, 231, 4, 6, 11, 2, 1, 18, 27, 58, 5, 15, 14, 11, 42, 7, 506, 110, 1, 17, 18, 32, 299, 5, 20, 84, 1, 118, 123, 16, 22, 19, 15, 88, 104, 368, 18, 2, 12, 4, 126, 1, 195, 11, 100, 5, 328, 49, 1, 3, 2, 174, 172, 31, 219, 2, 9, 142, 226, 70, 10, 15, 306, 173, 104, 76, 154, 1, 435, 90, 43, 30, 7, 102, 1, 8, 10, 14, 61, 26, 53, 1, 363, 5, 1, 10, 1, 3, 191, 7, 281, 30, 93, 14, 147, 13, 287, 8, 410, 26, 11, 35, 29, 132, 60, 123, 142, 17, 6, 9, 6, 13, 85, 37, 578, 12, 18, 178, 103, 77, 2, 22, 23, 432, 12, 25, 63, 41, 87, 7, 3, 83, 102, 263, 79, 18, 23, 12, 38, 1, 11, 167, 1, 21, 144, 4, 83, 65, 20, 1, 62, 13, 310, 59, 30, 12, 25, 15, 81, 3969, 105, 31, 56, 137, 115, 24, 22, 5, 231, 1, 9, 16, 37, 226, 306, 214, 25, 9, 388, 21, 20, 1, 2, 56, 21, 99, 119, 91, 16, 8, 48, 3, 3, 677, 195, 8, 25, 3, 149, 76, 1, 158, 28, 129, 33, 25, 1, 5, 1, 95, 1, 65, 150, 73, 225, 200, 21, 195, 4, 152, 2, 62, 61, 137, 61, 23, 24, 1, 32, 136, 7, 3, 149, 9, 2, 1270, 86, 15, 1, 160, 6, 117, 1, 8, 46, 12, 186, 63, 11, 1, 45, 6, 84, 188, 241, 4, 82, 62, 146, 1, 28, 11, 135, 165, 176, 153, 225, 9, 78, 7, 57, 269, 226, 88, 28, 153, 254, 16, 23, 15, 5, 22, 30, 14, 249, 151, 45, 53, 90, 16, 11, 5, 160, 72, 276, 183, 23, 4, 7, 4, 108, 2, 9, 7, 21, 98, 115, 249, 59, 94, 248, 120, 14, 5, 447, 1, 798, 27, 8, 2, 1, 5, 50, 27, 4, 1, 44, 10, 26, 1, 307, 19, 46, 7, 13, 3, 137, 238, 7, 227, 43, 5, 5, 94, 20, 162, 28, 86, 6, 8, 69, 4, 8, 18, 4, 209, 23, 2, 84, 1, 1, 17, 27, 6, 1, 15, 19, 51, 4, 282, 21, 387, 4, 478, 145, 110, 3, 42, 46, 749, 32, 408, 4, 19, 24, 56, 13, 13, 7, 2, 10, 100, 14, 10, 332, 64, 711, 15, 266, 128, 53, 18, 6, 1, 4, 139, 162, 213, 247, 460, 35, 9, 84, 29, 4, 1, 11, 15, 32, 18, 3, 34, 63, 8, 3, 1, 2, 116, 32, 28, 33, 89, 129, 207, 34, 10, 64, 63, 36, 1, 1, 132, 66, 447, 1, 15, 15, 41, 31, 54, 55, 6, 238, 293, 12, 33, 30, 2, 189, 110, 84, 1109, 45, 31, 23, 381, 1, 26, 59, 34, 21, 144, 118, 44, 140, 20, 2, 84, 12, 158, 215, 16, 20, 61, 182, 33, 3, 3, 2, 7, 31, 169, 13, 257, 4, 461, 185, 71, 10, 10, 91, 2, 4, 10, 12, 155, 79, 16, 1, 2, 17, 85, 69, 1059, 140, 24, 76, 1, 43, 114, 78, 28, 144, 53, 48, 5, 5, 32, 6, 72, 58, 105, 1, 38, 13, 163, 169, 40, 188, 6, 22, 3, 96, 8, 1, 184, 23, 555, 3, 2, 6, 3, 16, 97, 23, 4, 6, 1, 21, 114, 241, 5, 3, 12, 120, 60, 65, 14, 2, 5, 15, 19, 2, 126, 13, 177, 605, 60, 26, 1, 5, 61, 1, 682, 170, 16, 289, 4, 9, 15, 32, 40, 16, 57, 24, 12, 2, 359, 69, 52, 73, 59, 289, 163, 1, 84, 50, 165, 23, 110, 5, 102, 25, 2, 4, 97, 647, 49, 102, 63, 24, 182, 380, 213, 52, 14, 335, 50, 74, 2, 17, 18, 7, 2, 9, 28, 2, 138, 117, 186, 157, 144, 3, 1, 134, 29, 7, 32, 119, 3, 107, 39, 118, 4, 1, 1, 131, 14, 71, 5, 5, 41, 3, 1, 108, 133, 161, 1, 15, 8, 13, 23, 51, 1, 1, 1, 437, 2, 1, 12, 17, 15, 3, 34, 3, 6, 37, 2, 231, 6, 17, 319, 23, 25, 150, 147, 7, 192, 203, 208, 11, 200, 123, 20, 46, 104, 39, 110, 51, 259, 148, 131, 5, 1670, 97, 203, 3, 2, 25, 95, 42, 1, 53, 128, 79, 29, 2, 266, 43, 282, 283, 25, 12, 1, 61, 52, 16, 28, 25, 25, 363, 191, 1, 77, 6, 6, 54, 371, 1, 64, 52, 98, 5, 4, 4, 45, 1, 1, 168, 380, 5, 15, 80, 17, 32, 49, 6, 45, 99, 55, 19, 13, 272, 21, 49, 51, 42, 87, 28, 12, 72, 159, 145, 16, 14, 1, 2, 43, 23, 8, 501, 15, 6, 246, 36, 1355, 14, 3, 4, 86, 178, 3, 51, 1, 16, 1, 56, 93, 4, 1, 55, 69, 400, 789, 26, 48, 299, 96, 113, 199, 202, 14, 20, 6, 132, 101, 316, 15, 156, 107, 167, 36, 5, 82, 29, 6, 8, 131, 2, 39, 79, 79, 331, 37, 65, 41, 57, 113, 41, 24, 119, 92, 17, 232, 165, 83, 105, 364, 48, 2, 107, 4, 160, 45, 76, 165, 133, 14, 108, 152, 73, 142, 2, 123, 63, 13, 5, 24, 48, 86, 5, 36, 10, 45, 269, 77, 110, 1, 6, 4, 2, 52, 29, 48, 227, 14, 20, 43, 38, 366, 152, 37, 52, 9, 117, 30, 119, 5, 1, 1190, 877, 4, 102, 157, 28, 83, 12, 156, 140, 91, 27, 328, 372, 2, 6, 2, 20, 2, 1, 766, 33, 251, 112, 89, 3, 12, 67, 199, 98, 74, 348, 2, 101, 55, 114, 156, 2, 77, 56, 4, 14, 151, 3, 12, 52, 1, 21, 319, 26, 256, 9, 11, 10, 1, 239, 132, 58, 35, 1, 3, 18, 326, 11, 56, 150, 1, 16, 48, 8, 224, 59, 48, 1, 75, 178, 173, 44, 6, 191, 42, 4, 25, 59, 116, 221, 44, 47, 1, 238, 3, 1, 5, 28, 43, 31, 127, 78, 1, 76, 38, 18, 10, 2, 1, 6, 42, 646, 63, 198, 16, 17, 68, 18, 563, 1, 61, 361, 313, 381, 23, 1, 1, 2, 23, 408, 16, 16, 104, 19, 1, 103, 59, 17, 1, 38, 9, 6, 200, 1, 1, 3, 87, 5, 12, 57, 16, 10, 341, 8, 333, 77, 14, 99, 48, 192, 76, 13, 4, 1, 7, 11, 6, 161, 51, 12, 75, 59, 16, 162, 77, 167, 3, 13, 110, 10, 1, 1, 9, 1, 2, 1, 1, 67, 1, 227, 1, 26, 135, 385, 96, 82, 1, 1, 1, 1, 57, 13, 6, 1, 1, 415, 1, 1, 1, 1, 241, 1, 110, 52, 27, 230, 13, 10, 310, 1, 2, 9, 6, 1, 552, 440, 1, 4, 9, 2, 4, 4, 40, 20, 2, 1, 2, 192, 40, 100, 341, 498, 61, 1, 1, 30, 388, 394, 3, 308, 19, 24, 64, 19, 83, 69, 4, 64, 23, 146, 128, 106, 20, 19, 92, 3, 108, 462, 80, 19, 5, 365, 1, 41, 153, 12, 37, 7, 29, 17, 14, 545, 27, 320, 73, 71, 194, 8, 27, 22, 183, 1, 7, 2, 68, 44, 65, 2, 1, 2, 27, 48, 46, 15, 17, 5, 130, 5, 11, 63, 34, 11, 26, 65, 9, 18, 1, 17, 36, 124, 4, 24, 131, 25, 89, 22, 190, 24, 1, 159, 7, 8, 28, 254, 4, 229, 797, 53, 28, 2, 17, 63, 24, 6, 1, 15, 2, 19, 2, 263, 46, 81, 39, 8, 10, 65, 89, 61, 3, 107, 1, 195, 55, 51, 101, 21, 6, 41, 70, 1, 2, 117, 1, 28, 125, 5, 93, 7, 99, 129, 2, 68, 9, 140, 34, 61, 10, 1, 19, 7, 12, 46, 4, 2, 2, 33, 21, 3, 10, 4, 35, 102, 3, 2, 2, 4, 35, 3, 41, 37, 31, 7, 55, 181, 21, 5, 5, 34, 708, 13, 810, 243, 83, 153, 65, 112, 10, 3, 1, 12, 216, 2, 107, 19, 112, 199, 5, 77, 47, 105, 24, 134, 82, 1, 1, 3, 1, 5, 4, 555, 60, 79, 52, 1, 10, 30, 1, 138, 37, 152, 105, 257, 80, 55, 7, 32, 9, 64, 68, 129, 1, 52, 207, 27, 36, 501, 7, 59, 1, 24, 5, 99, 85, 38, 39, 35, 9, 64, 131, 39, 163, 10, 1, 8, 129, 9, 35, 6, 17, 12, 106, 2, 1, 59, 5, 6, 5, 70, 64, 76, 796, 5, 47, 9, 86, 18, 29, 13, 1, 222, 683, 3, 259, 838, 75, 2, 61, 25, 95, 172, 81, 25, 4, 15, 1, 2, 3, 7, 6, 103, 3, 266, 6, 21, 17, 64, 34, 1, 38, 4, 2, 1, 3, 71, 3, 3, 2, 57, 2, 31, 97, 8, 26, 4, 16, 9, 321, 1, 88, 1, 168, 12, 139, 15, 3, 3, 95, 74, 90, 22, 16, 10, 19, 94, 119, 133, 56, 48, 131, 1, 15, 229, 3, 1, 196, 15, 56, 2, 118, 19, 1, 5, 239, 245, 19, 8, 73, 16, 13, 1, 195, 39, 6, 40, 4, 7, 174, 19, 166, 1, 1, 25, 57, 5, 26, 7, 104, 85, 119, 359, 472, 204, 25, 65, 8, 8, 41, 51, 17, 50, 193, 29, 93, 9, 394, 13, 10, 21, 20, 11, 8, 116, 84, 6, 75, 96, 110, 53, 37, 516, 48, 53, 152, 203, 145, 9, 56, 36, 22, 26, 24, 4, 1, 103, 96, 122, 5, 1, 84, 3, 182, 16, 3, 425, 283, 151, 3, 6, 1, 37, 4, 161, 46, 37, 1, 31, 85, 61, 177, 18, 1, 131, 102, 9, 10, 3, 1, 1, 14, 80, 1, 48, 189, 13, 45, 8, 2, 1, 50, 19, 13, 11, 3, 175, 181, 12, 9, 2, 66, 30, 2, 7, 146, 152, 32, 121, 107, 53, 248, 430, 141, 63, 20, 1, 1, 1, 11, 15, 2, 1, 1, 470, 1, 169, 206, 80, 1, 6, 104, 1, 172, 63, 265, 90, 42, 2, 146, 279, 141, 14, 1, 1, 549, 1, 187, 36, 33, 19, 4, 45, 1, 152, 224, 7, 8, 10, 304, 67, 101, 227, 1, 57, 63, 178, 3, 2, 265, 8, 343, 13, 83, 302, 6, 107, 14, 9, 49, 13, 14, 50, 96, 1, 25, 1, 8, 13, 19, 68, 11, 55, 22, 18, 16, 133, 35, 34, 15, 85, 14, 40, 1, 9, 62, 1, 28, 66, 25, 50, 31, 28, 7, 788, 5, 502, 77, 84, 34, 40, 24, 257, 93, 21, 47, 1, 217, 20, 9, 113, 25, 179, 5, 115, 21, 232, 71, 257, 40, 9, 1, 2, 2, 26, 26, 1, 17, 196, 24, 112, 69, 18, 17, 80, 70, 147, 141, 2, 214, 42, 17, 6, 54, 56, 8, 772, 1, 5, 1, 6, 4, 93, 6, 25, 183, 262, 144, 46, 2, 6, 3, 9, 6, 6, 9, 1, 25, 2, 261, 5, 67, 19, 16, 376, 2, 1, 161, 344, 100, 298, 91, 34, 1, 8, 41, 3, 22, 1, 1, 1, 16, 34, 12, 8, 75, 37, 28, 33, 1, 18, 57, 6, 41, 54, 20, 38, 232, 60, 9, 5, 2, 11, 1, 1, 1, 2, 48, 1, 3, 1, 4, 7, 1, 76, 287, 230, 10, 5, 30, 1, 79, 13, 56, 1, 17, 4, 102, 108, 15, 1, 40, 48, 72, 1, 47, 2, 24, 6, 169, 105, 252, 4, 1, 156, 136, 5, 1, 4, 1, 1, 1, 55, 2, 39, 45, 1, 138, 11, 72, 1, 17, 4, 1, 15, 4, 17, 1, 7, 13, 9, 1, 371, 1, 14, 200, 74, 29, 194, 44, 8, 49, 6, 38, 9, 15, 15, 86, 15, 84, 72, 1, 2, 35, 24, 93, 63, 14, 23, 1, 29, 126, 32, 205, 1, 60, 1, 12, 8, 75, 119, 1, 1, 45, 6, 36, 135, 15, 3, 312, 38, 17, 15, 59, 3, 396, 2, 183, 94, 10, 240, 22, 6, 76, 9, 54, 115, 2, 1, 112, 13, 102, 3, 5, 10, 22, 8, 9, 2, 27, 3, 47, 19, 185, 201, 145, 103, 135, 3, 68, 1, 2, 5, 26, 38, 213, 14, 73, 145, 22, 3, 464, 149, 754, 166, 78, 16, 8, 1, 186, 1, 147, 5, 310, 16, 79, 64, 83, 1, 4, 9, 58, 117, 16, 1, 6, 1, 32, 13, 295, 30, 1, 2, 1, 43, 237, 62, 34, 160, 99, 3, 66, 58, 60, 8, 4, 8, 1, 17, 61, 47, 11, 26, 4, 23, 9, 1, 2, 82, 22, 36, 186, 27, 29, 61, 1, 1, 48, 17, 2, 7, 192, 74, 73, 89, 79, 172, 2, 1, 166, 2, 25, 41, 344, 31, 2, 155, 278, 3, 19, 1, 175, 28, 2, 1, 7, 2, 1, 3, 91, 437, 2, 238, 3, 6, 1, 18, 25, 64, 97, 1, 1, 6, 85, 23, 15, 6, 83, 5, 3, 142, 33, 37, 16, 68, 8, 1, 1, 9, 12, 72, 24, 3, 1, 95, 10, 38, 134, 171, 326, 92, 85, 1, 1, 59, 3, 156, 3, 2, 10, 101, 3, 1, 2, 18, 91, 57, 72, 623, 8, 116, 1, 151, 56, 9, 132, 49, 453, 29, 1, 6, 14, 81, 29, 289, 1, 108, 57, 51, 1, 32, 6, 24, 55, 1, 160, 11, 181, 1, 10, 56, 8, 39, 1, 4, 16, 8, 98, 20, 97, 40, 5, 6, 24, 69, 15, 85, 1, 1, 87, 63, 371, 1, 54, 17, 15, 69, 121, 36, 8, 8, 17, 8, 1, 1, 1, 226, 156, 32, 94, 238, 19, 75, 1, 43, 31, 201, 1, 1, 10, 46, 5, 34, 59, 3, 17, 15, 74, 84, 8, 23, 4, 26, 20, 15, 10, 4, 307, 94, 1, 19, 53, 10, 84, 1, 86, 57, 53, 12, 24, 242, 1, 1, 5, 1, 13, 4, 4, 382, 87, 5, 136, 49, 38, 29, 1, 14, 14, 59, 4, 4, 26, 26, 220, 33, 47, 1, 144, 96, 55, 1, 2, 35, 18, 1, 5, 48, 8, 17, 86, 61, 67, 282, 129, 93, 2, 139, 29, 23, 17, 1, 62, 1, 149, 40, 125, 1, 12, 8, 52, 51, 242, 38, 3, 50, 1, 46, 102, 110, 84, 203, 226, 10, 25, 241, 103, 64, 23, 5, 32, 17, 59, 1, 49, 105, 153, 48, 2, 65, 66, 81, 80, 85, 18, 44, 16, 13, 39, 8, 43, 33, 103, 4, 17, 1, 141, 11, 17, 139, 46, 14, 84, 99, 70, 179, 24, 20, 252, 77, 4, 65, 235, 135, 15, 179, 93, 258, 21, 1, 2, 3, 102, 37, 135, 166, 34, 98, 66, 50, 60, 114, 10, 158, 72, 72, 126, 1, 1, 37, 32, 1, 5, 84, 8, 11, 48, 62, 176, 48, 12, 4, 36, 14, 17, 3, 133, 25, 7, 5, 79, 62, 38, 2, 7, 122, 4, 11, 20, 8, 73, 108, 135, 8, 1, 136, 1, 19, 95, 37, 21, 34, 50, 256, 5, 111, 12, 11, 66, 268, 2, 102, 89, 149, 75, 1, 27, 15, 1, 422, 90, 15, 233, 48, 197, 15, 1, 1, 22, 1, 15, 189, 8, 1, 363, 39, 1, 12, 8, 175, 51, 8, 22, 1, 31, 9, 80, 8, 4, 31, 30, 1, 45, 33, 18, 3, 13, 38, 42, 82, 31, 4, 187, 131, 2, 137, 62, 13, 423, 146, 65, 22, 17, 56, 31, 13, 20, 6, 93, 1, 49, 1, 44, 103, 43, 88, 1, 1, 64, 107, 293, 10, 11, 20, 4, 248, 16, 13, 2, 110, 5, 81, 77, 1, 200, 449, 4, 7, 132, 1, 41, 43, 246, 46, 1, 37, 108, 1, 58, 47, 1, 35, 17, 5, 20, 226, 70, 7, 3, 109, 43, 90, 11, 63, 1, 5, 492, 114, 48, 2, 76, 1, 80, 1, 2, 136, 8, 9, 1, 11, 3, 2, 20, 31, 71, 80, 35, 1, 9, 1, 16, 4, 1, 41, 37, 9, 4, 192, 28, 1, 89, 5, 166, 89, 192, 2, 50, 55, 82, 5, 97, 41, 82, 31, 97, 1, 128, 3, 25, 10, 10, 10, 2, 21, 3, 14, 2, 76, 32, 50, 1, 6, 43, 58, 47, 167, 9, 23, 8, 129, 1, 252, 35, 204, 189, 14, 26, 228, 174, 5, 10, 1, 5, 9, 1, 194, 93, 7, 5, 34, 5, 4, 60, 21, 22, 90, 6, 1, 39, 9, 3, 35, 19, 10, 1, 69, 2, 1, 1, 1, 56, 15, 1, 1, 117, 1, 2, 3, 2, 133, 2, 177, 5, 12, 11, 19, 12, 1, 82, 197, 14, 70, 1, 2, 1, 1, 1, 12, 85, 148, 23, 1, 8, 1, 149, 5, 2, 1, 2, 4, 251, 6, 24, 49, 12, 35, 3, 11, 1, 13, 894, 3, 5, 7, 3, 6, 229, 9, 177, 26, 49, 45, 52, 33, 1, 33, 1, 1, 2, 2, 42, 4, 60, 205, 245, 473, 100, 227, 175, 43, 53, 7, 190, 1, 210, 42, 2, 104, 9, 3, 218, 27, 87, 78, 583, 21, 30, 30, 70, 45, 56, 64, 1, 29, 44, 68, 145, 55, 10, 130, 101, 128, 92, 10, 259, 27, 3, 7, 195, 5, 1, 2, 184, 34, 50, 10, 26, 60, 26, 2, 26, 3, 26, 163, 2, 6, 91, 2, 1, 43, 171, 10, 6, 46, 12, 13, 164, 214, 14, 44, 27, 22, 10, 5, 54, 116, 66, 56, 9, 14, 17, 152, 49, 78, 285, 7, 87, 34, 124, 1, 1, 6, 17, 53, 55, 59, 1, 405, 13, 40, 59, 63, 30, 2, 11, 37, 366, 1, 1, 4, 6, 36, 2, 20, 33, 16, 79, 28, 76, 8, 222, 52, 4, 81, 67, 1, 1, 26, 1, 13, 3, 1, 47, 6, 10, 62, 17, 13, 6, 20, 6, 22, 2, 70, 1, 3, 8, 50, 88, 51, 149, 26, 37, 151, 26, 4, 49, 1, 17, 104, 64, 24, 40, 1, 62, 34, 145, 193, 17, 59, 1, 7, 23, 1, 18, 69, 1, 45, 25, 14, 10, 1, 5, 3, 82, 121, 14, 38, 26, 18, 3, 1, 439, 175, 6, 45, 323, 11, 37, 31, 12, 97, 49, 53, 22, 23, 173, 284, 7, 227, 6, 10, 16, 5, 4, 6, 116, 23, 29, 182, 116, 41, 1, 246, 50, 29, 53, 3, 1, 7, 38, 6, 56, 21, 151, 91, 123, 6, 41, 60, 20, 1, 2, 28, 466, 1, 56, 2, 6, 106, 1, 1, 175, 76, 7, 4, 22, 150, 81, 63, 204, 88, 222, 3, 19, 1, 21, 48, 14, 1, 1, 105, 6, 4, 105, 179, 222, 81, 16, 26, 46, 27, 11, 3, 10, 1, 4, 3, 62, 3, 45, 1, 1, 1, 2, 1, 1, 75, 62, 89, 44, 1, 1, 63, 54, 1, 61, 57, 44, 29, 58, 195, 8, 204, 4, 166, 27, 4, 25, 180, 154, 131, 186, 7, 19, 17, 177, 16, 23, 10, 7, 55, 42, 183, 1, 1, 1, 1, 40, 59, 2, 1, 1, 25, 5, 15, 84, 104, 90, 96, 1, 2, 8, 15, 299, 1, 7, 122, 19, 18, 1, 1, 11, 3, 35, 16, 8, 78, 108, 9, 1, 16, 45, 1, 30, 31, 30, 2, 8, 3, 3, 72, 1, 1, 43, 49, 11, 66, 71, 2, 42, 77, 55, 4, 36, 76, 57, 85, 25, 12, 64, 90, 122, 1, 10, 1, 5, 33, 88, 15, 1, 1, 14, 3, 74, 39, 35, 10, 45, 20, 1, 1, 50, 3, 7, 76, 17, 1, 6, 56, 159, 84, 3, 50, 2, 1, 43, 51, 159, 6, 624, 23, 40, 3, 12, 2, 2, 12, 5, 1, 14, 1, 1, 105, 77, 83, 1, 1, 1, 2, 2, 2, 1211, 109, 1, 47, 1, 68, 41, 1, 3, 3, 2, 51, 84, 12, 18, 5, 4, 17, 55, 65, 28, 113, 7, 1, 93, 13, 18, 33, 2, 11, 19, 33, 3, 9, 66, 74, 4, 1, 50, 3, 1, 1, 159, 5, 1, 58, 13, 54, 1, 51, 6, 35, 32, 1, 15, 17, 29, 321, 5, 17, 7, 53, 1, 280, 23, 14, 86, 16, 2, 10, 84, 1, 28, 3, 85, 173, 5, 1, 269, 105, 119, 133, 120, 211, 162, 123, 12, 100, 3, 1, 172, 2, 23, 80, 80, 291, 3, 29, 6, 69, 1, 1, 1, 73, 10, 17, 1, 20, 54, 16, 14, 8, 33, 8, 14, 2, 8, 4, 604, 19, 1, 45, 34, 26, 13, 48, 100, 145, 131, 397, 11, 75, 20, 50, 47, 15, 3, 3, 10, 46, 4, 7, 120, 207, 2, 6, 41, 68, 105, 2, 8, 88, 9, 25, 15, 3, 7, 8, 1, 216, 1, 39, 5, 1, 23, 1, 136, 20, 56, 416, 1, 43, 2, 40, 8, 211, 133, 4, 22, 1, 12, 88, 51, 42, 2, 3, 1, 10, 1, 41, 102, 179, 16, 86, 201, 2, 7, 44, 7, 19, 1, 155, 76, 7, 111, 13, 1, 86, 15, 6, 1, 19, 8, 41, 55, 15, 2, 270, 8, 95, 79, 7, 16, 75, 2, 51, 1, 89, 37, 1, 98, 33, 10, 1, 50, 37, 30, 9, 2, 1, 74, 27, 2, 1, 3, 2, 1, 108, 26, 1, 9, 23, 7, 34, 17, 1, 17, 2, 2, 19, 75, 13, 17, 5, 1, 135, 74, 16, 2, 45, 1, 15, 7, 127, 16, 3, 5, 3, 10, 121, 4, 197, 24, 26, 16, 1, 35, 66, 52, 29, 2, 10, 2, 33, 66, 1, 1, 147, 7, 10, 1, 88, 28, 22, 19, 20, 2, 1, 2, 1, 55, 35, 3, 24, 19, 25, 1, 58, 53, 113, 88, 6, 113, 58, 78, 7, 4, 11, 87, 1, 58, 36, 23, 54, 63, 46, 36, 49, 7, 6, 16, 26, 42, 51, 3, 22, 12, 3, 2, 3, 4, 7, 10, 1, 107, 2, 45, 164, 14, 113, 15, 10, 9, 31, 7, 30, 16, 28, 76, 82, 1, 9, 66, 145, 6, 35, 2, 2, 67, 16, 108, 24, 64, 12, 15, 174, 29, 37, 2, 11, 39, 78, 21, 1, 15, 36, 13, 28, 10, 18, 3, 25, 15, 40, 84, 2, 60, 23, 19, 43, 94, 4, 30, 1, 1, 1, 31, 20, 32, 2, 49, 4, 6, 37, 2, 40, 2, 1, 15, 28, 9, 3, 65, 7, 20, 173, 34, 2, 1, 725, 2, 2, 5, 5, 4, 4, 4, 31, 156, 85, 55, 56, 1, 95, 2, 5, 5, 2, 53, 5, 2, 39, 6, 315, 25, 96, 32, 21, 42, 2, 13, 36, 2, 10, 21, 3, 3, 12, 3, 4, 1, 1, 3, 2, 20, 7, 8, 47, 22, 55, 85, 9, 131, 85, 4, 1, 15, 2, 103, 1, 75, 37, 4, 8, 62, 24, 15, 51, 8, 8, 38, 39, 17, 1, 4, 3, 17, 9, 82, 10, 14, 1, 3, 125, 48, 12, 8, 1, 27, 1, 64, 37, 9, 208, 40, 2, 57, 1, 1, 44, 27, 9, 8, 3, 4, 8, 90, 9, 8, 82, 23, 32, 1, 3, 178, 9, 1, 2, 16, 16, 18, 3, 3, 8, 1, 6, 5, 2, 122, 1, 10, 7, 6, 46, 17, 117, 4, 1, 271, 11, 20, 34, 1, 4, 123, 9, 1, 2, 1, 11, 9, 14, 7, 1, 17, 55, 2, 38, 79, 3, 15, 163, 3, 9, 1, 17, 32, 59, 88, 3, 7, 7, 26, 2, 50, 30, 24, 10, 12, 12, 7, 7, 1, 15, 6, 13, 4, 30, 4, 1, 99, 509, 1, 1, 153, 95, 32, 1, 16, 1, 9, 291, 25, 1, 83, 51, 1, 21, 1, 4, 73, 75, 25, 3, 13, 11, 4, 6, 1, 3, 21, 16, 15, 17, 3, 22, 30, 93, 1, 1, 18, 19, 13, 4, 9, 43, 6, 32, 3, 2, 1, 47, 30, 58, 9, 12, 1, 1, 102, 12, 71, 2, 3, 20, 35, 113, 234, 7, 7, 59, 4, 1, 1, 58, 1, 1, 1, 1, 1, 1, 40, 4, 11, 1, 4, 4, 8, 9, 10, 14, 46, 16, 86, 3, 38, 38, 33, 24, 165, 122, 9, 13, 9, 1, 1, 1, 2, 14, 1, 44, 3, 1, 65, 175, 1, 56, 19, 45, 46, 27, 33, 51, 11, 79, 27, 1, 10, 41, 26, 9, 87, 59, 3, 24, 91, 1, 1, 1, 21, 46, 9, 1, 2, 18, 17, 7, 13, 13, 3, 25, 51, 148, 217, 1, 78, 20, 28, 1, 2, 3, 19, 104, 10, 10, 109, 1, 1, 2, 67, 2, 2, 41, 52, 11, 101, 1, 8, 3, 15, 24, 7, 143, 3, 1, 3, 3, 1, 1, 57, 6, 1, 45, 1, 6, 14, 7, 2, 93, 46, 17, 84, 12, 69, 1, 16, 1, 8, 13, 37, 36, 2, 29, 98, 40, 16, 63, 302, 1, 84, 44, 1, 15, 48, 2, 14, 126, 2, 15, 26, 2, 1, 42, 81, 2, 127, 82, 5, 16, 1, 1, 4, 20, 21, 38, 1, 89, 74, 9, 17, 1, 62, 6, 8, 43, 4, 5, 31, 24, 45, 67, 9, 31, 8, 38, 7, 18, 177, 39, 12, 39, 5, 14, 34, 249, 64, 8, 15, 34, 57, 114, 114, 46, 14, 10, 13, 20, 8, 13, 1, 122, 12, 1, 87, 6, 6, 5, 27, 44, 145, 13, 1, 8, 72, 1, 59, 14, 1, 42, 96, 31, 37, 35, 4, 23, 69, 10, 3, 20, 32, 15, 223, 30, 1, 1, 1, 28, 1, 17, 148, 15, 54, 80, 3, 26, 2, 35, 21, 7, 6, 124, 8, 12, 23, 117, 1, 17, 64, 53, 11, 21, 89, 18, 17, 6, 1, 2, 35, 1, 4, 30, 2, 28, 3, 68, 16, 4, 15, 70, 55, 5, 1, 1, 3, 23, 22, 48, 11, 68, 5, 10, 100, 2, 5, 68, 17, 13, 28, 82, 15, 16, 41, 1, 46, 2, 19, 29, 40, 3, 2, 112, 53, 9, 2, 3, 24, 2, 101, 3, 4, 13, 9, 32, 4, 35, 2, 6, 3, 3, 9, 20, 7, 1, 29, 1, 15, 29, 24, 1, 62, 36, 55, 1, 12, 43, 4, 3, 1, 67, 22, 34, 5, 1, 1, 1, 24, 6, 58, 31, 78, 460, 4, 4, 510, 28, 1, 29, 21, 12, 7, 17, 1, 1, 2, 7, 27, 624, 25, 1, 42, 5, 5, 21, 28, 7, 85, 189, 28, 148, 40, 1, 27, 49, 1, 1, 1, 1, 1, 25, 3, 1, 37, 72, 4, 1, 1, 18, 58, 2, 1, 11, 23, 9, 82, 30, 28, 55, 27, 60, 1, 11, 71, 4, 2, 10, 193, 46, 100, 11, 14, 25, 1, 1, 24, 5, 34, 17, 14, 13, 9, 134, 1, 18, 30, 90, 123, 95, 189, 37, 16, 15, 50, 58, 4, 104, 32, 52, 7, 22, 58, 111, 91, 9, 17, 65, 1, 29, 4, 50, 34, 22, 19, 3, 36, 3, 5, 10, 38, 42, 7, 42, 3, 9, 23, 20, 15, 35, 61, 105, 10, 11, 1, 17, 24, 9, 4, 1, 6, 144, 59, 1, 1, 1, 43, 1, 74, 37, 11, 32, 17, 46, 1, 10, 4, 1, 14, 5, 47, 14, 20, 5, 1, 13, 37, 230, 129, 12, 434, 2, 1, 81, 1, 186, 1, 167, 225, 2, 55, 349, 5, 3, 196, 43, 3, 1, 1, 41, 64, 3, 5, 8, 116, 11, 209, 21, 1, 26, 8, 2, 2, 1, 1, 8, 2, 1, 1, 2, 41, 1, 9, 2, 2, 159, 84, 183, 156, 1, 3, 61, 5, 40, 9, 99, 14, 10, 12, 1, 12, 11, 18, 3, 60, 79, 26, 39, 132, 2, 1, 19, 134, 13, 1, 42, 5, 1, 3, 84, 3, 1, 1, 138, 3, 810, 1, 1, 19, 11, 8, 15, 100, 33, 12, 37, 2, 6, 27, 129, 1, 177, 53, 1, 10, 119, 12, 100, 45, 3, 126, 1, 15, 17, 137, 5, 87, 122, 15, 91, 31, 4, 101, 111, 4, 55, 25, 15, 24, 62, 1, 87, 15, 49, 18, 18, 2, 12, 17, 7, 29, 3, 67, 17, 6, 14, 1, 3, 4, 23, 52, 17, 118, 2, 27, 37, 1, 11, 1, 21, 81, 28, 49, 1, 336, 16, 29, 10, 4, 24, 11, 54, 119, 267, 15, 19, 57, 2, 5, 108, 23, 19, 85, 178, 1, 39, 240, 18, 188, 79, 2, 29, 5, 78, 17, 1, 1, 55, 4, 96, 2, 2, 1, 2, 1, 5, 38, 5, 5, 11, 1, 20, 15, 29, 235, 9, 45, 34, 60, 88, 16, 27, 4, 17, 6, 5, 76, 43, 5, 36, 12, 16, 5, 12, 8, 39, 16, 3, 68, 1, 47, 44, 16, 13, 7, 1, 31, 16, 3, 26, 247, 97, 80, 102, 30, 15, 52, 4, 1, 3, 38, 238, 9, 33, 175, 18, 1, 82, 2, 3, 246, 3, 3, 1, 1, 1, 29, 1, 13, 9, 2, 18, 59, 28, 4, 106, 2, 2, 8, 1, 28, 1, 15, 5, 1, 79, 1, 13, 39, 86, 15, 21, 95, 16, 74, 27, 11, 3, 60, 2, 3, 3, 1, 3, 40, 1, 28, 45, 2, 173, 338, 2, 24, 15, 697, 1, 1, 9, 6, 26, 13, 22, 53, 2, 2, 28, 1, 11, 1, 52, 93, 22, 91, 13, 30, 6, 1, 33, 26, 101, 2, 1, 2, 79, 42, 1, 30, 10, 178, 1, 1, 185, 30, 1, 1, 1, 48, 1, 2, 1, 1, 2, 8, 400, 81, 12, 7, 14, 2, 3, 78, 37, 11, 4, 13, 29, 3, 2, 4, 15, 5, 1, 5, 125, 32, 220, 10, 32, 20, 37, 39, 9, 25, 3, 22, 47, 36, 59, 1, 63, 3, 1, 27, 16, 52, 6, 22, 7, 2, 78, 6, 18, 38, 58, 9, 5, 222, 2, 48, 58, 1, 4, 48, 357, 56, 28, 1, 282, 51, 1, 13, 17, 79, 61, 2, 142, 86, 1, 1, 2, 19, 2, 21, 9, 77, 1, 1, 31, 105, 1, 36, 51, 18, 101, 27, 2, 5, 7, 5, 1, 4, 1, 1, 1, 33, 1, 17, 67, 6, 101, 1, 18, 77, 110, 34, 25, 3, 365, 6, 44, 17, 51, 26, 158, 8, 18, 2, 32, 38, 25, 110, 129, 11, 9, 1, 44, 4, 5, 125, 2, 3, 5, 42, 38, 8, 17, 6, 9, 7, 36, 12, 22, 1, 1, 1, 61, 1, 1, 58, 20, 11, 23, 30, 175, 3, 8, 19, 1, 88, 2, 61, 11, 13, 22, 1, 26, 5, 2, 4, 1, 92, 31, 13, 35, 47, 284, 2, 1, 9, 16, 7, 3, 10, 27, 1, 16, 81, 144, 1, 2, 1, 1, 10, 22, 17, 14, 4, 325, 37, 77, 58, 340, 36, 3, 5, 1, 13, 101, 25, 4, 11, 22, 11, 41, 8, 57, 2, 13, 7, 1, 40, 7, 6, 9, 27, 12, 18, 39, 36, 4, 83, 122, 76, 36, 1, 12, 1, 109, 5, 7, 24, 23, 33, 14, 1, 1, 38, 39, 2, 8, 4, 88, 1, 20, 48, 121, 3, 86, 8, 2, 1, 2, 2, 4, 1, 26, 28, 31, 10, 27, 1, 11, 1, 3, 10, 1, 55, 4, 1, 17, 14, 170, 6, 4, 19, 93, 66, 13, 28, 46, 21, 14, 167, 1, 40, 6, 2, 56, 251, 2, 110, 13, 1, 144, 12, 187, 45, 1, 37, 16, 29, 240, 2, 1, 4, 4, 1, 1, 3, 258, 20, 1, 75, 2, 86, 313, 6, 274, 16, 3, 62, 7, 30, 1, 16, 25, 13, 4, 6, 3, 25, 10, 30, 15, 54, 27, 13, 10, 4, 5, 3, 34, 18, 2, 44, 52, 39, 10, 1, 7, 23, 48, 6, 5, 14, 1, 3, 38, 59, 20, 1, 27, 3, 2, 53, 50, 9, 27, 1, 21, 24, 1, 1, 64, 1, 109, 16, 5, 196, 1, 37, 4, 3, 1, 30, 2, 1, 1, 1, 1, 7, 71, 1, 18, 33, 19, 2, 70, 66, 64, 6, 9, 75, 27, 6, 1, 12, 27, 1, 4, 1, 31, 63, 31, 2, 3, 4, 106, 195, 34, 1, 2, 14, 1, 1, 49, 11, 3, 4, 2, 8, 20, 1, 7, 28, 1, 26, 9, 323, 222, 34, 19, 106, 14, 76, 2, 63, 1, 89, 1, 1, 10, 8, 16, 87, 21, 5, 1, 21, 2, 72, 41, 3, 1, 89, 5, 19, 113, 2, 42, 3, 1, 15, 3, 1, 272, 22, 2, 1, 21, 83, 3, 10, 1, 4, 1, 1, 1, 21, 18, 150, 17, 1, 35, 1, 103, 126, 9, 24, 1, 3, 1, 13, 44, 10, 5, 3, 110, 17, 42, 89, 7, 1, 3, 3, 2, 7, 2, 25, 4, 10, 1, 42, 10, 1, 4, 20, 2, 3, 28, 97, 20, 1, 2, 17, 85, 19, 20, 81, 42, 5, 27, 23, 228, 47, 55, 44, 3, 160, 1, 49, 44, 22, 5, 25, 155, 18, 59, 100, 29, 1, 8, 22, 1, 7, 1, 23, 24, 43, 1, 6, 110, 3, 5, 116, 5, 17, 81, 20, 1, 55, 1, 42, 86, 1, 15, 1, 2, 41, 33, 71, 43, 39, 5, 1, 7, 1, 1, 4, 45, 38, 3, 85, 44, 194, 27, 46, 9, 1, 111, 20, 2, 2, 2, 27, 37, 9, 30, 7, 1, 2, 1, 2, 2, 2, 17, 149, 91, 40, 1, 37, 8, 1, 5, 5, 1, 32, 28, 1, 3, 9, 1, 47, 9, 9, 60, 81, 25, 71, 403, 36, 99, 112, 5, 39, 12, 2, 1, 1, 31, 1, 4, 94, 1, 1, 2, 54, 13, 281, 21, 89, 2, 45, 13, 22, 61, 74, 24, 1, 35, 17, 1, 2, 15, 3, 9, 1, 1, 5, 85, 3, 49, 1, 29, 5, 31, 5, 77, 193, 3, 1, 2, 16, 5, 104, 36, 14, 17, 121, 222, 1, 12, 5, 19, 143, 3, 9, 88, 26, 32, 60, 18, 3, 9, 1, 37, 44, 27, 1, 1, 35, 118, 2, 33, 1, 32, 3, 5, 1, 1, 1, 21, 10, 2, 1, 162, 39, 11, 1, 20, 2, 12, 2, 75, 147, 3, 7, 2, 27, 16, 50, 83, 4, 1, 69, 5, 1, 16, 152, 26, 17, 11, 9, 7, 1, 16, 3, 19, 32, 24, 1, 15, 55, 52, 54, 39, 9, 11, 19, 70, 35, 61, 6, 23, 33, 63, 3, 1, 234, 5, 4, 2, 2, 146, 12, 1, 1, 18, 1, 106, 56, 82, 1, 1, 2, 30, 72, 38, 95, 1, 15, 87, 1, 38, 1, 1, 25, 8, 3, 2, 4, 22, 7, 5, 10, 60, 75, 90, 16, 18, 11, 2, 2, 1, 1, 82, 4, 47, 6, 8, 16, 1, 1, 17, 1, 43, 1, 1, 72, 1, 19, 39, 108, 28, 4, 82, 356, 18, 12, 1, 14, 28, 18, 24, 6, 1, 4, 7, 3, 17, 2, 29, 2, 358, 1, 14, 1, 6, 70, 15, 12, 102, 55, 1, 2, 158, 2, 26, 4, 2, 3, 2, 6, 98, 1, 1, 1, 26, 1, 239, 1, 11, 1, 1, 7, 3, 14, 15, 1, 28, 1, 3, 7, 3, 1, 69, 27, 1, 24, 59, 1, 58, 46, 37, 196, 53, 2, 40, 33, 3, 4, 43, 81, 42, 148, 1, 13, 9, 13, 88, 22, 28, 99, 1, 5, 5, 1, 2, 2, 19, 1, 28, 24, 45, 25, 14, 20, 21, 20, 2, 1, 80, 1, 84, 17, 4, 17, 58, 115, 2, 1, 2, 3, 45, 1, 8, 1, 23, 51, 1, 11, 153, 7, 32, 18, 177, 74, 87, 10, 34, 4, 16, 3, 1, 2, 1, 13, 53, 113, 2, 2, 10, 2, 44, 3, 2, 1, 194, 4, 16, 41, 2, 127, 1, 89, 1, 5, 1, 1, 1, 1, 119, 88, 2, 1, 118, 3, 1, 3, 52, 116, 38, 1, 6, 9, 43, 140, 1, 32, 66, 117, 2, 11, 13, 8, 33, 1, 19, 3, 40, 9, 87, 9, 15, 1, 15, 96, 1, 21, 347, 8, 4, 5, 3, 12, 1, 1, 11, 97, 5, 9, 1, 5, 22, 88, 3, 34, 31, 44, 34, 44, 3, 1, 1, 1, 18, 3, 17, 17, 7, 2, 4, 16, 36, 3, 19, 2, 70, 1, 183, 24, 1, 1, 2, 55, 6, 36, 1, 4, 4, 25, 5, 42, 3, 30, 1, 4, 19, 2, 2, 1, 6, 29, 3, 3, 5, 31, 7, 203, 4, 6, 53, 1, 14, 129, 26, 2, 44, 6, 284, 3, 52, 15, 1, 105, 7, 2, 35, 11, 86, 5, 3, 38, 108, 3, 3, 28, 6, 21, 1, 12, 91, 1, 7, 17, 115, 100, 22, 1, 21, 3, 4, 2, 11, 2, 110, 2, 110, 29, 3, 4, 20, 105, 6, 9, 74, 6, 4, 3, 2, 44, 91, 70, 14, 207, 3, 4, 4, 1, 61, 13, 5, 5, 78, 3, 1, 213, 34, 2, 4, 8, 14, 33, 8, 1, 21, 12, 58, 1, 26, 159, 2, 59, 13, 2, 2, 33, 3, 1, 78, 15, 16, 49, 3, 135, 45, 1, 5, 5, 98, 42, 6, 36, 134, 1, 20, 2, 7, 3, 86, 130, 1, 36, 1, 35, 6, 8, 238, 1, 5, 9, 69, 97, 3, 37, 4, 2, 18, 1, 3, 40, 7, 78, 1, 11, 3, 19, 4, 12, 105, 1, 17, 1, 4, 2, 54, 62, 141, 2, 3, 68, 92, 2, 2, 47, 2, 7, 25, 25, 3, 4, 9, 16, 1, 2, 4, 13, 87, 148, 143, 2, 26, 11, 2, 2, 24, 38, 4, 295, 67, 2, 14, 2, 2, 6, 33, 2, 83, 1, 74, 94, 17, 1, 25, 2, 77, 3, 131, 1, 1, 26, 40, 3, 2, 13, 77, 33, 7, 5, 5, 1, 2, 4, 5, 5, 38, 9, 19, 1, 2, 6, 3, 6, 4, 2, 66, 88, 2, 53, 17, 2, 1, 28, 42, 47, 1, 82, 20, 129, 1, 62, 1, 34, 8, 64, 71, 56, 12, 18, 68, 1, 29, 12, 10, 8, 37, 4, 2, 4, 1, 41, 1, 1, 15, 1, 9, 5, 73, 11, 39, 5, 12, 5, 36, 1, 1, 1, 11, 46, 66, 65, 43, 10, 6, 11, 1, 46, 16, 2, 47, 6, 6, 30, 38, 18, 40, 3, 7, 5, 62, 13, 28, 1, 4, 2, 6, 2, 6, 49, 14, 1, 77, 2, 45, 1, 27, 21, 2, 18, 35, 1, 11, 6, 11, 101, 48, 3, 43, 91, 53, 218, 5, 1, 31, 19, 6, 78, 14, 1, 1, 1, 31, 3, 1, 1, 2, 3, 60, 8, 7, 63, 46, 2, 47, 19, 1, 9, 92, 1, 46, 92, 1, 24, 56, 1, 1, 9, 1, 6, 70, 68, 2, 33, 17, 1, 18, 13, 2, 3, 81, 124, 1, 42, 72, 5, 20, 1, 31, 1, 8, 62, 16, 1, 1, 11, 7, 13, 63, 4, 2, 3, 162, 1, 7, 27, 30, 8, 25, 1, 2, 16, 1, 29, 1, 1, 1, 10, 2, 9, 30, 15, 7, 1, 1, 3, 2, 57, 6, 6, 12, 53, 31, 5, 1, 1, 1, 9, 31, 2, 5, 5, 33, 3, 39, 4, 39, 1, 41, 13, 57, 39, 18, 4, 10, 35, 3, 2, 13, 18, 2, 15, 154, 7, 55, 17, 1, 6, 16, 14, 4, 2, 31, 4, 1, 4, 10, 25, 8, 53, 101, 10, 57, 45, 1, 53, 1, 74, 3, 1, 16, 124, 55, 49, 1, 12, 6, 50, 9, 6, 76, 3, 3, 2, 13, 21, 33, 10, 26, 3, 2, 15, 9, 1, 48, 1, 3, 11, 12, 1, 1, 7, 1, 11, 38, 3, 1, 6, 6, 1, 1, 11, 44, 43, 2, 2, 20, 1, 70, 20, 54, 39, 1, 1, 34, 3, 28, 21, 2, 9, 2, 7, 7, 1, 6, 4, 2, 27, 3, 7, 3, 22, 1, 3, 2, 95, 37, 3, 6, 8, 6, 1, 5, 3, 11, 1, 2, 6, 4, 60, 1, 1, 23, 1, 6, 2, 1, 58, 3, 21, 67, 4, 90, 8, 6, 10, 89, 1, 136, 5, 2, 12, 5, 8, 2, 1, 322, 1, 19, 1, 1, 29, 10, 5, 2, 27, 22, 59, 28, 29, 1, 1, 20, 1, 14, 87, 40, 75, 79, 93, 13, 11, 5, 6, 85, 6, 30, 1, 5, 1, 273, 59, 19, 1, 5, 159, 1, 61, 3, 5, 2, 1, 10, 1, 9, 26, 1, 153, 1, 2, 1, 1, 48, 8, 1, 14, 26, 7, 8, 2, 7, 8, 1, 13, 22, 1, 23, 6, 41, 4, 4, 1, 12, 14, 1, 1, 4, 1, 20, 70, 3, 2, 5, 9, 14, 14, 33, 1, 3, 3, 2, 1, 1, 1, 11, 4, 1, 11, 1, 19, 2, 5, 31, 14, 17, 2, 1, 4, 15, 141, 31, 5, 6, 62, 1, 75, 23, 1, 10, 8, 6, 18, 54, 7, 4, 18, 1, 65, 1, 36, 8, 8, 1, 39, 6, 1, 119, 8, 4, 5, 5, 4, 2, 39, 31, 1, 2, 2, 2, 131, 4, 14, 27, 6, 1, 5, 1, 6, 17, 12, 44, 9, 5, 17, 3, 25, 15, 1, 58, 8, 71, 5, 20, 9, 2, 4, 4, 7, 76, 40, 4, 38, 7, 7, 58, 95, 1, 1, 35, 22, 2, 44, 3, 4, 1, 1, 11, 1, 1, 3, 14, 5, 15, 33, 99, 1, 135, 40, 1, 44, 17, 39, 23, 41, 36, 72, 34, 50, 9, 87, 2, 37, 7, 8, 52, 1, 4, 1, 38, 7, 33, 1, 1, 26, 2, 23, 11, 1, 1, 5, 26, 57, 1, 13, 29, 12, 23, 2, 60, 8, 23, 2, 25, 56, 1, 58, 19, 3, 20, 10, 112, 13, 9, 4, 3, 80, 20, 2, 41, 16, 23, 105, 4, 1, 20, 20, 71, 14, 7, 9, 8, 61, 76, 9, 42, 13, 64, 3, 5, 16, 6, 19, 1, 5, 22, 30, 4, 17, 1, 27, 98, 2, 26, 17, 4, 119, 44, 106, 6, 48, 118, 62, 23, 18, 7, 28, 44, 61, 7, 69, 20, 27, 238, 37, 15, 37, 22, 122, 9, 10, 18, 1, 427, 4, 10, 86, 3, 2, 5, 112, 50, 1, 6, 1, 3, 150, 62, 126, 35, 3, 2, 13, 6, 36, 2, 5, 5, 39, 34, 9, 59, 11, 1, 191, 41, 5, 21, 124, 1, 1, 1, 1, 2, 13, 2, 12, 118, 18, 1, 1, 26, 49, 1, 4, 50, 8, 4, 7, 10, 89, 47, 22, 76, 48, 1, 19, 4, 13, 4, 1, 2, 9, 74, 8, 10, 1, 41, 2, 1, 62, 50, 4, 1, 2, 16, 10, 61, 16, 7, 22, 25, 92, 1, 1, 62, 33, 42, 9, 23, 26, 3, 33, 6, 156, 21, 6, 75, 3, 46, 3, 2, 22, 42, 106, 2, 46, 15, 2, 2, 11, 53, 12, 1, 1, 9, 17, 34, 22, 24, 81, 4, 23, 74, 1, 1, 5, 1, 1, 2, 6, 15, 1, 15, 25, 4, 2, 1, 1, 14, 3, 27, 18, 90, 2, 248, 49, 8, 13, 19, 1, 1, 1, 36, 96, 33, 1, 12, 8, 2, 32, 77, 13, 4, 16, 1, 1, 4, 13, 18, 7, 73, 11, 13, 24, 36, 82, 70, 3, 3, 30, 14, 6, 65, 33, 2, 19, 28, 30, 1, 1, 56, 1, 5, 27, 4, 36, 8, 117, 113, 16, 4, 1, 83, 50, 64, 114, 9, 12, 7, 124, 4, 5, 2, 3, 8, 96, 34, 1, 57, 181, 10, 108, 43, 8, 21, 9, 6, 68, 15, 5, 4, 24, 11, 35, 1, 41, 99, 8, 4, 1, 2, 7, 87, 7, 13, 11, 2, 2, 7, 10, 16, 9, 7, 30, 16, 1, 1, 80, 14, 27, 18, 2, 6, 7, 4, 2, 7, 6, 1, 58, 4, 13, 182, 5, 29, 6, 8, 24, 2, 2, 78, 1, 1, 2, 21, 159, 100, 95, 3, 2, 1, 1, 110, 101, 173, 7, 39, 41, 2, 9, 27, 634, 50, 2, 12, 22, 95, 1, 2, 40, 14, 59, 1, 60, 1, 2, 1, 4, 31, 6, 35, 80, 1, 17, 7, 28, 39, 17, 61, 1, 14, 6, 1, 15, 59, 34, 18, 8, 38, 8, 4, 45, 5, 1, 54, 40, 5, 1, 2, 4, 18, 1, 7, 1, 34, 1, 1, 9, 9, 42, 62, 8, 7, 12, 18, 35, 5, 70, 17, 75, 9, 2, 174, 208, 94, 33, 1, 1, 1, 5, 13, 1, 3, 3, 57, 11, 2, 19, 1, 3, 36, 2, 1, 2, 2, 7, 4, 122, 172, 22, 29, 3, 1, 5, 34, 43, 314, 30, 7, 7, 12, 1, 107, 23, 58, 72, 72, 15, 17, 2, 3, 19, 3, 1, 1, 99, 15, 1, 1, 1, 1, 13, 47, 7, 3, 14, 2, 2, 7, 1, 1, 2, 64, 81, 15, 87, 28, 1, 1, 28, 33, 3, 6, 26, 4, 21, 3, 35, 7, 2, 1, 16, 14, 14, 13, 70, 2, 13, 8, 33, 40, 11, 3, 74, 47, 326, 197, 6, 1, 1, 2, 1, 1, 28, 3, 2, 29, 58, 46, 1, 15, 84, 31, 27, 3, 26, 42, 1, 4, 48, 1, 50, 7, 1, 2, 175, 25, 51, 7, 41, 54, 3, 1, 36, 3, 5, 11, 2, 11, 38, 1, 2, 2, 7, 1, 3, 18, 5, 11, 29, 11, 69, 11, 39, 28, 75, 1, 7, 9, 84, 34, 2, 15, 42, 2, 1, 1, 1, 39, 97, 1, 3, 1, 1, 1, 2, 8, 7, 4, 15, 1, 108, 9, 1, 1, 19, 2, 1, 2, 4, 9, 90, 46, 12, 27, 2, 19, 1, 1, 1, 31, 1, 154, 121, 1, 1, 14, 20, 9, 22, 71, 3, 14, 69, 10, 40, 6, 1, 130, 112, 11, 3, 3, 1, 8, 8, 4, 18, 2, 2, 65, 13, 12, 10, 2, 2, 1, 11, 1, 20, 16, 1, 44, 21, 1, 11, 87, 1, 11, 17, 10, 1, 61, 20, 1, 1, 4, 8, 19, 1, 2, 69, 53, 1, 82, 2, 82, 4, 46, 4, 4, 21, 2, 1, 11, 2, 27, 1, 161, 49, 7, 299, 130, 96, 1, 7, 24, 5, 3, 6, 49, 4, 34, 9, 1, 255, 1, 1, 3, 106, 15, 2, 14, 1, 35, 1, 1, 116, 5, 111, 35, 39, 5, 4, 5, 22, 13, 35, 49, 1, 17, 90, 5, 64, 6, 5, 17, 3, 121, 1, 37, 7, 91, 34, 10, 1, 2, 159, 142, 6, 40, 5, 1, 3, 1, 15, 15, 1, 13, 23, 3, 1, 65, 128, 235, 42, 70, 135, 14, 13, 1, 1, 10, 6, 53, 28, 1, 1, 66, 49, 4, 1, 1, 42, 5, 2, 5, 1, 36, 45, 9, 44, 8, 1, 5, 1, 16, 12, 13, 1, 2, 12, 2, 63, 2, 11, 4, 1, 4, 1, 5, 2, 79, 58, 57, 23, 55, 5, 3, 16, 8, 2, 3, 14, 2, 1, 1, 38, 9, 9, 7, 4, 4, 8, 19, 14, 1, 17, 6, 3, 65, 39, 8, 1, 64, 13, 105, 1, 1, 6, 1, 32, 4, 2, 11, 79, 12, 29, 11, 14, 5, 4, 2, 55, 23, 9, 1, 338, 1, 5, 58, 7, 13, 4, 7, 23, 34, 12, 5, 12, 28, 1, 54, 14, 1, 12, 9, 25, 2, 62, 4, 1, 27, 15, 13, 17, 27, 55, 2, 14, 2, 27, 1, 80, 67, 11, 63, 7, 40, 21, 1, 56, 4, 102, 1, 1, 93, 9, 13, 33, 42, 43, 6, 180, 17, 3, 8, 9, 30, 20, 3, 4, 7, 4, 50, 6, 16, 3, 39, 15, 1, 124, 20, 1, 43, 1, 7, 4, 43, 5, 9, 54, 12, 4, 4, 6, 1, 27, 2, 140, 37, 14, 62, 61, 25, 1, 32, 11, 23, 3, 3, 1, 1, 17, 8, 2, 8, 5, 14, 31, 3, 8, 1, 5, 3, 20, 27, 34, 5, 8, 37, 135, 12, 10, 5, 2, 2, 9, 11, 2, 23, 36, 6, 4, 1, 51, 31, 1, 10, 13, 20, 1, 16, 6, 1, 19, 34, 4, 41, 12, 1, 90, 15, 10, 25, 36, 1, 5, 78, 2, 53, 1, 1, 43, 28, 35, 1, 32, 1, 16, 6, 1, 116, 2, 1, 19, 3, 1, 51, 82, 10, 2, 2, 48, 2, 34, 3, 1, 4, 1, 15, 28, 1, 18, 6, 1, 5, 127, 31, 1, 1, 14, 9, 5, 2, 5, 6, 1, 36, 62, 4, 15, 29, 20, 1, 1, 26, 1, 4, 1, 42, 20, 28, 3, 53, 3, 2, 6, 2, 164, 26, 13, 1, 1, 1, 8, 1, 59, 27, 2, 2, 4, 15, 67, 13, 12, 4, 8, 23, 1, 1, 12, 3, 4, 2, 1, 1, 13, 25, 8, 1, 51, 78, 167, 6, 13, 3, 28, 6, 20, 12, 4, 15, 10, 53, 15, 126, 45, 1, 9, 6, 72, 9, 2, 1, 18, 13, 14, 1, 13, 69, 11, 74, 1, 80, 15, 8, 1, 44, 25, 164, 9, 1, 2, 4, 22, 17, 52, 23, 37, 1, 2, 1, 128, 4, 20, 32, 33, 10, 5, 6, 1, 1, 3, 63, 1, 24, 1, 23, 2, 1, 75, 61, 1, 3, 2, 2, 1, 1, 24, 14, 79, 1, 21, 8, 25, 29, 1, 24, 1, 3, 9, 10, 2, 1, 1, 232, 2, 3, 1, 1, 1, 17, 47, 33, 32, 3, 2, 4, 14, 18, 13, 37, 2, 1, 7, 2, 9, 10, 3, 29, 8, 21, 2, 14, 3, 69, 3, 81, 9, 1, 21, 4, 28, 61, 1, 50, 23, 1, 2, 3, 30, 1, 6, 21, 11, 69, 11, 17, 23, 1, 1, 8, 4, 11, 4, 16, 84, 3, 17, 37, 34, 1, 17, 27, 17, 10, 40, 3, 1, 4, 20, 9, 2, 52, 10, 1, 137, 1, 3, 1, 129, 21, 23, 21, 35, 1, 2, 27, 1, 3, 16, 56, 2, 2, 31, 81, 7, 34, 4, 22, 14, 2, 10, 42, 2, 32, 7, 10, 11, 107, 1, 7, 32, 1, 4, 1, 32, 22, 20, 4, 56, 36, 7, 8, 16, 13, 8, 1, 5, 18, 1, 1, 17, 1, 37, 59, 39, 2, 77, 1, 1, 54, 1, 1, 1, 1, 30, 1, 15, 53, 2, 1, 63, 10, 5, 1, 2, 12, 306, 1, 2, 1, 52, 97, 5, 13, 100, 6, 38, 1, 119, 28, 1, 6, 1, 76, 1, 134, 1, 1, 1, 1, 1, 53, 4, 14, 1, 1, 14, 47, 1, 13, 27, 1, 38, 9, 5, 5, 1, 216, 9, 4, 29, 16, 1, 17, 4, 5, 2, 6, 1, 6, 1, 1, 1, 11, 37, 4, 10, 30, 1, 1, 17, 13, 59, 1, 1, 2, 1, 10, 3, 2, 15, 5, 3, 207, 12, 99, 81, 10, 79, 115, 7, 3, 37, 21, 1, 12, 8, 2, 3, 1, 6, 6, 2, 88, 79, 15, 57, 9, 4, 1, 4, 1, 6, 10, 4, 1, 22, 1, 3, 21, 1, 14, 2, 8, 1, 1, 1, 37, 4, 1, 1, 1, 9, 31, 4, 3, 40, 3, 7, 1, 1, 46, 43, 5, 14, 22, 8, 2, 10, 2, 5, 6, 57, 10, 117, 9, 16, 2, 1, 2, 103, 5, 8, 12, 55, 31, 1, 32, 46, 6, 78, 11, 4, 2, 14, 17, 21, 28, 3, 29, 10, 34, 1, 2, 35, 35, 18, 3, 2, 32, 14, 39, 10, 67, 18, 43, 18, 98, 16, 26, 2, 1, 224, 1, 15, 2, 1, 16, 1, 4, 5, 6, 38, 5, 94, 121, 1, 6, 5, 2, 1, 5, 34, 8, 5, 2, 1, 26, 2, 1, 92, 10, 178, 58, 58, 3, 10, 58, 3, 1, 7, 7, 6, 14, 1, 30, 73, 10, 2, 1, 2, 4, 1, 1, 142, 1, 13, 12, 17, 1, 32, 44, 1, 55, 1, 4, 1, 2, 3, 7, 67, 4, 4, 2, 1, 38, 1, 2, 11, 1, 5, 1, 75, 16, 12, 14, 31, 1, 9, 1, 4, 3, 53, 12, 2, 35, 58, 1, 19, 29, 7, 13, 69, 32, 7, 7, 1, 7, 3, 3, 13, 40, 1, 52, 20, 1, 20, 33, 8, 8, 68, 7, 75, 38, 1, 60, 1, 31, 2, 24, 114, 39, 10, 1, 11, 3, 1, 1, 1, 2, 39, 2, 4, 39, 1, 74, 14, 18, 3, 2, 12, 43, 1, 13, 44, 38, 2, 34, 1, 111, 119, 113, 1, 44, 14, 22, 10, 71, 145, 6, 7, 102, 54, 4, 30, 43, 5, 2, 20, 19, 1, 29, 1, 1, 2, 31, 25, 63, 1, 3, 12, 16, 1, 4, 20, 91, 1, 7, 13, 3, 27, 23, 10, 8, 1, 20, 2, 1, 1, 9, 2, 6, 17, 1, 5, 1, 1, 18, 9, 2, 22, 36, 16, 78, 1, 5, 78, 1, 34, 9, 1, 56, 2, 3, 8, 10, 5, 4, 40, 15, 1, 2, 31, 35, 8, 48, 41, 3, 68, 26, 13, 2, 2, 27, 58, 103, 44, 21, 1, 1, 9, 52, 5, 14, 2, 17, 5, 84, 55, 20, 3, 25, 4, 8, 9, 22, 5, 1, 21, 3, 1, 6, 8, 11, 14, 1, 57, 26, 3, 1, 5, 5, 20, 5, 1, 36, 120, 40, 9, 4, 1, 35, 3, 25, 4, 1, 1, 1, 1, 1, 55, 68, 1, 15, 18, 3, 14, 66, 4, 44, 18, 51, 6, 86, 5, 18, 1, 6, 59, 18, 7, 27, 17, 1, 74, 14, 2, 125, 207, 5, 165, 5, 3, 17, 27, 21, 7, 8, 33, 66, 12, 19, 26, 3, 4, 1, 2, 2, 1, 28, 12, 15, 3, 1, 31, 1, 1, 1, 10, 1, 1, 5, 82, 70, 7, 2, 2, 4, 5, 5, 14, 46, 20, 2, 5, 1, 17, 1, 3, 13, 158, 3, 2, 65, 4, 14, 4, 8, 12, 1, 91, 36, 3, 4, 3, 4, 1, 31, 6, 26, 2, 31, 1, 2, 11, 30, 35, 14, 2, 1, 6, 8, 41, 1, 2, 4, 112, 71, 3, 1, 2, 107, 4, 2, 61, 15, 27, 90, 20, 3, 9, 1, 9, 2, 19, 30, 7, 4, 17, 113, 1, 12, 2, 78, 11, 2, 8, 1, 26, 49, 6, 3, 49, 23, 44, 3, 4, 1, 5, 6, 10, 117, 1, 7, 15, 79, 2, 1, 1, 9, 11, 3, 10, 61, 1, 59, 55, 6, 16, 2, 1, 2, 2, 7, 14, 1, 3, 46, 1, 1, 2, 16, 1, 2, 17, 2, 8, 30, 1, 1, 6, 9, 137, 137, 4, 5, 1, 97, 10, 6, 14, 49, 197, 1, 60, 7, 7, 37, 21, 1, 2, 1, 1, 3, 13, 14, 91, 19, 3, 1, 6, 1, 2, 60, 4, 4, 1, 1, 20, 2, 6, 1, 67, 48, 1, 9, 3, 11, 40, 3, 83, 32, 1, 2, 3, 1, 7, 5, 16, 14, 4, 16, 65, 17, 22, 18, 1, 3, 138, 36, 17, 1, 5, 3, 1, 1, 16, 6, 1, 10, 3, 12, 7, 5, 13, 26, 27, 7, 47, 28, 10, 1, 2, 5, 44, 3, 3, 6, 4, 3, 8, 35, 1, 21, 56, 6, 16, 2, 7, 2, 9, 3, 1, 35, 70, 1, 5, 9, 1, 29, 1, 8, 1, 1, 3, 3, 1, 4, 27, 135, 10, 12, 10, 29, 77, 18, 1, 1, 15, 22, 2, 7, 221, 2, 39, 1, 1, 62, 1, 29, 5, 24, 14, 7, 1, 24, 1, 5, 1, 1, 13, 4, 24, 1, 15, 7, 1, 1, 16, 54, 7, 11, 31, 4, 1, 7, 1, 1, 42, 18, 49, 30, 66, 5, 1, 2, 3, 3, 2, 6, 2, 5, 1, 57, 12, 28, 1, 1, 5, 1, 4, 1, 17, 6, 38, 21, 96, 25, 49, 30, 5, 1, 27, 4, 59, 17, 166, 4, 2, 2, 57, 3, 3, 5, 12, 35, 1, 46, 63, 9, 6, 7, 2, 4, 5, 1, 219, 6, 1, 26, 24, 8, 8, 8, 22, 6, 4, 1, 13, 2, 1, 125, 10, 128, 37, 4, 1, 10, 11, 3, 24, 53, 1, 2, 15, 1, 35, 1, 48, 5, 24, 477, 2, 16, 9, 2, 18, 20, 1, 5, 13, 9, 1, 3, 1, 1, 39, 4, 8, 44, 11, 4, 5, 14, 26, 1, 5, 13, 177, 8, 3, 23, 2, 11, 12, 10, 1, 2, 9, 33, 31, 6, 1, 42, 2, 1, 18, 7, 4, 7, 13, 2, 1, 23, 54, 33, 15, 1, 6, 169, 2, 3, 2, 2, 80, 76, 5, 1, 2, 29, 1, 1, 32, 2, 1, 1, 45, 1, 3, 2, 13, 9, 1, 2, 22, 3, 16, 19, 31, 66, 9, 1, 6, 104, 7, 35, 52, 12, 6, 4, 20, 22, 1, 52, 7, 62, 4, 1, 4, 34, 3, 72, 1, 28, 5, 1, 13, 1, 1, 2, 9, 3, 23, 33, 1, 1, 1, 1, 2, 1, 1, 3, 41, 1, 81, 31, 50, 4, 2, 2, 1, 3, 69, 5, 29, 2, 1, 71, 76, 20, 9, 10, 74, 11, 31, 37, 11, 4, 11, 4, 1, 1, 14, 1, 13, 11, 63, 1, 6, 3, 6, 2, 1, 1, 18, 56, 1, 7, 53, 32, 3, 11, 1, 4, 18, 21, 49, 1, 3, 8, 1, 2, 1, 3, 4, 4, 8, 3, 2, 65, 1, 86, 24, 11, 1, 4, 77, 24, 6, 1, 34, 1, 4, 1, 1, 2, 30, 1, 19, 57, 82, 2, 1, 12, 7, 6, 11, 2, 6, 28, 27, 18, 7, 65, 1, 12, 7, 1, 5, 4, 1, 2, 4, 4, 3, 1, 1, 4, 16, 3, 2, 67, 4, 1, 31, 1, 1, 3, 25, 4, 1, 4, 10, 2, 1, 2, 1, 10, 2, 59, 2, 36, 1, 96, 43, 3, 43, 8, 23, 2, 16, 13, 21, 1, 25, 1, 22, 2, 39, 22, 2, 9, 1, 1, 2, 3, 1, 2, 8, 79, 1, 1, 4, 97, 31, 8, 39, 213, 8, 18, 2, 2, 1, 1, 23, 9, 2, 4, 62, 17, 33, 6, 60, 17, 4, 83, 1, 49, 80, 4, 44, 16, 54, 5, 1, 76, 3, 10, 15, 4, 17, 3, 12, 6, 9, 24, 1, 1, 38, 37, 32, 51, 1, 4, 35, 9, 1, 6, 17, 57, 1, 1, 112, 1, 2, 54, 2, 3, 2, 1, 2, 3, 1, 1, 4, 2, 8, 38, 34, 66, 26, 17, 1, 3, 1, 35, 1, 6, 3, 3, 41, 17, 57, 12, 5, 5, 23, 5, 3, 1, 1, 1, 17, 41, 7, 3, 19, 98, 5, 59, 9, 14, 1, 1, 2, 70, 1, 5, 14, 6, 7, 17, 10, 1, 2, 5, 29, 119, 1, 1, 4, 20, 1, 14, 1, 1, 1, 3, 5, 6, 1, 30, 3, 1, 1, 43, 176, 5, 7, 43, 29, 2, 1, 2, 10, 56, 1, 2, 8, 1, 1, 2, 59, 2, 32, 1, 1, 2, 106, 16, 66, 6, 6, 1, 1, 1, 6, 1, 4, 28, 19, 2, 8, 10, 3, 2, 1, 29, 1, 48, 1, 15, 1, 3, 2, 20, 1, 39, 2, 13, 4, 13, 5, 37, 5, 68, 5, 14, 21, 7, 1, 52, 2, 2, 279, 1, 17, 1, 5, 29, 5, 5, 2, 10, 36, 17, 38, 4, 4, 1, 22, 5, 15, 55, 134, 22, 2, 14, 7, 2, 2, 97, 131, 21, 13, 1, 3, 3, 100, 6, 18, 30, 62, 19, 23, 83, 6, 1, 112, 1, 11, 1, 10, 1, 14, 5, 1, 9, 1, 45, 23, 3, 1, 22, 39, 56, 7, 17, 108, 79, 1, 1, 1, 11, 39, 1, 44, 14, 27, 4, 1, 2, 1, 1, 59, 1, 4, 17, 95, 1, 1, 12, 1, 14, 4, 38, 14, 2, 1, 42, 21, 71, 16, 9, 2, 6, 1, 9, 9, 32, 15, 42, 10, 11, 3, 2, 64, 3, 50, 3, 2, 1, 1, 3, 49, 11, 56, 7, 5, 11, 5, 3, 1, 2, 1, 2, 2, 1, 6, 68, 10, 13, 1, 12, 66, 7, 56, 152, 29, 1, 1, 52, 14, 6, 14, 19, 29, 12, 1, 10, 49, 1, 14, 2, 13, 3, 1, 24, 1, 2, 20, 30, 1, 4, 17, 1, 22, 6, 3, 4, 6, 84, 50, 9, 1, 3, 3, 12, 6, 25, 39, 53, 29, 36, 8, 2, 16, 1, 1, 1, 31, 3, 29, 21, 1, 1, 1, 18, 11, 1, 3, 6, 1, 63, 1, 13, 2, 19, 21, 53, 41, 5, 1, 11, 1, 1, 1, 1, 1, 1, 1, 4, 2, 57, 13, 42, 4, 113, 30, 9, 6, 38, 2, 26, 2, 3, 10, 5, 1, 1, 16, 38, 9, 1, 1, 1, 7, 20, 66, 5, 7, 4, 19, 1, 4, 6, 40, 1, 10, 3, 4, 38, 70, 4, 1, 8, 19, 83, 15, 4, 2, 1, 139, 24, 52, 56, 1, 3, 12, 1, 15, 10, 14, 6, 15, 10, 1, 1, 8, 16, 14, 7, 1, 14, 2, 4, 1, 6, 1, 27, 32, 6, 6, 6, 15, 1, 1, 87, 15, 16, 6, 3, 32, 29, 12, 28, 27, 155, 26, 1, 41, 26, 2, 3, 1, 1, 1, 29, 1, 10, 1, 41, 6, 17, 1, 22, 2, 7, 7, 1, 2, 2, 9, 2, 90, 219, 1, 15, 9, 1, 57, 10, 7, 1, 7, 35, 1, 15, 4, 45, 1, 16, 93, 40, 3, 5, 14, 21, 2, 17, 2, 14, 5, 9, 30, 4, 8, 4, 2, 15, 7, 1, 10, 4, 42, 1, 3, 62, 31, 1, 1, 1, 1, 8, 13, 1, 5, 1, 23, 3, 3, 1, 9, 9, 1, 1, 2, 4, 25, 35, 1, 17, 1, 43, 1, 6, 3, 81, 1, 1, 13, 1, 69, 1, 3, 13, 10, 1, 1, 1, 4, 20, 68, 9, 33, 91, 3, 6, 6, 12, 14, 2, 5, 8, 10, 2, 16, 6, 49, 24, 93, 42, 5, 1, 1, 1, 2, 23, 6, 4, 2, 8, 6, 20, 6, 1, 10, 1, 13, 2, 5, 2, 1, 45, 12, 1, 28, 3, 4, 2, 34, 48, 8, 37, 15, 1, 7, 68, 14, 18, 8, 10, 44, 9, 12, 5, 1, 6, 8, 1, 11, 13, 57, 6, 17, 4, 10, 49, 1, 11, 66, 1, 19, 3, 1, 19, 13, 47, 25, 1, 62, 228, 15, 17, 123, 5, 14, 3, 3, 5, 77, 2, 1, 9, 1, 28, 33, 27, 2, 1, 103, 1, 8, 3, 86, 2, 4, 25, 45, 4, 2, 3, 7, 2, 6, 1, 1, 22, 29, 1, 47, 7, 23, 2, 1, 8, 5, 1, 21, 10, 9, 27, 5, 12, 20, 28, 49, 9, 2, 2, 23, 41, 31, 5, 40, 6, 3, 4, 1, 2, 10, 4, 2, 3, 19, 27, 2, 17, 1, 1, 22, 42, 1, 1, 11, 11, 18, 10, 1, 1, 2, 1, 43, 84, 24, 36, 1, 18, 1, 9, 38, 2, 21, 3, 1, 12, 1, 4, 15, 28, 2, 109, 12, 4, 7, 11, 3, 9, 21, 1, 5, 9, 1, 1, 2, 4, 45, 1, 8, 6, 2, 15, 13, 13, 83, 1, 1, 30, 1, 1, 4, 5, 1, 1, 1, 13, 1, 23, 6, 2, 33, 10, 6, 1, 70, 4, 1, 6, 6, 54, 2, 2, 77, 89, 13, 7, 10, 14, 1, 63, 1, 7, 1, 2, 28, 12, 6, 29, 1, 1, 9, 3, 30, 11, 71, 12, 78, 17, 3, 12, 8, 5, 2, 7, 10, 7, 8, 65, 56, 1, 1, 8, 4, 8, 11, 4, 8, 4, 11, 1, 3, 2, 18, 2, 7, 20, 26, 4, 4, 17, 9, 44, 1, 2, 6, 2, 24, 12, 3, 1, 4, 12, 4, 2, 12, 3, 8, 11, 14, 5, 11, 27, 13, 17, 1, 5, 1, 41, 1, 5, 30, 3, 39, 50, 2, 3, 15, 73, 85, 1, 2, 1, 118, 1, 1, 1, 38, 17, 6, 11, 2, 13, 2, 35, 3, 36, 41, 1, 9, 1, 18, 4, 2, 1, 28, 2, 12, 9, 1, 9, 15, 1, 12, 32, 11, 6, 44, 1, 9, 20, 31, 60, 4, 13, 8, 32, 5, 61, 7, 4, 1, 2, 3, 17, 1, 2, 1, 2, 67, 10, 1, 36, 14, 14, 13, 11, 21, 9, 1, 8, 3, 8, 55, 14, 1, 4, 35, 7, 11, 18, 7, 1, 2, 2, 1, 1, 2, 4, 5, 9, 4, 14, 7, 22, 5, 2, 3, 22, 3, 10, 3, 3, 1, 27, 5, 1, 24, 2, 8, 55, 2, 7, 16, 23, 12, 2, 4, 9, 14, 1, 4, 3, 4, 25, 1, 1, 36, 17, 5, 1, 23, 4, 44, 6, 15, 2, 45, 10, 40, 3, 2, 20, 23, 1, 10, 3, 86, 17, 77, 1, 8, 40, 1, 25, 6, 1, 14, 27, 12, 15, 8, 11, 33, 27, 5, 1, 6, 15, 4, 1, 1, 3, 11, 40, 37, 5, 1, 10, 26, 38, 1, 13, 1, 14, 2, 1, 4, 9, 1, 1, 2, 60, 50, 10, 27, 1, 1, 9, 1, 1, 61, 20, 2, 5, 1, 429, 17, 2, 39, 133, 3, 7, 1, 1, 20, 1, 37, 10, 1, 13, 3, 10, 2, 1, 64, 6, 3, 1, 19, 1, 15, 3, 4, 8, 3, 2, 1, 18, 1, 1, 2, 1, 23, 1, 2, 1, 2, 9, 16, 2, 3, 3, 11, 3, 4, 3, 2, 2, 33, 4, 100, 12, 38, 17, 34, 1, 142, 32, 6, 21, 36, 46, 1, 1, 1, 4, 12, 14, 1, 1, 1, 8, 34, 33, 3, 8, 2, 3, 10, 23, 26, 25, 1, 18, 12, 22, 1, 1, 1, 5, 17, 14, 1, 8, 13, 4, 21, 16, 1, 39, 5, 31, 6, 55, 1, 7, 1, 2, 180, 1, 16, 1, 2, 85, 2, 2, 26, 2, 2, 9, 3, 15, 197, 19, 22, 1, 1, 1, 1, 29, 21, 12, 4, 14, 113, 21, 23, 8, 7, 2, 27, 2, 2, 9, 1, 8, 12, 72, 21, 7, 2, 14, 14, 5, 22, 48, 1, 1, 9, 1, 5, 1, 17, 12, 7, 24, 29, 1, 1, 1, 73, 41, 1, 1, 3, 6, 5, 3, 6, 4, 18, 61, 47, 31, 31, 1, 2, 2, 1, 8, 1, 4, 4, 2, 1, 24, 54, 7, 15, 1, 28, 35, 2, 10, 4, 355, 21, 38, 3, 11, 8, 21, 14, 45, 38, 56, 94, 80, 9, 70, 30, 8, 87, 4, 25, 2, 61, 26, 126, 243, 1, 3, 31, 4, 1, 11, 6, 2, 9, 3, 8, 1, 3, 1, 1, 73, 23, 1, 4, 1, 1, 1, 1, 38, 1, 5, 1, 5, 19, 1, 5, 1, 2, 6, 2, 9, 33, 10, 1, 8, 1, 5, 2, 1, 2, 1, 1, 1, 1, 7, 93, 1, 21, 15, 35, 57, 38, 4, 40, 22, 19, 6, 1, 24, 11, 2, 4, 7, 33, 1, 19, 21, 26, 1, 1, 1, 21, 56, 23, 2, 17, 7, 11, 2, 6, 6, 1, 6, 58, 1, 1, 2, 1, 1, 1, 40, 15, 2, 65, 1, 1, 9, 46, 26, 4, 1, 2, 1, 5, 13, 3, 25, 18, 8, 3, 12, 2, 48, 1, 8, 3, 1, 66, 20, 5, 31, 1, 14, 1, 1, 2, 1, 9, 13, 4, 10, 12, 15, 14, 2, 1, 71, 42, 11, 11, 6, 3, 3, 17, 1, 14, 1, 5, 15, 8, 2, 17, 11, 3, 38, 21, 1, 1, 5, 4, 7, 4, 56, 1, 53, 1, 7, 4, 53, 1, 10, 6, 6, 1, 2, 3, 19, 43, 3, 1, 2, 93, 1, 1, 10, 1, 35, 1, 6, 2, 1, 49, 8, 1, 6, 2, 2, 1, 29, 1, 5, 22, 87, 6, 7, 77, 15, 7, 6, 1, 1, 18, 1, 1, 5, 1, 2, 6, 3, 2, 6, 4, 3, 21, 4, 73, 1, 1, 1, 5, 1, 9, 83, 21, 10, 1, 1, 3, 7, 1, 12, 4, 3, 18, 15, 1, 14, 4, 1, 9, 8, 3, 5, 16, 17, 21, 4, 5, 1, 2, 2, 3, 38, 6, 1, 1, 1, 1, 1, 19, 7, 5, 15, 4, 1, 6, 31, 6, 13, 5, 35, 7, 2, 2, 3, 23, 1, 2, 22, 3, 17, 16, 1, 2, 11, 4, 1, 1, 7, 5, 2, 63, 1, 12, 2, 3, 8, 60, 1, 16, 5, 9, 5, 14, 1, 5, 5, 22, 19, 8, 16, 1, 2, 31, 19, 19, 4, 10, 4, 4, 6, 8, 40, 1, 2, 5, 37, 37, 8, 20, 9, 6, 29, 18, 1, 1, 1, 1, 1, 1, 1, 1, 9, 4, 13, 13, 12, 30, 2, 7, 4, 7, 15, 3, 1, 27, 2, 6, 2, 5, 10, 9, 10, 2, 6, 14, 1, 12, 4, 1, 1, 44, 12, 8, 30, 59, 3, 19, 32, 34, 49, 15, 1, 53, 31, 68, 47, 27, 38, 2, 15, 27, 1, 15, 9, 15, 10, 1, 1, 1, 31, 3, 5, 2, 1, 2, 2, 1, 12, 1, 1, 1, 5, 5, 1, 5, 11, 4, 11, 5, 2, 18, 12, 11, 1, 56, 42, 1, 49, 2, 1, 4, 34, 5, 1, 1, 56, 19, 3, 23, 2, 33, 5, 1, 1, 5, 22, 4, 38, 7, 24, 1, 3, 1, 16, 18, 1, 6, 1, 8, 26, 2, 24, 31, 99, 3, 3, 5, 25, 8, 27, 70, 15, 5, 1, 4, 33, 38, 19, 17, 14, 17, 1, 16, 10, 3, 1, 1, 23, 25, 28, 5, 6, 1, 1, 16, 1, 1, 28, 13, 4, 55, 13, 2, 1, 772, 43, 1, 2, 10, 11, 1, 5, 6, 10, 42, 8, 12, 53, 1, 1, 13, 1, 2, 2, 67, 1, 34, 119, 1, 24, 1, 2, 26, 1, 27, 27, 32, 3, 14, 9, 12, 3, 1, 25, 1, 20, 41, 1, 37, 33, 6, 4, 1, 1, 10, 5, 19, 3, 8, 17, 13, 3, 37, 30, 4, 11, 10, 7, 97, 1, 18, 23, 3, 4, 3, 2, 15, 15, 21, 1, 1, 7, 16, 24, 1, 8, 9, 4, 14, 22, 6, 10, 25, 16, 17, 1, 1, 4, 1, 31, 13, 2, 2, 2, 61, 41, 24, 5, 20, 3, 1, 9, 3, 1, 1, 4, 1, 6, 1, 1, 3, 4, 2, 30, 6, 34, 1, 7, 4, 60, 3, 2, 7, 4, 5, 24, 5, 11, 1, 17, 1, 1, 5, 1, 41, 7, 19, 1, 8, 3, 49, 5, 1, 1, 5, 3, 51, 1, 1, 1, 1, 6, 35, 1, 4, 48, 1, 13, 1, 4, 1, 1, 1, 18, 6, 8, 2, 4, 5, 10, 1, 10, 1, 12, 7, 10, 23, 1, 1, 1, 32, 19, 1, 1, 7, 10, 3, 1, 1, 4, 13, 3, 13, 60, 2, 8, 26, 37, 30, 6, 35, 6, 16, 9, 8, 41, 53, 5, 1, 20, 1, 10, 10, 2, 21, 3, 5, 52, 1, 2, 2, 2, 3, 2, 2, 10, 8, 31, 2, 5, 21, 5, 3, 1, 4, 1, 20, 1, 1, 1, 1, 12, 15, 8, 1, 1, 13, 34, 7, 4, 7, 48, 113, 4, 54, 80, 14, 1, 2, 13, 1, 4, 6, 1, 1, 14, 75, 23, 4, 75, 12, 3, 8, 31, 1, 15, 32, 4, 1, 4, 1, 9, 44, 44, 73, 2, 1, 44, 14, 17, 1, 2, 2, 26, 55, 5, 7, 19, 49, 9, 5, 8, 20, 39, 1, 4, 2, 18, 2, 22, 27, 5, 1, 27, 5, 1, 20, 1, 6, 1, 92, 7, 1, 7, 2, 17, 1, 4, 1, 1, 4, 6, 1, 1, 1, 1, 3, 3, 48, 5, 8, 2, 156, 16, 122, 1, 88, 7, 1, 1, 12, 27, 16, 21, 18, 1, 1, 2, 19, 2, 8, 12, 1, 1, 5, 23, 8, 2, 3, 4, 18, 1, 5, 2, 37, 19, 14, 19, 8, 24, 21, 13, 22, 42, 12, 33, 3, 43, 7, 26, 25, 122, 10, 10, 2, 1, 49, 2, 20, 10, 50, 65, 3, 51, 8, 7, 11, 58, 25, 2, 8, 6, 28, 14, 10, 1, 1, 6, 1, 17, 11, 3, 47, 31, 41, 37, 30, 1, 18, 16, 43, 3, 6, 3, 1, 11, 24, 33, 3, 4, 3, 4, 35, 7, 17, 9, 7, 1, 27, 6, 1, 1, 15, 18, 62, 18, 4, 1, 1, 9, 13, 14, 15, 1, 1, 4, 46, 47, 4, 1, 2, 12, 2, 37, 23, 1, 6, 1, 1, 3, 1, 1, 2, 46, 2, 6, 3, 24, 1, 6, 14, 1, 46, 23, 13, 18, 3, 9, 1, 5, 70, 20, 1, 2, 1, 1, 2, 33, 3, 1, 4, 6, 1, 7, 2, 20, 2, 4, 21, 3, 1, 3, 1, 10, 1, 1, 2, 4, 4, 12, 2, 34, 14, 1, 6, 9, 1, 19, 37, 33, 7, 21, 14, 1, 3, 74, 53, 98, 6, 6, 2, 7, 1, 46, 2, 2, 1, 5, 4, 3, 2, 2, 3, 20, 2, 1, 3, 22, 1, 3, 35, 36, 1, 23, 1, 18, 23, 2, 1, 4, 20, 2, 7, 2, 4, 6, 2, 6, 4, 5, 1, 12, 1, 2, 1, 5, 5, 4, 1, 15, 5, 46, 1, 3, 1, 30, 2, 13, 2, 108, 1, 13, 1, 1, 37, 1, 3, 82, 1, 1, 12, 11, 13, 17, 18, 2, 12, 3, 52, 79, 17, 20, 2, 6, 1, 8, 2, 2, 18, 317, 7, 2, 3, 22, 1, 1, 28, 1, 45, 52, 25, 60, 3, 1, 1, 4, 31, 9, 5, 11, 6, 2, 20, 45, 1, 9, 9, 1, 2, 12, 7, 1, 1, 1, 4, 31, 2, 1, 71, 5, 2, 1, 1, 5, 12, 6, 28, 92, 5, 2, 1, 16, 10, 9, 16, 2, 2, 2, 81, 11, 6, 19, 8, 3, 1, 1, 6, 1, 51, 1, 1, 1, 1, 17, 1, 27, 42, 7, 63, 2, 44, 9, 9, 1, 7, 30, 1, 2, 1, 1, 1, 1, 6, 13, 1, 1, 1, 8, 1, 1, 11, 11, 3, 2, 47, 14, 3, 1, 1, 32, 1, 3, 2, 33, 3, 3, 2, 30, 1, 1, 1, 1, 3, 2, 13, 8, 28, 2, 1, 14, 1, 19, 14, 1, 1, 1, 9, 12, 21, 7, 8, 5, 2, 2, 4, 54, 1, 1, 31, 9, 1, 2, 15, 27, 6, 23, 7, 6, 13, 14, 1, 5, 1, 3, 9, 33, 1, 10, 1, 4, 85, 28, 68, 1, 11, 1, 10, 1, 21, 1, 1, 4, 1, 21, 34, 3, 10, 1, 11, 7, 4, 1, 1, 1, 7, 1, 2, 1, 1, 8, 18, 13, 6, 4, 15, 6, 3, 42, 1, 8, 15, 1, 1, 2, 1, 40, 2, 39, 38, 102, 38, 2, 2, 59, 7, 1, 16, 1, 2, 47, 41, 25, 16, 24, 16, 30, 1, 1, 1, 1, 4, 4, 1, 1, 251, 33, 7, 16, 35, 8, 11, 11, 1, 10, 3, 13, 9, 8, 16, 1, 1, 10, 1, 3, 1, 1, 8, 9, 6, 1, 56, 5, 1, 3, 14, 10, 13, 17, 7, 1, 30, 1, 1, 7, 13, 2, 2, 2, 28, 4, 1, 1, 1, 99, 2, 2, 7, 5, 38, 27, 1, 1, 6, 40, 17, 14, 28, 5, 1, 4, 2, 4, 39, 1, 1, 24, 83, 1, 18, 1, 2, 14, 17, 42, 1, 16, 3, 44, 1, 8, 1, 3, 15, 1, 36, 41, 9, 1, 7, 13, 14, 5, 1, 40, 1, 1, 35, 2, 1, 1, 1, 1, 2, 1, 1, 1, 1, 8, 15, 2, 5, 15, 3, 4, 1, 10, 26, 8, 6, 20, 13, 4, 1, 14, 35, 10, 13, 2, 26, 1, 1, 18, 1, 1, 8, 3, 1, 3, 14, 1, 1, 2, 9, 4, 9, 64, 14, 1, 1, 1, 9, 15, 1, 23, 3, 6, 1, 2, 12, 4, 1, 1, 38, 9, 4, 37, 1, 5, 29, 2, 1, 1, 1, 1, 1, 1, 1, 17, 3, 8, 1, 49, 8, 23, 11, 3, 19, 2, 36, 2, 12, 15, 1, 2, 32, 3, 10, 7, 2, 4, 1, 1, 1, 4, 29, 1, 77, 10, 2, 15, 6, 5, 2, 39, 15, 2, 95, 4, 9, 12, 6, 20, 16, 2, 12, 1, 6, 12, 3, 23, 1, 1, 23, 2, 4, 16, 1, 11, 15, 7, 2, 1, 2, 1, 5, 1, 4, 1, 66, 7, 16, 4, 1, 2, 1, 21, 27, 66, 3, 1, 8, 27, 1, 1, 9, 20, 2, 3, 1, 1, 6, 1, 28, 23, 1, 1, 26, 1, 1, 2, 2, 6, 23, 1, 4, 2, 148, 15, 1, 1, 1, 62, 2, 1, 3, 1, 8, 1, 2, 15, 1, 7, 1, 1, 1, 18, 2, 16, 12, 17, 46, 1, 1, 4, 54, 25, 17, 1, 3, 1, 15, 2, 12, 6, 3, 2, 2, 6, 1, 7, 45, 17, 11, 5, 1, 27, 18, 1, 10, 20, 2, 14, 27, 1, 2, 25, 18, 23, 2, 1, 47, 2, 8, 30, 11, 1, 17, 95, 5, 5, 5, 2, 2, 1, 1, 1, 6, 4, 8, 3, 33, 6, 6, 18, 5, 35, 26, 1, 30, 17, 3, 16, 10, 1, 18, 2, 29, 19, 2, 12, 22, 3, 47, 11, 20, 6, 6, 29, 2, 1, 10, 11, 1, 34, 12, 2, 1, 1, 1, 1, 2, 1, 7, 2, 8, 12, 1, 12, 7, 5, 9, 6, 1, 12, 4, 21, 1, 15, 4, 13, 1, 33, 2, 7, 1, 9, 26, 10, 1, 1, 51, 18, 5, 2, 6, 2, 2, 40, 3, 110, 19, 5, 1, 1, 1, 14, 3, 6, 1, 7, 10, 77, 6, 53, 1, 4, 11, 9, 6, 7, 13, 23, 40, 1, 4, 1, 1, 1, 40, 169, 2, 1, 227, 45, 11, 34, 1, 13, 25, 12, 1, 1, 1, 15, 25, 5, 1, 62, 7, 1, 2, 1, 13, 1, 1, 2, 37, 12, 2, 3, 4, 4, 14, 9, 44, 16, 9, 8, 2, 1, 31, 4, 22, 1, 23, 13, 28, 30, 4, 1, 5, 1, 40, 3, 31, 1, 13, 18, 1, 1, 9, 8, 3, 6, 5, 10, 15, 29, 1, 1, 23, 1, 1, 1, 51, 5, 10, 4, 1, 17, 9, 73, 2, 3, 3, 14, 1, 1, 1, 22, 9, 9, 4, 43, 16, 3, 13, 28, 17, 1, 30, 1, 1, 3, 9, 1, 2, 1, 8, 2, 38, 2, 4, 5, 1, 2, 1, 1, 1, 15, 6, 9, 1, 7, 20, 2, 9, 1, 2, 1, 6, 1, 22, 2, 6, 5, 4, 2, 59, 6, 3, 34, 1, 2, 8, 1, 3, 24, 47, 2, 7, 34, 7, 21, 26, 56, 8, 1, 1, 1, 1, 25, 1, 40, 1, 1, 15, 6, 4, 4, 1, 16, 1, 18, 3, 3, 40, 2, 5, 2, 36, 11, 1, 2, 3, 10, 7, 31, 2, 5, 4, 7, 29, 1, 4, 2, 10, 8, 6, 1, 110, 6, 3, 9, 15, 1, 2, 1, 14, 1, 5, 4, 18, 2, 1, 20, 16, 3, 7, 4, 17, 5, 9, 21, 11, 15, 22, 2, 1, 6, 78, 6, 80, 8, 1, 3, 1, 7, 1, 24, 49, 30, 4, 20, 1, 1, 3, 6, 21, 2, 2, 1, 6, 1, 8, 1, 3, 3, 1, 1, 14, 41, 2, 1, 14, 14, 3, 2, 17, 8, 1, 1, 31, 3, 1, 3, 6, 40, 1, 14, 2, 2, 1, 3, 36, 1, 11, 10, 1, 16, 9, 10, 1, 11, 2, 1, 16, 1, 9, 19, 1, 2, 1, 21, 54, 2, 6, 24, 2, 1, 9, 9, 6, 34, 24, 10, 65, 5, 17, 4, 3, 11, 61, 17, 5, 3, 15, 3, 5, 29, 8, 2, 10, 14, 1, 1, 16, 50, 39, 19, 1, 11, 39, 9, 11, 4, 32, 19, 15, 3, 1, 20, 6, 7, 2, 47, 1, 1, 2, 3, 1, 7, 1, 2, 1, 1, 12, 10, 35, 19, 44, 5, 142, 3, 1, 28, 2, 43, 31, 1, 1, 11, 1, 2, 2, 1, 1, 4, 1, 17, 1, 4, 3, 7, 1, 3, 4, 5, 2, 8, 17, 1, 4, 2, 2, 1, 1, 17, 2, 2, 4, 1, 24, 8, 2, 4, 1, 13, 28, 1, 1, 1, 27, 41, 17, 1, 68, 20, 25, 4, 3, 4, 5, 20, 10, 27, 33, 45, 11, 6, 17, 4, 24, 85, 40, 22, 1, 1, 1, 59, 13, 39, 1, 5, 7, 11, 2, 1, 1, 6, 7, 15, 1, 1, 1, 2, 1, 27, 1, 1, 16, 12, 15, 33, 13, 45, 2, 10, 1, 3, 50, 23, 18, 1, 5, 6, 16, 1, 8, 2, 33, 3, 6, 27, 22, 9, 15, 9, 8, 3, 3, 1, 1, 60, 1, 2, 19, 4, 1, 5, 1, 1, 2, 10, 12, 50, 50, 1, 7, 38, 3, 54, 1, 33, 1, 37, 39, 2, 65, 17, 5, 2, 47, 1, 8, 3, 16, 2, 14, 2, 1, 1, 1, 13, 41, 41, 8, 6, 21, 4, 66, 3, 21, 5, 7, 4, 67, 1, 8, 8, 5, 1, 1, 21, 25, 2, 9, 1, 4, 1, 4, 6, 1, 3, 3, 7, 1, 1, 41, 7, 16, 1, 5, 21, 16, 116, 3, 25, 5, 27, 19, 56, 19, 36, 1, 1, 1, 9, 6, 4, 4, 4, 22, 7, 3, 48, 1, 35, 1, 4, 27, 1, 23, 1, 3, 11, 5, 1, 1, 2, 2, 1, 1, 1, 2, 2, 1, 8, 24, 1, 1, 34, 29, 2, 4, 5, 12, 3, 1, 2, 2, 2, 1, 11, 18, 6, 14, 1, 1, 12, 34, 1, 1, 81, 1, 18, 13, 2, 1, 7, 3, 29, 1, 1, 23, 43, 56, 94, 49, 1, 1, 18, 1, 32, 2, 1, 57, 5, 1, 13, 1, 2, 2, 10, 18, 5, 7, 1, 2, 1, 4, 2, 4, 8, 17, 6, 13, 2, 39, 1, 3, 25, 4, 6, 2, 7, 21, 1, 28, 7, 2, 5, 10, 13, 53, 21, 36, 1, 1, 2, 12, 40, 1, 2, 15, 6, 13, 2, 1, 2, 1, 28, 3, 45, 2, 1, 5, 1, 46, 5, 1, 1, 1, 3, 44, 1, 9, 4, 5, 1, 1, 1, 13, 1, 1, 1, 1, 11, 1, 1, 7, 19, 3, 4, 4, 1, 11, 67, 5, 3, 14, 1, 1, 1, 2, 12, 7, 2, 16, 10, 1, 2, 4, 1, 1, 1, 15, 2, 1, 1, 13, 6, 2, 2, 2, 3, 10, 1, 10, 65, 18, 1, 14, 1, 5, 9, 2, 1, 9, 1, 1, 13, 1, 1, 4, 75, 2, 2, 11, 1, 3, 1, 17, 20, 1, 24, 1, 9, 1, 43, 13, 3, 4, 7, 1, 1, 6, 1, 2, 1, 23, 1, 2, 1, 2, 1, 6, 2, 1, 1, 1, 14, 4, 102, 6, 16, 23, 188, 58, 3, 3, 1, 10, 2, 1, 1, 9, 1, 1, 21, 1, 9, 6, 35, 1, 40, 6, 1, 50, 32, 10, 1, 2, 11, 2, 9, 8, 82, 56, 1, 3, 11, 6, 1, 9, 2, 12, 1, 2, 1, 2, 1, 5, 1, 15, 60, 1, 28, 5, 6, 133, 1, 3, 1, 1, 4, 3, 12, 58, 62, 2, 1, 3, 36, 46, 25, 1, 23, 13, 35, 1, 7, 6, 1, 3, 5, 4, 2, 44, 7, 8, 11, 14, 25, 3, 2, 2, 5, 2, 2, 3, 8, 9, 39, 33, 51, 52, 8, 82, 10, 1, 1, 5, 5, 3, 1, 6, 6, 1, 1, 1, 41, 15, 11, 5, 1, 1, 3, 6, 2, 1, 1, 21, 1, 5, 11, 1, 25, 2, 39, 15, 4, 5, 51, 1, 1, 1, 1, 6, 7, 3, 1, 21, 36, 1, 7, 12, 2, 4, 24, 13, 1, 2, 60, 1, 1, 1, 1, 7, 1, 1, 18, 7, 10, 1, 1, 15, 38, 1, 1, 1, 10, 6, 17, 10, 104, 12, 2, 51, 5, 1, 33, 26, 4, 21, 56, 12, 1, 1, 33, 22, 34, 35, 1, 7, 1, 12, 6, 6, 19, 5, 2, 3, 1, 1, 16, 19, 9, 1, 4, 1, 4, 2, 20, 5, 20, 1, 1, 1, 1, 25, 1, 1, 1, 1, 1, 1, 1, 7, 22, 1, 9, 1, 10, 5, 1, 15, 27, 1, 18, 5, 5, 6, 1, 26, 13, 3, 1, 10, 2, 9, 7, 7, 2, 12, 18, 14, 19, 3, 1, 130, 16, 1, 1, 15, 63, 5, 3, 1, 11, 1, 5, 21, 1, 22, 1, 2, 11, 3, 22, 15, 16, 1, 4, 1, 1, 3, 3, 19, 2, 2, 20, 2, 37, 1, 16, 8, 1, 7, 1, 1, 1, 20, 2, 9, 55, 13, 2, 6, 2, 11, 7, 2, 1, 7, 11, 8, 58, 20, 1, 1, 3, 4, 6, 7, 6, 1, 52, 10, 1, 1, 15, 1, 6, 7, 3, 29, 12, 1, 32, 1, 2, 11, 2, 1, 119, 16, 14, 10, 1, 14, 4, 15, 1, 1, 1, 2, 2, 28, 1, 6, 4, 13, 2, 9, 1, 1, 3, 1, 2, 1, 3, 17, 16, 1, 8, 7, 3, 35, 1, 2, 10, 1, 5, 11, 18, 5, 1, 53, 1, 5, 1, 1, 1, 22, 6, 3, 1, 1, 2, 2, 4, 7, 8, 14, 24, 178, 8, 1, 1, 1, 13, 1, 1, 22, 28, 40, 30, 2, 1, 1, 1, 3, 1, 9, 10, 60, 11, 16, 1, 1, 2, 5, 2, 18, 1, 2, 1, 8, 17, 2, 19, 1, 1, 18, 7, 36, 1, 10, 2, 1, 1, 4, 2, 24, 1, 1, 1, 14, 10, 33, 7, 2, 24, 48, 38, 47, 39, 14, 10, 1, 102, 7, 1, 1, 1, 7, 14, 1, 1, 30, 1, 7, 2, 14, 15, 5, 1, 1, 1, 1, 1, 5, 2, 1, 41, 24, 1, 1, 2, 159, 4, 4, 2, 2, 12, 18, 5, 1, 1, 15, 70, 31, 19, 23, 8, 11, 4, 1, 3, 17, 2, 1, 1, 6, 1, 28, 1, 4, 2, 28, 28, 29, 2, 4, 2, 6, 21, 1, 2, 9, 2, 1, 14, 9, 1, 10, 54, 38, 1, 14, 24, 59, 23, 19, 1, 1, 22, 2, 7, 7, 1, 11, 1, 37, 2, 4, 21, 1, 15, 14, 1, 2, 12, 3, 44, 55, 19, 1, 9, 2, 27, 2, 1, 3, 6, 1, 13, 1, 2, 11, 20, 1, 3, 31, 3, 7, 36, 24, 6, 13, 2, 7, 16, 13, 22, 18, 2, 16, 40, 1, 10, 10, 22, 2, 1, 7, 1, 19, 26, 2, 2, 1, 35, 31, 3, 5, 1, 1, 1, 1, 29, 1, 8, 16, 1, 1, 1, 1, 1, 5, 1, 5, 1, 2, 4, 2, 27, 10, 1, 6, 1, 2, 1, 2, 6, 2, 1, 5, 1, 1, 2, 1, 4, 8, 12, 20, 15, 21, 1, 3, 12, 2, 17, 1, 3, 11, 5, 1, 10, 8, 85, 1, 1, 1, 1, 4, 39, 1, 134, 25, 10, 7, 3, 4, 12, 9, 2, 3, 6, 10, 1, 11, 2, 1, 6, 3, 24, 6, 8, 15, 9, 1, 3, 9, 1, 41, 5, 1, 2, 1, 5, 2, 4, 4, 6, 8, 1, 1, 11, 15, 23, 5, 4, 1, 26, 1, 1, 6, 59, 8, 4, 2, 3, 4, 1, 2, 1, 8, 20, 3, 27, 1, 7, 1, 1, 1, 1, 16, 16, 1, 3, 2, 1, 1, 6, 6, 9, 33, 2, 1, 49, 8, 1, 64, 8, 33, 74, 2, 2, 1, 1, 2, 1, 4, 71, 2, 1, 4, 12, 14, 1, 1, 44, 6, 10, 18, 3, 12, 3, 8, 2, 15, 1, 4, 8, 3, 38, 3, 7, 11, 1, 14, 2, 1, 6, 9, 1, 30, 6, 30, 20, 2, 13, 4, 2, 57, 3, 5, 2, 14, 10, 7, 1, 4, 1, 6, 1, 17, 1, 2, 1, 1, 5, 3, 4, 2, 3, 21, 2, 5, 1, 76, 2, 1, 5, 32, 4, 11, 4, 1, 17, 1, 2, 2, 53, 1, 34, 2, 4, 1, 1, 7, 12, 1, 2, 7, 147, 1, 2, 14, 1, 4, 4, 11, 12, 2, 3, 4, 11, 55, 1, 3, 6, 1, 22, 1, 23, 12, 3, 8, 2, 15, 1, 9, 6, 1, 3, 1, 3, 3, 11, 1, 32, 7, 1, 5, 4, 5, 15, 8, 6, 1, 1, 6, 9, 1, 2, 4, 1, 1, 4, 1, 2, 24, 1, 4, 2, 3, 2, 1, 4, 1, 9, 1, 9, 1, 2, 1, 9, 11, 3, 18, 1, 26, 3, 12, 57, 2, 5, 6, 5, 11, 10, 3, 1, 5, 1, 5, 18, 16, 4, 2, 8, 1, 10, 1, 17, 8, 13, 41, 1, 2, 9, 8, 1, 13, 1, 1, 4, 2, 3, 1, 3, 3, 1, 1, 30, 1, 6, 13, 9, 1, 4, 5, 1, 7, 1, 1, 2, 7, 3, 6, 13, 1, 21, 7, 7, 4, 32, 4, 12, 12, 45, 7, 1, 1, 1, 2, 3, 1, 1, 5, 4, 13, 6, 1, 3, 28, 9, 1, 9, 2, 5, 5, 2, 68, 5, 48, 5, 32, 3, 4, 4, 2, 10, 1, 1, 12, 35, 4, 1, 1, 4, 22, 15, 10, 1, 2, 2, 10, 3, 12, 1, 3, 3, 2, 1, 3, 3, 12, 22, 1, 1, 4, 9, 1, 1, 1, 19, 2, 1, 2, 1, 1, 1, 9, 15, 4, 1, 1, 1, 11, 1, 4, 3, 1, 20, 1, 1, 3, 3, 2, 1, 11, 1, 1, 1, 1, 22, 40, 1, 30, 10, 7, 4, 3, 55, 8, 3, 22, 1, 2, 1, 37, 6, 1, 13, 1, 6, 1, 17, 19, 24, 5, 19, 1, 1, 5, 89, 2, 7, 1, 13, 2, 50, 3, 1, 4, 12, 3, 5, 20, 1, 3, 1, 30, 1, 3, 4, 7, 1, 4, 27, 14, 5, 2, 1, 12, 10, 3, 3, 59, 3, 2, 12, 4, 1, 5, 1, 2, 32, 1, 1, 1, 3, 6, 1, 6, 3, 1, 1, 5, 9, 12, 4, 12, 12, 2, 1, 1, 1, 10, 4, 4, 19, 18, 13, 21, 16, 11, 13, 2, 1, 3, 1, 10, 6, 8, 4, 12, 9, 6, 3, 28, 16, 2, 1, 16, 47, 18, 1, 4, 2, 1, 1, 3, 1, 39, 3, 1, 1, 1, 48, 9, 1, 6, 30, 1, 1, 31, 24, 4, 11, 11, 1, 21, 3, 17, 40, 1, 3, 4, 2, 8, 15, 28, 24, 5, 5, 1, 36, 16, 2, 8, 1, 2, 27, 3, 8, 90, 32, 9, 1, 9, 5, 1, 9, 2, 29, 4, 1, 63, 1, 35, 10, 3, 1, 3, 1, 2, 2, 5, 1, 3, 4, 10, 1, 1, 28, 1, 2, 1, 2, 6, 53, 4, 5, 10, 21, 5, 4, 6, 34, 10, 15, 19, 1, 1, 4, 1, 25, 3, 6, 7, 1, 6, 9, 6, 25, 1, 3, 10, 1, 7, 1, 17, 17, 11, 1, 1, 39, 4, 1, 47, 1, 1, 1, 5, 1, 16, 23, 4, 14, 33, 1, 3, 3, 6, 1, 1, 11, 16, 4, 1, 5, 1, 16, 1, 133, 32, 21, 21, 1, 11, 19, 3, 9, 10, 91, 5, 6, 8, 7, 1, 7, 37, 4, 12, 6, 1, 13, 1, 22, 3, 12, 16, 12, 1, 24, 18, 2, 1, 1, 3, 11, 8, 2, 7, 1, 1, 7, 33, 5, 4, 8, 23, 1, 1, 55, 3, 13, 8, 63, 1, 8, 11, 5, 43, 7, 10, 3, 1, 4, 2, 3, 5, 27, 12, 51, 3, 79, 10, 38, 1, 9, 9, 5, 4, 1, 15, 47, 5, 9, 32, 1, 2, 1, 1, 3, 13, 1, 1, 3, 15, 3, 2, 6, 16, 1, 19, 13, 15, 27, 1, 1, 1, 3, 1, 3, 2, 1, 1, 3, 1, 25, 1, 1, 8, 12, 61, 4, 6, 10, 8, 12, 35, 2, 6, 13, 5, 1, 69, 63, 1, 10, 18, 2, 4, 1, 5, 7, 6, 6, 6, 48, 2, 4, 13, 1, 11, 6, 6, 3, 2, 1, 14, 1, 9, 7, 10, 2, 29, 2, 7, 11, 5, 18, 12, 40, 14, 1, 4, 1, 1, 65, 13, 1, 39, 4, 1, 1, 13, 4, 1, 1, 5, 8, 2, 5, 1, 22, 10, 1, 155, 2, 3, 1, 34, 5, 1, 9, 3, 9, 8, 1, 1, 174, 31, 2, 7, 18, 24, 49, 9, 78, 78, 44, 4, 23, 9, 1, 2, 19, 3, 1, 1, 3, 2, 178, 2, 17, 1, 5, 3, 32, 1, 15, 18, 13, 10, 1, 2, 11, 4, 9, 1, 1, 3, 5, 8, 9, 5, 4, 1, 1, 6, 13, 1, 81, 1, 1, 63, 1, 1, 9, 43, 1, 3, 1, 10, 4, 1, 19, 1, 2, 1, 2, 5, 11, 30, 5, 2, 1, 3, 4, 4, 1, 1, 2, 2, 1, 3, 1, 1, 17, 4, 14, 5, 19, 1, 15, 31, 7, 17, 3, 73, 95, 4, 1, 21, 10, 1, 17, 1, 1, 51, 3, 8, 1, 5, 1, 5, 24, 44, 19, 6, 5, 1, 11, 1, 5, 1, 1, 8, 1, 26, 15, 2, 4, 6, 1, 1, 1, 1, 1, 2, 1, 5, 1, 5, 5, 1, 5, 1, 3, 18, 29, 1, 28, 2, 44, 7, 40, 12, 3, 2, 5, 9, 6, 2, 4, 1, 3, 4, 1, 17, 11, 1, 21, 5, 9, 1, 9, 10, 35, 1, 10, 5, 3, 1, 3, 2, 8, 3, 105, 12, 10, 6, 1, 29, 7, 1, 2, 14, 25, 1, 1, 5, 2, 1, 6, 3, 12, 4, 8, 3, 1, 16, 12, 3, 1, 3, 12, 10, 25, 3, 7, 2, 1, 13, 2, 1, 7, 31, 2, 3, 1, 42, 1, 1, 1, 26, 13, 7, 1, 18, 1, 1, 1, 1, 1, 48, 49, 6, 1, 7, 27, 1, 12, 38, 1, 4, 29, 1, 3, 1, 12, 6, 38, 9, 2, 1, 53, 9, 50, 12, 3, 3, 3, 1, 11, 12, 1, 10, 6, 6, 1, 1, 20, 1, 2, 1, 3, 1, 2, 7, 1, 1, 2, 42, 6, 3, 1, 1, 2, 3, 16, 25, 9, 9, 56, 9, 18, 10, 2, 4, 4, 6, 16, 1, 20, 1, 27, 44, 10, 57, 34, 2, 14, 1, 1, 39, 14, 21, 13, 5, 4, 4, 1, 1, 33, 1, 1, 20, 2, 1, 1, 3, 14, 1, 5, 1, 10, 2, 6, 9, 3, 2, 5, 2, 1, 1, 18, 9, 1, 1, 1, 1, 7, 6, 8, 1, 3, 1, 1, 2, 5, 45, 1, 1, 67, 2, 1, 1, 19, 7, 7, 1, 1, 80, 19, 3, 5, 6, 5, 12, 39, 11, 1, 8, 8, 4, 4, 4, 4, 1, 10, 27, 2, 26, 5, 6, 11, 2, 5, 18, 1, 1, 2, 3, 8, 8, 9, 36, 2, 23, 28, 1, 1, 5, 3, 5, 19, 26, 1, 1, 21, 13, 69, 29, 1, 11, 3, 7, 6, 8, 1, 3, 1, 8, 11, 8, 1, 1, 1, 7, 1, 9, 1, 10, 1, 6, 5, 22, 10, 14, 1, 17, 11, 1, 1, 1, 6, 6, 6, 8, 1, 1, 52, 6, 3, 1, 4, 233, 21, 12, 81, 1, 2, 27, 8, 2, 11, 1, 7, 1, 2, 1, 4, 1, 14, 1, 4, 1, 2, 1, 4, 34, 4, 1, 1, 2, 3, 2, 1, 10, 2, 5, 1, 10, 5, 1, 15, 5, 1, 1, 90, 15, 11, 21, 1, 6, 9, 1, 12, 10, 35, 4, 1, 4, 50, 17, 1, 8, 5, 1, 1, 1, 1, 5, 1, 20, 54, 18, 10, 6, 4, 1, 37, 2, 3, 1, 6, 1, 5, 5, 9, 6, 16, 7, 23, 20, 3, 1, 2, 6, 17, 4, 2, 6, 11, 9, 26, 1, 12, 7, 7, 67, 15, 2, 1, 5, 47, 2, 2, 5, 6, 1, 2, 11, 7, 1, 1, 1, 3, 13, 2, 1, 2, 6, 6, 1, 2, 2, 1, 1, 1, 5, 3, 1, 49, 22, 7, 1, 2, 1, 13, 1, 3, 9, 4, 1, 3, 12, 17, 1, 16, 11, 1, 9, 14, 19, 5, 27, 1, 3, 7, 4, 11, 2, 1, 3, 1, 3, 6, 1, 1, 5, 1, 11, 2, 1, 5, 12, 2, 3, 3, 7, 12, 1, 2, 1, 3, 2, 1, 22, 17, 4, 19, 18, 6, 2, 6, 41, 8, 3, 3, 1, 7, 5, 9, 1, 3, 8, 4, 1, 5, 2, 3, 4, 1, 1, 27, 1, 6, 17, 11, 39, 36, 1, 7, 15, 22, 73, 9, 19, 1, 2, 5, 4, 1, 2, 1, 3, 16, 9, 52, 9, 9, 4, 3, 13, 1, 9, 7, 1, 4, 17, 1, 18, 3, 1, 5, 1, 1, 16, 14, 1, 1, 3, 5, 12, 1, 14, 1, 5, 4, 4, 1, 11, 10, 26, 7, 28, 2, 15, 1, 1, 1, 16, 3, 6, 9, 21, 5, 2, 13, 2, 27, 1, 42, 19, 19, 1, 5, 1, 35, 14, 8, 1, 2, 4, 1, 1, 3, 1, 7, 1, 1, 11, 3, 1, 1, 22, 2, 5, 26, 2, 1, 1, 2, 9, 29, 2, 2, 1, 2, 4, 1, 1, 1, 1, 8, 113, 10, 15, 21, 28, 7, 1, 7, 13, 13, 1, 19, 4, 44, 1, 3, 1, 1, 3, 1, 1, 10, 37, 1, 3, 44, 32, 1, 5, 3, 1, 3, 2, 7, 6, 6, 79, 2, 1, 1, 6, 32, 4, 20, 2, 1, 7, 31, 21, 1, 103, 3, 3, 20, 5, 24, 36, 4, 6, 1, 3, 31, 5, 2, 1, 19, 2, 1, 3, 7, 1, 1, 1, 45, 6, 1, 5, 11, 7, 4, 5, 1, 20, 5, 1, 1, 2, 4, 2, 5, 33, 1, 8, 24, 1, 1, 6, 2, 1, 10, 6, 1, 5, 7, 12, 4, 2, 3, 9, 4, 3, 5, 1, 4, 8, 1, 6, 78, 9, 55, 1, 6, 1, 3, 2, 5, 3, 1, 50, 1, 11, 1, 1, 9, 36, 1, 1, 1, 1, 1, 10, 15, 4, 10, 3, 7, 2, 1, 1, 15, 4, 7, 4, 3, 1, 1, 29, 8, 4, 16, 18, 9, 3, 11, 1, 9, 32, 4, 2, 1, 1, 2, 1, 1, 1, 1, 30, 27, 2, 32, 8, 26, 10, 17, 21, 21, 3, 4, 4, 3, 5, 32, 1, 2, 3, 14, 1, 2, 25, 1, 1, 1, 7, 26, 27, 1, 11, 11, 2, 15, 15, 1, 1, 3, 1, 9, 22, 13, 18, 3, 2, 1, 18, 1, 4, 1, 12, 6, 1, 1, 1, 4, 1, 2, 12, 1, 1, 31, 2, 1, 4, 14, 1, 14, 7, 19, 26, 6, 1, 2, 1, 17, 16, 14, 13, 1, 1, 10, 17, 11, 1, 5, 2, 2, 9, 5, 3, 56, 1, 5, 23, 30, 2, 22, 25, 21, 12, 1, 2, 10, 1, 7, 1, 2, 15, 6, 8, 7, 1, 4, 1, 59, 23, 4, 63, 9, 4, 3, 1, 6, 1, 1, 1, 2, 7, 4, 1, 2, 29, 62, 1, 1, 8, 7, 1, 14, 1, 1, 1, 20, 24, 2, 1, 3, 2, 1, 1, 4, 3, 2, 4, 1, 18, 1, 1, 1, 21, 20, 5, 10, 1, 7, 14, 10, 27, 1, 3, 47, 8, 1, 1, 3, 7, 1, 3, 1, 1, 2, 4, 3, 1, 1, 2, 9, 1, 1, 1, 13, 1, 7, 1, 35, 2, 1, 1, 5, 2, 2, 1, 20, 65, 3, 3, 3, 7, 4, 29, 3, 12, 1, 34, 7, 5, 5, 9, 1, 10, 6, 6, 2, 3, 1, 5, 3, 1, 37, 5, 142, 61, 3, 3, 2, 20, 18, 43, 4, 7, 4, 27, 10, 2, 4, 3, 16, 3, 2, 3, 4, 1, 7, 2, 27, 1, 20, 23, 8, 4, 19, 14, 8, 1, 1, 68, 2, 1, 1, 1, 3, 4, 7, 2, 1, 19, 180, 44, 1, 1, 34, 7, 8, 67, 10, 5, 2, 14, 7, 31, 1, 5, 2, 2, 1, 35, 25, 11, 2, 1, 5, 22, 36, 7, 1, 1, 13, 25, 1, 2, 10, 4, 4, 6, 1, 1, 8, 11, 54, 1, 2, 18, 5, 6, 11, 1, 10, 6, 1, 2, 1, 2, 1, 3, 1, 1, 1, 1, 1, 1, 15, 1, 8, 49, 1, 15, 20, 1, 7, 2, 5, 66, 37, 2, 4, 7, 2, 24, 7, 5, 2, 14, 2, 13, 6, 25, 1, 2, 6, 1, 12, 1, 5, 2, 12, 1, 9, 1, 8, 1, 1, 3, 34, 1, 5, 1, 4, 37, 1, 11, 1, 1, 4, 2, 5, 6, 4, 1, 1, 5, 1, 1, 3, 1, 3, 3, 1, 1, 4, 4, 2, 8, 5, 1, 7, 6, 19, 7, 1, 15, 25, 1, 6, 4, 22, 1, 5, 1, 1, 1, 1, 3, 24, 1, 4, 11, 2, 7, 22, 1, 1, 26, 1, 4, 5, 6, 23, 8, 1, 2, 9, 1, 4, 3, 1, 1, 6, 2, 29, 4, 2, 1, 8, 1, 4, 1, 20, 10, 1, 1, 1, 2, 1, 1, 1, 4, 6, 16, 59, 9, 1, 1, 2, 4, 7, 6, 1, 4, 1, 35, 13, 7, 3, 1, 1, 6, 5, 1, 1, 8, 1, 1, 1, 4, 17, 2, 1, 6, 42, 4, 4, 1, 3, 1, 1, 6, 19, 17, 4, 28, 1, 1, 1, 1, 4, 3, 1, 1, 15, 2, 5, 3, 1, 2, 6, 5, 1, 8, 3, 4, 12, 32, 2, 7, 16, 11, 4, 50, 3, 18, 2, 1, 3, 1, 4, 1, 1, 17, 1, 1, 12, 1, 1, 53, 5, 1, 3, 1, 62, 7, 1, 6, 1, 55, 17, 2, 108, 6, 1, 7, 8, 1, 4, 3, 2, 10, 1, 1, 13, 20, 1, 1, 3, 2, 2, 13, 44, 6, 1, 5, 28, 2, 1, 36, 3, 1, 7, 11, 1, 11, 1, 12, 1, 15, 5, 14, 3, 2, 23, 25, 2, 2, 2, 3, 9, 6, 1, 1, 3, 1, 3, 1, 11, 4, 8, 4, 15, 2, 17, 1, 21, 12, 2, 10, 4, 55, 14, 2, 1, 6, 3, 3, 2, 20, 1, 6, 5, 13, 6, 80, 8, 3, 1, 1, 1, 1, 1, 2, 1, 28, 16, 5, 1, 1, 9, 1, 1, 26, 4, 11, 6, 18, 2, 35, 36, 36, 1, 6, 19, 1, 38, 49, 5, 57, 85, 2, 3, 8, 5, 6, 1, 12, 9, 1, 8, 2, 17, 1, 2, 33, 3, 1, 5, 3, 1, 20, 2, 1, 4, 1, 2, 2, 2, 23, 9, 33, 4, 45, 6, 1, 19, 1, 3, 1, 1, 10, 1, 1, 1, 1, 16, 3, 13, 6, 12, 1, 3, 1, 6, 1, 15, 4, 2, 7, 17, 12, 3, 18, 1, 4, 1, 1, 20, 5, 1, 7, 1, 7, 7, 1, 9, 23, 10, 1, 1, 3, 1, 6, 3, 1, 21, 17, 1, 2, 2, 1, 1, 64, 27, 3, 1, 7, 4, 10, 7, 2, 4, 1, 7, 45, 1, 47, 16, 1, 1, 3, 1, 1, 1, 23, 1, 6, 11, 2, 6, 3, 2, 2, 1, 1, 2, 3, 2, 20, 1, 25, 3, 62, 1, 2, 10, 4, 2, 1, 1, 1, 1, 2, 6, 1, 1, 4, 17, 3, 1, 19, 27, 1, 1, 1, 5, 1, 19, 8, 24, 36, 20, 29, 16, 5, 2, 8, 8, 1, 1, 1, 5, 6, 1, 1, 1, 30, 3, 2, 2, 27, 1, 2, 1, 13, 16, 5, 3, 8, 1, 2, 5, 7, 2, 1, 4, 1, 27, 18, 7, 9, 6, 2, 15, 4, 3, 4, 21, 5, 1, 17, 16, 2, 1, 6, 1, 1, 2, 11, 37, 1, 1, 3, 1, 1, 4, 1, 3, 6, 2, 6, 3, 1, 7, 32, 3, 4, 1, 4, 24, 3, 1, 15, 1, 1, 16, 9, 81, 3, 1, 1, 2, 3, 5, 2, 49, 1, 2, 23, 1, 1, 1, 2, 3, 26, 13, 1, 9, 3, 16, 23, 3, 4, 4, 4, 1, 5, 1, 6, 1, 1, 1, 18, 1, 1, 2, 1, 8, 6, 1, 31, 5, 1, 10, 8, 6, 1, 5, 1, 12, 4, 2, 3, 1, 1, 5, 2, 13, 12, 2, 9, 3, 1, 25, 1, 2, 1, 1, 1, 1, 1, 1, 1, 48, 1, 1, 4, 3, 1, 1, 2, 7, 3, 1, 1, 1, 6, 9, 1, 20, 5, 2, 1, 2, 2, 3, 1, 1, 2, 1, 3, 2, 15, 2, 1, 1, 2, 1, 4, 1, 2, 13, 1, 10, 1, 3, 22, 2, 1, 24, 6, 7, 21, 1, 1, 22, 1, 13, 19, 38, 9, 1, 4, 1, 1, 18, 21, 19, 1, 1, 1, 1, 1, 1, 1, 1, 1, 1, 1, 7, 1, 15, 1, 2, 37, 1, 28, 4, 1, 1, 1, 10, 1, 25, 4, 1, 7, 12, 25, 5, 13, 6, 1, 24, 1, 15, 1, 2, 6, 13, 28, 3, 2, 18, 1, 1, 5, 1, 8, 12, 22, 6, 26, 1, 1, 27, 12, 2, 7, 11, 4, 4, 1, 14, 19, 3, 5, 1, 43, 1, 9, 11, 1, 19, 1, 1, 1, 7, 3, 1, 1, 35, 14, 3, 1, 1, 1, 102, 11, 3, 2, 7, 1, 7, 5, 1, 5, 8, 13, 2, 3, 5, 1, 2, 1, 2, 2, 5, 1, 2, 1, 2, 11, 11, 3, 4, 1, 19, 2, 1, 17, 3, 1, 1, 3, 5, 3, 2, 1, 8, 8, 21, 2, 1, 53, 1, 2, 1, 2, 5, 16, 2, 16, 2, 14, 5, 1, 2, 4, 4, 1, 31, 2, 8, 13, 1, 29, 15, 7, 4, 3, 6, 4, 58, 1, 1, 2, 1, 1, 1, 3, 2, 1, 4, 1, 3, 6, 1, 3, 2, 5, 25, 2, 4, 1, 1, 22, 12, 17, 17, 1, 7, 1, 1, 1, 1, 8, 1, 12, 37, 2, 1, 1, 1, 27, 1, 35, 1, 1, 2, 5, 3, 9, 4, 4, 6, 11, 2, 6, 4, 40, 1, 2, 7, 1, 1, 9, 30, 35, 10, 5, 1, 11, 1, 128, 1, 11, 1, 1, 2, 1, 4, 4, 7, 1, 25, 10, 1, 3, 1, 1, 1, 16, 7, 5, 1, 1, 3, 5, 22, 11, 8, 1, 2, 9, 8, 6, 6, 2, 1, 2, 3, 1, 2, 57, 5, 15, 6, 1, 3, 4, 30, 1, 14, 2, 5, 1, 11, 11, 1, 7, 13, 2, 1, 1, 26, 10, 6, 28, 2, 2, 1, 2, 10, 3, 3, 2, 2, 2, 4, 8, 5, 1, 8, 2, 2, 6, 1, 8, 3, 1, 10, 2, 1, 1, 8, 1, 2, 1, 3, 27, 1, 12, 1, 5, 7, 2, 29, 1, 1, 1, 9, 8, 3, 4, 8, 2, 5, 1, 3, 7, 4, 4, 1, 13, 29, 5, 1, 12, 1, 4, 9, 1, 1, 1, 11, 1, 9, 2, 2, 1, 1, 6, 1, 1, 2, 2, 1, 2, 5, 5, 8, 7, 47, 1, 13, 8, 1, 8, 1, 31, 1, 2, 3, 2, 8, 15, 13, 50, 5, 1, 1, 1, 1, 2, 6, 1, 1, 1, 1, 1, 4, 42, 1, 18, 1, 31, 7, 6, 5, 4, 12, 1, 2, 1, 1, 3, 3, 24, 13, 4, 13, 1, 10, 3, 5, 3, 1, 16, 1, 1, 1, 1, 6, 2, 2, 1, 2, 2, 1, 13, 5, 1, 5, 1, 21, 36, 2, 10, 29, 7, 7, 13, 1, 1, 7, 5, 18, 3, 4, 2, 12, 3, 9, 34, 3, 11, 15, 1, 18, 3, 25, 1, 20, 4, 2, 17, 2, 2, 2, 2, 4, 64, 1, 3, 4, 32, 33, 1, 1, 1, 2, 1, 11, 16, 9, 2, 7, 2, 1, 4, 3, 10, 5, 5, 5, 5, 2, 8, 7, 25, 1, 2, 6, 13, 9, 3, 5, 1, 1, 19, 1, 2, 5, 18, 1, 6, 1, 3, 16, 1, 1, 8, 1, 1, 1, 20, 19, 2, 7, 8, 3, 19, 1, 9, 1, 2, 10, 1, 1, 6, 12, 1, 3, 10, 2, 12, 1, 1, 1, 1, 1, 12, 1, 2, 1, 7, 2, 37, 1, 1, 1, 1, 2, 3, 2, 6, 13, 6, 9, 1, 1, 4, 1, 1, 2, 35, 1, 1, 3, 1, 3, 34, 1, 12, 5, 23, 1, 1, 1, 8, 2, 8, 1, 1, 2, 1, 5, 15, 1, 1, 1, 1, 2, 4, 5, 1, 2, 5, 5, 12, 3, 24, 12, 1, 1, 46, 1, 33, 2, 1, 2, 1, 16, 1, 1, 3, 8, 2, 3, 4, 4, 3, 2, 6, 18, 10, 2, 1, 1, 10, 1, 13, 3, 6, 19, 1, 1, 1, 5, 1, 1, 1, 10, 1, 1, 1, 1, 1, 2, 4, 1, 12, 1, 1, 1, 2, 5, 19, 6, 1, 2, 10, 5, 2, 3, 47, 1, 17, 6, 1, 8, 1, 18, 1, 1, 1, 9, 11, 11, 2, 38, 31, 8, 1, 1, 21, 19, 1, 10, 1, 1, 3, 46, 2, 1, 1, 1, 1, 2, 1, 1, 3, 1, 1, 1, 2, 1, 9, 1, 2, 2, 1, 32, 13, 13, 1, 18, 21, 3, 1, 1, 45, 1, 1, 10, 4, 41, 1, 11, 4, 1, 1, 5, 14, 4, 3, 17, 2, 2, 16, 5, 1, 8, 3, 15, 9, 31, 1, 1, 3, 14, 7, 2, 5, 28, 1, 1, 24, 1, 4, 18, 2, 2, 6, 19, 1, 45, 17, 1, 9, 4, 14, 11, 5, 9, 1, 4, 1, 2, 10, 8, 1, 1, 1, 5, 2, 7, 5, 11, 12, 4, 2, 1, 7, 1, 1, 6, 9, 1, 14, 6, 6, 7, 29, 4, 1, 7, 2, 1, 1, 3, 4, 2, 6, 5, 1, 8, 1, 3, 1, 15, 3, 16, 1, 1, 1, 9, 16, 22, 4, 1, 1, 6, 4, 2, 1, 7, 1, 1, 3, 6, 2, 2, 7, 3, 14, 9, 6, 1, 1, 2, 1, 6, 4, 5, 1, 4, 1, 4, 8, 1, 1, 27, 11, 53, 1, 1, 43, 3, 3, 1, 8, 1, 10, 11, 3, 1, 2, 22, 1, 1, 1, 37, 1, 3, 1, 1, 7, 2, 1, 18, 11, 11, 1, 1, 1, 6, 32, 10, 3, 59, 16, 4, 9, 5, 2, 1, 20, 1, 27, 1, 2, 1, 5, 11, 6, 20, 18, 4, 1, 1, 7, 9, 1, 1, 6, 54, 36, 20, 1, 1, 6, 1, 1, 9, 20, 22, 1, 22, 8, 3, 3, 23, 10, 1, 1, 3, 11, 47, 3, 1, 1, 3, 5, 1, 1, 10, 15, 3, 1, 1, 36, 19, 2, 3, 8, 2, 4, 16, 6, 3, 1, 52, 7, 5, 4, 2, 44, 1, 1, 1, 3, 5, 1, 15, 3, 9, 1, 4, 7, 7, 7, 1, 1, 1, 3, 13, 5, 14, 1, 12, 4, 2, 12, 17, 1, 8, 1, 12, 1, 2, 1, 1, 12, 3, 12, 1, 1, 1, 10, 1, 23, 26, 73, 9, 15, 1, 1, 5, 3, 20, 2, 1, 2, 1, 11, 11, 3, 14, 12, 10, 1, 1, 12, 3, 1, 1, 1, 1, 1, 16, 4, 2, 1, 1, 1, 1, 18, 4, 2, 21, 2, 34, 1, 5, 3, 1, 7, 2, 4, 9, 181, 1, 1, 1, 14, 6, 5, 7, 1, 31, 1, 1, 40, 1, 5, 40, 15, 9, 18, 19, 2, 4, 2, 2, 12, 26, 19, 1, 11, 4, 1, 23, 64, 1, 1, 1, 1, 1, 10, 14, 1, 13, 3, 5, 9, 3, 1, 3, 5, 1, 1, 2, 6, 44, 1, 7, 2, 2, 13, 1, 1, 1, 31, 3, 1, 16, 3, 1, 5, 4, 1, 16, 11, 4, 7, 1, 5, 3, 2, 3, 2, 2, 2, 1, 3, 4, 11, 7, 1, 1, 1, 1, 8, 1, 9, 11, 55, 1, 3, 6, 1, 2, 1, 14, 1, 3, 9, 1, 6, 8, 24, 6, 1, 5, 4, 1, 1, 1, 2, 5, 5, 25, 2, 12, 1, 2, 4, 1, 6, 11, 1, 26, 6, 3, 2, 2, 1, 18, 1, 1, 3, 2, 1, 1, 12, 2, 1, 2, 4, 1, 1, 1, 1, 9, 2, 3, 1, 1, 2, 11, 2, 15, 1, 1, 1, 4, 1, 10, 1, 4, 6, 2, 1, 3, 3, 1, 13, 15, 19, 9, 1, 40, 2, 1, 3, 30, 20, 5, 4, 8, 8, 3, 2, 5, 2, 1, 1, 1, 9, 1, 2, 1, 3, 16, 2, 1, 3, 24, 3, 3, 10, 1, 10, 5, 3, 1, 1, 1, 1, 24, 1, 1, 8, 4, 2, 7, 1, 2, 2, 1, 4, 6, 2, 13, 1, 10, 2, 1, 1, 8, 1, 1, 1, 3, 1, 1, 1, 2, 1, 27, 3, 1, 8, 1, 2, 2, 1, 19, 4, 30, 5, 15, 4, 3, 9, 6, 2, 1, 2, 3, 9, 4, 6, 2, 1, 3, 1, 9, 9, 4, 1, 6, 1, 2, 12, 12, 1, 4, 4, 4, 1, 7, 7, 17, 7, 1, 6, 4, 12, 21, 8, 1, 3, 4, 5, 16, 1, 8, 3, 1, 1, 10, 5, 6, 1, 13, 43, 1, 1, 15, 2, 17, 14, 11, 8, 5, 29, 2, 12, 4, 1, 1, 2, 1, 5, 5, 1, 11, 1, 15, 36, 1, 8, 10, 2, 21, 9, 9, 2, 8, 9, 4, 19, 3, 9, 7, 5, 26, 1, 3, 30, 3, 8, 4, 1, 3, 1, 18, 5, 1, 4, 1, 7, 12, 1, 26, 27, 36, 22, 1, 2, 1, 1, 44, 13, 1, 18, 10, 2, 1, 1, 1, 5, 1, 27, 15, 1, 19, 2, 1, 4, 22, 7, 2, 16, 1, 4, 1, 17, 14, 5, 2, 21, 9, 1, 1, 8, 1, 1, 1, 25, 17, 4, 6, 14, 15, 9, 1, 2, 2, 2, 1, 1, 4, 131, 2, 1, 19, 29, 30, 2, 9, 3, 4, 12, 5, 7, 1, 2, 1, 2, 1, 8, 10, 1, 1, 3, 18, 1, 12, 2, 24, 18, 1, 2, 1, 4, 1, 1, 1, 3, 5, 1, 8, 1, 4, 13, 5, 8, 1, 22, 11, 1, 29, 6, 2, 7, 1, 1, 1, 4, 2, 1, 1, 2, 2, 3, 2, 2, 1, 1, 1, 6, 2, 2, 1, 2, 23, 1, 2, 22, 12, 1, 1, 5, 1, 11, 1, 1, 1, 3, 1, 50, 1, 6, 24, 1, 1, 1, 1, 4, 3, 1, 36, 6, 1, 3, 1, 1, 1, 5, 12, 3, 1, 6, 11, 2, 5, 13, 4, 61, 58, 4, 3, 88, 1, 31, 6, 1, 29, 1, 1, 3, 13, 3, 6, 11, 116, 1, 1, 7, 3, 1, 1, 4, 5, 24, 14, 13, 4, 1, 2, 7, 54, 24, 1, 2, 4, 3, 33, 3, 1, 1, 19, 2, 6, 17, 1, 1, 1, 1, 54, 4, 6, 24, 3, 3, 1, 1, 10, 6, 1, 1, 3, 2, 2, 13, 8, 5, 1, 1, 1, 2, 26, 3, 33, 4, 5, 1, 1, 1, 20, 1, 1, 4, 4, 1, 3, 3, 4, 29, 11, 21, 18, 3, 15, 4, 6, 9, 24, 7, 5, 5, 1, 1, 2, 1, 2, 5, 5, 69, 3, 20, 26, 11, 16, 1, 13, 1, 5, 1, 4, 1, 2, 7, 6, 3, 10, 1, 18, 4, 2, 1, 1, 1, 11, 1, 3, 13, 8, 2, 8, 1, 1, 2, 2, 2, 2, 17, 20, 5, 2, 1, 1, 1, 1, 3, 1, 7, 3, 1, 1, 5, 4, 1, 1, 2, 1, 1, 1, 10, 2, 2, 1, 1, 1, 1, 3, 67, 1, 1, 2, 1, 2, 1, 28, 14, 5, 6, 9, 1, 35, 1, 1, 3, 6, 1, 1, 18, 63, 3, 1, 6, 1, 2, 1, 1, 1, 1, 3, 1, 1, 19, 3, 3, 9, 2, 6, 1, 1, 9, 21, 2, 2, 1, 12, 1, 5, 5, 9, 19, 1, 1, 2, 1, 1, 12, 13, 4, 1, 42, 1, 11, 3, 1, 10, 8, 5, 4, 35, 1, 1, 5, 6, 42, 1, 1, 1, 5, 6, 1, 12, 1, 1, 1, 9, 10, 6, 1, 2, 5, 59, 1, 6, 3, 31, 1, 1, 2, 5, 19, 1, 2, 1, 2, 7, 1, 1, 1, 1, 6, 1, 3, 16, 7, 2, 36, 1, 1, 11, 2, 1, 4, 16, 45, 1, 1, 1, 2, 3, 1, 3, 9, 1, 15, 8, 1, 13, 4, 12, 3, 12, 9, 1, 21, 4, 16, 5, 1, 13, 1, 1, 2, 1, 14, 37, 2, 1, 10, 7, 1, 5, 8, 2, 11, 7, 1, 2, 5, 9, 6, 33, 1, 1, 1, 5, 32, 3, 1, 1, 6, 2, 59, 1, 28, 19, 6, 6, 1, 1, 1, 22, 1, 48, 2, 1, 1, 13, 1, 1, 1, 11, 2, 14, 5, 1, 6, 18, 2, 1, 4, 2, 1, 4, 1, 1, 6, 6, 2, 79, 2, 4, 7, 64, 1, 46, 1, 4, 3, 1, 1, 1, 1, 10, 1, 2, 2, 26, 1, 1, 3, 1, 1, 89, 1, 1, 3, 6, 4, 2, 2, 1, 1, 1, 12, 10, 4, 14, 11, 1, 32, 1, 5, 4, 6, 32, 9, 6, 3, 4, 4, 11, 2, 6, 23, 5, 4, 8, 1, 11, 1, 1, 6, 15, 1, 1, 2, 1, 4, 3, 5, 1, 4, 11, 33, 2, 2, 8, 4, 4, 9, 1, 3, 1, 1, 1, 12, 6, 2, 5, 1, 3, 50, 1, 4, 24, 2, 36, 33, 17, 2, 2, 13, 1, 21, 2, 22, 3, 2, 2, 3, 1, 4, 16, 19, 1, 1, 3, 4, 6, 38, 1, 11, 1, 13, 1, 42, 13, 2, 2, 1, 2, 1, 37, 1, 4, 1, 1, 12, 1, 1, 3, 1, 6, 1, 1, 2, 1, 2, 3, 7, 11, 1, 24, 6, 1, 1, 1, 10, 1, 1, 2, 11, 1, 38, 1, 1, 1, 3, 1, 1, 1, 1, 1, 1, 11, 17, 7, 3, 43, 7, 1, 4, 3, 6, 1, 10, 8, 13, 5, 9, 1, 42, 12, 1, 2, 2, 1, 1, 1, 18, 9, 6, 2, 1, 2, 7, 1, 14, 2, 1, 1, 1, 8, 1, 39, 3, 7, 1, 1, 5, 2, 1, 4, 1, 1, 41, 1, 3, 3, 2, 6, 26, 9, 4, 16, 3, 1, 1, 31, 1, 1, 1, 17, 1, 1, 1, 3, 1, 1, 1, 13, 37, 1, 4, 7, 2, 2, 3, 23, 1, 2, 10, 2, 3, 3, 2, 10, 2, 15, 1, 1, 1, 2, 3, 1, 1, 24, 1, 1, 1, 3, 1, 6, 1, 10, 7, 1, 1, 7, 3, 2, 5, 3, 1, 1, 1, 1, 1, 5, 1, 1, 4, 10, 6, 2, 9, 1, 1, 1, 5, 1, 1, 1, 26, 1, 8, 2, 1, 1, 1, 2, 8, 1, 1, 1, 2, 1, 1, 7, 1, 3, 12, 23, 1, 2, 18, 22, 1, 1, 1, 1, 1, 10, 3, 1, 1, 1, 1, 1, 2, 1, 1, 4, 14, 1, 48, 1, 1, 4, 1, 3, 1, 6, 1, 7, 46, 11, 16, 4, 1, 1, 4, 5, 11, 2, 26, 14, 1, 1, 3, 3, 1, 4, 4, 1, 1, 1, 1, 1, 29, 2, 1, 7, 1, 22, 3, 55, 1, 3, 1, 6, 1, 12, 5, 16, 3, 4, 6, 1, 1, 41, 11, 6, 1, 1, 1, 1, 1, 1, 13, 1, 1, 3, 2, 2, 1, 21, 1, 1, 28, 3, 1, 1, 8, 2, 1, 2, 2, 7, 3, 3, 4, 5, 12, 2, 3, 2, 1, 1, 15, 1, 7, 1, 13, 32, 1, 1, 1, 8, 2, 2, 1, 2, 14, 1, 1, 1, 1, 3, 3, 1, 4, 1, 16, 9, 1, 41, 1, 1, 2, 7, 1, 1, 13, 5, 1, 2, 9, 10, 1, 3, 1, 1, 23, 3, 1, 1, 5, 15, 3, 1, 9, 1, 25, 1, 1, 3, 3, 1, 1, 3, 35, 31, 4, 1, 1, 6, 1, 13, 2, 67, 5, 6, 2, 10, 2, 11, 1, 1, 1, 13, 2, 11, 1, 1, 1, 3, 38, 3, 9, 2, 7, 1, 3, 4, 1, 1, 1, 11, 4, 5, 1, 8, 14, 5, 1, 1, 3, 4, 2, 6, 1, 1, 4, 1, 1, 19, 6, 1, 1, 1, 1, 1, 2, 7, 2, 19, 26, 5, 1, 1, 8, 6, 3, 3, 2, 4, 2, 37, 1, 2, 5, 4, 1, 3, 2, 27, 5, 1, 1, 21, 1, 1, 1, 12, 1, 19, 1, 1, 21, 9, 14, 1, 1, 1, 4, 1, 4, 2, 8, 9, 18, 1, 3, 2, 3, 1, 12, 2, 4, 4, 5, 2, 20, 1, 2, 2, 6, 2, 4, 3, 3, 1, 1, 4, 13, 54, 1, 3, 1, 1, 2, 1, 1, 1, 4, 1, 11, 1, 1, 3, 1, 7, 7, 8, 1, 1, 2, 37, 2, 13, 15, 1, 9, 1, 2, 1, 1, 1, 2, 1, 1, 25, 1, 4, 8, 12, 7, 1, 7, 2, 1, 1, 12, 1, 2, 7, 10, 5, 7, 1, 1, 1, 5, 1, 10, 1, 1, 16, 1, 1, 5, 16, 3, 1, 8, 13, 24, 4, 1, 8, 11, 6, 6, 4, 2, 1, 8, 2, 1, 1, 2, 2, 56, 5, 3, 3, 1, 2, 1, 1, 1, 23, 3, 14, 12, 2, 5, 1, 1, 14, 9, 5, 6, 4, 21, 1, 3, 34, 5, 37, 1, 1, 1, 7, 1, 4, 18, 1, 7, 1, 1, 7, 2, 1, 3, 7, 1, 1, 3, 12, 20, 1, 11, 1, 1, 1, 1, 68, 4, 4, 1, 1, 9, 2, 17, 19, 4, 6, 1, 1, 9, 9, 2, 1, 1, 6, 7, 5, 3, 25, 10, 12, 2, 4, 2, 4, 1, 2, 1, 24, 6, 17, 2, 1, 1, 2, 6, 6, 1, 1, 11, 21, 4, 6, 4, 2, 27, 2, 1, 4, 1, 42, 5, 1, 49, 1, 1, 5, 1, 10, 5, 2, 1, 3, 2, 2, 61, 6, 18, 1, 1, 1, 28, 5, 16, 1, 1, 1, 3, 2, 5, 1, 1, 2, 2, 1, 2, 1, 2, 11, 3, 16, 3, 2, 6, 1, 9, 2, 4, 3, 1, 11, 10, 1, 1, 4, 1, 1, 1, 1, 9, 7, 4, 1, 1, 1, 1, 15, 9, 9, 2, 14, 4, 1, 9, 2, 1, 1, 4, 3, 1, 1, 11, 1, 4, 2, 13, 25, 1, 1, 10, 3, 14, 1, 1, 14, 6, 2, 9, 2, 1, 1, 1, 1, 1, 2, 61, 2, 57, 32, 1, 1, 1, 5, 4, 2, 1, 20, 4, 1, 2, 1, 1, 1, 27, 1, 2, 29, 4, 2, 5, 3, 4, 1, 6, 8, 1, 1, 2, 4, 1, 3, 3, 1, 7, 1, 8, 11, 2, 24, 9, 1, 16, 10, 1, 1, 4, 2, 1, 3, 4, 2, 15, 2, 1, 9, 1, 1, 1, 1, 1, 1, 2, 1, 1, 1, 1, 4, 1, 2, 2, 1, 1, 5, 1, 2, 12, 30, 12, 1, 2, 1, 4, 11, 2, 2, 1, 18, 3, 2, 1, 1, 13, 2, 14, 1, 4, 2, 6, 9, 12, 1, 1, 44, 5, 5, 1, 9, 2, 16, 1, 1, 2, 1, 1, 3, 15, 6, 1, 3, 2, 5, 4, 3, 1, 21, 2, 7, 1, 28, 36, 1, 1, 3, 7, 1, 2, 13, 2, 1, 6, 1, 1, 1, 13, 1, 5, 1, 7, 5, 1, 10, 1, 10, 18, 3, 30, 1, 1, 1, 2, 3, 6, 4, 11, 5, 1, 7, 1, 10, 2, 1, 1, 4, 3, 1, 11, 2, 22, 3, 2, 1, 1, 8, 49, 16, 36, 2, 3, 1, 9, 2, 2, 2, 1, 1, 3, 22, 1, 2, 1, 10, 1, 6, 1, 24, 8, 11, 2, 2, 5, 1, 5, 9, 58, 4, 3, 1, 1, 1, 1, 9, 3, 1, 1, 6, 2, 1, 5, 28, 10, 13, 2, 1, 31, 2, 1, 1, 3, 35, 16, 1, 12, 2, 2, 8, 3, 4, 7, 1, 8, 1, 4, 1, 5, 2, 1, 2, 1, 3, 1, 1, 2, 2, 1, 3, 2, 8, 21, 3, 1, 3, 1, 18, 5, 25, 3, 1, 2, 26, 1, 1, 4, 1, 2, 46, 1, 13, 1, 1, 1, 5, 5, 3, 1, 23, 15, 6, 1, 3, 5, 2, 2, 7, 4, 1, 8, 3, 16, 2, 1, 3, 4, 12, 1, 7, 1, 21, 4, 8, 1, 4, 8, 3, 1, 1, 2, 2, 1, 1, 5, 5, 4, 7, 16, 5, 7, 4, 2, 1, 6, 3, 1, 2, 9, 2, 1, 9, 15, 1, 20, 1, 2, 18, 5, 1, 2, 2, 3, 1, 1, 2, 3, 1, 5, 4, 1, 5, 23, 7, 1, 1, 2, 29, 2, 1, 11, 2, 5, 1, 2, 6, 1, 5, 3, 13, 63, 2, 4, 10, 1, 10, 5, 1, 4, 1, 5, 1, 1, 11, 7, 1, 1, 2, 1, 1, 1, 8, 3, 2, 18, 10, 2, 4, 1, 1, 1, 1, 3, 1, 1, 1, 1, 1, 1, 6, 12, 1, 2, 1, 21, 1, 2, 1, 2, 5, 1, 2, 1, 1, 27, 11, 4, 12, 1, 3, 1, 2, 2, 1, 1, 13, 6, 10, 1, 3, 3, 1, 12, 1, 1, 12, 13, 1, 1, 10, 1, 1, 7, 1, 36, 1, 72, 2, 11, 14, 5, 5, 1, 1, 1, 2, 5, 17, 2, 2, 9, 4, 1, 1, 19, 3, 50, 1, 1, 1, 3, 39, 2, 2, 9, 1, 2, 4, 1, 2, 23, 1, 25, 1, 8, 3, 2, 1, 1, 46, 1, 1, 20, 5, 2, 4, 7, 16, 3, 1, 5, 24, 11, 3, 1, 2, 3, 1, 4, 11, 1, 1, 1, 2, 1, 4, 10, 35, 2, 1, 2, 5, 10, 1, 7, 6, 2, 1, 40, 1, 1, 1, 89, 5, 1, 14, 1, 1, 3, 5, 14, 23, 3, 1, 2, 1, 3, 1, 22, 17, 1, 1, 1, 1, 1, 1, 2, 5, 1, 17, 11, 1, 2, 5, 13, 1, 1, 1, 2, 1, 1, 2, 18, 2, 1, 2, 2, 1, 21, 1, 6, 2, 6, 1, 7, 6, 1, 6, 2, 3, 2, 12, 1, 1, 3, 4, 1, 1, 6, 1, 3, 1, 10, 32, 21, 1, 1, 1, 1, 1, 18, 3, 1, 11, 1, 2, 4, 1, 1, 2, 21, 4, 2, 2, 14, 1, 12, 1, 3, 2, 1, 16, 6, 1, 7, 8, 1, 2, 12, 6, 5, 1, 10, 3, 3, 2, 1, 2, 17, 1, 2, 15, 29, 1, 9, 21, 8, 5, 2, 1, 14, 6, 3, 3, 1, 1, 1, 49, 61, 21, 11, 10, 20, 4, 1, 1, 16, 7, 1, 5, 2, 1, 1, 3, 5, 1, 6, 3, 8, 1, 8, 1, 2, 13, 6, 5, 9, 4, 30, 1, 3, 18, 1, 1, 1, 5, 1, 2, 1, 5, 1, 5, 2, 14, 1, 1, 2, 2, 4, 12, 17, 2, 1, 1, 2, 1, 1, 1, 12, 3, 13, 2, 17, 1, 1, 21, 1, 11, 3, 2, 8, 1, 1, 3, 13, 1, 1, 10, 1, 9, 1, 2, 1, 1, 2, 4, 1, 13, 2, 2, 1, 18, 1, 4, 1, 4, 6, 5, 4, 1, 1, 8, 1, 2, 18, 9, 4, 1, 23, 11, 4, 1, 2, 1, 1, 1, 7, 1, 1, 1, 1, 12, 1, 1, 1, 30, 1, 17, 2, 1, 2, 1, 3, 4, 1, 2, 2, 4, 2, 1, 1, 1, 1, 1, 1, 3, 2, 3, 1, 3, 1, 1, 12, 1, 7, 1, 3, 1, 7, 2, 1, 39, 1, 4, 10, 1, 29, 1, 1, 1, 6, 1, 1, 2, 10, 10, 18, 1, 3, 67, 1, 1, 1, 2, 4, 2, 8, 2, 2, 1, 9, 1, 2, 8, 15, 1, 1, 1, 1, 2, 6, 1, 4, 1, 1, 1, 22, 1, 4, 1, 8, 3, 5, 7, 1, 1, 1, 1, 1, 43, 1, 1, 4, 1, 4, 1, 2, 4, 28, 1, 13, 2, 1, 19, 1, 4, 1, 9, 1, 1, 7, 3, 2, 28, 33, 2, 1, 1, 5, 1, 64, 2, 8, 1, 3, 36, 18, 2, 1, 1, 18, 1, 2, 1, 1, 14, 1, 7, 12, 6, 1, 32, 13, 35, 1, 1, 1, 21, 1, 1, 2, 1, 22, 4, 9, 1, 7, 16, 11, 1, 3, 1, 14, 2, 1, 52, 19, 77, 2, 31, 7, 1, 1, 9, 9, 2, 4, 12, 2, 5, 2, 20, 17, 2, 1, 2, 1, 1, 14, 2, 7, 18, 8, 1, 3, 7, 6, 1, 2, 6, 25, 2, 3, 31, 12, 10, 1, 3, 11, 17, 6, 2, 1, 9, 18, 24, 1, 1, 1, 3, 2, 1, 8, 1, 1, 9, 12, 1, 1, 5, 1, 2, 4, 1, 1, 3, 3, 11, 3, 1, 1, 1, 3, 9, 1, 1, 2, 2, 5, 8, 5, 11, 23, 3, 1, 6, 1, 1, 1, 3, 3, 1, 3, 1, 1, 2, 6, 1, 2, 1, 4, 1, 9, 2, 46, 9, 2, 9, 7, 15, 1, 2, 1, 4, 6, 10, 2, 4, 3, 2, 1, 5, 1, 7, 1, 1, 1, 1, 1, 1, 32, 13, 1, 1, 1, 1, 8, 10, 1, 10, 13, 1, 12, 3, 9, 9, 1, 1, 2, 1, 10, 1, 11, 1, 13, 8, 1, 24, 2, 13, 4, 2, 1, 1, 4, 2, 6, 1, 5, 29, 8, 4, 3, 1, 4, 3, 2, 1, 1, 1, 22, 1, 1, 6, 2, 2, 5, 6, 3, 1, 13, 1, 5, 1, 22, 1, 18, 31, 1, 14, 6, 1, 49, 3, 15, 6, 14, 14, 1, 1, 3, 2, 1, 3, 1, 1, 1, 19, 3, 1, 6, 2, 1, 1, 2, 1, 2, 10, 12, 8, 6, 3, 3, 2, 1, 21, 8, 1, 14, 7, 402, 16, 7, 1, 1, 8, 27, 4, 1, 5, 12, 1, 5, 12, 2, 3, 1, 2, 2, 10, 45, 2, 8, 17, 9, 7, 2, 29, 9, 2, 5, 14, 1, 1, 2, 1, 3, 4, 13, 1, 10, 1, 6, 1, 2, 1, 6, 11, 10, 6, 8, 3, 3, 1, 4, 2, 23, 1, 2, 6, 2, 6, 6, 8, 1, 7, 8, 18, 14, 1, 3, 52, 1, 10, 1, 1, 1, 4, 1, 5, 1, 21, 3, 1, 5, 1, 10, 1, 21, 12, 1, 11, 4, 1, 1, 15, 1, 3, 3, 3, 6, 1, 5, 3, 1, 2, 6, 1, 1, 1, 4, 1, 12, 6, 2, 4, 11, 5, 1, 1, 58, 4, 30, 2, 2, 2, 4, 15, 2, 2, 2, 2, 1, 4, 1, 4, 6, 1, 6, 1, 1, 5, 18, 2, 1, 4, 1, 2, 1, 6, 5, 1, 1, 1, 16, 3, 13, 2, 3, 1, 1, 2, 9, 1, 3, 1, 2, 8, 2, 22, 10, 1, 2, 1, 1, 5, 11, 14, 1, 9, 3, 2, 1, 9, 1, 3, 2, 3, 1, 12, 9, 2, 1, 1, 1, 8, 1, 23, 1, 8, 2, 6, 1, 1, 1, 4, 1, 4, 13, 4, 5, 1, 1, 8, 17, 2, 1, 1, 3, 1, 4, 6, 3, 11, 10, 3, 9, 1, 6, 15, 1, 4, 20, 2, 4, 1, 1, 37, 1, 4, 4, 3, 12, 9, 1, 1, 4, 3, 3, 2, 4, 1, 4, 3, 44, 1, 19, 2, 1, 1, 1, 1, 1, 2, 1, 49, 1, 1, 1, 1, 3, 12, 24, 1, 1, 5, 1, 7, 1, 2, 4, 22, 3, 4, 1, 2, 5, 4, 2, 2, 2, 2, 12, 1, 1, 2, 4, 1, 1, 3, 1, 1, 1, 3, 1, 1, 3, 1, 1, 8, 7, 1, 1, 4, 7, 15, 14, 8, 2, 1, 6, 1, 3, 1, 1, 1, 1, 1, 3, 1, 3, 1, 1, 1, 1, 4, 6, 7, 1, 1, 21, 69, 1, 1, 34, 16, 2, 4, 17, 1, 2, 1, 6, 2, 14, 3, 1, 4, 4, 1, 1, 2, 6, 2, 7, 5, 19, 5, 1, 1, 12, 1, 1, 3, 1, 1, 1, 1, 31, 6, 1, 1, 4, 7, 16, 3, 8, 2, 2, 4, 2, 1, 1, 4, 11, 6, 3, 3, 12, 13, 7, 1, 1, 14, 52, 5, 1, 1, 26, 2, 2, 1, 1, 4, 1, 19, 4, 1, 23, 1, 11, 3, 1, 3, 1, 1, 20, 2, 9, 1, 3, 3, 1, 1, 3, 9, 1, 15, 1, 2, 1, 1, 2, 16, 1, 2, 5, 7, 1, 2, 1, 1, 1, 1, 4, 2, 3, 8, 1, 1, 1, 1, 1, 8, 1, 3, 7, 6, 1, 1, 1, 2, 3, 1, 1, 1, 2, 41, 12, 49, 7, 1, 5, 10, 26, 2, 3, 4, 1, 7, 1, 2, 1, 1, 9, 1, 1, 2, 1, 1, 1, 4, 1, 2, 1, 1, 11, 5, 1, 1, 1, 11, 8, 1, 1, 1, 6, 2, 10, 2, 3, 1, 3, 1, 2, 1, 2, 4, 2, 4, 2, 1, 1, 14, 8, 4, 1, 6, 9, 1, 4, 1, 1, 1, 3, 2, 1, 4, 16, 1, 1, 9, 2, 30, 4, 1, 33, 8, 9, 1, 2, 2, 1, 22, 1, 2, 13, 8, 9, 7, 16, 13, 1, 1, 6, 4, 25, 2, 5, 22, 1, 8, 8, 21, 9, 2, 1, 1, 77, 2, 2, 10, 2, 8, 2, 5, 2, 4, 5, 1, 11, 19, 3, 1, 1, 3, 1, 3, 22, 4, 3, 12, 8, 6, 1, 1, 5, 10, 2, 4, 1, 1, 14, 3, 3, 22, 3, 8, 2, 1, 1, 6, 22, 1, 1, 3, 1, 2, 1, 1, 1, 1, 1, 1, 1, 1, 17, 7, 8, 1, 2, 3, 2, 1, 1, 20, 4, 6, 1, 12, 2, 1, 1, 1, 3, 5, 1, 7, 1, 1, 1, 12, 1, 1, 1, 1, 9, 2, 1, 5, 5, 3, 3, 1, 7, 4, 10, 3, 1, 1, 1, 1, 1, 5, 2, 13, 39, 18, 4, 4, 1, 3, 1, 1, 1, 8, 13, 5, 1, 3, 9, 1, 1, 7, 1, 9, 4, 1, 1, 9, 15, 3, 2, 1, 2, 1, 17, 1, 14, 16, 1, 2, 1, 1, 1, 4, 2, 8, 1, 1, 1, 1, 3, 9, 13, 3, 2, 1, 2, 14, 4, 3, 4, 16, 1, 27, 12, 3, 6, 1, 2, 1, 5, 6, 4, 1, 1, 5, 1, 1, 2, 2, 1, 2, 1, 4, 5, 1, 1, 67, 10, 4, 1, 1, 1, 3, 1, 1, 17, 1, 2, 2, 3, 4, 2, 1, 3, 1, 2, 5, 1, 2, 3, 1, 10, 1, 1, 1, 6, 2, 1, 1, 3, 3, 6, 1, 2, 10, 2, 10, 5, 1, 20, 11, 1, 3, 1, 11, 2, 6, 10, 2, 2, 8, 1, 7, 4, 8, 4, 3, 1, 1, 9, 10, 1, 2, 19, 2, 2, 2, 1, 16, 6, 10, 1, 4, 1, 1, 3, 15, 3, 1, 1, 10, 1, 1, 6, 9, 1, 1, 2, 7, 1, 10, 1, 2, 16, 1, 6, 3, 14, 6, 7, 1, 15, 4, 2, 1, 1, 3, 1, 7, 5, 1, 31, 1, 34, 1, 1, 20, 39, 28, 5, 8, 1, 2, 4, 1, 3, 1, 1, 23, 1, 1, 1, 5, 37, 2, 3779, 1, 5, 2, 3, 4, 1, 6, 2, 4, 2, 1, 12, 6, 7, 9, 8, 2, 1, 3, 1, 10, 1, 20, 9, 4, 1, 3, 25, 11, 11, 1, 1, 1, 2, 1, 1, 1, 1, 2, 1, 1, 24, 1, 1, 1, 16, 1, 1, 1, 1, 14, 1, 9, 3, 20, 1, 1, 1, 3, 3, 5, 1, 1, 6, 5, 4, 1, 3, 8, 1, 1, 1, 1, 1, 2, 2, 2, 17, 1, 1, 1, 1, 2, 2, 3, 1, 1, 1, 1, 1, 3, 1, 4, 4, 8, 1, 3, 1, 4, 1, 1, 21, 27, 8, 1, 3, 20, 10, 1, 3, 2, 16, 4, 18, 1, 1, 1, 1, 28, 6, 24, 11, 2, 2, 1, 1, 1, 37, 3, 2, 26, 3, 1, 1, 4, 4, 1, 2, 1, 1, 1, 1, 39, 5, 1, 1, 2, 1, 6, 1, 8, 3, 8, 1, 4, 1, 2, 4, 1, 9, 2, 3, 2, 1, 43, 1, 1, 7, 4, 1, 2, 2, 6, 23, 21, 2, 1, 1, 7, 1, 4, 2, 2, 1, 2, 4, 3, 6, 21, 1, 3, 2, 4, 9, 10, 1, 3, 1, 4, 23, 15, 8, 2, 13, 12, 2, 18, 1, 4, 8, 9, 1, 4, 1, 1, 14, 1, 6, 25, 2, 1, 2, 3, 20, 2, 1, 20, 5, 1, 1, 1, 2, 5, 1, 12, 1, 7, 1, 3, 1, 1, 1, 5, 1, 1, 1, 3, 2, 1, 1, 1, 5, 9, 6, 1, 1, 1, 7, 1, 12, 4, 1, 3, 5, 1, 2, 2, 2, 18, 6, 2, 1, 1, 8, 15, 16, 21, 8, 6, 16, 1, 1, 18, 1, 10, 15, 6, 4, 5, 1, 3, 1, 3, 23, 1, 1, 1, 9, 1, 1, 4, 1, 4, 6, 5, 1, 9, 11, 1, 13, 1, 2, 1, 1, 2, 11, 17, 13, 1, 4, 1, 1, 10, 1, 6, 4, 1, 8, 2, 1, 7, 9, 1, 7, 27, 1, 4, 15, 5, 2, 4, 21, 1, 1, 2, 4, 3, 1, 1, 23, 2, 3, 1, 1, 1, 3, 1, 1, 1, 6, 10, 5, 4, 3, 22, 2, 1, 1, 4, 13, 5, 1, 3, 8, 1, 3, 11, 2, 3, 22, 1, 1, 12, 1, 3, 1, 6, 2, 1, 1, 26, 2, 1, 1, 49, 3, 30, 2, 1, 1, 10, 8, 4, 1, 5, 1, 2, 1, 1, 22, 7, 24, 15, 1, 1, 4, 8, 1, 1, 1, 1, 34, 1, 4, 5, 4, 3, 11, 2, 2, 3, 8, 4, 5, 24, 1, 1, 2, 8, 1, 1, 1, 1, 3, 6, 5, 7, 4, 33, 11, 2, 1, 2, 8, 1, 1, 16, 1, 1, 7, 4, 1, 1, 3, 1, 1, 1, 2, 6, 1, 1, 1, 5, 10, 11, 3, 37, 1, 4, 23, 1, 1, 4, 1, 2, 3, 1, 6, 22, 5, 2, 1, 1, 4, 4, 6, 22, 33, 1, 41, 1, 2, 1, 57, 5, 4, 2, 1, 1, 1, 1, 4, 1, 1, 5, 2, 2, 3, 4, 7, 10, 3, 1, 32, 27, 1, 26, 1, 1, 1, 2, 4, 1, 3, 18, 2, 2, 1, 2, 1, 3, 50, 5, 12, 3, 1, 4, 9, 2, 9, 1, 1, 10, 8, 2, 46, 7, 1, 9, 1, 1, 1, 1, 8, 2, 12, 1, 1, 7, 3, 1, 3, 2, 3, 1, 6, 1, 1, 10, 4, 1, 33, 3, 1, 5, 3, 1, 2, 1, 4, 1, 4, 1, 5, 2, 3, 2, 17, 1, 3, 2, 1, 1, 3, 2, 3, 1, 1, 3, 1, 2, 7, 2, 7, 16, 1, 9, 1, 6, 3, 2, 2, 1, 1, 2, 3, 2, 9, 2, 1, 2, 1, 1, 1, 1, 1, 1, 3, 1, 2, 1, 1, 1, 2, 2, 1, 30, 5, 3, 15, 3, 1, 1, 6, 1, 2, 2, 11, 1, 1, 14, 5, 6, 5, 1, 29, 1, 5, 2, 11, 1, 1, 2, 8, 4, 55, 1, 1, 2, 4, 1, 1, 4, 1, 1, 1, 1, 1, 12, 8, 3, 1, 1, 7, 5, 9, 18, 8, 1, 14, 11, 4, 4, 1, 12, 1, 11, 1, 2, 21, 3, 1, 1, 12, 2, 8, 1, 11, 1, 1, 20, 4, 1, 2, 1, 1, 2, 2, 5, 2, 3, 11, 13, 1, 2, 5, 1, 1, 1, 2, 1, 1, 1, 3, 1, 17, 3, 11, 8, 3, 5, 1, 12, 2, 16, 7, 3, 3, 4, 1, 8, 1, 12, 2, 3, 2, 1, 11, 1, 1, 3, 2, 1, 1, 1, 1, 28, 5, 6, 1, 2, 1, 1, 1, 4, 11, 7, 1, 1, 1, 2, 39, 7, 2, 3, 1, 1, 1, 24, 1, 2, 3, 28, 7, 1, 1, 1, 1, 13, 28, 1, 31, 14, 5, 4, 1, 2, 1, 4, 1, 2, 1, 1, 2, 6, 7, 1, 1, 6, 2, 4, 1, 11, 4, 2, 1, 12, 1, 2, 3, 23, 6, 1, 1, 1, 1, 2, 2, 1, 5, 5, 2, 1, 1, 3, 1, 1, 1, 96, 25, 8, 3, 37, 1, 1, 16, 1, 1, 1, 1, 7, 2, 6, 1, 1, 1, 1, 16, 17, 2, 12, 9, 1, 9, 12, 11, 1, 5, 3, 2, 8, 1, 5, 3, 1, 5, 9, 2, 1, 2, 1, 1, 1, 2, 3, 3, 2, 5, 3, 1, 1, 1, 1, 12, 7, 2, 1, 1, 2, 1, 2, 4, 4, 1, 40, 2, 3, 21, 7, 1, 1, 15, 1, 1, 2, 1, 5, 2, 1, 1, 5, 15, 17, 1, 3, 1, 7, 1, 29, 9, 17, 2, 1, 2, 13, 2, 2, 1, 3, 5, 2, 1, 6, 3, 2, 5, 5, 2, 1, 5, 35, 10, 17, 9, 6, 15, 1, 1, 1, 1, 6, 2, 2, 1, 4, 1, 2, 1, 1, 1, 8, 7, 23, 1, 2, 5, 1, 1, 2, 326, 2, 8, 1, 1, 3, 10, 1, 2, 2, 2, 1, 1, 5, 1, 1, 9, 17, 1, 1, 12, 6, 1, 1, 5, 1, 1, 1, 5, 3, 6, 9, 4, 2, 1, 2, 1, 1, 3, 1, 4, 5, 2, 2, 1, 2, 4, 1, 5, 1, 3, 2, 1, 5, 1, 1, 27, 1, 1, 3, 1, 1, 7, 4, 1, 1, 4, 1, 1, 1, 2, 5, 1, 1, 16, 2, 1, 1, 23, 7, 1, 11, 6, 1, 7, 2, 1, 1, 1, 1, 3, 1, 1, 4, 1, 1, 12, 4, 1, 7, 11, 1, 1, 1, 1, 1, 23, 2, 7, 3, 3, 1, 3, 1, 6, 1, 2, 13, 1, 2, 1, 7, 1, 1, 17, 1, 1, 22, 2, 1, 1, 6, 3, 2, 1, 6, 1, 1, 8, 1, 4, 1, 2, 1, 1, 1, 28, 3, 1, 2, 1, 31, 1, 1, 12, 11, 1, 1, 1, 1, 19, 10, 2, 13, 3, 1, 11, 1, 1, 3, 2, 1, 2, 3, 16, 2, 1, 9, 1, 12, 2, 1, 3, 10, 1, 1, 24, 2, 5, 6, 1, 2, 6, 1, 1, 1, 1, 6, 4, 2, 4, 3, 3, 1, 1, 6, 2, 3, 1, 1, 1, 1, 4, 8, 2, 3, 4, 11, 4, 9, 1, 1, 3, 6, 4, 10, 6, 1, 3, 11, 3, 1, 3, 1, 2, 27, 4, 1, 1, 3, 3, 1, 3, 3, 1, 5, 1, 4, 3, 11, 1, 3, 1, 1, 4, 4, 7, 7, 2, 9, 3, 6, 6, 5, 1, 10, 5, 1, 6, 2, 13, 4, 16, 5, 6, 1, 4, 10, 2, 4, 1, 1, 6, 2, 12, 27, 29, 1, 8, 3, 2, 3, 262, 24, 1, 12, 1, 1, 1, 32, 16, 2, 1, 1, 1, 2, 1, 31, 13, 7, 1, 16, 2, 1, 1, 11, 5, 1, 1, 16, 13, 1, 24, 2, 4, 9, 4, 3, 9, 2, 11, 1, 2, 2, 1, 1, 1, 2, 1, 1, 44, 1, 7, 3, 4, 13, 3, 1, 1, 1, 9, 2, 3, 1, 11, 6, 2, 1, 3, 1, 10, 1, 8, 6, 1, 10, 17, 6, 1, 2, 1, 5, 14, 3, 1, 1, 2, 13, 7, 1, 1, 1, 10, 14, 1, 12, 88, 8, 1, 1, 1, 1, 1, 5, 1, 1, 1, 5, 14, 2, 13, 10, 7, 3, 7, 6, 6, 2, 2, 1, 1, 1, 5, 1, 2, 1, 3, 2, 1, 10, 7, 1, 1, 1, 3, 1, 7, 14, 1, 4, 1, 4, 7, 10, 1, 6, 1, 4, 6, 3, 1, 1, 3, 1, 7, 1, 1, 21, 1, 7, 14, 4, 5, 1, 4, 9, 4, 5, 1, 1, 4, 1, 1, 3, 3, 6, 2, 4, 26, 3, 1, 2, 1, 2, 1, 1, 1, 5, 1, 1, 15, 14, 4, 3, 1, 1, 1, 2, 8, 1, 1, 10, 5, 5, 1, 1, 1, 2, 1, 9, 51, 5, 1, 12, 1, 9, 1, 2, 2, 3, 2, 16, 3, 2, 2, 1, 2, 4, 44, 1, 1, 1, 6, 3, 3, 2, 3, 1, 1, 28, 14, 10, 7, 49, 15, 1, 5, 1, 1, 1, 39, 1, 4, 1, 9, 5, 1, 1, 8, 1, 17, 10, 12, 16, 1, 14, 13, 2, 1, 6, 2, 4, 13, 3, 2, 2, 1, 7, 1, 1, 1, 1, 1, 4, 2, 6, 1, 8, 1, 1, 1, 1, 3, 1, 1, 1, 1, 11, 17, 1, 3, 3, 2, 10, 22, 1, 1, 1, 3, 3, 2, 8, 1, 2, 32, 35, 1, 1, 4, 4, 20, 1, 1, 1, 1, 18, 21, 7, 2, 1, 2, 1, 14, 2, 3, 5, 4, 1, 1, 20, 77, 1, 5, 1, 1, 102, 2, 1, 5, 5, 11, 8, 11, 5, 10, 2, 1, 13, 1, 9, 2, 2, 4, 1, 2, 1, 8, 2, 6, 7, 1, 8, 1, 1, 2, 1, 1, 1, 4, 4, 1, 35, 5, 12, 1, 1, 2, 1, 1, 29, 19, 2, 1, 4, 25, 6, 1, 1, 3, 11, 1, 1, 1, 1, 18, 1, 1, 4, 1, 1, 1, 1, 3, 6, 2, 3, 7, 7, 2, 6, 4, 3, 1, 4, 1, 2, 1, 1, 2, 2, 3, 3, 1, 3, 3, 6, 21, 7, 13, 1, 37, 2, 1, 1, 1, 2, 3, 4, 4, 26, 1, 2, 3, 14, 13, 14, 1, 12, 2, 3, 1, 1, 17, 23, 2, 1, 1, 2, 3, 6, 1, 1, 3, 1, 1, 10, 4, 4, 1, 2, 1, 4, 1, 14, 10, 1, 1, 1, 10, 1, 3, 5, 8, 1, 2, 25, 5, 8, 30, 3, 1, 8, 1, 12, 3, 18, 9, 29, 10, 6, 10, 3, 2, 7, 1, 2, 2, 6, 2, 5, 1, 1, 1, 1, 36, 2, 2, 4, 3, 3, 1, 2, 1, 10, 3, 15, 2, 1, 3, 3, 1, 4, 3, 3, 2, 4, 6, 1, 44, 1, 1, 22, 18, 2, 1, 2, 5, 5, 1, 1, 3, 1, 1, 3, 13, 11, 24, 20, 7, 2, 10, 1, 3, 1, 8, 6, 2, 19, 30, 1, 1, 3, 2, 9, 2, 7, 1, 16, 2, 2, 3, 1, 1, 3, 1, 23, 2, 1, 2, 1, 2, 14, 1, 1, 3, 52, 4, 14, 20, 18, 3, 1, 1, 1, 12, 8, 3, 6, 1, 17, 1, 4, 1, 1, 1, 14, 10, 18, 3, 1, 1, 2, 1, 10, 7, 7, 5, 12, 2, 7, 3, 1, 1, 18, 2, 5, 1, 35, 2, 1, 2, 1, 1, 8, 6, 2, 1, 1, 1, 25, 19, 2, 1, 1, 2, 1, 2, 5, 1, 1, 1, 1, 1, 1, 1, 6, 14, 1, 2, 19, 10, 1, 1, 3, 1, 1, 3, 3, 5, 1, 6, 1, 12, 1, 1, 1, 2, 5, 18, 8, 3, 16, 1, 6, 1, 4, 3, 7, 9, 2, 13, 5, 4, 3, 2, 2, 15, 3, 1, 1, 1, 1, 1, 3, 1, 1, 1, 1, 1, 4, 1, 8, 1, 1, 1, 1, 2, 11, 2, 5, 83, 1, 1, 1, 1, 6, 12, 2, 1, 1, 2, 3, 1, 1, 2, 6, 4, 1, 5, 3, 4, 3, 11, 1, 4, 3, 2, 8, 1, 2, 7, 9, 5, 2, 4, 8, 7, 1, 2, 1, 1, 1, 1, 3, 15, 1, 13, 19, 1, 39, 1, 1, 12, 1, 9, 1, 1, 3, 2, 2, 1, 3, 19, 1, 5, 1, 3, 7, 3, 1, 2, 34, 6, 10, 1, 13, 11, 2, 6, 1, 3, 1, 3, 3, 1, 2, 2, 1, 2, 1, 2, 1, 1, 2, 1, 1, 13, 16, 5, 5, 1, 1, 1, 6, 3, 2, 1, 3, 25, 2, 1, 2, 3, 23, 1, 1, 27, 4, 3, 9, 2, 17, 1, 18, 7, 1, 4, 1, 12, 9, 1, 1, 1, 1, 1, 9, 12, 5, 22, 2, 10, 1, 3, 7, 2, 1, 10, 22, 2, 37, 1, 1, 1, 1, 3, 3, 2, 2, 1, 1, 8, 1, 2, 1, 6, 2, 3, 6, 13, 1, 4, 1, 3, 1, 8, 1, 7, 1, 4, 1, 2, 1, 1, 14, 1, 2, 21, 1, 6, 1, 13, 2, 1, 17, 1, 10, 1, 4, 6, 5, 17, 4, 1, 1, 1, 15, 2, 2, 1, 6, 1, 5, 6, 1, 1, 1, 1, 1, 13, 2, 1, 4, 6, 8, 1, 18, 4, 1, 1, 5, 19, 5, 159, 3, 2, 1, 1, 1, 1, 1, 42, 1, 1, 29, 2, 4, 9, 1, 5, 1, 1, 5, 1, 1, 3, 15, 2, 26, 1, 3, 2, 1, 7, 10, 1, 10, 7, 3, 3, 8, 3, 3, 2, 2, 3, 1, 1, 1, 1, 1, 1, 1, 1, 11, 3, 14, 1, 2, 30, 4, 1, 6, 1, 17, 4, 2, 1, 1, 15, 1, 18, 2, 23, 1, 7, 4, 8, 3, 1, 16, 4, 2, 1, 17, 3, 1, 1, 14, 6, 1, 2, 5, 1, 6, 5, 2, 1, 1, 3, 1, 14, 2, 2, 1, 1, 79, 4, 13, 1, 1, 17, 4, 7, 2, 2, 3, 5, 1, 5, 14, 3, 12, 9, 1, 1, 5, 1, 2, 2, 10, 1, 1, 2, 2, 12, 4, 2, 7, 2, 7, 1, 1, 1, 1, 2, 2, 1, 1, 1, 2, 1, 1, 21, 1, 1, 9, 2, 1, 4, 7, 3, 6, 6, 14, 8, 1, 1, 9, 5, 3, 4, 5, 1, 6, 1, 2, 1, 1, 3, 5, 1, 1, 1, 1, 2, 1, 2, 2, 1, 1, 2, 5, 4, 1, 5, 2, 3, 3, 2, 10, 18, 11, 2, 2, 2, 1, 1, 1, 2, 8, 2, 11, 2, 4, 1, 2, 1, 1, 4, 1, 1, 16, 2, 8, 1, 4, 1, 1, 13, 3, 1, 1, 1, 5, 3, 1, 1, 11, 1, 1, 4, 2, 1, 12, 3, 4, 2, 4, 24, 56, 1, 11, 1, 1, 4, 1, 1, 23, 5, 1, 4, 1, 1, 10, 1, 21, 4, 5, 4, 1, 1, 1, 3, 5, 5, 15, 3, 2, 2, 1, 21, 1, 5, 1, 1, 6, 6, 1, 3, 1, 5, 5, 1, 1, 8, 14, 1, 1, 1, 1, 1, 1, 1, 4, 14, 6, 14, 5, 2, 1, 8, 1, 10, 1, 27, 2, 1, 3, 13, 1, 1, 11, 8, 1, 3, 1, 3, 13, 1, 3, 4, 2, 8, 8, 7, 5, 1, 3, 16, 1, 3, 1, 16, 6, 1, 1, 2, 1, 1, 4, 1, 5, 2, 1, 2, 1, 1, 5, 3, 1, 25, 3, 1, 4, 1, 1, 3, 9, 6, 1, 1, 7, 2, 3, 1, 1, 6, 2, 2, 14, 32, 3, 1, 1, 1, 2, 1, 18, 6, 3, 1, 1, 2, 3, 1, 6, 5, 1, 3, 1, 17, 1, 2, 1, 1, 5, 3, 2, 1, 3, 1, 3, 3, 3, 5, 10, 5, 7, 7, 4, 3, 11, 6, 15, 1, 1, 4, 1, 1, 1, 1, 22, 3, 3, 19, 1, 1, 1, 1, 2, 2, 1, 1, 18, 1, 4, 10, 1, 2, 2, 7, 51, 1, 4, 2, 1, 3, 1, 1, 1, 1, 16, 2, 21, 9, 5, 1, 2, 1, 4, 22, 1, 2, 1, 2, 11, 5, 2, 1, 2, 1, 1, 1, 10, 3, 2, 3, 1, 1, 9, 18, 1, 1, 1, 11, 2, 6, 4, 1, 1, 2, 2, 2, 7, 1, 5, 1, 6, 14, 3, 1, 1, 1, 13, 2, 10, 3, 6, 1, 1, 2, 3, 6, 2, 11, 1, 3, 19, 3, 5, 4, 1, 1, 10, 1, 1, 1, 1, 1, 1, 1, 2, 3, 1, 61, 3, 2, 6, 1, 1, 1, 19, 3, 2, 1, 1, 2, 1, 5, 1, 1, 1, 8, 2, 1, 1, 3, 3, 19, 13, 2, 11, 3, 1, 4, 1, 1, 7, 1, 1, 1, 1, 5, 1, 1, 1, 2, 1, 18, 1, 2, 85, 6, 6, 4, 7, 2, 1, 3, 1, 27, 1, 1, 6, 2, 3, 10, 1, 8, 1, 2, 1, 1, 2, 1, 1, 1, 1, 1, 7, 2, 1, 15, 2, 1, 1, 1, 1, 5, 1, 2, 7, 2, 2, 6, 7, 2, 1, 4, 1, 3, 1, 3, 10, 9, 1, 8, 2, 1, 22, 3, 1, 2, 1, 3, 1, 2, 1, 1, 3, 1, 4, 3, 2, 1, 1, 5, 3, 2, 2, 2, 4, 2, 5, 3, 13, 5, 2, 1, 1, 1, 13, 10, 1, 1, 3, 1, 30, 17, 1, 1, 1, 6, 1, 1, 1, 1, 1, 1, 4, 15, 39, 21, 8, 1, 4, 2, 2, 1, 2, 24, 1, 2, 10, 1, 1, 3, 2, 2, 1, 1, 21, 6, 1, 6, 1, 8, 7, 4, 9, 1, 1, 1, 2, 1, 2, 1, 11, 1, 6, 1, 4, 1, 1, 4, 26, 15, 9, 9, 1, 9, 1, 3, 1, 17, 1, 6, 1, 4, 3, 3, 4, 3, 5, 1, 6, 1, 67, 1, 8, 2, 5, 6, 4, 10, 1, 4, 1, 11, 3, 1, 6, 6, 1, 1, 1, 2, 1, 17, 7, 1, 9, 27, 1, 6, 1, 4, 1, 9, 2, 1, 4, 9, 1, 1, 2, 1, 4, 1, 1, 1, 5, 1, 2, 2, 2, 3, 5, 1, 1, 1, 1, 1, 7, 3, 2, 1, 1, 3, 8, 8, 1, 1, 3, 3, 3, 8, 1, 4, 1, 1, 6, 1, 1, 1, 10, 5, 3, 7, 1, 1, 3, 13, 1, 9, 3, 1, 1, 1, 1, 1, 1, 4, 1, 1, 31, 36, 2, 1, 7, 1, 1, 8, 1, 4, 7, 5, 1, 3, 1, 27, 2, 1, 7, 6, 1, 2, 2, 20, 5, 3, 11, 1, 3, 1, 1, 19, 1, 1, 2, 1, 2, 1, 2, 1, 29, 2, 2, 2, 2, 1, 1, 2, 1, 4, 4, 14, 5, 1, 1, 1, 1, 1, 2, 1, 2, 1, 11, 5, 1, 8, 1, 1, 2, 2, 4, 1, 1, 37, 6, 2, 9, 4, 1, 1, 3, 6, 2, 1, 1, 1, 1, 1, 1, 1, 3, 67, 2, 2, 1, 4, 1, 1, 4, 2, 9, 38, 11, 7, 1, 2, 12, 1, 1, 1, 1, 3, 2, 4, 4, 2, 4, 1, 12, 12, 1, 1, 4, 18, 1, 1, 10, 6, 2, 4, 4, 1, 3, 1, 24, 1, 4, 8, 7, 7, 3, 1, 1, 4, 1, 1, 12, 1, 5, 7, 3, 6, 1, 6, 11, 3, 3, 4, 1, 1, 1, 7, 1, 6, 5, 9, 3, 2, 1, 12, 9, 1, 4, 12, 2, 4, 4, 2, 2, 3, 15, 2, 2, 1, 1, 1, 1, 4, 16, 1, 1, 2, 7, 1, 1, 1, 22, 1, 11, 1, 2, 2, 5, 9, 22, 3, 1, 16, 1, 2, 1, 1, 26, 6, 1, 19, 5, 1, 1, 1, 1, 2, 1, 18, 8, 2, 1, 1, 7, 3, 1, 3, 1, 1, 1, 2, 2, 3, 1, 4, 1, 8, 1, 15, 1, 1, 12, 1, 1, 1, 2, 1, 3, 1, 1, 1, 1, 6, 14, 2, 1, 1, 1, 1, 13, 29, 1, 3, 1, 1, 4, 3, 1, 1, 5, 2, 2, 1, 1, 12, 1, 2, 1, 1, 1, 1, 5, 1, 1, 1, 5, 2, 2, 15, 11, 2, 1, 1, 2, 1, 6, 4, 1, 1, 3, 2, 39, 7, 1, 1, 3, 16, 1, 1, 5, 4, 1, 1, 1, 1, 1, 11, 1, 2, 6, 1, 2, 4, 1, 2, 20, 1, 7, 1, 3, 2, 13, 1, 1, 2, 1, 17, 1, 7, 1, 4, 1, 7, 7, 132, 4, 10, 2, 1, 1, 23, 1, 2, 22, 1, 1, 1, 16, 9, 1, 11, 5, 2, 12, 2, 7, 1, 1, 2, 9, 6, 1, 1, 1, 2, 5, 3, 11, 1, 1, 1, 4, 3, 13, 1, 12, 1, 1, 3, 1, 10, 1, 1, 1, 6, 1, 3, 2, 2, 2, 1, 2, 15, 1, 23, 3, 8, 9, 1, 1, 2, 1, 4, 1, 1, 5, 1, 1, 18, 1, 3, 1, 1, 9, 1, 3, 1, 1, 4, 1, 18, 1, 1, 3, 2, 5, 1, 3, 1, 6, 2, 1, 1, 14, 17, 1, 5, 3, 1, 1, 1, 1, 4, 1, 5, 1, 2, 1, 3, 1, 1, 1, 13, 15, 1, 3, 8, 1, 1, 3, 3, 16, 2, 17, 1, 6, 1, 13, 3, 6, 1, 13, 1, 1, 3, 3, 6, 1, 1, 1, 1, 2, 11, 2, 2, 4, 1, 1, 2, 1, 2, 1, 4, 1, 18, 3, 2, 1, 4, 11, 3, 1, 1, 1, 1, 1, 2, 1, 2, 1, 1, 1, 1, 8, 1, 1, 23, 2, 3, 2, 1, 1, 11, 2, 4, 1, 10, 1, 1, 1, 3, 16, 1, 2, 1, 2, 1, 1, 1, 33, 1, 1, 1, 3, 14, 1, 3, 6, 6, 1, 5, 1, 1, 1, 1, 1, 7, 2, 10, 1, 2, 3, 2, 2, 3, 1, 4, 11, 1, 17, 1, 2, 1, 1, 1, 12, 2, 1, 1, 5, 3, 1, 3, 1, 2, 5, 1, 2, 6, 1, 26, 21, 5, 22, 6, 19, 41, 1, 23, 4, 1, 4, 1, 3, 1, 1, 1, 15, 2, 4, 3, 18, 1, 1, 2, 1, 2, 3, 1, 20, 1, 4, 4, 2, 1, 2834, 4745, 2, 1, 1, 17, 1, 2, 5, 1, 2, 3, 2, 2, 4, 4, 3, 1, 3, 8, 1, 4, 6, 1, 1, 2, 11, 16, 2, 8, 1, 5, 5, 3, 8, 10, 2, 5, 1, 2, 5, 1, 3, 17, 9, 4, 1, 2, 13, 1, 2, 2, 1, 1, 1, 1, 6, 1, 9, 1, 1, 3, 2, 20, 1, 1, 5, 1, 7, 2, 1, 2, 1, 1, 1, 3, 5, 6, 15, 2, 5, 2, 4, 21, 6, 7, 1, 1, 1, 7, 1, 2, 1, 1, 5, 4, 13, 1, 1, 1, 1, 5, 1, 8, 1, 1, 1, 9, 1, 2, 4, 1, 1, 1, 3, 1, 1, 15, 1, 1, 1, 5, 1, 7, 20, 3, 4, 12, 17, 5, 4, 7, 1, 1, 2, 3, 1, 6, 1, 1, 3, 3, 4, 4, 14, 2, 6, 1, 1, 32, 19, 1, 32, 47, 3, 6, 2, 1, 1, 1, 21, 1, 1, 4, 3, 21, 1, 1, 7, 1, 1, 2, 2, 7, 1, 1, 2, 8, 7, 1, 2, 6, 1, 1, 13, 1, 16, 14, 3, 12, 3, 2, 1, 4, 1, 6, 8, 3, 1, 16, 25, 6, 1, 1, 6, 1, 5, 5, 1, 6, 4, 1, 2, 1, 1, 10, 1, 1, 3, 2, 5, 1, 1, 2, 4, 1, 4, 1, 1, 1, 2, 1, 6, 14, 1, 2, 4, 6, 1, 10, 1, 1, 1, 3, 1, 3, 1, 3, 1, 2, 3, 3, 19, 1, 1, 1, 2, 1, 1, 7, 14, 16, 51, 2, 11, 11, 4, 8, 1, 1, 2, 4, 6, 6, 2, 2, 3, 6, 9, 1, 4, 1, 6, 3, 2, 3, 3, 1, 1, 11, 7, 1, 3, 3, 1, 1, 1, 1, 2, 6, 20, 2, 5, 6, 25, 1, 1, 1, 4, 17, 1, 32, 1, 1, 1, 3, 1, 8, 3, 14, 8, 9, 1, 1, 1, 2, 7, 1, 1, 3, 4, 7, 1, 1, 6, 1, 1, 10, 6, 1, 4, 3, 1, 1, 1, 1, 9, 3, 1, 20, 11, 1, 8, 1, 2, 3, 1, 4, 1, 4, 1, 18, 4, 3, 14, 1, 1, 1, 3, 1, 10, 6, 1, 2, 3, 22, 2, 1, 1, 2, 1, 1, 8, 2, 2, 3, 8, 2, 6, 1, 7, 1, 1, 8, 5, 1, 2, 9, 1, 1, 1, 8, 4, 1, 1, 20, 9, 5, 2, 8, 2, 1, 2, 1, 4, 21, 20, 1, 7, 4, 1, 1, 2, 1, 1, 1, 2, 2, 1, 1, 1, 1, 2, 8, 9, 9, 3, 2, 8, 1, 4, 1, 6, 3, 1, 1, 14, 5, 1, 1, 26, 30, 3, 12, 3, 4, 12, 1, 1, 3, 16, 6, 1, 6, 1, 1, 2, 11, 3, 2, 1, 18, 1, 10, 3, 1, 10, 1, 1, 6, 2, 1, 2, 1, 1, 11, 1, 1, 3, 2, 6, 2, 1, 1, 4, 8, 5, 4, 2, 11, 6, 1, 10, 2, 32, 1, 6, 1, 4, 2, 1, 4, 2, 4, 3, 5, 1, 3, 9, 1, 13, 5, 1, 4, 1, 1, 3, 1, 12, 1, 1, 1, 1, 8, 2, 10, 3, 9, 1, 1, 1, 1, 1, 1, 1, 3, 3, 1, 2, 1, 1, 7, 4, 7, 3, 2, 10, 4, 14, 13, 1, 1, 15, 1, 1, 1, 8, 48, 9, 16, 1, 62, 1, 10, 2, 1, 4, 1, 1, 12, 1, 18, 1, 2, 3, 1, 1, 1, 14, 7, 10, 1, 1, 15, 1, 7, 12, 1, 5, 1, 5, 1, 2, 1, 4, 1, 4, 1, 4, 14, 1, 1, 1, 8, 4, 10, 2, 7, 2, 1, 1, 4, 2, 4, 2, 3, 7, 3, 8, 1, 10, 1, 1, 3, 2, 3, 1, 1, 1, 19, 2, 2, 3, 1, 3, 7, 1, 1, 4, 3, 10, 1, 1, 1, 2, 1, 3, 3, 3, 3, 1, 1, 2, 5, 10, 1, 4, 12, 1, 3, 8, 1, 8, 2, 5, 4, 6, 1, 2, 2, 1, 20, 3, 4, 8, 1, 2, 1, 2, 39, 1, 10, 2, 2, 1, 1, 1, 2, 6, 1, 14, 1, 1, 38, 1, 1, 1, 4, 1, 13, 2, 1, 16, 1, 2, 1, 2, 3, 2, 1, 2, 11, 3, 25, 1, 6, 11, 2, 5, 1, 2, 6, 1, 2, 3, 1, 1, 19, 1, 1, 1, 5, 5, 4, 4, 37, 6, 14, 3, 9, 1, 1, 2, 47, 1, 10, 4, 1, 1, 5, 1, 1, 3, 2, 12, 12, 6, 1, 1, 12, 3, 7, 1, 1, 1, 1, 2, 2, 2, 1, 1, 1, 8, 1, 2, 3, 3, 2, 16, 2, 1, 1, 1, 1, 1, 1, 1, 1, 10, 1, 1, 6, 1, 10, 1, 1, 1, 4, 1, 10, 3, 1, 1, 1, 4, 7, 4, 19, 1, 14, 1, 21, 1, 4, 4, 2, 6, 16, 6, 3, 5, 1, 1, 6, 2, 3, 2, 1, 1, 13, 1, 1, 1, 1, 1, 5, 8, 7, 4, 2, 1, 3, 1, 5, 1, 8, 13, 7, 1, 1, 2, 1, 1, 5, 13, 2, 1, 9, 1, 1, 1, 1, 3, 2, 1, 22, 1, 1, 1, 3, 1, 1, 19, 1, 6, 1, 57, 1, 1, 2, 3, 2, 1, 12, 3, 4, 1, 1, 5, 2, 1, 2, 18, 2, 1, 1, 2, 8, 3, 2, 2, 15, 1, 1, 2, 3, 7, 1, 1, 2, 12, 3, 3, 6, 9, 2, 1, 1, 7, 5, 13, 9, 1, 1, 4, 4, 1, 20, 1, 4, 11, 3, 1, 1, 2, 16, 1, 1, 1, 9, 18, 1, 4, 1, 1, 2, 1, 1, 2, 2, 2, 7, 1, 3, 6, 1, 1, 1, 4, 1, 9, 2, 3, 2, 4, 1, 1, 1, 10, 10, 1, 3, 1, 1, 3, 1, 1, 1, 1, 3, 4, 11, 1, 1, 1, 25, 2, 3, 1, 1, 4, 2, 3, 1, 4, 2, 2, 1, 4, 2, 6, 3, 1, 1, 5, 2, 1, 3, 1, 1, 15, 13, 2, 1, 1, 2, 2, 1, 7, 1, 3, 6, 41, 8, 4, 1, 5, 8, 1, 1, 2, 1, 1, 5, 1, 1, 10, 1, 5, 1, 1, 16, 3, 1, 1, 7, 1, 1, 2, 1, 2, 3, 7, 2, 4, 6, 7, 3, 4, 22, 5, 3, 2, 17, 2, 1, 1, 14, 1, 1, 15, 1, 1, 3, 2, 1, 1, 2, 3, 1, 6, 1, 1, 4, 4, 5, 1, 15, 2, 7, 1, 3, 1, 6, 3, 5, 8, 1, 8, 1, 5, 9, 7, 113, 1, 20, 1, 3, 2, 1, 1, 3, 36, 1, 2, 4, 14, 13, 5, 1, 1, 1, 15, 1, 1, 3, 7, 1, 1, 1, 4, 7, 5, 7, 9, 1, 6, 3, 4, 7, 1, 2, 6, 1, 1, 4, 27, 3, 32, 4, 1, 6, 1, 2, 1, 9, 1, 1, 1, 1, 1, 2, 3, 6, 1, 2, 1, 1, 2, 7, 4, 3, 2, 1, 7, 1, 1, 64, 1, 1, 1, 15, 1, 1, 4, 2, 2, 3, 2, 1, 2, 1, 3, 2, 1, 1, 1, 1, 4, 20, 5, 10, 1, 3, 9, 1, 2, 1, 1, 1, 1, 8, 1, 1, 1, 4, 1, 2, 1, 1, 1, 7, 1, 12, 1, 2, 2, 1, 2, 1, 1, 1, 8, 6, 3, 7, 2, 11, 2, 3, 12, 1, 4, 2, 1, 1, 7, 8, 2, 1, 4, 1, 16, 1, 1, 1, 24, 1, 1, 18, 7, 2, 3, 4, 2, 1, 5, 1, 1, 2, 4, 1, 1, 4, 3, 26, 15, 13, 5, 1, 1, 1, 6, 1, 1, 1, 1, 5, 3, 5, 1, 4, 1, 1, 5, 2, 6, 3, 4, 3, 1, 20, 1, 1, 3, 1, 2, 4, 1, 1, 1, 2, 1, 20, 1, 5, 50, 4, 4, 5, 4, 7, 3, 3, 1, 1, 1, 13, 4, 2, 1, 1, 5, 1, 1, 8, 3, 11, 12, 1, 1, 8, 2, 1, 3, 1, 1, 7, 2, 16, 2, 3, 3, 5, 15, 1, 1, 1, 1, 4, 2, 1, 11, 7, 1, 5, 4, 2, 1, 1, 1, 1, 1, 1, 1, 1, 3, 1, 1, 1, 1, 1, 4, 1, 7, 14, 1, 4, 2, 2, 5, 1, 1, 2, 4, 3, 1, 1, 1, 1, 10, 1, 1, 1, 3, 2, 1, 1, 1, 1, 6, 1, 10, 5, 1, 1, 2, 1, 1, 2, 1, 3, 1, 1, 2, 3, 4, 19, 2, 1, 3, 4, 2, 1, 10, 1, 7, 3, 6, 2, 1, 1, 1, 1, 5, 1, 5, 1, 1, 1, 7, 3, 1, 1, 1, 3, 2, 1, 1, 1, 1, 1, 9, 2, 7, 1, 2, 1, 4, 5, 1, 1, 2, 2, 4, 1, 1, 1, 1, 1, 3, 2, 3, 5, 9, 7, 3, 7, 6, 1, 3, 4, 1, 1, 5, 4, 1, 1, 1, 1, 3, 1, 2, 1, 1, 1, 1, 3, 1, 3, 1, 1, 1, 1, 1, 2, 1, 2, 1, 2, 1, 5, 1, 1, 5, 13, 1, 2, 2, 1, 2, 5, 1, 5, 1, 2, 1, 1, 1, 21, 1, 9, 2, 20, 1, 1, 33, 2, 3, 1, 1, 1, 8, 6, 1, 1, 1, 1, 1, 4, 1, 7, 4, 3, 1, 1, 4, 1, 1, 1, 1, 1, 1, 3, 1, 1, 2, 1, 1, 2, 2, 1, 1, 1, 1, 1, 1, 16, 1, 1, 2, 1, 2, 14, 1, 1, 7, 10, 8, 2, 1, 5, 11, 30, 3, 1, 12, 8, 2, 8, 1, 2, 4, 4, 1, 13, 7, 2, 4, 1, 1, 1, 8, 1, 28, 2, 2, 1, 2, 1, 2, 1, 2, 7, 1, 9, 1, 41, 6, 1, 4, 1, 12, 1, 2, 6, 1, 3, 2, 1, 2, 2, 2, 1, 1, 3, 1, 1, 1, 6, 1, 2, 1, 1, 1, 1, 1, 2, 6, 2, 1, 1, 17, 1, 1, 5, 4, 5, 1, 1, 1, 1, 1, 2, 4, 1, 1, 2, 2, 1, 1, 2, 2, 1, 1, 3, 1, 4, 1, 2, 16, 1, 1, 1, 2, 5, 2, 21, 1, 1, 1, 6, 1, 1, 36, 15, 1, 8, 1, 1, 329, 1, 1, 4, 1, 12, 41, 1, 9, 3, 1, 1, 1, 1, 1, 4, 1, 1, 1, 5, 1, 1, 2, 1, 7, 4, 2, 4, 2, 1, 1, 2, 3, 2, 3, 4, 1, 24, 5, 2, 5, 4, 1, 4, 11, 1, 1, 1, 1, 1, 1, 1, 3, 2, 1, 1, 6, 3, 5, 3, 1, 1, 20, 3, 1, 1, 1, 1, 2, 1, 2, 29, 10, 3, 1, 3, 3, 1, 4, 1, 4, 2, 1, 1, 2, 1, 1, 3, 1, 1, 1, 1, 1, 2, 1, 1, 1, 1, 1, 1, 1, 1, 1, 2, 1, 1, 1, 7, 1, 1, 1, 6, 1, 14, 12, 2, 1, 5, 1, 3, 1, 2, 1, 3, 1, 2, 2, 1, 1, 1, 3, 1, 2, 1, 1, 6, 1, 1, 3, 2, 2, 1, 1, 1, 10, 1, 1, 1, 1, 1, 1, 5, 4, 2, 3, 2, 1, 1, 1, 1, 19, 1, 1, 20, 1, 3, 2, 8, 9, 1, 1, 1, 4, 17, 1, 14, 1, 6, 1, 1, 2, 9, 2, 5, 2, 1, 3, 2, 19, 1, 3, 2, 5, 9, 1, 1, 9, 2, 5, 2, 7, 1, 2, 1, 2, 1, 3, 2, 1, 1, 2, 1, 1, 1, 1, 3, 2, 1, 1, 2, 6, 2, 2, 1, 5, 2, 20, 17, 1, 1, 1, 1, 1, 6, 8, 1, 1, 2, 1, 1, 1, 16, 1, 1, 2, 6, 1, 1, 1, 1, 12, 1, 2, 1, 1, 2, 4, 13, 4, 12, 14, 12, 16, 1, 1, 1, 4, 9, 1, 1, 1, 4, 1, 1, 15, 1, 1, 2, 19, 3, 1, 1, 2, 1, 1, 4, 1, 1, 1, 1, 2, 1, 1, 1, 1, 5, 6, 1, 1, 10, 6, 1, 1, 7, 3, 1, 1, 11, 1, 3, 1, 8, 2, 1, 1, 2, 1, 2, 1, 1, 2, 5, 7, 2, 1, 2, 1, 3, 2, 1, 1, 1, 1, 1, 1, 11, 1, 19, 4, 1, 1, 2, 9, 1, 4, 15, 7, 3, 1, 2, 1, 1, 16, 1, 1, 1, 1, 3, 5, 1, 4, 21, 1, 1, 1, 2, 1, 2, 1, 1, 5, 5, 2, 4, 1, 1, 10, 1, 1, 3, 1, 1, 1, 21, 11, 3, 1, 1, 3, 1, 1, 2, 9, 1, 8, 18, 1, 1, 1, 2, 1, 2, 3, 5, 1, 15, 6, 1, 1, 1, 1, 1, 1, 1, 1, 1, 4, 13, 1, 3, 2, 2, 1, 1, 1, 2, 2, 7, 2, 1, 1, 1, 7, 1, 13, 1, 1, 4, 1, 1, 4, 1, 9, 2, 1, 1, 1, 6, 1, 2, 1, 1, 3, 1, 28, 1, 1, 1, 2, 1, 63, 1, 1, 1, 6, 2, 1, 1, 1, 1, 1, 2, 1, 3, 1, 2, 1, 3, 1, 1, 1, 3, 1, 4, 1, 6, 1, 14, 2, 1, 1, 2, 1, 5, 1, 3, 1, 11, 5, 1, 1, 4, 4, 2, 1, 2, 2, 9, 4, 1, 1, 3, 2, 1, 1, 2, 1, 1, 1, 16, 1, 1, 2, 9, 1, 3, 12, 1, 5, 1, 1, 2, 1, 1, 10, 3, 5, 2, 1, 1, 1, 4, 2, 1, 12, 2, 8, 1, 1, 13, 1, 3, 5, 4, 1, 7, 1, 6, 10, 1, 1, 18, 1, 1, 1, 1, 1, 1, 1, 4, 1, 1, 1, 1, 1, 1, 18, 10, 7, 7, 1, 3, 2, 4, 11, 1, 4, 3, 1, 1, 10, 3, 7, 2, 1, 2, 1, 2, 2, 3, 4, 6, 5, 1, 3, 2, 10, 15, 3, 2, 1, 1, 3, 24, 1, 2, 1, 1, 1, 2, 6, 19, 4, 12, 1, 1, 1, 2, 5, 2, 1, 1, 1, 1, 1, 2, 3, 5, 1, 3, 1, 1, 1, 4, 1, 1, 1, 1, 2, 1, 4, 1, 3, 1, 1, 1, 8, 3, 16, 1, 1, 9, 29, 3, 2, 1, 1, 6, 1, 1, 1, 6, 1, 5, 4, 5, 4, 8, 1, 6, 7, 1, 1, 1, 11, 1, 2, 5, 2, 3, 1, 10, 10, 2, 1, 1, 1, 3, 2, 11, 18, 3, 1, 1, 27, 3, 1, 1, 1, 1, 1, 2, 1, 1, 7, 5, 1, 1, 6, 10, 1, 1, 2, 1, 1, 26, 2, 6, 2, 1, 2, 2, 3, 1, 1, 8, 4, 4, 3, 2, 11, 2, 4, 1, 2, 2, 3, 11, 3, 9, 3, 2, 1, 1, 3, 1, 2, 2, 1, 1, 1, 18, 4, 14, 2, 5, 5, 2, 2, 2, 16, 1, 2, 1, 5, 9, 2, 13, 1, 1, 2, 33, 1, 3, 3, 4, 2, 1, 2, 1, 5, 3, 2, 2, 14, 1, 1, 1, 2, 5, 5, 3, 30, 1, 2, 3, 4, 2, 2, 1, 1, 1, 1, 2, 4, 1, 2, 1, 9, 2, 6, 1, 1, 1, 1, 1, 5, 18, 2, 1, 3, 1, 1, 6, 3, 1, 1, 1, 5, 1, 1, 8, 1, 1, 3, 12, 11, 1, 1, 1, 1, 4, 4, 1, 1, 4, 2, 3, 15, 4, 15, 2, 2, 1, 1, 6, 2, 68, 2, 6, 4, 2, 1, 1, 1, 2, 1, 15, 13, 2, 2, 3, 3, 2, 1, 5, 1, 1, 1, 1, 1, 2, 1, 1, 1, 6, 1, 5, 2, 4, 9, 2, 1, 1, 3, 4, 1, 1, 1, 1, 2, 1, 1, 3, 1, 1, 2, 2, 2, 1, 6, 2, 4, 4, 5, 4, 1, 10, 3, 1, 1, 8, 3, 5, 1, 5, 2, 1, 1, 5, 4, 2, 1, 4, 1, 2, 1, 8, 4, 1, 2, 3, 3, 2, 2, 1, 1, 3, 1, 8, 3, 1, 1, 8, 1, 7, 1, 3, 3, 1, 1, 10, 4, 18, 2, 2, 1, 1, 5, 1, 7, 5, 2, 1, 5, 3, 1, 1, 9, 2, 4, 1, 6, 7, 1, 7, 2, 20, 1, 6, 1, 5, 3, 1, 1, 1, 2, 7, 1, 2, 1, 1, 4, 1, 17, 32, 4, 2, 1, 1, 4, 1, 1, 1, 5, 8, 5, 1, 1, 1, 1, 1, 5, 1, 2, 1, 1, 2, 7, 7, 1, 1, 1, 1, 6, 15, 7, 9, 4, 2, 12, 1, 1, 1, 14, 9, 3, 1, 1, 1, 4, 5, 1, 1, 1, 6, 1, 1, 3, 1, 2, 1, 1, 1, 1, 5, 1, 15, 2, 1, 1, 1, 3, 5, 1, 2, 2, 1, 1, 1, 2, 1, 1, 4, 1, 1, 2, 1, 1, 2, 1, 1, 1, 1, 2, 1, 2, 3, 4, 1, 5, 9, 1, 4, 1, 1, 2, 5, 1, 1, 1, 1, 1, 5, 5, 1, 6, 1, 13, 16, 1, 1, 2, 1, 3, 3, 1, 1, 1, 2, 1, 2, 1, 6, 4, 4, 3, 1, 2, 2, 2, 3, 2, 3, 3, 1, 1, 1, 23, 10, 1, 3, 4, 2, 2, 4, 2, 2, 1, 6, 1, 1, 3, 2, 4, 3, 8, 4, 1, 3, 1, 2, 2, 2, 7, 7, 1, 3, 6, 1, 1, 3, 7, 1, 1, 2, 2, 1, 11, 1, 1, 1, 4, 10, 15, 1, 13, 4, 1, 2, 1, 1, 1, 9, 2, 1, 1, 2, 4, 7, 1, 1, 1, 1, 6, 2, 1, 2, 2, 1, 4, 2, 11, 1, 8, 1, 3, 1, 1, 10, 1, 18, 1, 1, 4, 6, 1, 1, 19, 1, 4, 9, 1, 1, 1, 1, 1, 1, 1, 1, 9, 1, 6, 1, 1, 1, 2, 1, 4, 26, 4, 3, 4, 7, 1, 1, 2, 2, 2, 1, 1, 2, 1, 2, 1, 1, 2, 3, 1, 1, 1, 1, 1, 4, 10, 1, 3, 6, 8, 6, 1, 1, 1, 3, 1, 9, 1, 6, 13, 2, 14, 2, 1, 1, 1, 4, 1, 1, 1, 2, 9, 44, 2, 1, 2, 1, 5, 4, 1, 1, 3, 1, 1, 1, 21, 1, 1, 2, 6, 3, 2, 2, 16, 1, 2, 2, 1, 1, 1, 1, 1, 1, 1, 5, 1, 3, 1, 3, 1, 2, 2, 3, 3, 6, 9, 1, 7, 3, 1, 1, 1, 24, 5, 16, 5, 7, 1, 1, 17, 12, 1, 27, 1, 1, 1, 1, 1, 1, 1, 1, 1, 4, 14, 2, 1, 1, 1, 1, 1, 2, 2, 1, 8, 1, 3, 3, 5, 2, 1, 1, 3, 9, 1, 12, 2, 15, 1, 2, 2, 1, 1, 4, 1, 4, 9, 11, 3, 22, 1, 2, 1, 7, 6, 6, 1, 1, 1, 6, 2, 3, 9, 1, 3, 1, 1, 2, 1, 5, 1, 2, 3, 1, 1, 16, 1, 1, 19, 1, 1, 1, 3, 9, 25, 4, 2, 1, 1, 1, 3, 1, 4, 1, 1, 1, 1, 2, 1, 1, 1, 9, 2, 2, 3, 3, 3, 6, 13, 1, 1, 1, 6, 2, 4, 10, 4, 1, 1, 3, 2, 1, 3, 1, 7, 2, 2, 1, 1, 1, 1, 16, 1, 1, 1, 2, 2, 4, 4, 2, 3, 1, 1, 1, 2, 2, 1, 1, 2, 1, 1, 1, 3, 15, 2, 1, 1, 1, 1, 1, 1, 1, 5, 1, 4, 9, 3, 1, 4, 1, 7, 1, 11, 1, 1, 1, 3, 1, 1, 3, 1, 8, 3, 1, 1, 1, 5, 1, 1, 5, 1, 24, 4, 1, 1, 1, 1, 1, 1, 11, 2, 2, 1, 5, 4, 4, 1, 2, 7, 2, 1, 1, 3, 27, 2, 2, 1, 3, 1, 1, 6, 9, 7, 14, 2, 1, 1, 1, 1, 2, 8, 6, 1, 6, 1, 4, 1, 27, 1, 20, 5, 1, 1, 2, 3, 7, 2, 6, 1, 4, 1, 1, 18, 1, 2, 6, 5, 3, 11, 1, 4, 2, 5, 2, 7, 4, 2, 1, 3, 10, 1, 1, 5, 1, 3, 1, 1, 9, 8, 6, 12, 4, 1, 1, 1, 1, 1, 7, 7, 2, 1, 1, 20, 3, 1, 1, 1, 1, 1, 1, 1, 6, 5, 1, 1, 2, 4, 1, 1, 1, 1, 1, 1, 2, 1, 1, 1, 1, 1, 1, 5, 1, 1, 1, 1, 2, 1, 1, 1, 1, 1, 20, 17, 3, 2, 31, 1, 1, 2, 1, 1, 1, 10, 1, 1, 9, 1, 4, 1, 1, 2, 2, 4, 1, 8, 4, 1, 8, 8, 1, 1, 2, 2, 2, 1, 1, 1, 4, 1, 1, 1, 1, 3, 13, 1, 4, 2, 2, 2, 1, 2, 1, 1, 1, 3, 4, 1, 1, 3, 1, 2, 3, 8, 1, 1, 1, 1, 19, 3, 3, 1, 6, 2, 1, 5, 2, 7, 1, 1, 1, 10, 3, 4, 3, 1, 12, 1, 1, 1, 1, 5, 1, 1, 9, 2, 3, 8, 1, 1, 1, 3, 1, 1, 1, 1, 4, 1, 7, 1, 14, 1, 4, 1, 1, 1, 4, 1, 1, 5, 4, 3, 2, 8, 4, 1, 1, 1, 2, 3, 2, 15, 1, 1, 3, 5, 1, 1, 1, 1, 1, 2, 2, 1, 1, 9, 11, 1, 3, 2, 3, 1, 9, 1, 5, 2, 1, 3, 1, 1, 3, 2, 2, 3, 3, 1, 1, 1, 2, 1, 21, 1, 1, 27, 2, 1, 4, 1, 3, 1, 1, 1, 2, 2, 1, 1, 1, 4, 12, 1, 1, 1, 1, 10, 4, 17, 1, 1, 4, 1, 3, 1, 42, 6, 2, 1, 1, 3, 5, 1, 4, 1, 2, 1, 1, 1, 1, 5, 1, 1, 2, 1, 8, 5, 10, 1, 5, 6, 1, 2, 3, 1, 1, 2, 1, 4, 2, 4, 2, 1, 1, 1, 14, 10, 1, 3, 2, 1, 7, 1, 1, 1, 1, 1, 3, 2, 2, 1, 1, 1, 1, 13, 2, 10, 1, 5, 3, 36, 1, 5, 1, 15, 1, 1, 2, 6, 1, 1, 1, 2, 1, 7, 1, 3, 1, 2, 3, 1, 7, 6, 1, 2, 1, 3, 2, 4, 4, 4, 1, 2, 3, 1, 2, 6, 3, 3, 1, 6, 1, 2, 2, 1, 1, 1, 2, 3, 2, 3, 5, 1, 3, 2, 1, 2, 8, 11, 16, 1, 1, 1, 2, 1, 1, 1, 4, 1, 10, 1, 3, 1, 1, 1, 1, 7, 3, 2, 2, 2, 1, 5, 7, 1, 5, 9, 2, 31, 1, 2, 3, 1, 1, 3, 1, 21, 1, 2, 1, 13, 2, 2, 1, 1, 3, 4, 17, 4, 10, 1, 2, 5, 2, 1, 6, 2, 5, 2, 1, 17, 1, 1, 1, 28, 1, 3, 3, 8, 2, 10, 32, 1, 1, 1, 2, 1, 5, 3, 4, 1, 7, 5, 1, 2, 2, 1, 1, 1, 4, 1, 3, 6, 4, 3, 6, 1, 13, 14, 4, 4, 5, 3, 2, 2, 3, 3, 3, 1, 1, 1, 1, 1, 3, 1, 2, 2, 1, 8, 1, 1, 3, 2, 1, 1, 1, 1, 1, 1, 3, 1, 2, 2, 6, 2, 5, 3, 8, 3, 1, 15, 13, 2, 3, 7, 5, 2, 33, 1, 4, 1, 1, 1, 1, 2, 6, 1, 1, 1, 1, 4, 12, 2, 69, 1, 1, 1, 2, 1, 1, 2, 1, 5, 1, 1, 1, 10, 1, 3, 2, 8, 1, 1, 1, 3, 8, 8, 2, 6, 9, 2, 3, 1, 1, 1, 4, 1, 1, 1, 1, 1, 2, 4, 2, 2, 1, 1, 7, 22, 6, 1, 4, 1, 1, 9, 6, 1, 3, 6, 4, 1, 1, 1, 1, 2, 5, 3, 1, 21, 27, 11, 1, 2, 1, 4, 1, 1, 2, 5, 1, 1, 2, 2, 1, 2, 9, 1, 1, 1, 7, 1, 1, 1, 2, 9, 2, 1, 1, 9, 20, 1, 1, 2, 1, 1, 1, 1, 2, 1, 1, 1, 2, 10, 4, 19, 1, 1, 1, 2, 1, 4, 1, 3, 3, 3, 3, 5, 1, 12, 1, 2, 1, 1, 5, 1, 1, 11, 1, 4, 1, 2, 2, 1, 13, 1, 6, 1, 3, 1, 1, 1, 7, 1, 1, 1, 5, 19, 5, 6, 6, 2, 1, 3, 2, 1, 1, 1, 1, 1, 1, 4, 1, 1, 6, 2, 28, 1, 2, 1, 1, 6, 3, 13, 7, 2, 1, 1, 5, 26, 5, 2, 4, 10, 4, 1, 3, 2, 1, 1, 1, 3, 1, 6, 4, 2, 2, 1, 7, 7, 1, 1, 8, 3, 5, 1, 8, 6, 3, 4, 6, 3, 1, 1, 1, 1, 1, 1, 1, 1, 8, 1, 1, 13, 1, 1, 9, 3, 3, 1, 1, 1, 4, 8, 1, 1, 5, 1, 1, 2, 2, 11, 5, 3, 2, 1, 2, 1, 5, 4, 1, 13, 1, 4, 1, 1, 21, 3, 1, 2, 6, 2, 4, 2, 1, 1, 1, 1, 1, 1, 6, 2, 16, 3, 1, 3, 1, 1, 2, 4, 1, 1, 11, 1, 3, 1, 4, 3, 1, 1, 3, 1, 1, 4, 1, 2, 1, 13, 4, 3, 1, 1, 11, 2, 2, 12, 1, 7, 10, 3, 1, 1, 8, 1, 37, 1, 1, 1, 1, 49, 1, 6, 1, 1, 1, 5, 2, 1, 1, 3, 1, 1, 1, 1, 10, 12, 2, 10, 7, 1, 1, 1, 1, 1, 10, 1, 1, 1, 1, 2, 3, 2, 1, 5, 1, 5, 1, 1, 7, 1, 1, 1, 1, 13, 3, 1, 1, 7, 11, 1, 1, 1, 1, 1, 5, 4, 5, 2, 1, 1, 9, 6, 1, 1, 15, 13, 2, 5, 2, 1, 1, 1, 6, 1, 1, 1, 1, 2, 1, 3, 1, 3, 1, 1, 2, 2, 6, 8, 3, 1, 2, 1, 3, 1, 6, 4, 1, 1, 1, 3, 1, 2, 3, 3, 5, 3, 3, 1, 5, 1, 1, 1, 1, 1, 3, 1, 5, 1, 1, 4, 4, 5, 1, 10, 3, 2, 2, 5, 2, 1, 1, 18, 4, 1, 2, 1, 2, 8, 1, 2, 2, 1, 3, 17, 1, 3, 8, 5, 2, 12, 1, 1, 2, 3, 1, 2, 8, 4, 1, 2, 1, 5, 1, 3, 1, 1, 1, 1, 1, 1, 1, 5, 2, 1, 1, 1, 2, 4, 1, 2, 1, 1, 2, 1, 4, 3, 7, 1, 5, 2, 2, 1, 2, 1, 1, 8, 1, 1, 2, 11, 1, 6, 4, 1, 1, 5, 1, 1, 6, 1, 1, 8, 2, 2, 1, 83, 1, 4, 2, 3, 1, 10, 8, 1, 1, 1, 1, 5, 9, 5, 6, 1, 7, 5, 13, 2, 1, 11, 1, 1, 1, 1, 2, 2, 1, 1, 1, 6, 2, 1, 1, 1, 1, 13, 2, 9, 2, 1, 4, 2, 1, 12, 12, 1, 1, 1, 1, 1, 3, 1, 3, 1, 1, 3, 1, 14, 1, 2, 4, 3, 1, 1, 4, 1, 2, 1, 2, 1, 1, 5, 11, 1, 1, 2, 10, 17, 1, 1, 1, 1, 3, 2, 1, 1, 2, 1, 1, 1, 1, 1, 7, 3, 11, 1, 3, 3, 7, 3, 2, 1, 3, 4, 1, 1, 1, 2, 2, 1, 1, 8, 1, 1, 1, 4, 1, 2, 1, 7, 4, 1, 3, 3, 6, 1, 1, 2, 3, 1, 7, 1, 1, 2, 5, 1, 1, 2, 1, 1, 2, 2, 8, 1, 1, 1, 30, 1, 3, 1, 2, 3, 4, 2, 2, 1, 1, 2, 1, 6, 5, 1, 1, 7, 2, 1, 6, 1, 3, 13, 1, 1, 1, 4, 2, 2, 5, 2, 1, 1, 2, 1, 1, 1, 1, 1, 1, 1, 1, 8, 1, 3, 8, 19, 1, 1, 25, 2, 1, 1, 4, 9, 1, 4, 1, 2, 8, 1, 1, 1, 5, 10, 1, 3, 1, 1, 1, 1, 1, 1, 1, 7, 1, 1, 4, 1, 3, 18, 11, 3, 1, 1, 2, 3, 1, 7, 9, 7, 1, 5, 1, 1, 1, 1, 1, 2, 1, 10, 2, 11, 1, 3, 1, 3, 1, 1, 2, 4, 1, 1, 6, 1, 1, 6, 1, 5, 5, 4, 13, 2, 2, 2, 4, 5, 2, 21, 9, 1, 1, 1, 3, 1, 1, 9, 1, 1, 3, 1, 1, 1, 10, 1, 1, 1, 2, 1, 8, 2, 1, 4, 5, 1, 1, 1, 2, 5, 5, 3, 1, 1, 1, 4, 8, 1, 1, 1, 7, 13, 5, 2, 1, 1, 1, 1, 4, 1, 3, 4, 1, 5, 4, 1, 3, 6, 1, 1, 1, 1, 1, 1, 7, 3, 4, 3, 13, 4, 1, 1, 3, 2, 1, 1, 1, 7, 1, 3, 1, 4, 1, 1, 1, 7, 1, 1, 1, 2, 1, 1, 8, 12, 1, 1, 1, 5, 3, 6, 1, 1, 1, 1, 2, 1, 1, 1, 1, 5, 1, 1, 1, 1, 2, 1, 1, 1, 1, 1, 3, 2, 15, 1, 13, 1, 2, 7, 1, 1, 6, 1, 2, 1, 1, 1, 2, 1, 1, 1, 1, 1, 1, 20, 14, 1, 1, 1, 1, 1, 1, 1, 1, 2, 1, 1, 1, 4, 2, 2, 5, 4, 1, 8, 4, 1, 1, 1, 1, 2, 1, 1, 5, 1, 3, 1, 1, 1, 1, 1, 9, 6, 1, 1, 2, 10, 1, 1, 1, 1, 21, 1, 1, 1, 4, 9, 1, 3, 1, 5, 2, 1, 1, 1, 1, 1, 1, 1, 1, 32, 1, 1, 2, 1, 2, 3, 2, 1, 1, 1, 1, 2, 1, 1, 1, 6, 4, 4, 3, 2, 1, 1, 3, 1, 1, 3, 16, 4, 2, 1, 1, 5, 5, 5, 2, 1, 6, 1, 1, 1, 1, 2, 1, 3, 2, 2, 1, 1, 4, 1, 1, 5, 1, 2, 2, 7, 2, 2, 1, 1, 1, 9, 1, 1, 1, 2, 2, 3, 3, 1, 9, 2, 1, 26, 1, 1, 1, 1, 3, 1, 4, 1, 1, 1, 1, 1, 3, 1, 4, 9, 1, 10, 2, 1, 5, 1, 3, 1, 1, 6, 5, 1, 2, 1, 1, 1, 1, 1, 1, 16, 4, 1, 2, 1, 1, 6, 2, 3, 1, 1, 1, 4, 5, 1, 8, 1, 4, 1, 53, 4, 3, 3, 1, 1, 13, 5, 1, 2, 4, 1, 12, 1, 1, 1, 1, 1, 1, 1, 2, 1, 1, 1, 1, 5, 3, 7, 2, 2, 1, 1, 1, 3, 1, 2, 2, 5, 1, 2, 1, 1, 1, 6, 2, 1, 2, 1, 7, 6, 1, 4, 4, 7, 4, 1, 1, 1, 2, 3, 1, 9, 17, 1, 2, 3, 27, 2, 1, 1, 2, 1, 1, 1, 1, 2, 1, 5, 9, 1, 1, 5, 1, 2, 2, 6, 1, 17, 1, 1, 3, 1, 1, 1, 2, 1, 1, 4, 6, 3, 1, 28, 1, 10, 5, 6, 1, 1, 1, 1, 2, 15, 1, 1, 1, 4, 1, 1, 7, 1, 1, 2, 1, 19, 24, 5, 8, 222, 1, 2, 7, 5, 1, 3, 1, 1, 1, 2, 3, 2, 1, 7, 1, 1, 4, 1, 3, 2, 1, 2, 1, 1, 3, 8, 13, 2, 1, 1, 2, 3, 1, 13, 9, 1, 2, 4, 4, 18, 2, 1, 1, 2, 1, 4, 2, 5, 4, 1, 2, 1, 7, 1, 1, 7, 3, 4, 6, 1, 6, 1, 1, 6, 3, 2, 1, 1, 1, 2, 1, 3, 3, 1, 6, 2, 1, 1, 1, 2, 10, 1, 1, 6, 2, 3, 1, 5, 4, 3, 1, 19, 6, 1, 13, 12, 1, 2, 3, 6, 1, 4, 12, 1, 7, 1, 1, 4, 5, 1, 2, 4, 1, 1, 3, 5, 19, 1, 1, 4, 2, 1, 9, 3, 1, 1, 4, 1, 1, 2, 1, 1, 4, 2, 1, 1, 1, 3, 1, 1, 4, 3, 1, 1, 7, 2, 11, 4, 7, 1, 2, 1, 2, 7, 2, 1, 1, 26, 1, 1, 1, 5, 5, 3, 1, 9, 3, 14, 1, 12, 5, 2, 1, 1, 1, 1, 1, 1, 1, 5, 1, 1, 1, 1, 2, 2, 1, 4, 1, 1, 1, 3, 3, 4, 1, 5, 3, 1, 12, 3, 1, 1, 3, 1, 5, 3, 7, 1, 2, 1, 1, 10, 3, 3, 5, 1, 1, 3, 1, 1, 3, 4, 1, 3, 3, 1, 2, 4, 13, 1, 1, 1, 2, 1, 4, 8, 14, 2, 12, 3, 2, 5, 1, 4, 2, 2, 1, 4, 1, 3, 1, 1, 1, 10, 13, 1, 1, 1, 1, 1, 4, 2, 1, 1, 1, 1, 1, 7, 1, 1, 1, 8, 1, 1, 4, 1, 1, 1, 1, 5, 2, 2, 11, 12, 1, 1, 1, 1, 2, 1, 9, 1, 1, 1, 6, 3, 4, 2, 1, 1, 7, 1, 2, 1, 1, 2, 1, 2, 1, 1, 1, 4, 5, 10, 2, 5, 1, 1, 1, 1, 1, 1, 15, 306, 2, 1, 2, 8, 6, 1, 2, 1, 1, 1, 3, 1, 1, 1, 1, 1, 1, 3, 1, 1, 1, 2, 1, 3, 1, 3, 1, 1, 6, 3, 14, 3, 1, 1, 1, 1, 1, 2, 1, 1, 1, 1, 1, 3, 1, 6, 1, 1, 1, 1, 7, 10, 5, 4, 1, 4, 1, 1, 1, 1, 1, 3, 6, 2, 1, 6, 1, 2, 1, 1, 1, 1, 3, 3, 1, 1, 6, 14, 4, 1, 1, 13, 1, 1, 1, 1, 3, 2, 2, 1, 2, 11, 1, 7, 1, 7, 2, 3, 1, 1, 5, 10, 6, 34, 1, 2, 14, 3, 1, 8, 1, 1, 1, 1, 18, 1, 1, 1, 1, 3, 1, 5, 1, 1, 24, 1, 7, 6, 1, 2, 1, 1, 7, 1, 1, 1, 1, 1, 1, 2, 1, 1, 1, 2, 3, 2, 1, 1, 1, 1, 1, 3, 1, 1, 1, 1, 1, 3, 11, 1, 20, 1, 10, 5, 1, 1, 1, 1, 1, 3, 44, 1, 1, 9, 1, 6, 3, 22, 1, 2, 1, 1, 2, 2, 1, 1, 1, 1, 7, 1, 7, 1, 1, 3, 16, 2, 3, 1, 1, 2, 2, 7, 1, 1, 1, 1, 6, 2, 1, 1, 2, 3, 6, 1, 2, 2, 4, 4, 1, 14, 4, 1, 16, 1, 1, 6, 1, 1, 1, 11, 1, 6, 1, 1, 1, 1, 2, 1, 1, 6, 3, 5, 1, 6, 1, 1, 2, 2, 4, 2, 1, 1, 7, 13, 5, 1, 1, 2, 1, 1, 3, 1, 7, 1, 2, 1, 2, 1, 2, 1, 1, 2, 3, 1, 4, 1, 7, 2, 5, 5, 1, 3, 1, 1, 4, 1, 1, 1, 6, 1, 1, 4, 3, 1, 2, 1, 1, 7, 1, 1, 3, 1, 1, 6, 1, 1, 5, 2, 11, 1, 4, 1, 1, 1, 7, 1, 1, 1, 4, 1, 3, 21, 3, 1, 1, 1, 2, 1, 1, 1, 1, 1, 1, 1, 17, 4, 1, 13, 1, 1, 1, 1, 1, 2, 5, 7, 8, 1, 1, 1, 1, 4, 3, 1, 6, 6, 1, 1, 6, 1, 1, 1, 1, 4, 7, 2, 1, 1, 1, 2, 1, 1, 7, 1, 1, 2, 2, 1, 1, 33, 1, 4, 1, 2, 1, 2, 1, 1, 1, 2, 9, 3, 1, 1, 2, 3, 1, 1, 1, 1, 8, 10, 2, 1, 1, 1, 1, 48, 1, 2, 11, 1, 1, 3, 1, 6, 2, 2, 2, 3, 1, 3, 2, 3, 3, 1, 2, 1, 2, 1, 7, 2, 1, 1, 1, 1, 2, 1, 2, 2, 5, 11, 6, 1, 1, 1, 2, 19, 44, 1, 1, 4, 1, 6, 1, 2, 4, 10, 5, 1, 2, 3, 5, 3, 7, 7, 1, 1, 2, 2, 1, 4, 2, 1, 4, 1, 1, 2, 2, 1, 20, 1, 1, 5, 6, 6, 8, 4, 2, 3, 6, 1, 2, 14, 4, 2, 1, 3, 1, 8, 10, 2, 1, 1, 4, 7, 1, 3, 2, 5, 1, 1, 3, 1, 6, 4, 2, 2, 1, 5, 1, 1, 3, 1, 1, 2, 1, 1, 7, 1, 3, 4, 1, 2, 1, 1, 1, 2, 1, 1, 4, 1, 1, 2, 2, 8, 1, 7, 6, 4, 1, 24, 1, 1, 1, 1, 1, 6, 4, 1, 1, 7, 4, 8, 1, 2, 8, 12, 2, 1, 1, 1, 1, 1, 1, 2, 2, 1, 2, 7, 1, 6, 5, 2, 1, 6, 21, 1, 1, 1, 1, 6, 1, 1, 5, 2, 8, 1, 2, 6, 1, 1, 1, 1, 8, 1, 3, 8, 1, 1, 1, 12, 1, 9, 4, 1, 1, 2, 1, 3, 3, 1, 2, 3, 1, 1, 3, 1, 1, 3, 1, 1, 1, 2, 1, 1, 3, 2, 45, 10, 1, 1, 2, 1, 1, 1, 1, 3, 1, 1, 2, 1, 1, 4, 2, 27, 1, 1, 1, 7, 3, 4, 7, 6, 2, 1, 2, 2, 6, 1, 1, 1, 2, 2, 1, 1, 18, 1, 5, 21, 6, 1, 5, 2, 1, 3, 1, 3, 1, 1, 408, 17, 1, 3, 15, 4, 1, 3, 9, 1, 1, 31, 1, 2, 3, 10, 5, 2, 2, 2, 1, 9, 2, 1, 4, 1, 1, 3, 1, 1, 1, 2, 1, 3, 3, 1, 2, 27, 2, 1, 2, 1, 11, 1, 1, 1, 3, 1, 1, 1, 1, 6, 1, 1, 1, 1, 2, 1, 10, 4, 3, 3, 1, 1, 1, 1, 2, 2, 4, 3, 9, 1, 1, 1, 7, 8, 3, 1, 2, 2, 8, 6, 1, 11, 1, 15, 2, 7, 1, 1, 2, 1, 4, 3, 1, 4, 3, 1, 11, 1, 2, 2, 1, 4, 1, 1, 1, 1, 2, 1, 3, 12, 2, 1, 1, 2, 1, 2, 1, 1, 8, 1, 2, 1, 1, 1, 3, 8, 1, 1, 1, 3, 1, 3, 1, 3, 3, 2, 1, 5, 6, 1, 3, 1, 4, 4, 10, 1, 2, 1, 1, 2, 1, 1, 1, 1, 1, 1, 3, 2, 1, 1, 1, 3, 1, 1, 15, 1, 1, 3, 1, 2, 1, 2, 1, 5, 1, 22, 1, 9, 1, 1, 1, 1, 3, 1, 1, 5, 1, 1, 1, 3, 3, 1, 1, 1, 1, 2, 3, 3, 1, 1, 1, 1, 11, 1, 1, 1, 1, 4, 3, 2, 1, 2, 2, 1, 1, 185, 7, 6, 1, 3, 2, 2, 2, 10, 1, 4, 1, 5, 1, 12, 1, 7, 1, 1, 7, 1, 1, 8, 3, 1, 8, 1, 4, 1, 3, 3, 2, 1, 4, 1, 2, 1, 3, 1, 1, 3, 1, 1, 4, 1, 10, 4, 1, 1, 2, 2, 1, 3, 1, 2, 8, 2, 2, 12, 1, 4, 17, 7, 1, 1, 1, 3, 1, 1, 10, 2, 1, 5, 1, 1, 5, 1, 2, 2, 1, 2, 1, 2, 1, 1, 1, 1, 1, 2, 7, 7, 1, 1, 4, 1, 11, 1, 1, 1, 2, 1, 1, 1, 1, 2, 1, 1, 1, 1, 2, 5, 1, 3, 1, 1, 3, 1, 1, 1, 1, 12, 1, 4, 1, 3, 3, 4, 3, 1, 4, 1, 6, 2, 6, 1, 1, 1, 1, 1, 9, 5, 1, 6, 5, 1, 2, 1, 3, 1, 1, 4, 1, 8, 4, 9, 2, 1, 20, 1, 1, 2, 1, 1, 1, 1, 1, 1, 1, 8, 5, 1, 1, 2, 1, 3, 1, 1, 1, 2, 4, 2, 1, 1, 1, 8, 2, 4, 1, 4, 4, 4, 4, 16, 1, 1, 1, 6, 7, 2, 1, 1, 1, 7, 1, 1, 1, 1, 4, 5, 7, 2, 1, 1, 1, 1, 1, 1, 1, 1, 1, 1, 2, 5, 5, 1, 1, 2, 9, 1, 1, 1, 1, 2, 1, 3, 2, 4, 2, 2, 23, 4, 2, 2, 2, 2, 13, 24, 3, 1, 1, 8, 4, 7, 2, 1, 1, 1, 1, 2, 1, 2, 3, 2, 3, 1, 9, 3, 1, 2, 1, 1, 4, 1, 1, 1, 1, 1, 2, 2, 4, 6, 1, 1, 1, 1, 1, 1, 1, 2, 1, 4, 1, 7, 2, 1, 1, 2, 1, 1, 1, 2, 8, 1, 1, 1, 11, 2, 4, 8, 2, 2, 1, 1, 2, 8, 2, 1, 2, 2, 35, 1, 2, 2, 3, 1, 1, 1, 1, 1, 2, 3, 6, 24, 1, 1, 1, 1, 6, 1, 2, 2, 8, 5, 2, 1, 8, 1, 7, 3, 1, 2, 2, 2, 1, 2, 2, 1, 1, 2, 1, 1, 2, 7, 2, 1, 1, 1, 1, 2, 6, 1, 4, 1, 2, 2, 2, 1, 1, 4, 1, 8, 1, 1, 2, 3, 4, 1, 3, 2, 3, 4, 1, 1, 1, 1, 1, 1, 7, 1, 3, 5, 2, 1, 1, 1, 2, 3, 4, 1, 1, 7, 4, 2, 1, 1, 1, 2, 2, 13, 1, 6, 1, 2, 2, 2, 1, 7, 5, 1, 1, 2, 2, 5, 1, 1, 7, 2, 1, 2, 1, 6, 1, 5, 1, 1, 1, 46, 1, 1, 1, 7, 5, 1, 1, 4, 2, 1, 6, 4, 1, 1, 2, 1, 12, 2, 4, 1, 1, 1, 1, 2, 2, 1, 1, 1, 1, 1, 1, 9, 6, 4, 2, 1, 1, 1, 4, 1, 1, 1, 1, 2, 3, 1, 2, 1, 1, 1, 1, 4, 5, 5, 1, 3, 2, 6, 6, 7, 1, 1, 1, 1, 3, 2, 2, 1, 5, 1, 1, 1, 1, 4, 1, 10, 3, 19, 8, 13, 7, 2, 1, 1, 14, 1, 9, 2, 4, 6, 5, 13, 10, 2, 7, 5, 3, 1, 1, 8, 1, 1, 1, 9, 7, 7, 1, 1, 1, 1, 6, 6, 4, 1, 1, 2, 1, 2, 4, 1, 1, 1, 1, 3, 5, 2, 1, 2, 1, 1, 2, 5, 1, 14, 1, 2, 1, 1, 6, 6, 2, 1, 1, 2, 1, 2, 13, 4, 16, 1, 2, 1, 1, 6, 1, 1, 1, 7, 1, 15, 1, 3, 1, 1, 1, 2, 6, 1, 41, 6, 6, 1, 10, 1, 5, 1, 2, 5, 1, 2, 1, 2, 2, 1, 2, 1, 3, 3, 8, 2, 2, 1, 33, 1, 2, 17, 2, 10, 11, 1, 2, 1, 12, 1, 10, 1, 5, 7, 1, 16, 6, 5, 2, 4, 5, 1, 1, 3, 1, 1, 5, 1, 1, 9, 1, 1, 3, 1, 2, 1, 1, 3, 1, 2, 1, 2, 4, 1, 12, 1, 9, 35, 1, 11, 6, 1, 4, 1, 1, 1, 1, 1, 1, 1, 1, 7, 1, 1, 1, 1, 2, 1, 1, 1, 1, 4, 2, 1, 15, 17, 4, 4, 5, 1, 5, 4, 7, 1, 4, 2, 1, 2, 8, 2, 1, 1, 1, 2, 18, 1, 1, 1, 1, 1, 1, 2, 4, 3, 1, 1, 1, 1, 1, 2, 4, 1, 1, 5, 2, 3, 2, 1, 1, 3, 1, 3, 1, 1, 1, 3, 1, 10, 6, 2, 12, 3, 6, 1, 1, 3, 1, 1, 1, 5, 1, 1, 3, 2, 1, 1, 1, 1, 4, 2, 1, 1, 7, 5, 1, 19, 3, 1, 1, 1, 1, 1, 3, 3, 4, 6, 9, 4, 1, 3, 2, 7, 1, 1, 1, 9, 1, 4, 2, 1, 2, 18, 1, 1, 1, 6, 1, 1, 1, 1, 1, 1, 1, 1, 1, 1, 1, 2, 12, 3, 7, 1, 1, 2, 1, 2, 8, 2, 3, 3, 1, 1, 1, 1, 1, 1, 3, 2, 3, 1, 2, 1, 18, 1, 7, 1, 5, 8, 1, 6, 1, 1, 1, 2, 3, 1, 2, 1, 1, 1, 4, 11, 63, 1, 2, 5, 1, 1, 1, 2, 1, 1, 1, 6, 4, 1, 2, 1, 3, 1, 3, 1, 7, 1, 1, 1, 3, 1, 1, 1, 1, 2, 2, 6, 4, 1, 1, 6, 1, 5, 1, 1, 1, 1, 6, 9, 1, 1, 2, 2, 2, 1, 5, 2, 1, 4, 3, 1, 2, 9, 3, 1, 1, 1, 1, 4, 4, 4, 3, 2, 1, 1, 3, 1, 3, 1, 1, 18, 1, 1, 1, 3, 4, 4, 21, 1, 1, 1, 1, 1, 1, 2, 7, 12, 3, 9, 1, 1, 2, 2, 1, 1, 1, 4, 2, 3, 25, 17, 1, 3, 1, 2, 4, 1, 1, 2, 2, 1, 1, 1, 1, 1, 1, 4, 1, 2, 1, 1, 7, 11, 1, 2, 1, 6, 3, 7, 7, 2, 3, 1, 6, 1, 1, 1, 3, 5, 6, 8, 1, 1, 5, 1, 1, 2, 22, 7, 1, 3, 1, 2, 1, 2, 1, 1, 2, 1, 4, 1, 1, 1, 3, 3, 14, 2, 11, 1, 1, 2, 1, 1, 2, 1, 9, 2, 1, 2, 1, 2, 1, 18, 1, 2, 2, 9, 1, 1, 1, 1, 1, 1, 3, 3, 22, 7, 1, 1, 1, 21, 4, 7, 2, 5, 4, 1, 1, 1, 4, 1, 1, 1, 1, 1, 5, 1, 24, 1, 1, 1, 1, 5, 10, 1, 8, 4, 3, 1, 1, 1, 2, 1, 1, 2, 2, 1, 1, 2, 1, 2, 10, 5, 1, 4, 3, 3, 1, 1, 8, 1, 1, 4, 1, 2, 1, 1, 1, 12, 1, 1, 6, 2, 1, 1, 19, 1, 1, 1, 2, 1, 1, 2, 1, 2, 2, 1, 1, 11, 7, 4, 1, 1, 1, 5, 2, 7, 2, 1, 1, 16, 1, 3, 4, 1, 1, 1, 8, 1, 1, 8, 6, 3, 1, 3, 1, 2, 2, 1, 2, 2, 1, 2, 2, 1, 1, 1, 1, 2, 3, 1, 1, 1, 1, 1, 1, 2, 8, 9, 4, 4, 3, 1, 1, 12, 4, 7, 2, 3, 1, 23, 3, 12, 3, 1, 10, 1, 1, 1, 2, 1, 1, 3, 1, 14, 3, 1, 2, 1, 1, 1, 1, 1, 2, 2, 3, 462, 4, 1, 1, 17, 5, 2, 1, 1, 2, 4, 1, 3, 1, 1, 1, 2, 7, 1, 4, 3, 1, 1, 1, 1, 1, 1, 5, 1, 2, 1, 1, 1, 1, 1, 1, 1, 1, 1, 3, 1, 1, 6, 1, 2, 1, 3, 1, 5, 1, 1, 2, 5, 1, 3, 11, 4, 4, 4, 57, 2, 1, 8, 1, 1, 1, 3, 1, 2, 1, 1, 4, 3, 1, 1, 4, 7, 1, 2, 4, 15, 1, 1, 1, 5, 2, 1, 3, 11, 1, 1, 1, 3, 5, 2, 9, 1, 3, 5, 1, 9, 3, 1, 1, 5, 1, 6, 1, 3, 1, 1, 2, 1, 5, 10, 1, 1, 1, 3, 3, 86, 2, 1, 2, 4, 1, 2, 1, 1, 1, 1, 6, 4, 5, 3, 1, 1, 2, 1, 1, 1, 1, 1, 1, 4, 8, 2, 2, 1, 1, 5, 2, 1, 1, 5, 5, 1, 1, 9, 3, 2, 2, 1, 1, 2, 4, 1, 4, 2, 1, 1, 7, 1, 1, 4, 1, 1, 1, 1, 4, 1, 1, 6, 1, 2, 9, 1, 6, 3, 1, 1, 5, 1, 2, 2, 1, 1, 1, 4, 1, 1, 1, 9, 1, 2, 3, 1, 2, 1, 1, 3, 1, 7, 2, 4, 4, 1, 1, 1, 1, 7, 7, 1, 1, 1, 6, 1, 1, 2, 2, 2, 1, 3, 3, 2, 4, 2, 1, 1, 3, 2, 1, 1, 1, 7, 2, 7, 1, 6, 1, 1, 8, 1, 1, 2, 1, 2, 4, 1, 2, 1, 3, 7, 1, 1, 1, 14, 2, 2, 3, 1, 1, 1, 2, 8, 1, 4, 2, 1, 1, 2, 8, 1, 1, 1, 1, 1, 4, 1, 2, 1, 4, 3, 1, 1, 1, 9, 1, 1, 1, 1, 31, 1, 2, 1, 1, 1, 1, 1, 3, 1, 3, 4, 1, 15, 7, 1, 1, 8, 3, 1, 12, 1, 5, 36, 36, 3, 1, 1, 2, 1, 1, 3, 7, 1, 1, 1, 2, 1, 1, 2, 1, 2, 2, 13, 1, 1, 1, 1, 2, 2, 1, 1, 1, 13, 1, 3, 1, 3, 1, 11, 3, 1, 1, 1, 7, 20, 2, 4, 1, 3, 1, 1, 2, 12, 2, 1, 2, 1, 1, 3, 3, 5, 1, 1, 1, 1, 1, 1, 1, 1, 3, 1, 17, 1, 2, 4, 1, 1, 6, 4, 1, 37, 2, 2, 1, 1, 13, 1, 7, 1, 8, 16, 8, 3, 12, 10, 3, 1, 1, 2, 2, 2, 1, 1, 1, 1, 1, 18, 6, 1, 1, 1, 11, 1, 2, 1, 5, 1, 1, 4, 3, 1, 6, 1, 1, 10, 2, 1, 1, 19, 5, 1, 1, 3, 2, 1, 6, 1, 4, 1, 1, 1, 7, 2, 4, 1, 1, 6, 3, 5, 1, 3, 1, 1, 10, 1, 1, 1, 4, 1, 1, 3, 1, 1, 2, 1, 1, 1, 1, 1, 3, 6, 5, 9, 1, 2, 2, 6, 2, 2, 1, 1, 1, 3, 1, 1, 1, 8, 7, 1, 2, 15, 4, 4, 5, 1, 1, 3, 4, 5, 3, 4, 1, 1, 1, 4, 1, 17, 2, 1, 2, 25, 1, 1, 1, 1, 4, 1, 2, 2, 7, 1, 1, 1, 1, 2, 2, 2, 3, 15, 2, 3, 1, 8, 5, 1, 1, 1, 4, 4, 1, 5, 2, 4, 5, 2, 1, 1, 1, 1, 1, 4, 2, 2, 2, 1, 3, 14, 13, 7, 13, 1, 1, 1, 3, 3, 1, 1, 2, 7, 2, 1, 1, 4, 5, 2, 2, 2, 2, 1, 1, 1, 1, 2, 14, 3, 6, 3, 1, 1, 6, 1, 1, 1, 1, 1, 2, 1, 7, 3, 1, 2, 1, 14, 1, 1, 1, 1, 1, 1, 1, 1, 13, 4, 2, 1, 3, 1, 12, 3, 8, 3, 1, 2, 5, 1, 1, 7, 1, 4, 4, 1, 1, 2, 1, 1, 11, 1, 1, 1, 2, 14, 3, 1, 1, 1, 1, 1, 4, 1, 7, 1, 1, 5, 2, 9, 1, 1, 2, 6, 1, 1, 5, 4, 2, 17, 8, 1, 1, 1, 3, 1, 1, 1, 3, 1, 2, 2, 4, 3, 1, 1, 1, 1, 2, 1, 8, 1, 1, 1, 1, 1, 1, 3, 2, 4, 1, 1, 4, 1, 13, 5, 3, 12, 3, 1, 1, 11, 1, 8, 5, 1, 15, 2, 4, 1, 2, 2, 3, 1, 1, 9, 2, 6, 5, 9, 3, 1, 1, 1, 3, 1, 4, 3, 9, 3, 5, 2, 6, 7, 1, 1, 1, 6, 1, 1, 3, 4, 1, 6, 1, 2, 5, 5, 2, 5, 3, 2, 4, 2, 10, 1, 3, 17, 33, 2, 1, 2, 1, 2, 4, 1, 3, 1, 1, 4, 1, 6, 3, 6, 5, 13, 1, 2, 1, 1, 6, 5, 2, 3, 4, 18, 1, 1, 1, 1, 4, 18, 1, 3, 1, 1, 1, 2, 1, 1, 8, 6, 2, 2, 1, 8, 2, 1, 1, 5, 1, 1, 1, 8, 2, 1, 1, 1, 26, 1, 7, 7, 1, 1, 1, 3, 4, 2, 2, 1, 6, 1, 1, 1, 2, 1, 1, 1, 1, 4, 2, 2, 7, 4, 1, 9, 1, 4, 4, 1, 2, 1, 1, 1, 1, 10, 7, 5, 13, 4, 1, 1, 8, 1, 1, 4, 1, 5, 2, 14, 1, 1, 1, 1, 2, 1, 7, 1, 1, 1, 1, 2, 1, 1, 2, 1, 1, 1, 2, 1, 2, 6, 1, 1, 1, 1, 4, 1, 3, 1, 1, 4, 1, 1, 4, 2, 1, 2, 1, 1, 1, 1, 1, 9, 9, 4, 5, 1, 1, 2, 8, 1, 1, 1, 2, 5, 1, 1, 2, 2, 1, 1, 8, 3, 1, 3, 7, 1, 11, 3, 1, 1, 1, 1, 1, 1, 1, 8, 1, 2, 1, 4, 1, 9, 1, 2, 2, 5, 1, 2, 1, 3, 2, 2, 4, 14, 2, 2, 1, 1, 1, 1, 3, 1, 1, 1, 6, 1, 1, 7, 8, 1, 3, 4, 1, 4, 2, 1, 1, 1, 1, 1, 2, 1, 1, 1, 1, 1, 1, 3, 12, 1, 1, 1, 1, 3, 1, 1, 2, 1, 5, 1, 5, 6, 1, 8, 1, 6, 1, 4, 2, 4, 3, 33, 1, 2, 3, 1, 6, 1, 1, 1, 1, 1, 1, 1, 1, 1, 2, 5, 1, 1, 2, 2, 10, 3, 1, 1, 1, 13, 3, 2, 1, 1, 1, 6, 3, 18, 1, 3, 1, 1, 1, 1, 1, 13, 2, 1, 1, 2, 1, 4, 13, 1, 10, 1, 1, 2, 2, 1, 2, 3, 1, 1, 20, 1, 1, 1, 1, 8, 1, 1, 3, 1, 5, 4, 1, 6, 2, 3, 1, 1, 1, 1, 37, 1, 1, 23, 2, 1, 1, 1, 2, 2, 2, 1, 1, 7, 1, 5, 1, 2, 1, 1, 7, 5, 1, 1, 2, 1, 1, 3, 2, 2, 2, 4, 1, 1, 1, 3, 1, 1, 1, 1, 1, 58, 1, 7, 2, 1, 1, 1, 2, 8, 1, 1, 1, 1, 1, 1, 4, 9, 5, 1, 1, 1, 2, 1, 1, 4, 2, 8, 2, 6, 4, 3, 7, 1, 2, 1, 1, 9, 1, 2, 1, 3, 1, 2, 14, 1, 1, 1, 1, 1, 6, 1, 2, 1, 4, 2, 1, 1, 1, 4, 1, 10, 1, 11, 8, 3, 2, 4, 1, 1, 2, 18, 1, 1, 2, 2, 2, 1, 11, 4, 1, 1, 2, 3, 1, 6, 1, 2, 1, 1, 4, 1, 1, 6, 4, 1, 17, 6, 10, 1, 1, 1, 1, 5, 1, 9, 1, 2, 2, 5, 2, 1, 1, 5, 8, 1, 1, 1, 1, 1, 3, 2, 1, 7, 1, 2, 3, 1, 3, 1, 1, 1, 5, 4, 1, 3, 1, 1, 1, 16, 1, 5, 1, 1, 1, 1, 1, 2, 1, 1, 3, 11, 1, 2, 1, 1, 1, 1, 1, 3, 7, 1, 1, 10, 1, 14, 4, 1, 3, 1, 12, 4, 3, 3, 7, 1, 4, 1, 10, 3, 1, 1, 8, 2, 2, 1, 2, 1, 1, 1, 1, 2, 1, 1, 1, 1, 5, 3, 2, 2, 1, 5, 4, 3, 3, 6, 2, 2, 5, 1, 1, 13, 3, 1, 1, 4, 3, 7, 3, 6, 1, 1, 1, 3, 5, 5, 1, 1, 1, 4, 1, 3, 1, 10, 1, 1, 1, 1, 1, 1, 3, 2, 2, 1, 1, 1, 3, 1, 3, 3, 4, 5, 1, 1, 1, 1, 1, 3, 9, 3, 2, 1, 1, 1, 1, 1, 1, 1, 2, 1, 1, 1, 6, 1, 1, 1, 3, 7, 1, 2, 1, 1, 6, 1, 3, 2, 1, 4, 3, 1, 49, 1, 1, 2, 2, 5, 1, 1, 5, 1, 2, 11, 13, 1, 4, 3, 4, 1, 1, 2, 1, 1, 1, 1, 1, 1, 1, 2, 3, 1, 1, 1, 1, 1, 3, 2, 1, 4, 1, 1, 6, 3, 1, 1, 9, 1, 6, 3, 2, 1, 1, 1, 1, 2, 1, 3, 2, 2, 7, 1, 2, 1, 4, 1, 23, 1, 2, 1, 1, 6, 1, 21, 1, 5, 1, 6, 1, 3, 1, 1, 6, 4, 1, 2, 1, 1, 1, 7, 2, 1, 1, 3, 2, 1, 1, 8, 1, 1, 1, 1, 7, 1, 3, 3, 1, 2, 1, 1, 1, 1, 2, 2, 1, 4, 6, 1, 1, 1, 1, 1, 9, 8, 1, 2, 1, 1, 1, 5, 2, 1, 2, 1, 5, 1, 4, 5, 2, 13, 1, 1, 3, 2, 1, 6, 7, 6, 1, 2, 4, 8, 1, 6, 2, 1, 1, 1, 1, 6, 1, 3, 19, 1, 1, 3, 1, 1, 1, 5, 1, 1, 6, 2, 1, 1, 1, 2, 1, 12, 1, 1, 1, 1, 2, 2, 7, 6, 1, 1, 1, 1, 2, 1, 2, 1, 7, 2, 4, 5, 2, 3, 3, 1, 1, 3, 2, 2, 36, 1, 1, 1, 1, 1, 1, 1, 1, 1, 4, 1, 1, 7, 2, 1, 1, 1, 2, 3, 5, 1, 1, 1, 6, 1, 8, 2, 1, 4, 1, 11, 1, 3, 1, 4, 1, 1, 4, 2, 1, 11, 4, 2, 1, 1, 1, 31, 1, 1, 6, 3, 1, 4, 3, 7, 1, 1, 1, 1, 1, 1, 1, 8, 1, 1, 6, 2, 6, 1, 1, 1, 1, 4, 2, 8, 1, 1, 1, 1, 10, 1, 1, 1, 1, 5, 4, 2, 1, 1, 4, 6, 2, 4, 2, 3, 3, 1, 1, 2, 1, 1, 1, 10, 10, 3, 2, 3, 2, 1, 2, 1, 4, 2, 1, 3, 4, 6, 1, 2, 1, 1, 1, 3, 1, 2, 1, 3, 1, 3, 14, 10, 6, 5, 2, 2, 9, 3, 1, 1, 1, 1, 1, 1, 1, 2, 2, 6, 6, 1, 1, 1, 2, 3, 4, 1, 5, 2, 1, 12, 11, 1, 16, 1, 11, 11, 1, 1, 3, 6, 1, 2, 4, 1, 2, 1, 1, 1, 1, 1, 1, 1, 1, 1, 2, 14, 2, 2, 1, 11, 3, 3, 3, 2, 1, 17, 4, 1, 1, 2, 4, 1, 1, 1, 3, 1, 2, 6, 2, 4, 1, 2, 1, 9, 1, 6, 1, 1, 1, 2, 1, 1, 41, 1, 1, 1, 3, 1, 2, 1, 1, 1, 1, 1, 20, 1, 1, 1, 1, 7, 1, 1, 1, 1, 4, 4, 2, 1, 1, 1, 1, 1, 2, 3, 1, 3, 5, 1, 1, 1, 1, 1, 1, 1, 11, 11, 3, 1, 2, 2, 3, 1, 3, 1, 3, 4, 2, 1, 1, 1, 3, 4, 1, 4, 1, 2, 7, 1, 10, 2, 1, 10, 10, 12, 7, 1, 5, 3, 4, 1, 3, 4, 1, 1, 3, 4, 1, 1, 1, 7, 4, 13, 2, 1, 2, 1, 5, 1, 3, 2, 5, 8, 1, 1, 1, 3, 11, 1, 1, 8, 5, 1, 4, 3, 2, 3, 1, 1, 1, 1, 1, 2, 2, 1, 1, 1, 2, 3, 1, 1, 5, 4, 8, 2, 2, 1, 1, 1, 7, 2, 3, 1, 1, 4, 1, 1, 2, 1, 6, 7, 1, 1, 1, 1, 2, 10, 14, 1, 1, 5, 5, 7, 4, 4, 5, 1, 1, 4, 2, 4, 1, 1, 2, 1, 8, 1, 1, 1, 3, 4, 8, 2, 1, 3, 1, 2, 1, 4, 2, 1, 1, 1, 1, 1, 5, 7, 1, 1, 2, 1, 1, 1, 1, 13, 1, 1, 3, 1, 1, 2, 7, 8, 1, 2, 1, 1, 3, 4, 1, 20, 1, 1, 1, 1, 1, 1, 2, 1, 6, 1, 1, 1, 1, 6, 7, 1, 6, 5, 2, 2, 2, 1, 1, 5, 2, 1, 1, 1, 1, 3, 6, 1, 4, 1, 3, 1, 1, 1, 1, 1, 1, 2, 1, 1, 2, 4, 1, 2, 2, 1, 1, 1, 1, 1, 4, 1, 1, 4, 4, 3, 1, 1, 1, 1, 1, 3, 1, 1, 3, 1, 1, 1, 1, 1, 1, 2, 2, 1, 1, 1, 3, 5, 4, 1, 2, 4, 1, 7, 2, 21, 11, 3, 1, 22, 1, 1, 1, 1, 1, 1, 5, 1, 1, 12, 8, 1, 1, 1, 1, 2, 4, 1, 7, 1, 1, 2, 3, 1, 1, 1, 2, 1, 3, 12, 4, 3, 11, 7, 1, 14, 2, 1, 1, 2, 3, 1, 1, 18, 1, 5, 2, 7, 1, 1, 5, 3, 4, 1, 1, 1, 1, 5, 1, 3, 1, 6, 2, 5, 7, 7, 1, 2, 2, 11, 4, 6, 1, 2, 1, 2, 1, 1, 4, 1, 3, 8, 1, 1, 1, 1, 2, 1, 1, 1, 1, 1, 4, 1, 2, 1, 1, 1, 1, 3, 2, 25, 4, 3, 3, 1, 2, 3, 3, 13, 1, 1, 1, 2, 8, 1, 1, 1, 1, 4, 2, 1, 9, 10, 26, 1, 1, 1, 2, 1, 1, 6, 1, 2, 1, 5, 1, 1, 1, 5, 1, 4, 1, 14, 2, 1, 1, 1, 1, 1, 5, 1, 1, 1, 3, 4, 7, 2, 3, 2, 1, 3, 1, 1, 2, 1, 2, 2, 1, 1, 1, 1, 3, 1, 4, 2, 1, 1, 1, 6, 2, 3, 1, 1, 1, 1, 5, 1, 5, 2, 7, 1, 2, 1, 8, 2, 6, 9, 1, 1, 1, 1, 8, 11, 8, 1, 12, 15, 4, 1, 1, 1, 3, 1, 1, 2, 3, 3, 1, 1, 1, 7, 2, 1, 2, 4, 1, 1, 1, 4, 1, 3, 4, 1, 1, 4, 1, 11, 1, 2, 3, 1, 1, 3, 1, 1, 2, 2, 1, 1, 1, 1, 3, 7, 1, 6, 9, 1, 1, 1, 1, 1, 1, 1, 2, 1, 1, 2, 2, 1, 1, 1, 2, 2, 2, 4, 1, 2, 2, 3, 1, 1, 1, 1, 5, 1, 1, 1, 4, 1, 1, 1, 1, 2, 1, 1, 1, 9, 1, 1, 2, 1, 1, 1, 1, 1, 8, 3, 1, 1, 2, 2, 2, 2, 2, 2, 1, 7, 1, 4, 12, 1, 2, 1, 3, 2, 1, 1, 1, 1, 2, 5, 7, 1, 2, 1, 1, 1, 2, 2, 1, 2, 1, 1, 1, 15, 3, 2, 4, 1, 1, 1, 1, 4, 2, 6, 8, 1, 1, 16, 1, 1, 1, 1, 1, 1, 1, 1, 2, 7, 1, 2, 1, 2, 1, 1, 1, 1, 6, 1, 1, 1, 1, 5, 1, 2, 4, 2, 1, 1, 3, 12, 5, 1, 14, 1, 9, 1, 1, 1, 1, 3, 1, 3, 6, 1, 1, 1, 1, 1, 1, 1, 1, 1, 1, 1, 1, 2, 3, 8, 3, 1, 2, 1, 1, 1, 1, 3, 1, 2, 1, 1, 4, 1, 1, 5, 10, 1, 1, 4, 1, 2, 2, 2, 1, 30, 6, 10, 1, 2, 1, 5, 1, 6, 6, 2, 1, 2, 1, 1, 1, 22, 2, 9, 1, 1, 1, 1, 2, 1, 3, 6, 3, 1, 3, 1, 1, 2, 2, 1, 1, 2, 2, 5, 1, 1, 1, 7, 1, 6, 10, 4, 1, 11, 1, 1, 1, 1, 3, 1, 5, 1, 2, 1, 2, 1, 1, 1, 2, 5, 3, 5, 1, 2, 1, 1, 1, 1, 3, 3, 18, 1, 5, 6, 2, 6, 1, 1, 3, 1, 3, 1, 3, 3, 1, 1, 1, 1, 1, 1, 16, 1, 1, 1, 16, 1, 5, 14, 3, 1, 1, 1, 1, 15, 3, 1, 13, 1, 3, 1, 2, 1, 1, 2, 1, 1, 4, 2, 10, 1, 7, 1, 1, 2, 4, 2, 1, 25, 1, 2, 3, 4, 5, 1, 1, 1, 1, 5, 1, 3, 1, 1, 1, 4, 16, 1, 8, 16, 2, 1, 1, 2, 1, 28, 1, 2, 1, 1, 3, 1, 1, 1, 14, 1, 2, 2, 3, 1, 1, 23, 3, 1, 2, 1, 1, 2, 11, 4, 1, 6, 1, 1, 1, 11, 1, 1, 1, 9, 5, 8, 1, 5, 1, 1, 2, 2, 2, 1, 1, 1, 3, 1, 3, 1, 1, 1, 1, 2, 2, 1, 1, 4, 1, 2, 1, 2, 2, 1, 1, 1, 1, 1, 1, 4, 2, 1, 1, 1, 1, 1, 3, 1, 26, 2, 1, 1, 1, 1, 11, 1, 1, 1, 2, 9, 1, 12, 6, 1, 1, 1, 2, 1, 1, 1, 1, 2, 1, 1, 5, 6, 3, 1, 1, 3, 1, 7, 4, 5, 4, 2, 3, 1, 1, 4, 1, 1, 3, 1, 2, 6, 6, 2, 2, 1, 3, 1, 23, 1, 1, 1, 1, 1, 1, 1, 1, 1, 1, 1, 3, 1, 1, 1, 2, 5, 1, 1, 1, 2, 1, 1, 8, 1, 4, 3, 3, 1, 10, 6, 1, 3, 17, 14, 1, 3, 1, 2, 4, 2, 7, 8, 5, 1, 3, 4, 1, 25, 3, 1, 2, 1, 1, 2, 1, 1, 1, 1, 1, 6, 3, 3, 1, 4, 3, 3, 1, 1, 1, 4, 3, 2, 1, 1, 1, 1, 2, 3, 2, 4, 4, 1, 1, 3, 2, 5, 1, 3, 4, 1, 1, 1, 1, 6, 1, 8, 1, 3, 2, 1, 1, 3, 2, 8, 12, 1, 2, 3, 2, 1, 1, 2, 1, 3, 5, 1, 2, 1, 1, 18, 1, 1, 2, 2, 6, 2, 6, 1, 14, 2, 1, 1, 2, 1, 1, 1, 8, 1, 6, 1, 1, 1, 1, 5, 3, 1, 1, 1, 1, 5, 8, 1, 1, 1, 1, 3, 1, 1, 1, 60, 1, 1, 3, 7, 12, 1, 1, 2, 1, 2, 7, 10, 2, 1, 5, 1, 3, 6, 2, 1, 1, 2, 1, 19, 1, 1, 1, 12, 4, 11, 1, 1, 2, 3, 1, 1, 1, 1, 1, 3, 1, 10, 1, 23, 3, 3, 4, 1, 2, 9, 1, 1, 3, 15, 1, 1, 1, 6, 1, 2, 6, 2, 6, 5, 5, 1, 1, 1, 9, 1, 13, 1, 1, 1, 1, 3, 4, 1, 2, 1, 2, 1, 1, 1, 1, 2, 2, 2, 3, 1, 2, 2, 3, 6, 1, 2, 2, 6, 3, 2, 2, 1, 3, 1, 5, 1, 5, 10, 1, 2, 8, 8, 1, 2, 19, 1, 1, 6, 1, 1, 1, 5, 1, 4, 1, 2, 1, 1, 1, 8, 1, 5, 2, 4, 2, 1, 4, 1, 13, 1, 1, 9, 1, 1, 1, 1, 1, 1, 1, 2, 9, 1, 2, 2, 1, 8, 18, 1, 4, 1, 1, 2, 6, 3, 1, 1, 1, 1, 1, 3, 25, 1, 11, 1, 1, 1, 1, 15, 1, 1, 5, 10, 3, 1, 1, 1, 1, 3, 1, 1, 2, 1, 2, 1, 1, 6, 6, 3, 1, 1, 1, 1, 2, 3, 9, 2, 1, 1, 2, 1, 2, 2, 1, 1, 3, 4, 1, 1, 1, 1, 1, 2, 1, 8, 1, 1, 2, 1, 4, 4, 1, 1, 4, 1, 4, 6, 5, 2, 1, 1, 1, 1, 1, 3, 1, 1, 1, 7, 13, 1, 1, 2, 2, 1, 1, 1, 10, 10, 2, 1, 2, 5, 1, 1, 1, 1, 2, 12, 5, 5, 10, 2, 11, 1, 2, 1, 1, 1, 1, 1, 8, 1, 4, 2, 2, 2, 1, 2, 2, 7, 7, 2, 11, 4, 1, 1, 1, 4, 2, 8, 6, 1, 1, 1, 4, 7, 4, 1, 8, 9, 4, 1, 1, 7, 1, 16, 8, 2, 29, 1, 12, 6, 1, 8, 1, 1, 2, 4, 2, 1, 7, 16, 8, 2, 2, 25, 2, 1, 2, 12, 1, 1, 4, 1, 1, 1, 2, 2, 2, 1, 7, 1, 6, 5, 1, 10, 2, 10, 1, 2, 2, 1, 6, 1, 1, 12, 1, 8, 1, 1, 1, 3, 1, 1, 1, 1, 1, 1, 1, 1, 6, 1, 6, 3, 1, 3, 5, 8, 12, 8, 6, 9, 1, 1, 1, 9, 1, 1, 2, 4, 37, 1, 4, 5, 2, 2, 1, 6, 1, 4, 2, 1, 1, 1, 1, 6, 1, 1, 5, 5, 1, 1, 1, 3, 3, 2, 4, 28, 1, 16, 9, 1, 3, 1, 1, 5, 7, 4, 12, 1, 1, 50, 4, 1, 1, 5, 1, 1, 1, 2, 1, 1, 3, 1, 5, 1, 1, 3, 5, 4, 10, 1, 11, 1, 1, 1, 2, 1, 1, 1, 1, 1, 57, 1, 4, 1, 4, 8, 5, 1, 1, 2, 2, 3, 1, 2, 11, 2, 1, 1, 7, 1, 6, 6, 17, 1, 1, 2, 3, 2, 3, 4, 2, 6, 10, 9, 12, 1, 1, 2, 2, 2, 3, 6, 1, 2, 1, 1, 4, 1, 1, 2, 1, 1, 1, 1, 2, 1, 1, 1, 3, 4, 2, 2, 2, 1, 1, 1, 2, 3, 1, 1, 1, 1, 10, 1, 3, 5, 9, 1, 1, 1, 3, 6, 1, 8, 1, 4, 1, 1, 6, 12, 6, 1, 3, 4, 1, 1, 4, 1, 3, 14, 1, 2, 2, 3, 1, 1, 1, 1, 1, 1, 1, 1, 1, 1, 2, 1, 1, 3, 2, 1, 1, 1, 1, 3, 7, 1, 4, 1, 1, 3, 3, 1, 1, 1, 4, 1, 1, 1, 2, 2, 1, 1, 1, 1, 9, 1, 1, 5, 2, 1, 1, 4, 2, 2, 5, 5, 2, 1, 7, 1, 6, 3, 1, 1, 1, 1, 1, 4, 1, 1, 10, 1, 2, 1, 2, 2, 1, 9, 1, 2, 1, 8, 1, 1, 1, 4, 2, 2, 1, 11, 9, 1, 5, 1, 4, 1, 10, 2, 5, 1, 1, 4, 1, 1, 1, 9, 1, 6, 7, 2, 1, 1, 2, 2, 4, 1, 1, 4, 193, 1, 1, 1, 1, 1, 1, 1, 1, 1, 1, 6, 3, 1, 1, 3, 1, 1, 3, 2, 1, 1, 1, 1, 8, 2, 1, 8, 9, 1, 6, 1, 1, 1, 2, 2, 1, 1, 1, 1, 3, 3, 1, 2, 3, 6, 1, 1, 2, 7, 1, 2, 1, 5, 2, 1, 1, 9, 1, 1, 4, 4, 1, 5, 2, 14, 1, 3, 1, 2, 1, 1, 1, 1, 1, 1, 2, 6, 1, 33, 1, 1, 1, 1, 5, 1, 2, 10, 1, 6, 1, 1, 1, 1, 2, 2, 1, 1, 4, 1, 1, 1, 2, 1, 1, 1, 1, 1, 1, 1, 3, 9, 1, 1, 1, 1, 1, 1, 1, 1, 1, 6, 2, 3, 1, 1, 1, 11, 4, 4, 1, 1, 1, 4, 1, 3, 7, 1, 2, 6, 8, 1, 1, 1, 1, 2, 3, 1, 8, 1, 3, 2, 1, 1, 4, 1, 1, 3, 10, 2, 1, 1, 2, 1, 1, 1, 4, 1, 17, 1, 1, 1, 1, 1, 1, 2, 1, 4, 7, 1, 1, 1, 2, 1, 1, 3, 1, 3, 1, 4, 10, 2, 1, 1, 1, 3, 1, 1, 13, 1, 1, 1, 1, 1, 1, 4, 1, 1, 2, 1, 8, 1, 1, 1, 5, 1, 2, 1, 1, 2, 3, 3, 25, 8, 3, 1, 2, 8, 1, 1, 1, 1, 1, 1, 2, 2, 1, 1, 2, 1, 1, 1, 1, 3, 6, 1, 1, 5, 1, 1, 5, 1, 2, 1, 1, 5, 1, 19, 2, 1, 1, 6, 3, 1, 1, 4, 2, 1, 9, 4, 2, 3, 3, 3, 4, 1, 2, 1, 2, 1, 4, 1, 1, 1, 3, 1, 6, 2, 1, 1, 11, 14, 1, 1, 1, 3, 1, 1, 4, 16, 11, 2, 5, 1, 1, 1, 2, 5, 1, 1, 3, 1, 1, 1, 3, 1, 1, 1, 1, 1, 1, 1, 4, 10, 1, 1, 5, 9, 4, 2, 2, 1, 8, 1, 1, 1, 1, 1, 19, 1, 1, 1, 1, 1, 1, 2, 2, 2, 1, 1, 2, 2, 1, 3, 1, 5, 1, 1, 2, 1, 8, 8, 4, 3, 1, 17, 2, 6, 2, 1, 1, 1, 1, 2, 1, 1, 1, 2, 7, 1, 1, 1, 2, 1, 1, 2, 2, 1, 1, 1, 2, 1, 4, 11, 1, 2, 9, 1, 1, 1, 3, 3, 1, 1, 2, 1, 2, 5, 1, 3, 20, 18, 1, 3, 8, 1, 2, 1, 7, 1, 2, 1, 1, 2, 1, 1, 7, 2, 4, 4, 1, 6, 5, 1, 3, 10, 22, 4, 3, 1, 2, 1, 1, 1, 33, 6, 9, 1, 1, 1, 5, 2, 4, 1, 1, 1, 11, 1, 1, 1, 3, 1, 2, 2, 2, 4, 1, 2, 1, 3, 2, 1, 2, 4, 8, 3, 1, 8, 1, 3, 1, 2, 2, 1, 1, 7, 3, 1, 1, 1, 14, 47, 3, 1, 1, 1, 1, 2, 3, 1, 1, 2, 1, 1, 3, 1, 1, 1, 6, 1, 1, 3, 1, 2, 1, 1, 1, 1, 1, 3, 1, 1, 1, 1, 3, 1, 1, 2, 1, 3, 1, 2, 1, 4, 3, 1, 1, 1, 1, 1, 2, 23, 1, 1, 1, 2, 1, 1, 2, 2, 1, 1, 1, 14, 14, 16, 8, 3, 2, 1, 14, 1, 1, 1, 1, 2, 5, 1, 1, 1, 8, 3, 1, 1, 2, 5, 1, 1, 1, 1, 1, 4, 1, 2, 2, 1, 1, 1, 2, 1, 1, 1, 1, 1, 1, 1, 1, 4, 2, 1, 1, 1, 1, 7, 1, 1, 1, 1, 5, 1, 3, 29, 10, 2, 1, 20, 1, 1, 5, 1, 1, 4, 1, 1, 2, 1, 6, 1, 5, 1, 4, 1, 1, 3, 6, 2, 1, 1, 1, 7, 3, 1, 1, 1, 1, 1, 1, 5, 1, 2, 5, 1, 1, 1, 2, 6, 2, 6, 1, 1, 1, 1, 1, 2, 1, 80, 1, 19, 3, 1, 1, 1, 1, 1, 1, 1, 2, 3, 3, 1, 1, 1, 1, 1, 7, 1, 3, 3, 1, 1, 1, 2, 1, 15, 16, 1, 3, 1, 2, 1, 1, 1, 6, 1, 1, 5, 2, 2, 6, 1, 6, 1, 13, 3, 1, 2, 2, 5, 1, 1, 4, 1, 1, 1, 13, 2, 2, 1, 1, 1, 11, 10, 1, 1, 1, 4, 1, 1, 9, 2, 1, 1, 1, 5, 1, 2, 1, 1, 2, 3, 11, 2, 11, 11, 11, 7, 9, 3, 2, 2, 7, 1, 2, 1, 3, 1, 3, 1, 6, 6, 1, 2, 4, 1, 2, 1, 1, 4, 6, 1, 1, 6, 1, 2, 2, 2, 7, 1, 1, 1, 8, 11, 3, 1, 3, 2, 1, 3, 11, 5, 2, 37, 1, 1, 7, 8, 1, 2, 3, 4, 4, 4, 1, 3, 12, 1, 1, 1, 1, 1, 1, 1, 1, 3, 1, 4, 1, 6, 8, 1, 1, 1, 2, 15, 1, 3, 2, 1, 1, 6, 8, 4, 1, 4, 4, 1, 1, 1, 1, 1, 13, 3, 5, 2, 8, 1, 1, 3, 4, 5, 1, 1, 25, 9, 1, 2, 1, 1, 2, 1, 7, 1, 1, 1, 1, 2, 5, 1, 31, 1, 12, 2, 3, 1, 1, 1, 4, 4, 1, 1, 2, 7, 2, 4, 1, 1, 9, 1, 3, 4, 4, 3, 22, 3, 1, 1, 1, 12, 1, 1, 1, 1, 10, 2, 1, 2, 1, 4, 1, 1, 8, 1, 1, 5, 1, 1, 1, 6, 1, 1, 1, 1, 2, 1, 7, 4, 2, 1, 1, 2, 1, 3, 1, 6, 1, 2, 3, 1, 5, 1, 1, 1, 1, 1, 1, 1, 2, 2, 2, 2, 11, 2, 1, 4, 2, 1, 1, 3, 4, 1, 1, 9, 4, 2, 1, 1, 1, 16, 2, 1, 1, 1, 2, 6, 3, 1, 2, 2, 3, 1, 1, 1, 1, 1, 2, 2, 1, 1, 1, 2, 1, 1, 1, 1, 1, 1, 1, 2, 2, 1, 2, 1, 1, 1, 1, 1, 3, 1, 2, 2, 1, 1, 2, 3, 1, 1, 1, 2, 1, 1, 1, 5, 1, 1, 1, 1, 1, 1, 3, 8, 3, 3, 3, 1, 13, 1, 1, 1, 2, 2, 1, 1, 1, 3, 7, 1, 5, 1, 1, 2, 1, 4, 4, 11, 1, 4, 3, 1, 5, 1, 1, 2, 3, 13, 13, 1, 1, 3, 1, 1, 5, 9, 2, 1, 9, 1, 1, 1, 1, 1, 1, 2, 1, 1, 1, 1, 1, 5, 6, 1, 2, 2, 1, 12, 3, 1, 2, 12, 1, 1, 1, 1, 1, 1, 2, 1, 1, 1, 1, 4, 2, 1, 2, 1, 1, 3, 1, 3, 6, 1, 2, 3, 1, 7, 4, 1, 2, 1, 1, 4, 1, 1, 1, 1, 1, 2, 10, 7, 5, 1, 1, 1, 3, 1, 4, 2, 1, 1, 8, 5, 1, 4, 1, 4, 1, 4, 1, 1, 1, 3, 2, 1, 2, 1, 1, 5, 1, 1, 1, 3, 2, 1, 3, 17, 1, 5, 1, 5, 1, 1, 2, 1, 1, 1, 4, 8, 8, 2, 3, 1, 1, 5, 1, 1, 9, 3, 1, 6, 8, 1, 13, 1, 1, 1, 1, 6, 1, 2, 1, 2, 8, 1, 1, 1, 1, 7, 1, 8, 1, 1, 1, 1, 2, 10, 1, 1, 9, 1, 2, 1, 2, 5, 1, 1, 3, 6, 6, 1, 1, 1, 1, 2, 5, 2, 1, 1, 5, 4, 1, 3, 1, 9, 12, 7, 7, 15, 1, 1, 6, 2, 1, 4, 1, 12, 1, 1, 1, 1, 3, 1, 9, 4, 1, 1, 38, 1, 1, 1, 3, 5, 4, 1, 1, 2, 7, 3, 3, 1, 1, 1, 2, 2, 2, 1, 1, 1, 2, 5, 1, 1, 1, 2, 1, 2, 1, 1, 3, 7, 1, 1, 2, 3, 1, 1, 14, 4, 1, 1, 1, 1, 4, 4, 2, 1, 5, 5, 2, 2, 3, 1, 2, 1, 213, 3, 1, 4, 1, 6, 1, 1, 1, 4, 1, 1, 8, 2, 1, 2, 3, 1, 5, 1, 1, 7, 1, 6, 1, 8, 4, 2, 1, 1, 1, 1, 1, 19, 8, 16, 1, 3, 1, 1, 2, 2, 3, 1, 3, 2, 1, 1, 14, 2, 1, 3, 1, 1, 2, 1, 2, 2, 5, 4, 8, 1, 1, 2, 2, 1, 4, 5, 7, 2, 12, 1, 1, 1, 4, 1, 1, 1, 2, 2, 1, 1, 1, 1, 1, 13, 1, 3, 38, 3, 1, 2, 1, 1, 1, 9, 4, 20, 11, 4, 3, 8, 1, 1, 1, 6, 1, 2, 51, 3, 3, 1, 2, 1, 3, 1, 41, 4, 5, 1, 2, 1, 1, 1, 12, 1, 2, 1, 1, 4, 2, 2, 1, 1, 1, 9, 1, 20, 2, 1, 1, 1, 1, 4, 9, 9, 5, 17, 1, 1, 1, 1, 1, 1, 11, 12, 3, 8, 7, 1, 1, 3, 5, 1, 7, 5, 9, 1, 4, 4, 1, 1, 5, 2, 1, 1, 1, 1, 1, 1, 3, 5, 1, 3, 1, 2, 1, 3, 1, 12, 2, 1, 1, 1, 1, 6, 5, 1, 2, 7, 1, 12, 3, 1, 4, 1, 3, 4, 1, 3, 5, 1, 1, 1, 3, 3, 5, 1, 5, 7, 6, 1, 1, 3, 7, 1, 8, 1, 7, 3, 2, 1, 1, 4, 5, 2, 2, 1, 1, 1, 2, 1, 8, 1, 1, 2, 1, 2, 3, 4, 2, 1, 1, 1, 19, 2, 1, 4, 5, 13, 13, 2, 3, 5, 12, 1, 1, 1, 5, 1, 1, 1, 1, 10, 8, 7, 2, 1, 7, 2, 1, 11, 1, 1, 4, 1, 7, 1, 1, 7, 19, 5, 5, 4, 1, 1, 1, 2, 4, 4, 1, 1, 3, 2, 1, 1, 1, 2, 3, 1, 5, 1, 2, 1, 1, 1, 1, 1, 10, 1, 1, 2, 1, 1, 4, 41, 2, 1, 2, 1, 7, 8, 3, 2, 4, 1, 1, 1, 7, 3, 1, 1, 1, 3, 11, 2, 1, 1, 5, 1, 2, 7, 3, 1, 1, 1, 1, 6, 2, 3, 1, 1, 1, 3, 1, 1, 1, 1, 1, 3, 1, 2, 8, 1, 1, 4, 1, 2, 13, 4, 6, 6, 1, 1, 1, 1, 1, 1, 1, 1, 2, 1, 3, 1, 8, 2, 1, 3, 5, 16, 1, 4, 1, 1, 1, 2, 1, 3, 4, 1, 1, 11, 1, 2, 2, 2, 1, 1, 6, 1, 4, 2, 2, 1, 1, 10, 5, 4, 2, 4, 1, 2, 3, 1, 1, 4, 3, 1, 1, 2, 1, 2, 1, 4, 3, 1, 2, 8, 4, 1, 1, 11, 7, 1, 1, 2, 1, 1, 1, 1, 1, 4, 3, 1, 1, 1, 1, 3, 2, 21, 4, 1, 2, 1, 2, 3, 5, 3, 1, 1, 1, 1, 1, 2, 1, 1, 1, 1, 1, 3, 1, 1, 1, 1, 1, 1, 1, 1, 1, 1, 1, 6, 9, 1, 1, 1, 1, 6, 4, 5, 2, 2, 2, 2, 2, 4, 9, 1, 2, 4, 1, 1, 1, 6, 4, 2, 5, 1, 1, 1, 1, 1, 4, 1, 1, 3, 2, 3, 1, 2, 5, 2, 6, 7, 1, 1, 24, 1, 1, 1, 2, 11, 3, 1, 1, 1, 6, 3, 1, 2, 4, 1, 1, 3, 1, 1, 1, 1, 1, 1, 2, 1, 1, 1, 1, 7, 1, 1, 1, 1, 5, 1, 1, 3, 1, 1, 1, 3, 1, 2, 1, 1, 1, 6, 1, 1, 1, 1, 11, 1, 3, 6, 3, 11, 1, 1, 2, 1, 2, 2, 1, 1, 2, 1, 7, 2, 1, 1, 3, 1, 1, 1, 3, 1, 1, 1, 2, 1, 1, 1, 1, 6, 3, 2, 1, 1, 9, 1, 1, 4, 1, 2, 2, 1, 1, 1, 1, 1, 1, 1, 1, 1, 1, 2, 8, 1, 4, 1, 6, 1, 1, 2, 1, 1, 2, 4, 1, 5, 3, 1, 17, 1, 6, 11, 1, 2, 1, 1, 1, 2, 1, 7, 1, 1, 1, 3, 1, 2, 5, 3, 1, 1, 10, 2, 1, 3, 2, 1, 4, 1, 6, 2, 1, 1, 1, 1, 2, 1, 10, 2, 1, 1, 1, 5, 4, 2, 2, 1, 1, 1, 2, 5, 1, 1, 2, 1, 1, 1, 1, 3, 8, 10, 2, 1, 1, 1, 1, 2, 3, 2, 26, 12, 1, 4, 1, 1, 1, 1, 1, 1, 2, 2, 1, 9, 1, 1, 24, 1, 6, 1, 1, 53, 2, 3, 8, 3, 1, 7, 20, 1, 1, 1, 2, 1, 1, 2, 7, 1, 1, 5, 5, 3, 1, 4, 1, 1, 1, 2, 1, 2, 1, 1, 3, 1, 8, 4, 2, 1, 5, 2, 4, 3, 4, 3, 22, 8, 3, 1, 4, 1, 9, 2, 3, 1, 2, 2, 1, 1, 14, 1, 1, 1, 1, 1, 1, 4, 2, 9, 14, 2, 1, 1, 1, 17, 6, 2, 2, 3, 6, 6, 3, 1, 2, 1, 2, 9, 1, 1, 5, 1, 1, 3, 2, 1, 1, 1, 1, 2, 3, 1, 5, 1, 2, 2, 1, 2, 6, 1, 1, 1, 16, 1, 1, 2, 5, 3, 2, 1, 2, 1, 11, 1, 2, 1, 1, 1, 1, 1, 4, 23, 1, 3, 8, 1, 1, 2, 1, 1, 2, 1, 1, 1, 1, 4, 2, 1, 1, 1, 1, 1, 7, 2, 1, 4, 1, 1, 4, 2, 4, 1, 1, 8, 1, 1, 1, 1, 1, 1, 9, 5, 1, 1, 1, 1, 1, 5, 2, 1, 1, 3, 4, 4, 1, 6, 10, 5, 4, 1, 1, 2, 2, 2, 1, 1, 6, 1, 2, 2, 3, 1, 46, 1, 1, 1, 1, 4, 3, 1, 5, 1, 1, 1, 1, 7, 11, 1, 1, 1, 1, 1, 5, 1, 3, 1, 2, 4, 3, 3, 1, 4, 2, 2, 1, 1, 1, 1, 1, 1, 15, 4, 2, 11, 4, 3, 1, 3, 1, 1, 2, 1, 1, 3, 1, 1, 1, 2, 2, 2, 1, 1, 2, 1, 1, 1, 1, 1, 5, 1, 1, 1, 9, 4, 9, 6, 1, 3, 9, 1, 5, 1, 1, 1, 1, 1, 3, 1, 1, 12, 2, 1, 16, 1, 12, 5, 5, 5, 3, 1, 1, 1, 1, 1, 1, 5, 1, 7, 7, 2, 10, 1, 1, 1, 8, 1, 5, 3, 1, 5, 1, 3, 1, 10, 4, 1, 1, 1, 1, 3, 1, 1, 1, 2, 3, 4, 1, 1, 1, 2, 5, 1, 1, 3, 1, 4, 4, 1, 2, 9, 2, 1, 1, 2, 1, 1, 1, 1, 1, 1, 2, 1, 1, 4, 2, 1, 1, 6, 1, 7, 1, 2, 2, 3, 1, 1, 1, 1, 1, 5, 2, 2, 1, 1, 1, 1, 1, 1, 1, 1, 6, 1, 1, 1, 1, 1, 1, 1, 1, 1, 1, 1, 1, 6, 13, 3, 4, 7, 4, 1, 1, 1, 1, 17, 1, 2, 1, 5, 3, 2, 1, 2, 2, 1, 2, 2, 1, 2, 1, 1, 2, 1, 1, 1, 2, 1, 2, 8, 1, 1, 1, 1, 1, 2, 3, 3, 1, 2, 1, 1, 1, 3, 1, 3, 1, 1, 1, 3, 1, 2, 36, 1, 1, 1, 1, 1, 1, 4, 3, 1, 4, 1, 7, 1, 2, 2, 1, 1, 3, 1, 2, 1, 1, 5, 3, 1, 1, 1, 1, 4, 1, 42, 1, 1, 2, 7, 1, 7, 8, 3, 7, 4, 2, 2, 3, 1, 1, 1, 1, 6, 1, 1, 5, 7, 12, 5, 8, 9, 18, 1, 1, 10, 1, 1, 2, 8, 2, 11, 1, 1, 2, 2, 8, 4, 8, 5, 7, 2, 1, 23, 4, 16, 11, 4, 3, 1, 1, 6, 2, 4, 6, 6, 2, 1, 28, 8, 7, 1, 2, 1, 1, 6, 1, 3, 2, 2, 1, 8, 1, 1, 4, 5, 1, 2, 22, 1, 4, 3, 2, 10, 1, 1, 9, 18, 12, 4, 7, 1, 1, 6, 2, 10, 1, 2, 1, 1, 1, 1, 1, 1, 10, 5, 3, 9, 1, 1, 1, 7, 8, 1, 2, 1, 1, 1, 1, 1, 6, 1, 2, 1, 9, 2, 8, 2, 6, 1, 2, 4, 2, 1, 2, 3, 3, 1, 1, 1, 1, 1, 1, 1, 1, 1, 1, 1, 7, 2, 4, 11, 5, 3, 5, 5, 3, 1, 1, 1, 2, 2, 1, 1, 2, 2, 2, 2, 1, 1, 1, 2, 2, 1, 1, 2, 4, 7, 4, 1, 1, 1, 1, 3, 2, 1, 1, 1, 1, 2, 2, 3, 4, 1, 14, 13, 1, 1, 4, 3, 4, 41, 1, 1, 3, 1, 1, 1, 1, 1, 4, 2, 32, 1, 1, 1, 1, 1, 1, 1, 2, 2, 1, 1, 6, 2, 1, 1, 1, 1, 1, 1, 1, 8, 2, 7, 1, 3, 2, 4, 1, 1, 3, 1, 5, 1, 2, 1, 1, 1, 1, 1, 1, 1, 2, 2, 8, 4, 2, 3, 1, 2, 1, 1, 1, 1, 1, 1, 1, 1, 2, 2, 4, 3, 9, 11, 2, 1, 7, 1, 1, 1, 1, 1, 11, 3, 1, 2, 2, 3, 3, 7, 1, 1, 3, 2, 4, 2, 2, 1, 2, 3, 19, 4, 1, 1, 1, 1, 1, 1, 3, 3, 1, 1, 1, 1, 2, 13, 3, 5, 1, 1, 1, 1, 5, 1, 4, 9, 1, 1, 3, 1, 1, 1, 5, 2, 1, 1, 1, 4, 1, 1, 2, 2, 2, 1, 1, 1, 1, 9, 1, 3, 7, 1, 1, 13, 8, 7, 1, 1, 1, 1, 6, 1, 1, 1, 1, 1, 1, 4, 1, 1, 11, 6, 1, 1, 5, 1, 1, 4, 1, 1, 1, 3, 1, 2, 3, 1, 1, 1, 1, 2, 15, 1, 4, 2, 1, 1, 2, 6, 1, 1, 1, 1, 2, 1, 1, 2, 2, 14, 1, 1, 3, 1, 5, 2, 2, 1, 1, 3, 1, 1, 1, 1, 1, 1, 1, 1, 1, 1, 1, 1, 3, 1, 1, 1, 6, 4, 1, 3, 1, 10, 2, 10, 2, 3, 1, 2, 1, 2, 1, 2, 3, 1, 1, 1, 1, 1, 1, 1, 1, 1, 1, 1, 1, 1, 8, 5, 3, 5, 1, 1, 1, 1, 3, 3, 6, 2, 1, 2, 1, 4, 2, 5, 3, 4, 9, 1, 1, 8, 2, 1, 1, 2, 2, 181, 1, 5, 1, 1, 6, 4, 3, 5, 1, 1, 8, 1, 1, 1, 1, 2, 1, 24, 1, 5, 5, 12, 3, 1, 1, 1, 5, 1, 1, 1, 1, 5, 1, 11, 1, 1, 6, 1, 7, 1, 1, 1, 1, 3, 4, 4, 4, 1, 1, 1, 1, 3, 2, 1, 1, 1, 5, 1, 2, 3, 3, 10, 1, 1, 2, 2, 2, 2, 1, 1, 3, 1, 1, 11, 6, 1, 1, 1, 1, 2, 1, 2, 4, 1, 1, 3, 1, 5, 3, 1, 4, 2, 2, 3, 2, 2, 1, 3, 6, 1, 4, 1, 1, 2, 1, 1, 1, 1, 4, 1, 6, 1, 9, 3, 1, 1, 1, 1, 2, 1, 2, 1, 7, 3, 3, 2, 1, 3, 2, 1, 2, 1, 1, 1, 14, 1, 1, 1, 1, 8, 1, 3, 4, 2, 3, 1, 1, 1, 2, 2, 2, 2, 3, 2, 2, 6, 3, 1, 2, 1, 1, 4, 1, 6, 1, 6, 3, 1, 1, 2, 1, 1, 136, 4, 12, 82, 1, 1, 4, 1, 4, 1, 1, 5, 2, 1, 1, 1, 4, 13, 1, 2, 11, 6, 1, 3, 2, 2, 1, 3, 9, 9, 2, 6, 1, 1, 1, 2, 2, 1, 1, 1, 1, 5, 2, 1, 1, 1, 16, 2, 3, 4, 1, 1, 1, 4, 10, 11, 1, 3, 1, 1, 2, 1, 2, 9, 1, 15, 4, 1, 3, 12, 23, 1, 1, 1, 2, 2, 1, 4, 1, 3, 4, 1, 11, 1, 1, 2, 1, 1, 1, 1, 1, 4, 2, 6, 3, 1, 4, 1, 1, 1, 2, 1, 1, 1, 5, 5, 1, 1, 1, 2, 1, 1, 2, 3, 2, 2, 1, 2, 8, 7, 2, 1, 8, 25, 11, 2, 1, 5, 3, 3, 13, 2, 4, 12, 5, 1, 1, 2, 1, 1, 1, 10, 8, 4, 1, 2, 3, 1, 1, 1, 4, 3, 11, 8, 1, 5, 1, 1, 1, 2, 8, 5, 1, 1, 1, 1, 2, 1, 1, 3, 13, 1, 1, 7, 2, 1, 7, 1, 2, 2, 10, 2, 17, 2, 1, 1, 1, 9, 9, 9, 3, 1, 1, 1, 1, 1, 2, 1, 1, 1, 2, 1, 2, 2, 1, 3, 1, 1, 1, 2, 1, 1, 1, 4, 1, 1, 1, 2, 1, 2, 1, 7, 8, 1, 3, 1, 1, 7, 1, 1, 1, 1, 1, 1, 1, 4, 4, 13, 2, 1, 1, 1, 1, 2, 5, 2, 2, 2, 6, 1, 1, 1, 2, 2, 16, 1, 1, 2, 1, 1, 1, 1, 1, 2, 3, 1, 2, 3, 2, 1, 1, 5, 5, 1, 2, 2, 11, 2, 1, 3, 1, 1, 2, 1, 1, 2, 1, 1, 1, 1, 1, 2, 1, 1, 1, 3, 6, 1, 2, 1, 1, 1, 1, 1, 4, 2, 4, 1, 3, 7, 1, 3, 1, 63, 1, 1, 2, 1, 11, 1, 1, 1, 5, 6, 1, 4, 2, 1, 1, 1, 1, 1, 5, 15, 1, 4, 1, 3, 1, 2, 13, 1, 4, 5, 1, 2, 5, 1, 42, 1, 2, 1, 1, 1, 2, 1, 6, 1, 2, 4, 1, 1, 1, 2, 1, 2, 2, 1, 2, 1, 1, 2, 1, 1, 1, 1, 1, 1, 2, 2, 5, 1, 1, 3, 1, 1, 2, 1, 1, 3, 2, 1, 2, 2, 2, 1, 3, 1, 2, 27, 1, 1, 2, 1, 2, 1, 1, 2, 1, 1, 1, 1, 1, 2, 1, 19, 3, 2, 2, 1, 1, 12, 1, 1, 2, 1, 2, 4, 1, 8, 2, 1, 1, 2, 4, 2, 2, 1, 8, 1, 1, 1, 3, 8, 1, 1, 1, 1, 4, 2, 2, 1, 1, 1, 1, 4, 2, 1, 1, 12, 1, 3, 5, 1, 1, 1, 3, 1, 2, 5, 1, 1, 1, 1, 4, 3, 1, 2, 3, 1, 1, 1, 1, 2, 1, 1, 96, 1, 2, 1, 1, 1, 1, 4, 1, 1, 2, 1, 2, 5, 1, 1, 2, 4, 1, 6, 1, 1, 1, 1, 1, 1, 6, 1, 6, 4, 7, 1, 1, 1, 1, 1, 1, 1, 1, 1, 1, 1, 1, 1, 1, 7, 2, 1, 1, 1, 1, 3, 3, 2, 12, 1, 1, 7, 3, 2, 1, 3, 1, 3, 1, 2, 6, 1, 1, 4, 1, 10, 1, 1, 1, 1, 1, 1, 1, 1, 2, 2, 4, 2, 1, 1, 1, 1, 10, 2, 3, 9, 1, 2, 1, 1, 2, 7, 2, 1, 1, 2, 2, 1, 1, 12, 1, 64, 6, 1, 1, 1, 1, 5, 2, 9, 2, 3, 1, 1, 1, 1, 23, 1, 1, 1, 2, 1, 1, 1, 1, 5, 4, 8, 1, 1, 5, 4, 46, 1, 1, 1, 57, 2, 1, 1, 2, 1, 4, 1, 7, 6, 1, 1, 8, 1, 2, 6, 8, 1, 1, 1, 1, 16, 3, 1, 3, 1, 3, 1, 2, 1, 1, 5, 1, 3, 1, 1, 1, 2, 1, 7, 7, 7, 10, 1, 1, 1, 1, 2, 1, 1, 5, 5, 2, 1, 1, 1, 3, 1, 1, 2, 1, 2, 1, 2, 1, 9, 2, 1, 2, 2, 1, 5, 1, 3, 4, 2, 3, 1, 2, 3, 4, 1, 1, 1, 1, 1, 2, 1, 2, 3, 1, 1, 1, 1, 3, 1, 2, 1, 6, 6, 1, 1, 5, 2, 1, 1, 1, 1, 3, 1, 2, 1, 1, 1, 1, 1, 2, 4, 23, 1, 2, 1, 2, 1, 3, 1, 1, 1, 1, 3, 4, 3, 2, 5, 1, 2, 1, 1, 1, 1, 4, 1, 7, 1, 1, 1, 2, 1, 1, 1, 1, 3, 1, 2, 1, 1, 1, 8, 2, 1, 2, 1, 9, 1, 1, 1, 1, 1, 1, 3, 12, 2, 1, 1, 1, 2, 2, 1, 1, 1, 1, 1, 1, 1, 1, 1, 1, 1, 1, 1, 1, 1, 1, 1, 1, 4, 9, 2, 1, 13, 1, 7, 5, 2, 1, 31, 11, 9, 1, 1, 1, 1, 10, 1, 1, 1, 1, 1, 1, 6, 2, 1, 12, 1, 3, 4, 4, 9, 2, 12, 3, 1, 5, 1, 1, 1, 8, 8, 1, 1, 1, 3, 6, 1, 3, 1, 1, 5, 5, 1, 1, 7, 1, 4, 2, 1, 8, 1, 1, 1, 2, 2, 6, 1, 1, 2, 2, 2, 1, 1, 1, 2, 1, 3, 7, 1, 1, 5, 2, 1, 2, 6, 1, 3, 1, 1, 1, 3, 1, 1, 1, 9, 3, 15, 2, 1, 2, 3, 1, 1, 1, 5, 1, 1, 1, 2, 4, 1, 1, 1, 1, 1, 2, 5, 1, 2, 2, 1, 1, 2, 1, 1, 2, 1, 9, 1, 3, 2, 1, 1, 4, 1, 22, 1, 7, 1, 11, 1, 5, 2, 1, 2, 4, 1, 9, 4, 19, 7, 10, 1, 4, 7, 1, 5, 4, 3, 3, 9, 4, 1, 3, 1, 6, 2, 1, 1, 2, 6, 1, 1, 1, 5, 1, 3, 4, 1, 1, 2, 9, 1, 2, 1, 1, 1, 1, 1, 1, 4, 2, 2, 10, 2, 1, 3, 1, 1, 2, 1, 1, 3, 1, 8, 4, 3, 1, 1, 2, 4, 8, 2, 1, 8, 4, 1, 48, 1, 6, 1, 2, 1, 5, 1, 8, 5, 2, 2, 2, 3, 2, 2, 6, 10, 1, 2, 1, 1, 2, 12, 1, 1, 3, 10, 1, 1, 5, 5, 4, 1, 1, 2, 1, 23, 5, 1, 1, 3, 1, 1, 1, 1, 1, 6, 5, 1, 1, 1, 3, 3, 12, 1, 4, 2, 1, 4, 1, 6, 10, 1, 29, 2, 2, 7, 4, 3, 19, 1, 1, 4, 3, 1, 1, 1, 4, 2, 1, 2, 6, 11, 15, 2, 6, 1, 1, 5, 4, 1, 5, 1, 3, 1, 2, 6, 4, 6, 1, 1, 1, 1, 3, 1, 1, 1, 2, 3, 2, 9, 1, 2, 4, 1, 5, 2, 8, 5, 1, 1, 2, 2, 1, 1, 1, 1, 1, 1, 1, 5, 6, 1, 1, 1, 3, 2, 4, 1, 1, 2, 14, 1, 1, 2, 1, 2, 2, 1, 1, 1, 1, 1, 3, 3, 1, 1, 1, 2, 1, 7, 1, 23, 1, 1, 3, 5, 1, 1, 1, 9, 3, 1, 1, 1, 1, 1, 6, 1, 3, 2, 2, 1, 1, 1, 1, 1, 1, 1, 1, 4, 2, 1, 1, 1, 6, 1, 5, 4, 3, 4, 4, 3, 1, 12, 6, 1, 2, 1, 6, 1, 7, 1, 1, 5, 3, 1, 6, 1, 2, 1, 2, 1, 1, 1, 1, 2, 5, 1, 2, 2, 3, 1, 1, 1, 3, 1, 1, 3, 2, 1, 1, 2, 1, 4, 1, 1, 1, 3, 1, 3, 1, 5, 1, 1, 1, 3, 1, 1, 1, 1, 1, 1, 1, 2, 6, 1, 3, 1, 2, 2, 1, 3, 3, 1, 1, 1, 2, 1, 1, 3, 1, 3, 5, 1, 2, 2, 1, 1, 1, 15, 1, 5, 1, 11, 1, 1, 1, 1, 1, 1, 2, 4, 1, 8, 1, 15, 4, 3, 3, 1, 1, 2, 1, 2, 3, 1, 2, 1, 1, 1, 1, 5, 3, 3, 1, 1, 4, 6, 1, 1, 14, 1, 1, 1, 1, 1, 26, 1, 1, 1, 4, 25, 1, 2, 1, 1, 12, 7, 1, 6, 1, 1, 13, 1, 5, 3, 1, 1, 3, 1, 1, 14, 3, 1, 4, 5, 3, 7, 1, 1, 14, 1, 1, 7, 1, 8, 1, 3, 1, 3, 1, 1, 1, 1, 3, 2, 6, 1, 1, 2, 1, 2, 3, 1, 2, 7, 5, 2, 1, 25, 2, 4, 10, 32, 1, 1, 2, 3, 1, 1, 1, 1, 2, 2, 1, 2, 1, 1, 2, 5, 1, 3, 1, 3, 3, 1, 1, 1, 2, 1, 1, 1, 1, 1, 1, 1, 3, 11, 1, 2, 1, 2, 2, 2, 2, 2, 1, 1, 2, 1, 6, 1, 1, 7, 3, 2, 1, 2, 3, 1, 1, 1, 7, 1, 4, 6, 1, 2, 1, 3, 1, 12, 3, 8, 5, 5, 1, 2, 4, 1, 3, 5, 2, 1, 1, 1, 1, 1, 1, 1, 8, 1, 1, 1, 1, 1, 6, 1, 1, 1, 2, 1, 1, 1, 4, 1, 1, 3, 2, 2, 1, 4, 2, 2, 6, 3, 1, 1, 1, 1, 2, 2, 1, 2, 12, 3, 1, 3, 1, 2, 2, 2, 2, 1, 1, 1, 1, 2, 1, 2, 1, 1, 1, 1, 1, 1, 2, 2, 1, 9, 25, 1, 1, 3, 1, 5, 3, 1, 1, 2, 1, 2, 1, 1, 1, 1, 7, 5, 4, 2, 1, 1, 2, 3, 1, 1, 8, 1, 2, 1, 1, 1, 1, 5, 3, 1, 1, 1, 1, 1, 1, 3, 2, 1, 1, 1, 1, 1, 1, 1, 1, 12, 2, 1, 3, 1, 1, 1, 1, 5, 1, 9, 1, 5, 1, 1, 3, 1, 2, 2, 1, 1, 9, 1, 1, 1, 1, 1, 1, 1, 22, 6, 5, 1, 2, 2, 1, 1, 1, 1, 1, 1, 1, 3, 2, 11, 11, 1, 1, 1, 4, 11, 3, 2, 1, 15, 2, 2, 3, 7, 5, 1, 2, 1, 1, 2, 1, 12, 1, 1, 1, 4, 5, 2, 2, 1, 1, 6, 1, 1, 3, 1, 1, 1, 1, 1, 10, 3, 1, 1, 1, 1, 19, 3, 1, 3, 2, 1, 1, 6, 1, 14, 1, 1, 1, 1, 1, 1, 2, 2, 1, 1, 2, 3, 33, 1, 1, 5, 1, 1, 3, 6, 1, 4, 4, 2, 3, 2, 1, 2, 1, 2, 1, 5, 6, 5, 1, 4, 6, 1, 1, 1, 1, 1, 1, 2, 1, 1, 1, 1, 1, 1, 1, 5, 6, 7, 3, 2, 4, 4, 1, 8, 1, 1, 1, 2, 3, 4, 1, 7, 2, 2, 2, 5, 3, 1, 2, 6, 1, 1, 1, 1, 1, 1, 1, 2, 3, 1, 1, 1, 1, 1, 2, 1, 1, 1, 1, 2, 3, 26, 2, 3, 5, 12, 1, 3, 2, 1, 1, 2, 1, 15, 7, 1, 2, 4, 5, 4, 1, 3, 1, 1, 6, 1, 1, 1, 2, 2, 4, 1, 3, 1, 2, 1, 1, 1, 2, 7, 1, 1, 12, 4, 1, 2, 21, 1, 1, 2, 1, 1, 1, 1, 2, 7, 9, 1, 1, 1, 1, 1, 2, 4, 1, 1, 1, 2, 1, 1, 1, 1, 2, 2, 1, 1, 1, 2, 1, 3, 1, 1, 2, 3, 1, 1, 1, 1, 1, 8, 1, 1, 1, 1, 3, 1, 1, 3, 4, 1, 1, 1, 4, 1, 1, 3, 1, 1, 2, 4, 1, 1, 3, 1, 426, 5, 3, 6, 3, 5, 1, 1, 2, 1, 1, 1, 1, 1, 4, 2, 1, 3, 4, 1, 5, 1, 1, 1, 1, 1, 4, 1, 7, 1, 2, 1, 2, 4, 2, 3, 2, 2, 4, 2, 1, 3, 1, 1, 1, 1, 1, 1, 2, 5, 1, 1, 1, 3, 3, 2, 4, 1, 1, 3, 2, 3, 1, 4, 13, 3, 1, 5, 1, 1, 1, 1, 1, 1, 1, 1, 1, 1, 9, 7, 1, 2, 4, 2, 1, 1, 3, 1, 1, 1, 1, 1, 1, 5, 1, 2, 1, 1, 1, 2, 1, 2, 1, 1, 1, 1, 1, 1, 1, 1, 3, 1, 1, 10, 1, 1, 2, 4, 1, 1, 1, 1, 3, 1, 1, 1, 3, 1, 2, 1, 1, 3, 2, 1, 1, 4, 1, 1, 1, 1, 1, 2, 1, 2, 1, 7, 1, 1, 4, 1, 2, 2, 1, 1, 1, 2, 2, 3, 1, 1, 1, 4, 1, 1, 1, 1, 1, 1, 1, 2, 1, 2, 1, 1, 1, 2, 1, 4, 1, 1, 1, 2, 2, 9, 1, 2, 2, 3, 2, 1, 7, 1, 2, 1, 1, 5, 1, 1, 1, 1, 3, 1, 1, 1, 1, 3, 1, 1, 1, 2, 1, 1, 1, 4, 1, 2, 1, 1, 1, 1, 1, 1, 4, 1, 3, 1, 1, 1, 2, 5, 1, 1, 1, 1, 1, 1, 1, 1, 1, 1, 1, 2, 4, 1, 3, 1, 2, 1, 2, 4, 4, 9, 1, 1, 1, 2, 3, 1, 1, 1, 1, 2, 1, 1, 1, 5, 1, 1, 1, 2, 1, 1, 1, 1, 1, 1, 4, 2, 2, 1, 1, 1, 2, 1, 1, 1, 4, 5, 1, 1, 1, 1, 2, 5, 1, 4, 1, 6, 1, 1, 2, 4, 2, 1, 8, 1, 2, 3, 1, 11, 1, 1, 7, 1, 1, 1, 7, 1, 1, 3, 2, 2, 7, 7, 1, 1, 1, 1, 1, 1, 1, 1, 4, 1, 1, 2, 2, 1, 2, 1, 2, 7, 5, 1, 2, 1, 1, 1, 1, 1, 3, 1, 1, 2, 1, 1, 1, 1, 1, 3, 1, 1, 2, 1, 1, 2, 6, 1, 1, 3, 1, 1, 7, 2, 1, 2, 2, 3, 3, 1, 1, 1, 1, 9, 1, 2, 3, 3, 10, 7, 11, 1, 1, 1, 1, 1, 1, 2, 4, 1, 1, 1, 2, 9, 1, 1, 3, 1, 4, 1, 1, 4, 2, 3, 2, 13, 2, 1, 4, 14, 1, 5, 5, 1, 1, 1, 1, 2, 1, 3, 1, 2, 2, 1, 2, 9, 1, 1, 2, 1, 1, 3, 5, 6, 1, 9, 2, 1, 1, 2, 2, 1, 2, 1, 1, 1, 4, 4, 4, 1, 10, 9, 6, 1, 1, 1, 1, 1, 1, 10, 1, 3, 1, 1, 1, 2, 1, 1, 9, 1, 1, 4, 6, 1, 1, 1, 1, 1, 8, 1, 1, 4, 1, 5, 1, 1, 2, 1, 5, 4, 14, 4, 1, 5, 6, 8, 2, 1, 5, 2, 2, 3, 2, 1, 5, 1, 1, 1, 6, 1, 2, 8, 1, 1, 3, 1, 3, 1, 3, 22, 1, 12, 1, 1, 1, 8, 7, 1, 5, 1, 5, 2, 3, 1, 2, 3, 1, 6, 1, 33, 2, 1, 3, 1, 2, 2, 1, 4, 2, 1, 1, 1, 1, 4, 1, 1, 1, 1, 1, 5, 1, 1, 2, 1, 3, 1, 1, 4, 1, 1, 8, 1, 1, 2, 2, 1, 8, 5, 1, 1, 1, 1, 5, 1, 1, 3, 1, 3, 1, 1, 1, 6, 1, 1, 1, 5, 1, 1, 1, 2, 7, 1, 2, 1, 9, 4, 2, 7, 2, 1, 1, 1, 1, 3, 1, 2, 17, 2, 2, 8, 1, 1, 5, 2, 1, 1, 4, 1, 4, 18, 2, 2, 2, 1, 2, 1, 1, 1, 3, 2, 2, 12, 1, 5, 7, 2, 8, 3, 1, 1, 1, 1, 1, 1, 1, 1, 1, 1, 1, 1, 1, 7, 2, 1, 1, 3, 1, 2, 4, 1, 2, 1, 1, 1, 3, 1, 1, 1, 1, 2, 4, 1, 1, 2, 1, 1, 3, 1, 3, 2, 3, 1, 3, 4, 1, 2, 1, 1, 1, 1, 1, 1, 1, 2, 1, 4, 4, 1, 4, 2, 4, 3, 1, 2, 4, 1, 1, 1, 1, 1, 1, 1, 9, 9, 1, 3, 1, 1, 1, 1, 3, 1, 7, 2, 1, 1, 2, 2, 1, 1, 5, 19, 5, 1, 1, 1, 5, 1, 1, 2, 4, 9, 1, 1, 1, 1, 2, 1, 2, 1, 1, 2, 2, 2, 3, 6, 8, 2, 5, 1, 1, 1, 31, 1, 1, 1, 9, 1, 1, 1, 24, 1, 1, 1, 1, 1, 5, 5, 3, 1, 1, 1, 1, 1, 1, 5, 1, 1, 5, 2, 1, 1, 1, 3, 1, 4, 1, 1, 1, 1, 1, 1, 1, 3, 1, 1, 1, 4, 1, 1, 4, 1, 2, 7, 1, 4, 2, 4, 1, 2, 1, 2, 1, 1, 2, 2, 1, 1, 1, 1, 17, 1, 1, 3, 1, 3, 1, 2, 1, 4, 10, 3, 1, 2, 1, 1, 2, 2, 1, 1, 1, 2, 1, 6, 2, 2, 3, 1, 1, 1, 3, 1, 1, 6, 1, 1, 1, 1, 2, 1, 1, 2, 1, 1, 2, 4, 24, 2, 1, 1, 1, 6, 2, 3, 1, 4, 1, 3, 1, 2, 4, 2, 1, 1, 1, 1, 5, 1, 2, 9, 7, 4, 1, 1, 1, 1, 4, 2, 1, 1, 1, 1, 3, 1, 1, 1, 4, 1, 1, 2, 3, 2, 5, 7, 2, 1, 3, 3, 1, 1, 1, 1, 1, 2, 2, 2, 1, 1, 1, 1, 1, 3, 4, 1, 3, 2, 3, 1, 1, 1, 1, 1, 1, 1, 1, 13, 5, 1, 1, 1, 3, 1, 1, 8, 1, 1, 1, 3, 1, 1, 1, 6, 1, 1, 1, 1, 1, 1, 2, 2, 2, 1, 1, 1, 1, 1, 3, 1, 1, 1, 2, 1, 1, 1, 1, 1, 2, 3, 1, 1, 1, 1, 1, 1, 1, 2, 1, 1, 3, 3, 1, 4, 1, 1, 4, 3, 1, 1, 12, 2, 1, 1, 5, 6, 2, 2, 6, 7, 1, 1, 1, 12, 1, 2, 1, 2, 1, 1, 4, 1, 2, 1, 1, 1, 1, 2, 1, 1, 1, 9, 5, 1, 1, 1, 1, 1, 2, 6, 7, 4, 1, 2, 3, 2, 1, 5, 4, 1, 1, 1, 1, 2, 7, 1, 1, 2, 1, 5, 1, 2, 2, 2, 1, 1, 2, 1, 1, 1, 1, 8, 1, 2, 2, 1, 1, 4, 2, 2, 2, 1, 1, 1, 1, 2, 1, 2, 1, 1, 1, 1, 1, 4, 1, 4, 3, 2, 1, 1, 1, 4, 17, 1, 6, 1, 1, 1, 3, 2, 1, 1, 1, 1, 1, 1, 1, 1, 1, 1, 2, 2, 1, 1, 5, 1, 2, 1, 4, 1, 1, 1, 1, 1, 1, 1, 3, 1, 1, 1, 1, 1, 1, 4, 1, 1, 2, 1, 1, 2, 1, 1, 3, 1, 1, 1, 4, 5, 1, 1, 1, 1, 1, 1, 7, 1, 3, 1, 2, 1, 12, 2, 5, 1, 1, 2, 1, 1, 1, 5, 1, 14, 1, 4, 1, 1, 4, 5, 1, 1, 19, 1, 1, 1, 1, 1, 6, 3, 1, 8, 1, 2, 1, 1, 1, 1, 1, 10, 1, 1, 14, 2, 16, 1, 1, 1, 4, 2, 1, 9, 1, 2, 1, 1, 3, 2, 2, 3, 1, 1, 1, 3, 1, 2, 1, 5, 1, 1, 1, 1, 2, 5, 1, 1, 3, 2, 1, 14, 1, 1, 3, 1, 15, 21, 1, 1, 1, 1, 1, 15, 1, 17, 3, 1, 2, 17, 2, 2, 16, 15, 1, 2, 1, 5, 1, 3, 1, 1, 20, 1, 1, 2, 17, 2, 15, 1, 1, 1, 1, 17, 5, 3, 1, 19, 5, 14, 1, 3, 3, 5, 1, 1, 2, 3, 28, 19, 17, 1, 1, 1, 2, 1, 1, 2, 1, 6, 3, 4, 1, 1, 3, 1, 1, 1, 3, 1, 1, 1, 2, 1, 1, 1, 1, 2, 1, 1, 1, 1, 27, 27, 2, 1, 3, 5, 1, 4, 1, 3, 1, 1, 18, 16, 2, 2, 1, 2, 2, 2, 1, 3, 4, 1, 1, 2, 1, 1, 1, 1, 2, 1, 2, 12, 12, 1, 4, 8, 2, 8, 17, 4, 2, 1, 1, 1, 1, 2, 1, 3, 4, 2, 2, 2, 6, 8, 17, 1, 1, 1, 12, 2, 2, 7, 1, 1, 1, 1, 7, 1, 3, 1, 8, 1, 1, 1, 2, 1, 1, 3, 1, 14, 3, 1, 8, 10, 1, 5, 1, 1, 4, 1, 1, 1, 1, 1, 1, 1, 6, 2, 1, 1, 1, 1, 4, 1, 1, 1, 1, 1, 1, 6, 14, 1, 1, 4, 1, 2, 1, 12, 5, 1, 1, 1, 1, 1, 3, 1, 1, 1, 1, 1, 2, 2, 1, 7, 4, 2, 7, 2, 2, 2, 1, 2, 3, 2, 1, 2, 1, 2, 1, 19, 2, 1, 6, 1, 5, 1, 6, 1, 2, 2, 1, 3, 1, 1, 6, 1, 2, 1, 1, 1, 1, 3, 7, 1, 2, 1, 1, 1, 1, 3, 1, 1, 1, 1, 1, 1, 1, 2, 7, 5, 1, 1, 1, 2, 1, 1, 1, 1, 2, 1, 2, 11, 2, 3, 1, 1, 1, 1, 1, 2, 1, 8, 2, 1, 12, 1, 1, 1, 1, 5, 1, 1, 2, 1, 1, 2, 1, 4, 1, 7, 2, 1, 1, 2, 1, 2, 1, 1, 3, 1, 4, 1, 3, 8, 1, 1, 1, 1, 1, 1, 1, 1, 3, 1, 1, 1, 1, 3, 1, 11, 1, 3, 1, 1, 1, 4, 1, 2, 1, 2, 1, 1, 1, 3, 1, 1, 1, 2, 1, 1, 2, 1, 1, 6, 2, 1, 1, 1, 3, 1, 1, 2, 2, 1, 1, 1, 1, 1, 1, 9, 3, 1, 1, 1, 1, 2, 3, 1, 6, 1, 7, 1, 12, 1, 1, 1, 1, 1, 1, 1, 1, 1, 5, 4, 1, 1, 2, 2, 1, 1, 1, 4, 2, 1, 3, 2, 2, 1, 1, 17, 1, 1, 1, 1, 1, 1, 1, 7, 6, 1, 2, 2, 1, 18, 6, 2, 1, 2, 7, 2, 1, 1, 1, 1, 1, 1, 2, 3, 1, 1, 1, 2, 1, 1, 3, 1, 1, 1, 1, 1, 30, 1, 1, 1, 1, 1, 6, 1, 1, 1, 1, 1, 1, 1, 1, 1, 9, 4, 1, 1, 3, 1, 3, 2, 1, 1, 5, 1, 5, 3, 4, 2, 3, 1, 2, 1, 4, 1, 1, 1, 2, 7, 1, 1, 1, 3, 3, 1, 2, 7, 3, 1, 1, 1, 5, 1, 2, 4, 1, 6, 1, 1, 4, 2, 3, 1, 1, 2, 1, 6, 33, 1, 6, 1, 4, 1, 2, 1, 5, 1, 2, 1, 1, 2, 1, 3, 4, 1, 2, 4, 1, 1, 1, 60, 1, 1, 20, 1, 2, 2, 1, 1, 1, 2, 5, 1, 1, 3, 1, 1, 1, 1, 2, 1, 1, 1, 1, 1, 1, 4, 1, 1, 2, 4, 11, 1, 12, 3, 2, 1, 1, 1, 4, 1, 1, 1, 1, 1, 1, 20, 1, 2, 1, 6, 2, 3, 1, 1, 106, 1, 1, 2, 3, 4, 1, 1, 1, 1, 7, 3, 1, 2, 1, 1, 1, 2, 1, 1, 1, 1, 1, 2, 7, 2, 1, 1, 1, 3, 1, 1, 1, 1, 1, 1, 1, 1, 1, 1, 1, 1, 2, 1, 1, 2, 2, 1, 1, 1, 1, 1, 3, 2, 10, 2, 5, 1, 1, 1, 1, 1, 5, 1, 2, 2, 4, 1, 1, 1, 2, 1, 1, 1, 2, 1, 1, 1, 1, 2, 2, 2, 3, 3, 1, 1, 1, 1, 1, 1, 2, 1, 1, 2, 3, 2, 2, 1, 8, 8, 2, 1, 5, 4, 1, 2, 2, 2, 2, 1, 1, 15, 1, 1, 1, 1, 3, 1, 1, 2, 1, 1, 1, 1, 1, 2, 1, 5, 1, 2, 1, 1, 1, 3, 1, 2, 1, 1, 2, 1, 20, 1, 3, 1, 6, 1, 5, 1, 1, 1, 1, 1, 3, 1, 1, 1, 1, 6, 1, 1, 1, 2, 1, 1, 2, 3, 1, 2, 1, 5, 1, 1, 3, 1, 4, 2, 1, 1, 1, 1, 4, 2, 1, 1, 1, 2, 4, 1, 2, 1, 1, 3, 1, 1, 3, 1, 2, 2, 1, 6, 10, 7, 2, 1, 1, 5, 7, 7, 2, 5, 1, 1, 3, 1, 3, 6, 1, 1, 5, 1, 2, 7, 1, 1, 1, 1, 1, 2, 1, 1, 1, 1, 4, 6, 1, 1, 1, 13, 13, 1, 5, 7, 3, 1, 1, 2, 5, 3, 1, 2, 1, 1, 3, 3, 1, 17, 3, 1, 3, 1, 1, 3, 3, 1, 1, 1, 1, 7, 7, 2, 8, 6, 1, 1, 3, 7, 1, 2, 1, 2, 1, 4, 1, 1, 6, 6, 1, 3, 4, 1, 3, 1, 1, 1, 4, 1, 1, 4, 2, 1, 3, 1, 5, 6, 1, 1, 1, 1, 1, 1, 2, 1, 2, 4, 1, 1, 2, 1, 1, 1, 3, 1, 1, 1, 3, 1, 1, 4, 3, 3, 1, 1, 4, 1, 2, 1, 1, 15, 2, 1, 2, 1, 1, 1, 1, 1, 1, 2, 4, 1, 1, 2, 2, 1, 1, 2, 1, 1, 1, 8, 1, 1, 1, 1, 3, 5, 5, 5, 1, 6, 1, 7, 1, 1, 1, 1, 1, 2, 3, 1, 1, 5, 1, 1, 1, 1, 1, 1, 3, 2, 7, 1, 1, 1, 1, 1, 1, 1, 1, 1, 1, 2, 8, 6, 12, 4, 3, 1, 1, 1, 1, 1, 1, 2, 1, 5, 1, 1, 1, 2, 2, 2, 1, 1, 2, 1, 3, 1, 1, 1, 1, 3, 1, 2, 4, 1, 1, 1, 1, 1, 1, 1, 1, 5, 1, 1, 1, 1, 2, 2, 11, 7, 1, 1, 1, 1, 1, 1, 1, 1, 1, 1, 7, 1, 1, 5, 1, 1, 1, 5, 1, 1, 2, 2, 2, 1, 1, 1, 1, 3, 3, 5, 1, 1, 4, 1, 4, 1, 1, 1, 1, 1, 2, 1, 1, 1, 1, 1, 1, 3, 1, 3, 2, 2, 1, 1, 6, 1, 1, 1, 1, 1, 1, 2, 1, 6, 2, 3, 9, 1, 1, 29, 1, 1, 3, 2, 3, 4, 10, 2, 1, 1, 1, 1, 1, 1, 1, 1, 1, 2, 1, 2, 2, 1, 1, 4, 1, 1, 1, 1, 3, 7, 19, 1, 1, 2, 3, 1, 2, 2, 1, 1, 2, 1, 1, 1, 1, 5, 1, 3, 1, 1, 2, 1, 1, 1, 2, 1, 1, 2, 2, 1, 1, 1, 1, 5, 2, 1, 2, 1, 1, 3, 1, 1, 2, 1, 3, 3, 1, 3, 1, 1, 10, 1, 1, 1, 1, 2, 2, 1, 1, 2, 3, 1, 1, 1, 1, 1, 5, 1, 1, 1, 1, 1, 1, 3, 2, 1, 1, 1, 1, 1, 1, 1, 7, 1, 1, 3, 1, 1, 1, 7, 1, 1, 3, 5, 11, 1, 1, 4, 10, 2, 3, 1, 1, 2, 1, 2, 1, 1, 1, 1, 2, 2, 5, 1, 1, 1, 3, 5, 1, 14, 1, 2, 1, 21, 21, 2, 3, 1, 1, 2, 4, 1, 4, 3, 2, 2, 1, 1, 1, 3, 1, 4, 2, 1, 1, 7, 1, 4, 2, 1, 1, 4, 2, 1, 1, 4, 1, 1, 2, 1, 1, 5, 5, 1, 1, 8, 1, 2, 2, 3, 1, 1, 1, 6, 1, 2, 8, 3, 2, 2, 2, 3, 2, 1, 1, 1, 4, 4, 2, 2, 2, 2, 2, 6, 2, 2, 2, 2, 1, 1, 5, 5, 1, 1, 5, 1, 4, 4, 1, 17, 1, 1, 1, 1, 1, 2, 1, 3, 2, 1, 2, 1, 1, 2, 4, 1, 2, 2, 1, 3, 1, 1, 8, 2, 1, 3, 1, 1, 1, 1, 1, 1, 1, 9, 1, 1, 2, 1, 1, 1, 1, 6, 3, 4, 1, 1, 2, 1, 2, 3, 7, 1, 1, 1, 1, 2, 17, 1, 1, 3, 2, 3, 1, 2, 2, 1, 2, 1, 4, 1, 2, 6, 3, 1, 4, 7, 1, 1, 2, 3, 3, 1, 1, 1, 3, 2, 1, 9, 1, 1, 1, 1, 1, 1, 27, 2, 3, 1, 12, 1, 1, 1, 5, 1, 1, 1, 2, 1, 1, 1, 1, 3, 1, 1, 1, 1, 1, 4, 1, 1, 1, 1, 1, 1, 1, 1, 1, 2, 1, 1, 1, 1, 3, 2, 3, 4, 1, 1, 1, 4, 2, 2, 1, 1, 1, 6, 9, 3, 1, 1, 1, 1, 1, 1, 3, 1, 1, 1, 5, 2, 1, 1, 2, 1, 1, 1, 1, 2, 2, 2, 3, 1, 6, 1, 4, 1, 1, 1, 2, 1, 1, 1, 2, 1, 5, 1, 1, 21, 1, 1, 3, 1, 1, 1, 1, 2, 1, 2, 1, 1, 2, 1, 1, 1, 9, 2, 1, 1, 1, 1, 1, 1, 1, 2, 1, 1, 3, 14, 1, 1, 2, 4, 1, 1, 2, 1, 1, 1, 1, 1, 3, 1, 5, 3, 1, 86, 4, 1, 5, 1, 1, 1, 1, 1, 1, 3, 4, 2, 6, 1, 1, 1, 3, 1, 1, 1, 1, 1, 2, 1, 1, 1, 3, 8, 1, 15, 1, 1, 2, 1, 1, 1, 2, 1, 3, 1, 1, 7, 5, 1, 8, 2, 1, 12, 3, 3, 4, 12, 2, 1, 1, 1, 2, 1, 5, 9, 5, 3, 8, 1, 1, 14, 1, 1, 1, 1, 2, 1, 1, 1, 2, 6, 1, 1, 5, 1, 1, 1, 2, 1, 1, 10, 7, 1, 2, 2, 1, 3, 20, 1, 2, 1, 32, 3, 4, 1, 2, 4, 2, 2, 1, 15, 1, 1, 1, 21, 1, 1, 1, 14, 18, 2, 1, 1, 1, 1, 1, 18, 6, 11, 11, 1, 4, 2, 3, 1, 2, 5, 1, 14, 2, 11, 1, 1, 1, 22, 1, 2, 1, 6, 3, 1, 1, 1, 1, 3, 3, 3, 2, 18, 1, 3, 1, 1, 1, 1, 1, 1, 6, 1, 4, 3, 29, 1, 1, 1, 1, 1, 1, 3, 1, 7, 1, 1, 11, 1, 1, 4, 1, 3, 6, 1, 3, 6, 10, 2, 9, 15, 2, 8, 1, 1, 1, 1, 1, 8, 1, 18, 2, 13, 5, 8, 6, 1, 1, 1, 1, 1, 7, 1, 3, 4, 1, 2, 1, 1, 1, 2, 1, 6, 1, 1, 1, 1, 1, 1, 1, 1, 1, 16, 1, 3, 1, 7, 1, 2, 11, 12, 1, 7, 6, 1, 1, 1, 8, 1, 5, 8, 2, 3, 1, 10, 2, 1, 1, 3, 1, 2, 4, 2, 12, 1, 1, 8, 3, 1, 1, 1, 3, 15, 1, 1, 1, 1, 1, 1, 1, 2, 5, 1, 1, 2, 1, 2, 2, 1, 1, 11, 1, 1, 2, 2, 2, 1, 1, 1, 1, 3, 2, 1, 1, 1, 2, 5, 1, 2, 4, 1, 2, 4, 7, 1, 3, 3, 3, 1, 1, 3, 2, 2, 1, 1, 2, 1, 10, 1, 3, 1, 1, 2, 4, 1, 1, 1, 3, 4, 1, 1, 2, 1, 1, 3, 3, 1, 1, 1, 1, 8, 4, 1, 4, 1, 1, 1, 1, 6, 1, 1, 1, 1, 13, 1, 7, 1, 1, 1, 1, 12, 1, 2, 1, 2, 4, 1, 4, 6, 4, 1, 1, 2, 8, 1, 1, 10, 1, 1, 6, 5, 2, 7, 4, 1, 1, 4, 1, 1, 2, 1, 2, 1, 2, 2, 1, 3, 1, 1, 7, 1, 4, 2, 2, 1, 5, 1, 1, 1, 8, 1, 1, 1, 1, 2, 13, 7, 1, 1, 2, 1, 2, 2, 3, 2, 1, 4, 1, 2, 1, 8, 1, 1, 4, 1, 2, 1, 3, 1, 2, 8, 5, 1, 3, 1, 10, 1, 2, 8, 1, 2, 3, 1, 1, 1, 7, 1, 1, 1, 1, 3, 1, 2, 2, 2, 1, 1, 1, 1, 1, 1, 1, 1, 1, 1, 1, 1, 2, 1, 1, 1, 5, 1, 1, 7, 1, 2, 3, 1, 1, 1, 1, 1, 1, 2, 2, 1, 1, 4, 3, 3, 1, 1, 1, 1, 2, 1, 2, 1, 1, 1, 5, 2, 3, 1, 2, 1, 1, 7, 1, 2, 2, 2, 1, 1, 4, 1, 1, 1, 1, 1, 1, 1, 1, 1, 1, 1, 3, 1, 1, 8, 1, 1, 1, 5, 1, 2, 1, 1, 1, 1, 1, 1, 1, 1, 1, 2, 4, 1, 3, 5, 2, 1, 2, 1, 1, 2, 2, 6, 1, 1, 1, 2, 1, 1, 1, 1, 2, 1, 1, 1, 1, 1, 9, 23, 1, 2, 2, 1, 2, 2, 1, 1, 1, 1, 1, 4, 1, 3, 1, 2, 2, 2, 1, 7, 2, 1, 1, 3, 1, 2, 1, 1, 1, 8, 1, 1, 5, 1, 5, 1, 4, 4, 1, 1, 1, 1, 2, 2, 1, 1, 3, 2, 3, 1, 1, 4, 7, 2, 10, 6, 3, 1, 3, 1, 1, 4, 2, 1, 1, 2, 1, 1, 1, 1, 1, 3, 6, 1, 2, 1, 4, 4, 1, 1, 5, 1, 1, 1, 1, 2, 1, 1, 1, 1, 9, 2, 1, 1, 7, 1, 2, 2, 1, 1, 1, 1, 2, 5, 2, 1, 3, 1, 4, 1, 1, 1, 1, 1, 1, 1, 1, 1, 1, 1, 1, 1, 3, 1, 1, 1, 6, 1, 12, 5, 6, 1, 1, 2, 3, 6, 1, 1, 2, 17, 3, 1, 1, 1, 2, 1, 1, 1, 1, 1, 2, 6, 3, 3, 1, 5, 1, 1, 3, 1, 7, 1, 1, 5, 1, 1, 4, 4, 2, 5, 1, 12, 3, 1, 8, 5, 1, 2, 3, 1, 5, 2, 1, 1, 1, 1, 2, 1, 1, 1, 5, 1, 2, 2, 1, 3, 7, 1, 9, 1, 2, 1, 1, 1, 1, 3, 1, 1, 4, 2, 2, 3, 3, 3, 1, 1, 5, 1, 1, 2, 1, 1, 8, 1, 4, 4, 6, 3, 1, 1, 3, 1, 1, 1, 2, 2, 1, 1, 1, 16, 2, 1, 3, 2, 4, 3, 1, 1, 1, 1, 1, 1, 1, 3, 2, 6, 1, 1, 1, 1, 1, 3, 1, 1, 1, 1, 1, 1, 1, 3, 1, 3, 2, 1, 1, 1, 2, 1, 3, 1, 2, 3, 4, 1, 1, 1, 4, 1, 1, 3, 2, 1, 2, 1, 1, 1, 1, 1, 1, 1, 1, 1, 3, 1, 4, 5, 7, 5, 1, 1, 2, 1, 1, 7, 1, 4, 1, 3, 1, 1, 2, 6, 1, 1, 2, 4, 3, 1, 1, 1, 2, 2, 1, 1, 1, 3, 7, 1, 1, 3, 1, 3, 1, 1, 1, 1, 1, 5, 4, 7, 1, 4, 1, 1, 1, 1, 4, 1, 1, 5, 2, 1, 2, 1, 1, 1, 7, 1, 2, 1, 2, 2, 7, 3, 1, 1, 1, 1, 1, 3, 6, 5, 1, 1, 1, 1, 3, 2, 14, 13, 1, 8, 1, 2, 2, 2, 1, 1, 3, 1, 1, 4, 2, 1, 3, 1, 6, 1, 1, 1, 1, 2, 1, 1, 1, 1, 8, 1, 1, 1, 1, 1, 2, 4, 1, 1, 1, 2, 1, 5, 4, 1, 2, 1, 1, 1, 1, 2, 3, 1, 3, 1, 8, 1, 1, 1, 2, 9, 1, 1, 1, 3, 1, 5, 2, 1, 5, 3, 1, 2, 31, 1, 6, 1, 1, 1, 3, 1, 1, 2, 2, 9, 7, 2, 1, 1, 1, 1, 1, 2, 1, 1, 2, 1, 1, 1, 1, 1, 1, 1, 1, 1, 3, 1, 2, 1, 1, 3, 1, 1, 1, 1, 1, 1, 1, 1, 3, 4, 1, 1, 1, 1, 9, 4, 1, 2, 3, 2, 2, 1, 1, 2, 1, 1, 1, 1, 1, 4, 5, 1, 25, 25, 1, 3, 1, 3, 5, 1, 1, 1, 1, 1, 1, 2, 1, 1, 1, 3, 1, 1, 1, 2, 2, 1, 2, 1, 1, 1, 2, 3, 1, 1, 1, 4, 11, 1, 5, 4, 1, 1, 2, 1, 1, 1, 1, 1, 1, 1, 1, 5, 3, 9, 1, 2, 1, 1, 1, 2, 3, 2, 1, 1, 3, 1, 2, 1, 1, 1, 2, 3, 1, 4, 3, 3, 4, 3, 1, 2, 1, 2, 2, 2, 1, 1, 1, 1, 1, 1, 3, 1, 11, 3, 1, 1, 1, 1, 1, 4, 1, 2, 1, 1, 2, 1, 5, 1, 2, 1, 2, 1, 1, 3, 1, 5, 4, 1, 12, 12, 1, 16, 1, 1, 3, 1, 1, 1, 1, 2, 1, 1, 1, 1, 6, 1, 1, 1, 1, 1, 1, 1, 1, 1, 2, 12, 1, 1, 1, 14, 1, 12, 1, 3, 1, 1, 1, 1, 2, 3, 1, 1, 2, 1, 9, 9, 13, 1, 1, 1, 1, 3, 1, 2, 1, 1, 1, 1, 1, 2, 1, 1, 1, 4, 8, 1, 2, 1, 1, 1, 6, 1, 3, 1, 1, 3, 1, 2, 3, 5, 3, 2, 2, 4, 1, 1, 2, 1, 2, 1, 1, 1, 3, 1, 1, 1, 1, 2, 1, 1, 1, 1, 1, 1, 1, 1, 2, 1, 1, 1, 1, 4, 1, 8, 1, 2, 1, 1, 1, 1, 2, 2, 4, 1, 3, 5, 1, 1, 3, 2, 1, 1, 2, 1, 1, 5, 3, 2, 1, 2, 1, 1, 1, 1, 1, 1, 1, 1, 1, 1, 1, 2, 4, 1, 1, 1, 1, 2, 11, 1, 1, 10, 1, 2, 1, 2, 1, 1, 2, 1, 5, 2, 1, 1, 4, 1, 6, 1, 1, 1, 1, 2, 1, 1, 1, 7, 2, 1, 1, 1, 1, 1, 8, 1, 2, 2, 1, 2, 2, 6, 2, 1, 1, 4, 2, 1, 15, 1, 1, 1, 1, 1, 1, 3, 1, 1, 21, 1, 1, 1, 1, 1, 1, 1, 1, 1, 2, 1, 1, 1, 1, 7, 1, 1, 1, 3, 3, 1, 6, 2, 2, 1, 2, 1, 1, 1, 1, 2, 1, 1, 1, 4, 1, 5, 3, 1, 1, 1, 3, 1, 1, 1, 1, 1, 3, 1, 1, 1, 3, 1, 1, 1, 1, 1, 2, 2, 1, 1, 1, 4, 1, 1, 1, 2, 1, 1, 1, 2, 1, 2, 1, 1, 3, 1, 1, 1, 1, 2, 1, 1, 4, 1, 2, 1, 3, 1, 1, 2, 2, 1, 1, 4, 5, 7, 4, 1, 1, 1, 2, 1, 2, 3, 1, 1, 1, 1, 1, 1, 1, 1, 1, 1, 12, 1, 1, 1, 1, 3, 1, 2, 1, 1, 1, 1, 1, 1, 1, 5, 1, 1, 1, 3, 18, 1, 1, 1, 1, 109, 3, 5, 1, 1, 1, 1, 1, 1, 1, 1, 5, 8, 5, 5, 1, 3, 1, 1, 1, 5, 1, 4, 3, 1, 2, 1, 1, 1, 1, 1, 3, 3, 2, 2, 1, 1, 1, 3, 2, 1, 1, 1, 1, 3, 2, 2, 1, 1, 3, 1, 1, 4, 1, 1, 1, 1, 1, 1, 1, 1, 1, 1, 1, 1, 1, 1, 3, 1, 1, 1, 3, 2, 1, 1, 1, 8, 1, 1, 2, 4, 1, 1, 1, 7, 1, 1, 1, 1, 1, 1, 1, 1, 1, 1, 1, 1, 1, 1, 1, 2, 3, 1, 1, 1, 1, 1, 1, 2, 2, 2, 1, 30, 1, 2, 2, 1, 1, 2, 2, 2, 1, 2, 1, 4, 2, 1, 4, 2, 1, 1, 1, 1, 1, 1, 2, 2, 4, 6, 1, 1, 7, 1, 2, 5, 1, 6, 4, 1, 1, 2, 2, 1, 4, 1, 1, 6, 1, 2, 2, 2, 1, 1, 5, 7, 1, 2, 1, 1, 3, 1, 1, 1, 1, 2, 4, 1, 1, 1, 1, 1, 1, 1, 2, 1, 4, 1, 3, 2, 1, 1, 1, 1, 1, 3, 1, 1, 3, 2, 1, 1, 3, 1, 1, 1, 1, 1, 1, 1, 1, 2, 1, 1, 4, 1, 1, 1, 1, 1, 5, 1, 2, 4, 2, 5, 1, 1, 20, 1, 1, 1, 1, 3, 2, 1, 1, 1, 4, 6, 3, 1, 3, 1, 1, 1, 1, 1, 2, 1, 17, 5, 1, 4, 1, 6, 3, 4, 1, 1, 24, 2, 1, 2, 5, 5, 2, 6, 1, 1, 1, 1, 1, 1, 1, 3, 7, 1, 1, 1, 2, 1, 12, 1, 2, 2, 1, 1, 3, 1, 1, 1, 1, 1, 1, 1, 1, 1, 1, 1, 1, 1, 4, 1, 1, 1, 1, 5, 1, 1, 5, 2, 1, 3, 5, 8, 15, 5, 1, 1, 2, 1, 2, 8, 8, 2, 4, 5, 1, 2, 1, 4, 1, 2, 2, 1, 6, 1, 3, 2, 2, 1, 2, 1, 7, 1, 1, 1, 2, 1, 1, 4, 3, 4, 1, 1, 1, 1, 1, 4, 1, 3, 3, 1, 1, 1, 1, 1, 1, 4, 1, 2, 3, 10, 5, 1, 1, 1, 1, 1, 2, 1, 1, 1, 1, 2, 2, 2, 1, 2, 1, 1, 1, 2, 1, 1, 1, 2, 1, 4, 5, 1, 1, 4, 1, 1, 4, 2, 4, 1, 1, 1, 4, 5, 1, 1, 1, 1, 1, 1, 1, 5, 1, 1, 1, 1, 3, 4, 1, 1, 1, 5, 6, 1, 2, 1, 2, 1, 1, 1, 1, 1, 1, 1, 1, 1, 1, 1, 3, 1, 1, 1, 1, 2, 1, 1, 1, 1, 1, 2, 1, 1, 3, 2, 1, 2, 1, 1, 1, 5, 7, 1, 1, 2, 4, 1, 1, 1, 7, 3, 1, 10, 1, 1, 1, 5, 1, 2, 3, 3, 3, 1, 1, 1, 1, 2, 1, 1, 2, 1, 10, 1, 4, 1, 1, 1, 1, 1, 1, 2, 1, 7, 3, 5, 2, 2, 11, 2, 22, 1, 1, 6, 1, 1, 13, 3, 1, 9, 5, 1, 1, 1, 1, 1, 5, 1, 1, 9, 11, 3, 3, 1, 5, 1, 1, 1, 3, 2, 9, 1, 22, 1, 1, 21, 1, 1, 1, 2, 4, 1, 4, 1, 2, 2, 1, 1, 1, 1, 1, 1, 8, 2, 1, 1, 8, 2, 1, 2, 2, 1, 1, 1, 4, 4, 8, 1, 3, 1, 1, 1, 1, 1, 3, 2, 8, 1, 1, 1, 1, 2, 1, 1, 1, 1, 1, 1, 1, 1, 1, 2, 6, 2, 5, 4, 1, 6, 2, 2, 1, 3, 1, 1, 1, 1, 1, 4, 1, 1, 1, 4, 2, 1, 3, 1, 2, 4, 2, 1, 1, 3, 1, 1, 1, 1, 1, 1, 1, 2, 1, 6, 1, 1, 1, 1, 1, 1, 2, 1, 1, 1, 2, 2, 2, 2, 14, 1, 1, 6, 5, 1, 2, 5, 1, 2, 2, 1, 1, 1, 1, 5, 1, 1, 1, 1, 1, 1, 1, 1, 1, 2, 1, 2, 11, 1, 1, 1, 1, 1, 6, 1, 1, 1, 2, 2, 1, 1, 1, 3, 1, 1, 1, 2, 2, 3, 1, 1, 3, 1, 1, 2, 1, 1, 2, 1, 1, 1, 1, 1, 1, 5, 1, 1, 19, 1, 1, 1, 1, 1, 1, 1, 1, 2, 7, 1, 1, 1, 1, 1, 8, 21, 1, 1, 1, 1, 1, 1, 1, 1, 1, 1, 1, 1, 6, 1, 1, 2, 3, 12, 2, 1, 2, 3, 2, 1, 1, 3, 1, 1, 3, 1, 2, 1, 1, 1, 1, 1, 1, 2, 1, 4, 2, 2, 3, 2, 4, 1, 2, 1, 2, 1, 1, 1, 1, 1, 1, 3, 1, 2, 1, 2, 2, 3, 2, 3, 1, 3, 1, 1, 3, 2, 5, 1, 1, 2, 1, 1, 1, 1, 2, 3, 1, 1, 1, 1, 6, 4, 4, 36, 1, 1, 1, 4, 3, 10, 1, 1, 2, 1, 1, 3, 2, 1, 1, 1, 1, 1, 4, 3, 1, 2, 1, 1, 1, 4, 1, 1, 1, 2, 2, 2, 3, 8, 3, 1, 2, 3, 1, 1, 1, 1, 1, 1, 1, 1, 2, 2, 1, 13, 4, 1, 2, 1, 1, 1, 1, 1, 5, 1, 3, 3, 1, 1, 1, 3, 1, 5, 1, 5, 5, 1, 1, 8, 2, 4, 2, 1, 1, 1, 2, 1, 1, 1, 3, 1, 1, 1, 1, 1, 8, 4, 5, 1, 1, 1, 1, 5, 5, 1, 11, 3, 3, 1, 1, 4, 1, 1, 1, 6, 2, 1, 1, 1, 1, 5, 1, 1, 2, 1, 1, 6, 8, 3, 1, 1, 1, 1, 13, 1, 1, 2, 1, 2, 1, 1, 1, 2, 1, 1, 1, 3, 1, 8, 2, 1, 1, 6, 8, 2, 2, 1, 1, 4, 1, 1, 1, 1, 4, 1, 1, 1, 1, 2, 1, 2, 1, 1, 1, 1, 1, 1, 1, 1, 1, 1, 1, 1, 1, 1, 1, 2, 2, 2, 12, 9, 1, 1, 2, 1, 1, 1, 1, 1, 1, 4, 1, 1, 1, 1, 2, 9, 1, 1, 1, 1, 2, 1, 1, 1, 4, 1, 2, 1, 1, 2, 3, 2, 2, 1, 1, 4, 4, 2, 1, 1, 1, 1, 2, 1, 1, 1, 1, 1, 1, 11, 10, 1, 12, 7, 9, 4, 1, 3, 1, 1, 1, 1, 2, 1, 13, 1, 1, 1, 1, 1, 1, 1, 1, 1, 1, 2, 1, 1, 1, 1, 2, 1, 2, 3, 1, 2, 1, 1, 1, 2, 1, 1, 1, 1, 1, 1, 1, 6, 1, 1, 1, 1, 1, 1, 1, 1, 5, 2, 3, 2, 1, 9, 1, 3, 2, 1, 1, 1, 1, 1, 1, 1, 1, 12, 1, 2, 1, 1, 1, 1, 1, 1, 3, 1, 3, 2, 1, 1, 1, 1, 1, 1, 1, 3, 1, 1, 1, 2, 1, 9, 1, 3, 2, 5, 1, 1, 1, 2, 1, 5, 1, 2, 2, 2, 1, 5, 1, 3, 2, 1, 1, 3, 1, 1, 2, 1, 1, 1, 1, 1, 1, 1, 1, 1, 2, 1, 1, 1, 1, 1, 1, 2, 1, 3, 3, 1, 1, 3, 4, 1, 2, 3, 2, 1, 1, 2, 2, 15, 6, 1, 1, 1, 1, 1, 1, 2, 1, 3, 1, 1, 1, 2, 1, 3, 1, 1, 1, 1, 1, 8, 1, 1, 4, 1, 2, 2, 1, 1, 1, 1, 1, 1, 1, 2, 2, 1, 1, 1, 4, 2, 1, 1, 1, 4, 1, 1, 1, 1, 6, 1, 1, 1, 1, 4, 1, 1, 4, 1, 1, 1, 1, 1, 1, 2, 1, 1, 1, 3, 3, 1, 7, 8, 2, 2, 1, 1, 3, 2, 1, 1, 1, 1, 1, 3, 2, 1, 1, 1, 1, 2, 1, 1, 1, 1, 1, 6, 1, 3, 2, 1, 4, 1, 1, 1, 1, 1, 1, 2, 1, 1, 2, 4, 1, 1, 4, 1, 1, 5, 1, 1, 1, 2, 1, 3, 2, 1, 1, 1, 1, 1, 3, 1, 2, 1, 1, 1, 1, 2, 2, 1, 1, 1, 1, 1, 2, 5, 1, 4, 2, 1, 1, 1, 1, 1, 1, 1, 1, 1, 1, 1, 1, 1, 1, 1, 1, 1, 6, 4, 1, 1, 1, 1, 1, 1, 2, 1, 1, 3, 1, 1, 1, 1, 1, 1, 1, 2, 1, 10, 1, 1, 3, 1, 1, 2, 2, 2, 1, 3, 1, 1, 1, 1, 19, 1, 1, 36, 2, 1, 7, 2, 1, 1, 2, 3, 1, 2, 1, 1, 1, 1, 5, 1, 10, 1, 1, 3, 2, 1, 1, 1, 7, 1, 3, 1, 1, 2, 2, 1, 1, 1, 1, 2, 1, 2, 1, 1, 1, 2, 1, 3, 2, 4, 11, 4, 2, 1, 1, 1, 1, 3, 2, 1, 1, 1, 1, 2, 2, 2, 1, 1, 1, 6, 2, 5, 1, 1, 1, 1, 1, 1, 1, 1, 1, 1, 1, 1, 1, 1, 1, 1, 1, 1, 1, 1, 2, 1, 1, 1, 1, 5, 3, 3, 7, 7, 8, 1, 3, 1, 1, 1, 13, 4, 1, 3, 2, 1, 1, 1, 2, 6, 2, 1, 2, 1, 1, 1, 1, 1, 1, 4, 1, 2, 1, 1, 2, 3, 1, 1, 3, 1, 15, 1, 2, 1, 1, 1, 1, 1, 1, 1, 1, 1, 1, 1, 5, 4, 7, 4, 1, 4, 1, 7, 1, 2, 1, 1, 1, 4, 2, 1, 1, 3, 3, 3, 2, 1, 1, 1, 7, 8, 3, 2, 2, 2, 2, 2, 2, 2, 2, 1, 1, 1, 2, 3, 1, 6, 2, 1, 1, 1, 1, 1, 1, 3, 1, 3, 14, 2, 3, 3, 2, 2, 1, 1, 1, 1, 1, 1, 1, 1, 1, 25, 1, 7, 1, 1, 1, 1, 1, 4, 1, 2, 2, 1, 1, 1, 1, 2, 1, 2, 4, 1, 5, 2, 1, 1, 2, 1, 3, 1, 1, 1, 1, 1, 1, 1, 1, 1, 1, 1, 1, 1, 2, 4, 4, 1, 5, 6, 3, 5, 2, 2, 8, 2, 2, 1, 2, 10, 1, 1, 1, 4, 3, 1, 2, 1, 2, 2, 1, 7, 1, 1, 1, 1, 2, 1, 1, 2, 2, 1, 1, 1, 1, 1, 1, 1, 1, 1, 7, 1, 4, 2, 1, 4, 1, 3, 2, 3, 4, 4, 1, 1, 1, 1, 3, 5, 1, 8, 3, 2, 1, 4, 7, 1, 1, 3, 1, 1, 2, 1, 1, 1, 1, 1, 4, 3, 1, 1, 1, 1, 1, 3, 1, 1, 1, 1, 1, 2, 4, 1, 1, 1, 1, 2, 2, 1, 1, 1, 1, 1, 1, 1, 1, 1, 3, 1, 2, 1, 1, 6, 2, 1, 1, 11, 2, 1, 1, 1, 1, 5, 4, 1, 1, 2, 1, 3, 3, 1, 1, 1, 1, 1, 2, 1, 1, 2, 1, 1, 5, 3, 1, 8, 5, 2, 1, 2, 1, 1, 1, 1, 1, 1, 1, 1, 4, 1, 5, 2, 1, 1, 8, 1, 1, 1, 1, 1, 8, 4, 4, 5, 1, 19, 4, 1, 3, 5, 1, 2, 2, 11, 1, 1, 1, 1, 1, 1, 1, 1, 1, 7, 2, 1, 3, 1, 1, 1, 1, 7, 3, 4, 1, 2, 2, 1, 1, 7, 1, 1, 1, 1, 1, 1, 1, 1, 3, 1, 2, 1, 2, 1, 1, 1, 3, 2, 1, 2, 6, 1, 3, 1, 1, 4, 1, 1, 4, 2, 1, 2, 1, 2, 1, 19, 1, 1, 1, 1, 1, 1, 1, 2, 2, 1, 2, 4, 1, 1, 2, 1, 1, 2, 2, 2, 1, 1, 1, 1, 1, 2, 1, 1, 4, 1, 1, 42, 1, 1, 1, 1, 1, 1, 1, 1, 1, 3, 3, 1, 1, 1, 1, 1, 1, 1, 1, 1, 1, 1, 1, 4, 3, 2, 2, 2, 1, 1, 1, 1, 1, 1, 1, 1, 1, 1, 1, 3, 1, 1, 4, 1, 1, 2, 1, 2, 1, 1, 1, 1, 1, 1, 1, 1, 1, 1, 1, 1, 1, 1, 2, 6, 1, 1, 1, 2, 1, 2, 3, 1, 1, 5, 1, 1, 4, 3, 3, 1, 1, 1, 1, 1, 1, 1, 1, 2, 1, 1, 2, 1, 1, 2, 1, 3, 1, 1, 1, 1, 2, 1, 4, 1, 3, 1, 12, 1, 1, 2, 1, 1, 1, 5, 1, 2, 2, 1, 1, 1, 3, 1, 1, 2, 1, 2, 1, 1, 1, 2, 1, 1, 1, 4, 3, 1, 1, 1, 1, 1, 2, 1, 3, 1, 1, 1, 2, 4, 1, 1, 1, 2, 1, 3, 1, 1, 1, 1, 1, 2, 2, 9, 1, 1, 1, 1, 1, 1, 1, 1, 1, 1, 3, 1, 1, 1, 6, 1, 1, 2, 1, 1, 6, 1, 12, 2, 1, 1, 1, 1, 3, 2, 3, 1, 1, 2, 1, 1, 1, 1, 1, 1, 1, 1, 2, 1, 1, 1, 1, 2, 7, 1, 3, 2, 1, 1, 2, 1, 2, 1, 8, 1, 3, 1, 3, 1, 2, 1, 2, 1, 1, 2, 1, 1, 1, 6, 1, 2, 1, 3, 2, 3, 2, 2, 1, 1, 1, 2, 2, 1, 3, 6, 5, 2, 3, 4, 2, 6, 1, 2, 1, 1, 1, 1, 2, 8, 6, 2, 1, 1, 7, 2, 2, 1, 1, 1, 1, 1, 4, 1, 1, 7, 1, 1, 2, 1, 1, 1, 1, 26, 1, 4, 6, 2, 1, 1, 2, 1, 1, 2, 3, 1, 1, 10, 3, 1, 2, 1, 6, 1, 2, 1, 1, 1, 5, 6, 6, 3, 1, 3, 1, 3, 1, 3, 2, 1, 1, 1, 2, 1, 1, 1, 3, 2, 2, 6, 1, 3, 1, 1, 1, 2, 1, 1, 4, 5, 5, 9, 19, 6, 17, 1, 1, 15, 6, 1, 10, 4, 1, 1, 1, 1, 1, 52, 2, 1, 2, 1, 1, 2, 23, 5, 1, 1, 4, 1, 1, 1, 1, 1, 2, 1, 1, 1, 2, 1, 2, 5, 1, 1, 1, 1, 3, 14, 1, 5, 1, 1, 1, 6, 9, 2, 1, 3, 11, 1, 2, 1, 2, 3, 1, 2, 1, 2, 1, 1, 2, 1, 10, 1, 1, 1, 1, 1, 7, 1, 5, 1, 1, 1, 1, 2, 3, 5, 2, 1, 4, 6, 4, 3, 1, 1, 1, 1, 1, 2, 1, 1, 2, 1, 2, 1, 1, 3, 1, 8, 1, 1, 1, 6, 2, 1, 2, 1, 4, 1, 1, 1, 1, 3, 1, 1, 1, 1, 1, 2, 1, 1, 6, 1, 1, 1, 1, 1, 1, 3, 1, 3, 1, 1, 1, 1, 2, 1, 1, 1, 1, 1, 1, 1, 3, 1, 1, 2, 1, 3, 2, 1, 1, 1, 4, 3, 1, 2, 1, 2, 1, 1, 1, 3, 1, 2, 13, 1, 4, 1, 1, 1, 1, 2, 4, 1, 2, 3, 2, 1, 1, 1, 3, 2, 1, 1, 1, 1, 1, 1, 1, 1, 1, 1, 1, 1, 1, 1, 1, 1, 1, 2, 1, 1, 1, 2, 1, 2, 3, 1, 1, 4, 1, 1, 2, 1, 1, 1, 1, 1, 1, 2, 2, 2, 3, 3, 1, 1, 3, 3, 1, 1, 1, 2, 1, 3, 19, 2, 1, 1, 1, 1, 1, 1, 1, 2, 3, 2, 10, 1, 1, 1, 1, 2, 20, 3, 2, 1, 3, 1, 1, 2, 1, 1, 1, 1, 1, 1, 8, 1, 2, 1, 1, 1, 1, 1, 4, 1, 1, 1, 1, 1, 10, 1, 1, 5, 1, 1, 2, 2, 1, 1, 1, 1, 1, 6, 3, 1, 4, 5, 1, 1, 1, 1, 4, 1, 1, 2, 9, 1, 4, 1, 2, 2, 3, 1, 1, 1, 5, 1, 5, 2, 2, 1, 1, 1, 2, 2, 1, 1, 1, 1, 1, 1, 1, 1, 1, 1, 4, 1, 5, 1, 1, 15, 1, 1, 6, 2, 1, 1, 1, 1, 1, 1, 3, 1, 7, 3, 1, 1, 1, 3, 6, 2, 1, 1, 7, 3, 3, 1, 2, 1, 1, 8, 1, 4, 1, 1, 2, 1, 1, 1, 5, 1, 3, 6, 1, 1, 1, 1, 2, 2, 1, 1, 1, 1, 1, 1, 1, 1, 2, 1, 1, 1, 1, 1, 11, 2, 4, 4, 2, 2, 1, 1, 2, 1, 1, 1, 1, 1, 4, 2, 5, 5, 1, 1, 3, 1, 1, 1, 1, 2, 1, 1, 1, 1, 1, 3, 1, 2, 1, 1, 3, 2, 2, 3, 1, 1, 1, 1, 1, 1, 1, 1, 1, 8, 1, 1, 1, 1, 1, 2, 1, 1, 1, 1, 3, 3, 3, 2, 1, 1, 1, 1, 1, 1, 5, 7, 1, 1, 2, 1, 1, 1, 4, 2, 3, 2, 1, 2, 1, 19, 1, 1, 10, 1, 1, 4, 3, 1, 1, 1, 1, 1, 1, 12, 2, 11, 1, 3, 1, 6, 2, 1, 3, 2, 1, 1, 1, 1, 4, 6, 1, 1, 2, 1, 2, 2, 1, 1, 5, 3, 2, 2, 1, 1, 1, 1, 2, 3, 1, 1, 3, 12, 4, 1, 1, 1, 1, 1, 1, 1, 1, 3, 2, 2, 1, 1, 1, 4, 1, 5, 1, 1, 1, 5, 2, 1, 7, 2, 2, 1, 1, 1, 2, 1, 9, 1, 1, 1, 2, 3, 1, 4, 22, 1, 5, 2, 4, 1, 1, 1, 1, 1, 1, 2, 2, 1, 2, 3, 4, 8, 1, 7, 29, 2, 1, 1, 3, 33, 2, 4, 5, 1, 3, 1, 2, 8, 1, 1, 11, 2, 1, 1, 2, 11, 11, 2, 2, 2, 1, 2, 1, 1, 7, 1, 1, 1, 2, 1, 6, 1, 2, 1, 1, 1, 2, 7, 1, 1, 1, 2, 1, 1, 1, 5, 1, 1, 2, 1, 2, 1, 3, 6, 2, 1, 2, 4, 1, 5, 1, 1, 2, 1, 1, 1, 9, 1, 1, 2, 1, 1, 3, 1, 3, 2, 2, 2, 1, 1, 1, 1, 5, 2, 1, 1, 7, 7, 5, 2, 1, 3, 1, 1, 6, 2, 3, 3, 4, 1, 1, 6, 1, 3, 1, 1, 2, 1, 1, 1, 3, 3, 1, 1, 3, 1, 2, 1, 6, 1, 1, 1, 1, 2, 1, 1, 1, 1, 1, 1, 1, 1, 1, 2, 2, 2, 3, 5, 1, 3, 1, 2, 1, 1, 1, 1, 2, 1, 5, 1, 1, 1, 4, 1, 1, 3, 4, 3, 4, 4, 1, 1, 1, 1, 2, 1, 5, 1, 1, 4, 2, 1, 4, 1, 3, 3, 1, 2, 1, 4, 1, 1, 1, 1, 1, 3, 9, 1, 1, 2, 1, 8, 1, 1, 1, 1, 1, 3, 2, 1, 1, 2, 1, 2, 2, 1, 2, 10, 1, 1, 2, 1, 1, 1, 3, 1, 1, 1, 1, 3, 1, 1, 3, 3, 1, 1, 3, 2, 2, 2, 2, 2, 1, 1, 1, 2, 1, 9, 1, 1, 1, 1, 3, 1, 1, 1, 1, 1, 7, 3, 1, 1, 1, 2, 1, 1, 1, 1, 1, 1, 2, 2, 2, 1, 2, 2, 3, 1, 2, 1, 3, 2, 1, 1, 1, 1, 1, 20, 7, 1, 1, 1, 1, 1, 1, 1, 1, 1, 1, 1, 1, 1, 1, 1, 3, 1, 1, 1, 1, 1, 14, 1, 1, 1, 1, 1, 1, 4, 1, 1, 1, 4, 1, 1, 1, 1, 5, 1, 1, 16, 3, 2, 4, 1, 1, 3, 2, 1, 1, 1, 1, 1, 3, 1, 2, 1, 1, 2, 1, 1, 2, 1, 1, 3, 1, 3, 1, 1, 1, 7, 1, 3, 1, 6, 2, 1, 1, 1, 1, 2, 1, 1, 1, 3, 9, 1, 1, 1, 1, 3, 1, 2, 1, 1, 1, 1, 1, 1, 1, 1, 2, 6, 1, 1, 1, 2, 1, 2, 1, 1, 5, 1, 6, 1, 1, 3, 1, 4, 1, 1, 1, 1, 1, 1, 3, 1, 5, 1, 1, 1, 1, 1, 1, 11, 11, 3, 2, 1, 1, 1, 2, 1, 2, 1, 1, 3, 8, 7, 4, 2, 2, 2, 2, 1, 1, 1, 1, 3, 2, 1, 1, 1, 7, 1, 1, 3, 2, 2, 1, 1, 2, 1, 1, 4, 1, 7, 4, 1, 9, 1, 2, 4, 1, 1, 1, 1, 1, 1, 1, 2, 1, 1, 2, 1, 1, 1, 1, 1, 2, 1, 1, 2, 1, 1, 2, 1, 1, 1, 1, 2, 2, 1, 1, 1, 4, 1, 1, 2, 1, 1, 6, 1, 1, 3, 2, 1, 2, 1, 1, 6, 1, 1, 1, 1, 1, 5, 1, 2, 1, 1, 1, 2, 3, 15, 2, 1, 1, 1, 1, 1, 1, 1, 1, 1, 1, 1, 1, 1, 1, 7, 1, 1, 1, 2, 7, 1, 2, 2, 1, 1, 8, 1, 2, 2, 1, 1, 2, 1, 1, 2, 10, 7, 2, 1, 1, 1, 8, 6, 1, 3, 2, 1, 2, 1, 9, 1, 3, 1, 1, 1, 1, 1, 1, 1, 1, 2, 1, 1, 1, 1, 1, 1, 1, 1, 2, 1, 2, 1, 1, 1, 1, 1, 1, 1, 1, 1, 3, 1, 3, 1, 1, 1, 1, 1, 1, 1, 2, 1, 1, 1, 1, 1, 1, 2, 2, 1, 1, 1, 1, 1, 1, 1, 1, 3, 1, 1, 1, 2, 2, 3, 1, 1, 12, 1, 2, 1, 1, 1, 3, 5, 2, 1, 1, 12, 1, 3, 3, 1, 1, 1, 1, 1, 1, 2, 1, 1, 2, 3, 1, 1, 5, 1, 3, 1, 1, 3, 1, 4, 1, 1, 1, 2, 1, 1, 1, 2, 1, 3, 1, 1, 1, 5, 1, 1, 4, 2, 1, 2, 1, 1, 1, 1, 2, 3, 1, 1, 1, 1, 1, 2, 2, 1, 2, 1, 1, 1, 3, 1, 13, 3, 1, 1, 1, 1, 1, 1, 3, 1, 2, 1, 1, 2, 1, 1, 1, 2, 1, 1, 1, 1, 1, 1, 3, 1, 1, 4, 1, 4, 1, 1, 3, 3, 1, 7, 2, 1, 1, 3, 1, 2, 2, 2, 1, 1, 1, 16, 1, 1, 2, 1, 1, 10, 1, 14, 1, 1, 3, 2, 4, 1, 1, 1, 1, 6, 3, 1, 5, 10, 1, 1, 1, 1, 2, 5, 6, 6, 1, 1, 1, 1, 3, 1, 3, 3, 1, 5, 1, 1, 1, 1, 1, 1, 1, 1, 1, 4, 1, 2, 1, 1, 1, 3, 3, 1, 1, 1, 12, 2, 9, 4, 4, 1, 2, 1, 1, 1, 1, 2, 2, 1, 2, 1, 6, 1, 2, 1, 4, 4, 2, 3, 1, 2, 2, 2, 1, 3, 4, 4, 1, 1, 2, 3, 2, 1, 1, 1, 1, 1, 1, 1, 1, 1, 1, 2, 2, 1, 1, 1, 1, 2, 1, 2, 2, 1, 1, 1, 1, 1, 1, 9, 2, 2, 1, 7, 2, 2, 2, 4, 1, 1, 1, 3, 7, 8, 1, 3, 2, 1, 1, 1, 2, 1, 1, 1, 2, 2, 2, 1, 1, 3, 1, 1, 1, 1, 1, 1, 2, 5, 1, 4, 1, 2, 3, 1, 1, 5, 1, 1, 1, 1, 1, 1, 1, 2, 1, 1, 1, 1, 1, 1, 1, 1, 3, 1, 4, 1, 4, 1, 1, 2, 2, 1, 1, 1, 1, 1, 1, 1, 11, 1, 1, 1, 5, 1, 2, 1, 3, 2, 1, 1, 1, 1, 1, 1, 2, 1, 2, 1, 4, 1, 5, 1, 1, 1, 1, 5, 1, 1, 7, 1, 1, 4, 3, 1, 1, 1, 1, 1, 7, 1, 2, 1, 1, 1, 1, 2, 2, 2, 1, 1, 3, 1, 2, 1, 6, 2, 2, 2, 2, 6, 1, 1, 1, 1, 1, 2, 2, 3, 2, 1, 2, 1, 26, 4, 1, 1, 1, 2, 10, 3, 1, 3, 1, 1, 1, 1, 1, 3, 13, 1, 1, 1, 1, 2, 2, 1, 2, 3, 2, 1, 3, 1, 1, 1, 2, 1, 1, 1, 3, 3, 1, 2, 1, 1, 1, 1, 1, 1, 1, 1, 7, 1, 1, 1, 1, 1, 1, 2, 3, 1, 2, 1, 1, 1, 1, 1, 1, 2, 3, 1, 1, 1, 1, 39, 24, 17, 1, 1, 1, 3, 1, 2, 5, 5, 1, 1, 2, 3, 5, 1, 2, 1, 1, 1, 1, 1, 1, 1, 1, 1, 4, 3, 4, 1, 1, 1, 1, 1, 1, 5, 5, 3, 2, 1, 1, 1, 15, 1, 1, 1, 8, 1, 1, 1, 8, 1, 6, 1, 1, 1, 2, 1, 1, 1, 1, 1, 2, 1, 2, 1, 1, 4, 1, 2, 1, 1, 1, 3, 1, 1, 3, 4, 1, 1, 1, 5, 4, 1, 1, 1, 1, 15, 6, 3, 1, 1, 1, 1, 1, 1, 1, 1, 1, 1, 1, 1, 1, 1, 1, 1, 1, 1, 1, 2, 1, 2, 1, 1, 1, 1, 1, 1, 29, 1, 1, 1, 1, 1, 11, 1, 2, 3, 3, 3, 2, 1, 1, 2, 1, 1, 8, 1, 2, 2, 1, 15, 1, 1, 2, 1, 1, 1, 5, 1, 2, 1, 1, 2, 4, 1, 1, 5, 1, 2, 2, 3, 6, 2, 2, 1, 1, 1, 1, 1, 4, 2, 3, 2, 1, 1, 2, 1, 2, 2, 2, 1, 3, 1, 3, 1, 1, 5, 5, 1, 1, 1, 1, 5, 4, 1, 1, 1, 3, 1, 1, 1, 3, 2, 1, 4, 2, 1, 1, 2, 1, 1, 2, 2, 2, 1, 1, 1, 1, 1, 1, 1, 3, 1, 10, 1, 1, 4, 1, 1, 1, 1, 2, 5, 1, 1, 1, 1, 1, 1, 2, 4, 6, 1, 1, 2, 2, 1, 1, 2, 1, 1, 1, 2, 1, 5, 4, 1, 1, 1, 13, 1, 1, 1, 1, 1, 1, 1, 1, 1, 3, 2, 1, 1, 9, 1, 1, 2, 1, 1, 3, 1, 1, 1, 1, 1, 3, 1, 1, 1, 2, 2, 13, 2, 1, 2, 3, 2, 1, 1, 2, 3, 1, 2, 2, 2, 3, 1, 1, 1, 1, 1, 2, 1, 6, 1, 2, 2, 1, 3, 1, 1, 4, 1, 1, 4, 1, 1, 1, 4, 1, 1, 1, 1, 4, 1, 1, 1, 1, 3, 1, 7, 1, 2, 1, 1, 1, 1, 1, 1, 2, 4, 1, 1, 1, 1, 1, 1, 2, 1, 1, 1, 3, 1, 4, 1, 2, 1, 1, 6, 1, 1, 1, 1, 4, 1, 1, 7, 2, 1, 1, 1, 1, 1, 8, 1, 1, 5, 1, 1, 3, 1, 3, 5, 1, 1, 1, 3, 1, 1, 2, 1, 1, 3, 2, 1, 1, 2, 1, 1, 4, 1, 1, 2, 2, 3, 3, 1, 1, 1, 1, 1, 1, 1, 1, 3, 1, 2, 2, 4, 2, 1, 1, 1, 2, 1, 1, 1, 3, 1, 2, 1, 1, 1, 1, 1, 1, 2, 1, 2, 1, 1, 1, 1, 1, 1, 1, 1, 1, 1, 1, 1, 1, 1, 1, 1, 3, 1, 1, 1, 3, 2, 2, 1, 1, 2, 1, 1, 1, 1, 2, 2, 1, 1, 1, 2, 1, 2, 1, 1, 2, 1, 1, 2, 1, 2, 1, 1, 3, 1, 1, 2, 1, 1, 1, 1, 1, 2, 1, 2, 1, 1, 1, 1, 1, 2, 1, 2, 1, 1, 1, 1, 1, 1, 1, 2, 1, 2, 7, 8, 1, 1, 1, 1, 1, 1, 1, 1, 1, 3, 1, 1, 8, 2, 1, 1, 1, 1, 9, 1, 2, 7, 3, 1, 2, 2, 5, 1, 2, 1, 3, 1, 1, 8, 5, 4, 5, 4, 5, 1, 1, 1, 1, 11, 1, 5, 2, 1, 2, 1, 1, 1, 1, 1, 1, 1, 11, 1, 8, 1, 1, 13, 1, 4, 1, 7, 7, 1, 8, 1, 1, 1, 4, 1, 1, 1, 1, 2, 8, 1, 1, 1, 1, 1, 3, 2, 1, 5, 1, 1, 1, 1, 1, 1, 1, 1, 1, 1, 2, 1, 1, 1, 1, 1, 1, 2, 1, 3, 1, 1, 1, 2, 1, 3, 1, 1, 1, 1, 1, 3, 1, 1, 2, 1, 2, 1, 1, 3, 4, 2, 1, 1, 1, 1, 9, 1, 1, 1, 10, 2, 2, 1, 1, 2, 1, 6, 1, 1, 1, 3, 2, 1, 4, 1, 1, 1, 1, 1, 1, 1, 1, 2, 1, 2, 1, 1, 1, 1, 8, 1, 1, 1, 1, 1, 2, 1, 4, 1, 1, 2, 3, 3, 1, 1, 1, 1, 1, 1, 1, 1, 1, 1, 1, 1, 1, 7, 1, 5, 1, 1, 1, 1, 1, 1, 1, 2, 1, 7, 4, 1, 1, 4, 1, 1, 3, 2, 1, 1, 1, 3, 1, 1, 2, 2, 1, 8, 5, 6, 1, 1, 3, 1, 1, 1, 1, 1, 1, 4, 1, 1, 1, 1, 1, 1, 1, 7, 3, 1, 2, 2, 5, 3, 4, 6, 8, 1, 1, 2, 13, 2, 1, 2, 3, 2, 1, 1, 2, 5, 1, 1, 2, 2, 1, 1, 1, 1, 1, 1, 2, 5, 1, 1, 1, 3, 1, 1, 2, 12, 3, 2, 1, 1, 3, 4, 1, 1, 2, 1, 2, 1, 1, 1, 1, 1, 2, 1, 1, 1, 1, 1, 1, 1, 1, 5, 1, 2, 3, 1, 2, 3, 1, 1, 1, 1, 3, 2, 12, 2, 4, 2, 1, 2, 1, 2, 1, 1, 1, 2, 3, 29, 1, 6, 2, 2, 2, 7, 1, 2, 4, 1, 4, 1, 1, 1, 1, 2, 2, 1, 1, 3, 3, 2, 1, 4, 3, 1, 1, 1, 1, 3, 1, 2, 1, 1, 1, 3, 2, 1, 1, 1, 1, 3, 1, 1, 3, 9, 1, 1, 1, 2, 1, 1, 3, 3, 5, 3, 2, 1, 1, 3, 5, 2, 1, 21, 2, 1, 1, 1, 4, 1, 1, 2, 1, 1, 1, 2, 1, 1, 1, 2, 2, 1, 2, 1, 2, 3, 4, 3, 1, 1, 8, 1, 1, 1, 1, 1, 3, 1, 8, 1, 1, 1, 1, 1, 1, 1, 1, 1, 3, 3, 2, 1, 1, 1, 1, 3, 1, 1, 1, 6, 1, 1, 2, 1, 1, 1, 1, 1, 1, 2, 2, 5, 1, 1, 1, 1, 1, 1, 2, 1, 1, 2, 3, 1, 2, 2, 1, 1, 1, 1, 3, 1, 1, 1, 1, 4, 2, 1, 1, 1, 1, 1, 4, 3, 3, 1, 2, 1, 1, 3, 1, 1, 1, 1, 1, 2, 2, 1, 2, 1, 1, 6, 1, 2, 1, 1, 1, 1, 1, 1, 1, 2, 3, 1, 1, 1, 1, 1, 1, 26, 1, 1, 3, 7, 1, 3, 1, 8, 2, 1, 2, 3, 1, 1, 2, 2, 2, 1, 1, 1, 3, 3, 2, 5, 1, 1, 1, 1, 1, 1, 5, 1, 1, 1, 1, 1, 1, 20, 1, 2, 1, 1, 1, 1, 1, 1, 1, 1, 1, 1, 1, 1, 1, 1, 1, 1, 3, 1, 1, 1, 1, 1, 1, 1, 1, 1, 1, 1, 2, 2, 4, 1, 1, 1, 1, 1, 1, 1, 2, 3, 1, 1, 1, 1, 1, 1, 5, 1, 1, 1, 1, 1, 1, 1, 1, 1, 9, 6, 1, 2, 7, 1, 6, 1, 3, 1, 1, 1, 1, 4, 1, 1, 4, 1, 1, 2, 1, 2, 1, 1, 1, 1, 3, 2, 2, 1, 1, 2, 1, 1, 1, 2, 1, 1, 1, 1, 2, 1, 1, 1, 1, 1, 1, 3, 1, 1, 1, 1, 2, 1, 1, 2, 1, 1, 1, 1, 1, 1, 6, 1, 1, 1, 1, 1, 1, 4, 1, 3, 1, 1, 1, 2, 2, 1, 2, 7, 1, 1, 7, 6, 4, 1, 1, 1, 3, 1, 1, 1, 1, 1, 1, 1, 7, 1, 1, 3, 1, 2, 2, 1, 1, 2, 1, 1, 1, 1, 1, 3, 1, 2, 1, 1, 1, 1, 1, 1, 1, 1, 1, 8, 1, 1, 1, 1, 1, 1, 1, 1, 3, 1, 5, 1, 1, 1, 1, 1, 2, 1, 1, 2, 1, 1, 1, 1, 1, 1, 1, 1, 5, 4, 1, 1, 1, 1, 2, 1, 2, 1, 1, 1, 1, 1, 1, 1, 1, 1, 1, 1, 1, 5, 2, 3, 2, 1, 2, 1, 20, 2, 1, 1, 1, 2, 2, 5, 1, 4, 3, 1, 2, 1, 1, 1, 1, 1, 3, 2, 4, 3, 3, 1, 1, 2, 5, 1, 1, 2, 2, 1, 1, 1, 3, 3, 1, 1, 1, 1, 1, 1, 1, 1, 1, 1, 1, 2, 3, 1, 19, 2, 1, 1, 2, 2, 1, 1, 1, 1, 1, 3, 1, 1, 2, 5, 1, 1, 2, 1, 1, 1, 1, 1, 1, 1, 3, 1, 1, 1, 1, 1, 2, 1, 1, 1, 1, 1, 1, 1, 1, 2, 1, 4, 1, 1, 1, 1, 1, 1, 4, 1, 2, 2, 1, 1, 1, 1, 2, 1, 2, 3, 1, 1, 1, 1, 1, 1, 1, 1, 1, 1, 1, 1, 1, 4, 2, 1, 1, 1, 1, 1, 2, 1, 2, 1, 2, 2, 1, 6, 1, 1, 1, 2, 2, 1, 1, 2, 1, 1, 2, 2, 1, 1, 2, 1, 1, 1, 2, 1, 1, 1, 1, 1, 1, 1, 1, 1, 1, 1, 1, 2, 2, 1, 1, 1, 1, 1, 1, 1, 1, 1, 1, 1, 1, 1, 5, 4, 3, 1, 1, 1, 1, 1, 1, 3, 1, 2, 1, 1, 1, 1, 1, 1, 6, 1, 1, 1, 1, 1, 2, 5, 1, 1, 1, 6, 5, 1, 1, 1, 1, 1, 8, 1, 2, 1, 1, 1, 3, 1, 1, 2, 2, 1, 1, 5, 1, 1, 2, 1, 1, 1, 1, 1, 1, 1, 5, 1, 1, 1, 2, 1, 7, 1, 1, 3, 1, 1, 1, 1, 1, 9, 7, 1, 2, 1, 1, 1, 1, 3, 1, 2, 1, 1, 1, 5, 1, 3, 1, 1, 1, 1, 1, 1, 2, 1, 1, 2, 1, 2, 9, 4, 1, 1, 1, 1, 1, 1, 1, 1, 1, 2, 2, 2, 1, 3, 1, 1, 2, 1, 1, 1, 1, 2, 4, 1, 1, 1, 1, 1, 1, 1, 5, 4, 1, 2, 6, 2, 3, 1, 1, 1, 1, 3, 31, 1, 1, 1, 1, 2, 2, 2, 1, 1, 2, 1, 4, 2, 1, 3, 2, 1, 1, 1, 9, 1, 8, 1, 1, 1, 1, 1, 1, 3, 3, 2, 1, 1, 1, 1, 1, 1, 1, 2, 1, 1, 3, 4, 1, 1, 1, 1, 7, 6, 5, 1, 2, 1, 1, 1, 1, 1, 1, 3, 1, 1, 1, 1, 1, 1, 1, 5, 1, 1, 6, 1, 2, 1, 1, 5, 1, 1, 1, 1, 1, 1, 1, 1, 1, 1, 1, 1, 1, 3, 1, 1, 1, 1, 1, 1, 7, 7, 2, 4, 1, 1, 1, 1, 1, 2, 4, 1, 2, 4, 1, 8, 3, 1, 1, 1, 1, 1, 1, 1, 1, 1, 2, 1, 1, 5, 2, 1, 1, 1, 1, 1, 1, 2, 1, 1, 1, 1, 1, 1, 1, 1, 1, 1, 1, 1, 1, 1, 2, 1, 1, 1, 1, 1, 1, 1, 1, 1, 27, 1, 1, 3, 1, 1, 5, 1, 1, 1, 2, 1, 4, 1, 1, 1, 1, 4, 5, 1, 4, 6, 1, 1, 1, 6, 2, 1, 1, 2, 1, 3, 5, 1, 4, 1, 1, 1, 1, 1, 5, 2, 2, 3, 1, 1, 1, 2, 1, 1, 3, 1, 1, 2, 1, 3, 1, 6, 2, 2, 2, 1, 1, 1, 2, 1, 6, 1, 1, 1, 1, 1, 1, 1, 2, 6, 1, 2, 1, 2, 1, 1, 1, 1, 1, 2, 1, 1, 1, 1, 7, 1, 1, 1, 1, 1, 1, 1, 3, 1, 1, 1, 1, 1, 1, 1, 7, 1, 1, 1, 1, 1, 2, 1, 1, 1, 1, 1, 2, 1, 2, 1, 1, 2, 1, 1, 3, 1, 1, 2, 1, 1, 1, 1, 4, 1, 3, 1, 4, 1, 1, 1, 2, 1, 1, 2, 1, 5, 1, 1, 1, 1, 1, 2, 1, 1, 1, 2, 1, 1, 1, 1, 1, 2, 2, 1, 1, 1, 1, 12, 1, 2, 1, 2, 2, 1, 2, 1, 3, 2, 1, 1, 1, 3, 3, 1, 1, 1, 1, 1, 1, 1, 1, 1, 1, 1, 2, 1, 1, 2, 1, 1, 1, 1, 1, 1, 1, 1, 1, 2, 1, 1, 1, 2, 1, 1, 1, 1, 1, 5, 1, 3, 1, 6, 1, 1, 1, 1, 2, 2, 1, 1, 1, 1, 1, 1, 1, 3, 1, 1, 1, 1, 5, 1, 2, 2, 9, 3, 1, 1, 1, 1, 1, 2, 3, 1, 1, 1, 2, 1, 1, 2, 3, 1, 2, 1, 1, 1, 1, 3, 2, 1, 1, 3, 2, 1, 1, 1, 4, 5, 1, 1, 2, 1, 1, 4, 1, 1, 3, 2, 9, 1, 10, 1, 4, 1, 1, 1, 5, 1, 1, 1, 6, 1, 1, 1, 1, 1, 1, 1, 3, 5, 1, 1, 1, 1, 3, 1, 1, 1, 1, 1, 1, 1, 1, 1, 12, 7, 1, 1, 1, 1, 2, 1, 8, 1, 1, 1, 1, 1, 1, 1, 1, 1, 1, 3, 1, 1, 1, 1, 5, 5, 1, 2, 1, 1, 1, 1, 1, 1, 1, 1, 2, 5, 1, 4, 1, 1, 2, 1, 2, 1, 1, 2, 1, 1, 1, 1, 1, 1, 1, 1, 1, 1, 1, 1, 1, 2, 1, 2, 1, 1, 5, 1, 1, 2, 1, 3, 6, 6, 3, 1, 2, 1, 2, 4, 1, 1, 1, 1, 2, 3, 1, 1, 2, 1, 1, 1, 7, 1, 2, 1, 1, 1, 1, 1, 4, 1, 10, 3, 1, 1, 1, 1, 1, 2, 5, 1, 1, 1, 4, 2, 3, 3, 1, 1, 1, 1, 2, 1, 1, 1, 1, 1, 1, 1, 5, 1, 2, 1, 4, 1, 2, 1, 1, 1, 4, 89, 2, 3, 2, 4, 1, 1, 1, 2, 1, 8, 1, 2, 1, 1, 1, 1, 1, 4, 2, 1, 2, 1, 1, 1, 1, 1, 1, 2, 4, 3, 1, 1, 2, 1, 1, 1, 1, 3, 1, 1, 4, 1, 1, 1, 1, 1, 1, 1, 2, 1, 13, 2, 1, 7, 1, 3, 2, 2, 1, 1, 1, 3, 1, 2, 2, 3, 1, 1, 4, 4, 1, 1, 2, 1, 2, 2, 1, 1, 2, 1, 2, 1, 1, 1, 1, 1, 1, 1, 1, 8, 1, 1, 1, 2, 1, 1, 1, 1, 1, 1, 1, 1, 2, 1, 2, 2, 2, 2, 2, 3, 1, 1, 1, 2, 1, 1, 1, 1, 2, 1, 12, 1, 1, 1, 1, 1, 1, 1, 2, 1, 4, 1, 1, 1, 1, 1, 2, 1, 1, 2, 1, 1, 1, 2, 1, 2, 2, 1, 1, 4, 1, 1, 1, 2, 1, 1, 1, 9, 1, 4, 5, 7, 1, 1, 1, 1, 4, 1, 1, 2, 2, 3, 4, 2, 1, 1, 1, 1, 9, 1, 1, 1, 3, 1, 1, 1, 2, 1, 1, 1, 5, 1, 1, 1, 1, 2, 2, 1, 1, 2, 1, 28, 1, 1, 1, 2, 1, 1, 1, 1, 2, 1, 1, 1, 1, 1, 3, 1, 1, 2, 1, 1, 1, 1, 4, 3, 2, 2, 20, 1, 1, 4, 2, 1, 2, 8, 1, 1, 1, 1, 2, 1, 1, 1, 3, 2, 1, 2, 1, 2, 1, 1, 1, 1, 1, 3, 2, 1, 2, 1, 1, 5, 1, 1, 3, 84, 3, 1, 1, 2, 1, 3, 1, 1, 1, 1, 3, 3, 1, 1, 1, 3, 1, 2, 1, 1, 1, 1, 1, 4, 1, 6, 7, 2, 6, 1, 1, 3, 1, 2, 2, 1, 2, 1, 1, 1, 3, 1, 1, 1, 1, 1, 4, 5, 1, 1, 1, 1, 1, 1, 1, 4, 1, 1, 1, 1, 1, 3, 1, 1, 1, 4, 1, 1, 1, 1, 1, 1, 1, 1, 2, 3, 1, 1, 2, 1, 3, 1, 1, 7, 1, 5, 1, 1, 1, 1, 2, 2, 1, 5, 1, 2, 1, 1, 1, 1, 1, 2, 1, 1, 1, 3, 1, 1, 1, 1, 2, 3, 2, 4, 4, 4, 3, 1, 9, 2, 1, 3, 1, 1, 15, 2, 1, 1, 2, 12, 1, 1, 1, 1, 1, 1, 1, 7, 2, 1, 1, 1, 1, 2, 1, 1, 2, 1, 1, 2, 3, 1, 1, 1, 1, 1, 1, 1, 1, 2, 1, 1, 1, 4, 2, 1, 1, 1, 1, 1, 2, 1, 1, 1, 1, 1, 1, 1, 1, 2, 1, 3, 2, 5, 1, 1, 1, 1, 1, 1, 1, 1, 1, 1, 1, 1, 2, 1, 2, 1, 1, 2, 1, 1, 1, 1, 1, 1, 1, 2, 1, 1, 3, 1, 1, 1, 1, 3, 1, 1, 1, 2, 1, 8, 5, 5, 1, 1, 1, 1, 2, 1, 2, 2, 1, 2, 1, 2, 2, 4, 1, 1, 6, 1, 1, 1, 1, 1, 2, 2, 1, 4, 2, 1, 4, 1, 5, 1, 1, 1, 1, 1, 1, 1, 4, 6, 2, 1, 1, 2, 5, 2, 3, 1, 1, 2, 2, 1, 2, 1, 2, 2, 1, 1, 1, 1, 1, 1, 1, 1, 5, 1, 1, 1, 1, 2, 1, 1, 1, 1, 1, 1, 9, 2, 1, 2, 1, 1, 8, 3, 1, 2, 1, 1, 1, 2, 2, 1, 9, 1, 1, 1, 1, 1, 1, 1, 1, 1, 1, 1, 1, 1, 1, 1, 1, 1, 1, 4, 1, 1, 5, 1, 1, 1, 1, 1, 1, 1, 1, 3, 10, 2, 1, 4, 1, 1, 1, 3, 1, 1, 3, 4, 1, 1, 1, 1, 1, 1, 1, 3, 3, 2, 1, 6, 2, 2, 1, 1, 1, 1, 2, 1, 1, 1, 1, 1, 1, 2, 1, 1, 1, 1, 2, 1, 1, 1, 1, 1, 2, 1, 1, 2, 1, 1, 3, 1, 1, 1, 1, 1, 1, 2, 1, 1, 1, 1, 4, 2, 1, 1, 1, 1, 1, 1, 2, 1, 24, 1, 1, 1, 1, 3, 2, 1, 1, 1, 1, 1, 1, 1, 5, 4, 1, 1, 1, 1, 1, 2, 1, 1, 1, 1, 1, 2, 1, 1, 1, 1, 2, 2, 1, 1, 2, 2, 1, 1, 1, 1, 1, 1, 1, 1, 1, 2, 1, 1, 1, 1, 1, 1, 2, 2, 1, 1, 3, 2, 1, 1, 2, 2, 1, 1, 1, 2, 2, 1, 1, 3, 1, 6, 1, 1, 2, 1, 1, 2, 1, 1, 1, 1, 1, 1, 6, 1, 1, 2, 4, 1, 1, 1, 1, 3, 3, 2, 1, 1, 1, 2, 1, 1, 1, 4, 2, 2, 6078, 1, 1, 1, 1, 1, 1, 1, 1, 1, 1, 1, 2, 2, 4, 2, 2, 1, 1, 1, 1, 1, 1, 1, 3, 1, 1, 14, 1, 1, 1, 1, 1, 1, 1, 1, 1, 1, 1, 1, 1, 1, 1, 1, 1, 1, 2, 2, 4, 1, 1, 1, 1, 2, 1, 1, 6, 1, 1, 1, 2, 5, 1, 1, 1, 1, 1, 2, 2, 2, 1, 1, 3, 1, 1, 3, 9, 2, 1, 1, 1, 4, 1, 2, 1, 1, 4, 1, 1, 3, 7, 2, 1, 2, 1, 1, 3, 1, 1, 1, 1, 1, 1, 1, 1, 1, 1, 2, 1, 1, 1, 1, 4, 1, 1, 1, 2, 1, 1, 1, 1, 2, 1, 2, 1, 1, 8, 1, 1, 1, 1, 1, 2, 1, 1, 1, 3, 1, 1, 1, 1, 14, 2, 1, 1, 1, 2, 6, 1, 2, 1, 1, 2, 1, 9, 2, 1, 1, 1, 1, 8, 2, 7, 1, 11, 1, 2, 2, 4, 4, 2, 1, 3, 7, 1, 1, 1, 1, 1, 22, 5, 1, 1, 3, 1, 1, 1, 1, 3, 2, 1, 3, 1, 1, 1, 1, 3, 1, 1, 1, 1, 1, 1, 1, 1, 1, 2, 2, 1, 14, 1, 1, 8, 9, 1, 5, 1, 1, 1, 1, 1, 1, 1, 2, 1, 4, 5, 1, 6, 1, 1, 2, 11, 1, 2, 1, 6, 1, 1, 1, 1, 1, 1, 2, 1, 1, 1, 1, 8, 1, 1, 2, 1, 1, 6, 1, 3, 6, 9, 1, 1, 7, 6, 1, 1, 4, 1, 3, 1, 1, 1, 1, 3, 1, 1, 1, 1, 2, 1, 1, 1, 1, 2, 1, 3, 3, 2, 1, 1, 1, 1, 1, 1, 1, 5, 1, 3, 2, 1, 1, 1, 1, 1, 1, 1, 2, 1, 1, 2, 8, 1, 1, 3, 1, 1, 1, 1, 1, 1, 1, 1, 3, 1, 1, 5, 4, 1, 1, 1, 2, 1, 2, 1, 2, 1, 4, 1, 1, 2, 1, 3, 1, 1, 2, 3, 2, 2, 3, 1, 1, 5, 1, 1, 7, 2, 1, 3, 1, 3, 1, 1, 14, 3, 1, 1, 1, 1, 1, 1, 1, 1, 3, 1, 1, 1, 5, 1, 2, 1, 1, 1, 2, 2, 1, 1, 1, 1, 11, 7, 1, 1, 1, 1, 1, 1, 1, 1, 1, 1, 3, 2, 1, 1, 1, 1, 1, 1, 1, 1, 2, 1, 1, 3, 1, 1, 1, 1, 1, 1, 6, 1, 1, 1, 6, 1, 1, 1, 1, 1, 1, 2, 1, 2, 1, 7, 1, 1, 1, 1, 1, 1, 1, 2, 3, 1, 1, 1, 1, 4, 1, 3, 1, 1, 4, 1, 1, 1, 1, 1, 1, 1, 1, 1, 2, 1, 1, 2, 2, 1, 1, 3, 2, 3, 2, 2, 1, 1, 1, 1, 2, 1, 2, 1, 1, 1, 3, 2, 1, 1, 1, 1, 1, 2, 1, 1, 2, 3, 3, 1, 1, 1, 1, 4, 4, 1, 1, 1, 1, 2, 2, 1, 3, 1, 1, 2, 2, 4, 1, 3, 1, 5, 2, 1, 1, 1, 1, 1, 1, 1, 1, 1, 1, 2, 1, 1, 1, 1, 1, 1, 1, 1, 3, 3, 2, 2, 4, 1, 6, 1, 3, 1, 1, 4, 1, 1, 1, 2, 1, 5, 1, 1, 1, 1, 1, 1, 1, 1, 1, 1, 4, 2, 1, 2, 1, 1, 4, 1, 1, 1, 1, 1, 4, 4, 2, 1, 1, 1, 1, 1, 1, 1, 2, 2, 2, 1, 1, 1, 1, 1, 1, 1, 1, 1, 1, 2, 1, 1, 1, 1, 1, 1, 4, 1, 4, 2, 1, 1, 1, 2, 2, 1, 1, 1, 1, 2, 1, 1, 2, 1, 2, 1, 1, 1, 1, 1, 1, 1, 1, 1, 1, 3, 2, 1, 1, 2, 1, 2, 4, 8, 1, 1, 3, 1, 1, 1, 1, 1, 1, 1, 1, 2, 5, 1, 2, 2, 1, 1, 1, 1, 1, 1, 1, 1, 1, 1, 2, 2, 1, 3, 1, 1, 1, 1, 1, 1, 2, 2, 1, 3, 3, 1, 1, 2, 1, 1, 1, 1, 2, 1, 3, 1, 1, 1, 3, 3, 3, 1, 3, 1, 1, 1, 2, 3, 1, 1, 1, 1, 3, 2, 3, 1, 1, 3, 1, 1, 1, 1, 1, 1, 1, 1, 1, 3, 1, 3, 2, 4, 2, 2, 1, 1, 1, 1, 1, 1, 1, 1, 1, 1, 1, 1, 1, 1, 1, 1, 1, 1, 11, 1, 2, 1, 1, 1, 1, 2, 1, 2, 1, 3, 1, 1, 2, 1, 1, 1, 8, 1, 1, 1, 1, 1, 1, 1, 1, 3, 1, 1, 1, 2, 1, 11, 1, 1, 1, 1, 2, 1, 1, 1, 1, 1, 6, 1, 1, 1, 1, 1, 3, 1, 1, 1, 1, 1, 4, 1, 1, 1, 1, 1, 1, 1, 7, 1, 1, 1, 4, 1, 1, 1, 1, 1, 1, 2, 1, 1, 1, 1, 1, 3, 1, 2, 1, 1, 1, 1, 1, 2, 1, 1, 3, 1, 2, 1, 1, 1, 2, 1, 3, 1, 1, 1, 1, 2, 1, 1, 1, 3, 1, 1, 2, 2, 1, 1, 1, 1, 1, 1, 1, 1, 2, 1, 1, 1, 3, 1, 1, 1, 1, 1, 2, 1, 1, 1, 1, 1, 5, 1, 2, 2, 4, 1, 1, 1, 1, 1, 1, 1, 1, 1, 3, 1, 7, 1, 2, 2, 2, 1, 1, 2, 4, 1, 1, 1, 1, 1, 1, 2, 1, 1, 1, 1, 1, 1, 1, 1, 1, 3, 3, 1, 1, 1, 1, 1, 1, 1, 2, 1, 2, 1, 1, 2, 1, 3, 2, 1, 6, 3, 1, 5, 1, 1, 1, 1, 1, 2, 1, 1, 1, 3, 1, 1, 1, 4, 4, 4, 1, 1, 1, 1, 3, 1, 2, 1, 1, 1, 2, 1, 1, 2, 2, 2, 1, 1, 1, 1, 2, 1, 4, 1, 1, 1, 1, 1, 1, 2, 2, 1, 2, 2, 1, 1, 1, 1, 2, 1, 1, 2, 2, 1, 2, 1, 1, 1, 1, 3, 1, 1, 1, 2, 1, 2, 1, 1, 3, 1, 1, 1, 1, 1, 1, 1, 2, 1, 1, 2, 1, 2, 1, 1, 1, 1, 2, 1, 1, 1, 1, 1, 1, 5, 2, 1, 1, 1, 1, 2, 2, 1, 4, 1, 1, 2, 1, 1, 2, 1, 1, 2, 1, 3, 3, 1, 1, 1, 4, 1, 1, 1, 1, 1, 1, 2, 5, 1, 3, 1, 4, 1, 1, 1, 3, 1, 1, 5, 1, 1, 6, 1, 1, 1, 2, 1, 6, 2, 1, 1, 5, 1, 1, 1, 1, 5, 1, 1, 1, 1, 1, 1, 1, 1, 10, 7, 1, 1, 5, 1, 1, 1, 1, 1, 12, 1, 1, 1, 1, 1, 3, 1, 7, 6, 3, 1, 1, 1, 1, 3, 1, 1, 2, 1, 1, 1, 5, 1, 2, 1, 2, 2, 1, 1, 1, 1, 9, 1, 1, 5, 1, 1, 1, 2, 1, 3, 1, 9, 4, 1, 1, 2, 2, 1, 2, 2, 1, 2, 13, 1, 6, 2, 1, 6, 1, 4, 1, 1, 1, 39, 1, 1, 1, 9, 1, 1, 1, 20, 2, 1, 12, 3, 2, 1, 3, 1, 1, 1, 1, 1, 1, 1, 1, 7, 1, 1, 3, 3, 11, 4, 8, 2, 3, 1, 2, 1, 1, 2, 3, 3, 1, 4, 1, 1, 1, 1, 1, 1, 2, 3, 3, 2, 12, 1, 1, 1, 2, 2, 1, 1, 4, 2, 1, 1, 3, 1, 1, 3, 1, 2, 1, 1, 8, 1, 4, 1, 1, 1, 1, 1, 1, 4, 3, 2, 1, 1, 1, 1, 1, 5, 1, 1, 1, 1, 7, 1, 11, 2, 1, 1, 2, 1, 3, 2, 1, 1, 1, 1, 1, 1, 1, 2, 5, 1, 6, 1, 1, 1, 2, 1, 1, 5, 1, 2, 1, 2, 1, 2, 2, 2, 1, 3, 8, 1, 1, 1, 10, 1, 1, 1, 1, 1, 1, 1, 1, 2, 2, 2, 1, 1, 1, 5, 1, 5, 5, 1, 6, 1, 1, 2, 1, 1, 1, 4, 1, 1, 2, 1, 1, 2, 4, 4, 4, 1, 1, 1, 5, 14, 1, 1, 1, 1, 3, 1, 1, 1, 1, 1, 1, 1, 1, 1, 14, 2, 3, 1, 1, 1, 1, 1, 2, 1, 1, 2, 2, 1, 5, 1, 1, 1, 1, 2, 1, 3, 5, 1, 1, 1, 1, 1, 1, 1, 1, 1, 1, 1, 1, 1, 1, 1, 2, 1, 3, 2, 1, 1, 1, 1, 1, 1, 1, 1, 1, 1, 2, 1, 1, 1, 1, 1, 3, 2, 1, 1, 1, 1, 1, 1, 2, 1, 1, 1, 2, 1, 1, 1, 4, 2, 1, 1, 1, 1, 1, 1, 1, 1, 1, 3, 1, 1, 1, 1, 7, 1, 1, 1, 1, 4, 3, 1, 1, 1, 1, 4, 3, 1, 1, 1, 4, 1, 1, 1, 1, 1, 2, 1, 1, 3, 1, 1, 1, 1, 1, 1, 1, 1, 2, 8, 8, 3, 1, 1, 1, 1, 1, 1, 1, 1, 1, 2, 1, 1, 1, 1, 1, 1, 1, 1, 1, 1, 1, 2, 1, 1, 1, 1, 1, 1, 1, 1, 1, 1, 1, 1, 1, 1, 1, 1, 1, 1, 1, 1, 1, 1, 14, 1, 2, 1, 1, 1, 1, 1, 1, 2, 1, 1, 1, 1, 2, 8, 1, 1, 1, 1, 2, 1, 2, 1, 1, 1, 1, 13, 1, 1, 1, 1, 1, 1, 3, 2, 2, 1, 4, 1, 4, 1, 2, 1, 1, 1, 1, 1, 1, 2, 1, 1, 8, 1, 1, 3, 1, 1, 1, 1, 1, 2, 1, 1, 1, 1, 1, 1, 5, 1, 1, 1, 1, 1, 1, 1, 3, 1, 1, 1, 1, 1, 1, 1, 1, 1, 1, 1, 2, 1, 1, 1, 2, 1, 1, 1, 1, 1, 1, 3, 6, 1, 1, 2, 1, 4, 1, 2, 6, 1, 1, 1, 3, 1, 3, 1, 1, 1, 2, 1, 1, 1, 1, 1, 463, 1, 1, 1, 9, 9, 2, 1, 1, 1, 1, 4, 4, 2, 2, 1, 1, 1, 1, 1, 2, 2, 1, 4, 1, 3, 1, 1, 5, 3, 1, 1, 1, 1, 2, 2, 1, 1, 1, 1, 1, 1, 1, 1, 1, 1, 2, 1, 2, 1, 2, 1, 1, 1, 1, 1, 1, 1, 4, 1, 1, 1, 1, 2, 2, 4, 1, 1, 3, 1, 2, 1, 1, 1, 1, 1, 1, 1, 1, 1, 1, 3, 1, 1, 1, 1, 2, 9, 1, 1, 2, 1, 1, 17, 1, 7, 8, 1, 2, 1, 1, 1, 2, 1, 2, 2, 4, 11, 5, 1, 1, 1, 4, 3, 1, 1, 1, 1, 3, 1, 1, 6, 1, 1, 1, 2, 6, 2, 2, 1, 1, 1, 1, 6, 2, 1, 1, 4, 1, 5, 1, 2, 1, 1, 1, 1, 1, 2, 1, 1, 1, 1, 1, 1, 1, 1, 1, 1, 2, 1, 1, 1, 1, 1, 1, 1, 6, 1, 2, 1, 2, 3, 2, 1, 1, 1, 1, 3, 1, 1, 3, 7, 2, 1, 1, 1, 1, 1, 2, 1, 1, 1, 1, 1, 1, 1, 1, 2, 1, 2, 1, 2, 1, 1, 1, 1, 1, 1, 1, 1, 1, 1, 1, 1, 2, 3, 2, 5, 8, 3, 1, 1, 2, 1, 1, 1, 1, 1, 1, 2, 1, 1, 1, 1, 1, 1, 2, 1, 2, 3, 3, 1, 1, 11, 1, 2, 1, 1, 1, 2, 1, 1, 3, 5, 1, 1, 2, 2, 1, 1, 1, 6, 3, 1, 1, 1, 3, 1, 1, 1, 1, 1, 1, 1, 1, 1, 1, 1, 1, 2, 1, 3, 1, 1, 1, 1, 3, 2, 1, 3, 2, 1, 1, 1, 4, 9, 1, 1, 2, 1, 1, 1, 1, 1, 1, 3, 1, 1, 1, 1, 1, 1, 1, 1, 1, 2, 1, 1, 3, 1, 2, 3, 5, 1, 3, 1, 1, 1, 5, 1, 1, 1, 1, 5, 2, 1, 1, 1, 2, 1, 2, 1, 1, 1, 1, 5, 1, 2, 1, 1, 1, 1, 1, 1, 1, 1, 1, 2, 1, 1, 2, 2, 1, 3, 1, 1, 1, 3, 1, 1, 2, 1, 1, 1, 1, 2, 2, 25, 1, 1, 1, 1, 1, 4, 3, 1, 1, 1, 3, 2, 1, 1, 1, 4, 2, 1, 1, 1, 3, 2, 1, 1, 1, 2, 1, 1, 1, 3, 1, 4, 1, 1, 3, 1, 2, 1, 1, 1, 1, 2, 1, 1, 1, 1, 1, 1, 1, 2, 1, 1, 1, 1, 1, 4, 1, 1, 1, 1, 2, 1, 1, 3, 1, 1, 1, 1, 1, 1, 1, 3, 3, 1, 1, 8, 1, 3, 1, 2, 2, 3, 1, 1, 1, 1, 1, 27, 1, 4, 1, 1, 2, 1, 2, 1, 1, 31, 1, 416, 1, 1, 1, 1, 1, 1, 2, 1, 1, 1, 1, 1, 1, 1, 1, 75, 1, 2, 1, 5, 1, 1, 71, 1, 3, 3, 1, 1, 5, 3, 7, 1, 5, 1, 1, 1, 1, 2, 1, 1, 1, 1, 1, 1, 1, 1, 1, 1, 2, 1, 5, 2, 2, 12, 1, 1, 1, 3, 3, 1, 1, 4, 1, 42, 1, 1, 1, 1, 1, 4, 1, 1, 12, 6, 11, 11, 12, 11, 8, 1, 10, 10, 10, 13, 1, 2, 1, 1, 1, 2, 1, 1, 4, 1, 1, 1, 1, 1, 17, 22, 2, 1, 1, 1, 10, 1, 2, 2, 1, 12, 2, 1, 1, 10, 9, 5, 3, 3, 2, 1, 1, 1, 5, 1, 1, 5, 1, 1, 1, 1, 1, 1, 1, 1, 2, 1, 3, 1, 1, 1, 2, 1, 1, 1, 3, 2, 1, 1, 2, 1, 1, 11, 1, 2, 1, 1, 1, 1, 1, 1, 5, 1, 1, 1, 1, 2, 11, 1, 1, 4, 1, 2, 1, 1, 1, 2, 1, 1, 5, 1, 1, 1, 1, 1, 1, 1, 3, 1, 1, 1, 2, 4, 2, 2, 1, 1, 2, 1, 2, 5, 1, 1, 1, 1, 1, 5, 1, 1, 1, 1, 1, 2, 1, 9, 1, 2, 2, 1, 4, 1, 3, 3, 2, 1, 1, 1, 1, 1, 7, 1, 5, 1, 1, 1, 1, 1, 1, 1, 1, 3, 1, 7, 5, 1, 1, 1, 1, 1, 1, 1, 1, 1, 1, 1, 1, 2, 1, 8, 1, 2, 1, 2, 1, 1, 1, 5, 2, 1, 1, 1, 1, 1, 1, 1, 1, 11, 2, 1, 1, 1, 2, 1, 1, 1, 1, 1, 2, 1, 1, 1, 1, 1, 1, 1, 1, 1, 2, 7, 2, 15, 1, 1, 2, 6, 6, 1, 1, 1, 2, 1, 1, 1, 5, 3, 2, 1, 2, 5, 2, 1, 1, 2, 3, 3, 2, 1, 2, 1, 5, 1, 1, 2, 1, 1, 1, 2, 1, 4, 1, 1, 1, 1, 1, 5, 1, 2, 1, 1, 1, 5, 1, 3, 1, 1, 2, 8, 1, 1, 3, 1, 1, 1, 1, 1, 1, 1, 2, 1, 1, 1, 1, 1, 6, 2, 2, 1, 1, 1, 1, 1, 1, 1, 3, 2, 3, 1, 1, 1, 1, 2, 1, 1, 1, 5, 1, 1, 1, 1, 1, 5, 1, 6, 2, 1, 1, 5, 5, 2, 1, 1, 2, 1, 1, 2, 1, 1, 1, 1, 1, 1, 3, 4, 1, 1, 1, 1, 1, 1, 2, 3, 1, 1, 1, 2, 8, 2, 3, 1, 1, 1, 2, 3, 1, 1, 4, 1, 4, 1, 1, 1, 1, 1, 1, 2, 4, 1, 4, 1, 2, 3, 5, 1, 1, 2, 1, 2, 2, 1, 3, 4, 2, 1, 1, 1, 1, 1, 1, 1, 1, 1, 2, 3, 3, 2, 1, 1, 1, 2, 1, 1, 2, 1, 1, 1, 3, 2, 1, 4, 6, 2, 12, 1, 1, 3, 1, 4, 1, 3, 1, 1, 1, 3, 1, 1, 1, 1, 1, 1, 1, 2, 1, 1, 1, 1, 3, 2, 1, 1, 1, 1, 22, 1, 2, 1, 1, 1, 1, 1, 1, 1, 9, 2, 3, 1, 2, 2, 1, 1, 3, 1, 1, 1, 1, 1, 1, 1, 7, 1, 1, 1, 5, 1, 1, 1, 1, 1, 1, 1, 1, 1, 1, 1, 1, 1, 1, 1, 1, 2, 1, 1, 1, 1, 1, 1, 1, 1, 2, 1, 1, 5, 4, 1, 2, 1, 1, 1, 1, 1, 1, 1, 1, 2, 2, 1, 1, 1, 1, 2, 1, 1, 1, 1, 2, 1, 1, 1, 1, 1, 2, 3, 1, 1, 1, 1, 1, 3, 1, 1, 1, 1, 2, 1, 7, 1, 1, 1, 2, 1, 1, 2, 1, 1, 2, 1, 1, 1, 1, 1, 1, 1, 1, 1, 1, 2, 1, 1, 3, 1, 1, 1, 1, 1, 1, 1, 1, 1, 1, 2, 1, 1, 1, 1, 1, 2, 1, 2, 1, 2, 1, 1, 3, 2, 4, 1, 2, 1, 1, 1, 1, 1, 2, 1, 1, 3, 8, 1, 1, 1, 1, 1, 1, 1, 3, 4, 1, 1, 1, 1, 1, 4, 1, 2, 1, 3, 1, 1, 1, 1, 11, 1, 1, 1, 2, 1, 7, 1, 1, 3, 1, 1, 1, 2, 1, 1, 1, 1, 6, 1, 1, 2, 4, 1, 3, 4, 1, 1, 2, 1, 1, 2, 1, 1, 2, 1, 1, 1, 3, 2, 1, 1, 2, 1, 3, 1, 2, 1, 1, 2, 1, 1, 1, 3, 1, 4, 1, 2, 4, 1, 1, 5, 1, 4, 1, 1, 1, 7, 2, 1, 2, 1, 1, 2, 1, 4, 1, 2, 2, 1, 1, 3, 1, 2, 1, 3, 2, 1, 1, 1, 2, 1, 1, 1, 1, 1, 1, 3, 1, 1, 1, 1, 1, 1, 1, 1, 1, 3, 1, 1, 3, 1, 1, 1, 1, 1, 1, 1, 5, 2, 1, 4, 1, 1, 2, 1, 2, 1, 1, 1, 1, 1, 1, 1, 1, 1, 1, 1, 1, 5, 2, 1, 4, 3, 1, 4, 1, 1, 2, 1, 1, 1, 1, 7, 3, 2, 2, 1, 1, 1, 2, 1, 1, 4, 1, 2, 1, 1, 1, 1, 2, 1, 2, 2, 1, 1, 1, 1, 1, 1, 1, 1, 1, 1, 2, 1, 1, 1, 1, 1, 2, 3, 2, 1, 2, 1, 1, 1, 1, 1, 1, 2, 17, 1, 1, 1, 1, 1, 2, 1, 1, 1, 1, 1, 1, 1, 2, 3, 1, 1, 1, 1, 3, 4, 1, 1, 1, 1, 1, 1, 1, 1, 1, 1, 1, 1, 1, 1, 3, 4, 4, 1, 1, 1, 6, 3, 1, 2, 2, 2, 2, 3, 1, 1, 1, 1, 2, 1, 1, 1, 17, 1, 1, 1, 1, 3, 4, 2, 1, 2, 1, 5, 1, 1, 1, 1, 1, 1, 3, 1, 1, 1, 1, 2, 2, 1, 1, 2, 1, 3, 1, 1, 1, 2, 1, 2, 1, 1, 1, 2, 1, 1, 1, 1, 1, 3, 6, 2, 1, 3, 1, 1, 1, 1, 1, 1, 1, 1, 1, 1, 1, 1, 1, 1, 1, 1, 1, 4, 1, 1, 1, 2, 1, 1, 2, 1, 1, 1, 1, 1, 3, 2, 1, 1, 1, 5, 1, 2, 1, 1, 1, 6, 1, 2, 1, 3, 8, 1, 1, 2, 1, 1, 1, 1, 1, 1, 3, 1, 1, 1, 1, 1, 1, 3, 1, 1, 3, 1, 7, 1, 1, 2, 1, 1, 1, 2, 2, 2, 1, 1, 1, 1, 1, 1, 3, 6, 1, 3, 2, 1, 1, 1, 1, 1, 1, 1, 1, 7, 8, 1, 1, 3, 1, 5, 5, 1, 1, 2, 6, 1, 1, 3, 1, 1, 1, 5, 1, 1, 3, 1, 2, 2, 2, 2, 1, 4, 1, 1, 1, 1, 2, 3, 3, 3, 1, 3, 3, 1, 1, 2, 1, 1, 1, 2, 3, 1, 1, 1, 3, 3, 2, 4, 1, 1, 26, 1, 1, 1, 1, 1, 4, 1, 1, 2, 2, 2, 3, 1, 1, 1, 1, 1, 1, 1, 1, 1, 1, 1, 1, 2, 1, 2, 1, 5, 2, 1, 2, 3, 2, 2, 1, 1, 2, 1, 5, 1, 1, 3, 1, 1, 1, 3, 2, 4, 3, 1, 1, 2, 1, 1, 1, 1, 1, 4, 1, 1, 1, 1, 1, 2, 1, 5, 1, 1, 4, 3, 1, 1, 5, 2, 5, 1, 4, 1, 1, 1, 1, 1, 3, 1, 3, 1, 1, 1, 1, 1, 2, 3, 1, 1, 1, 1, 1, 5, 3, 1, 1, 1, 1, 1, 1, 1, 1, 1, 1, 3, 2, 2, 1, 1, 5, 1, 2, 2, 1, 1, 1, 1, 6, 1, 1, 1, 1, 1, 1, 1, 1, 3, 1, 1, 3, 1, 1, 3, 1, 1, 1, 1, 1, 1, 1, 1, 1, 1, 1, 1, 1, 1, 3, 1, 1, 4, 1, 1, 1, 11, 1, 1, 1, 3, 1, 1, 1, 1, 1, 1, 1, 1, 1, 1, 4, 1, 1, 1, 10, 1, 5, 1, 1, 1, 2, 3, 1, 1, 1, 1, 1, 1, 1, 2, 1, 1, 1, 1, 1, 1, 1, 3, 2, 1, 1, 1, 3, 1, 1, 1, 2, 1, 3, 1, 1, 2, 3, 1, 1, 1, 1, 1, 1, 2, 1, 11, 2, 3, 1, 3, 1, 1, 2, 112, 2, 1, 2, 1, 1, 1, 2, 1, 2, 1, 3, 2, 2, 1, 2, 3, 2, 2, 1, 1, 1, 1, 6, 2, 1, 1, 1, 2, 1, 2, 1, 1, 2, 21, 1, 2, 2, 1, 1, 1, 4, 1, 1, 1, 1, 1, 1, 1, 2, 1, 5, 1, 1, 1, 1, 1, 1, 1, 4, 1, 2, 1, 1, 1, 1, 2, 3, 3, 2, 1, 1, 2, 1, 3, 1, 2, 2, 2, 2, 4, 2, 2, 4, 1, 1, 1, 2, 4, 2, 1, 1, 3, 1, 1, 1, 1, 1, 1, 1, 1, 1, 1, 1, 1, 1, 1, 1, 1, 2, 1, 2, 1, 2, 1, 1, 6, 1, 2, 1, 1, 1, 2, 1, 1, 1, 1, 1, 1, 1, 4, 1, 1, 3, 1, 1, 1, 3, 1, 1, 1, 1, 1, 1, 1, 1, 1, 1, 1, 1, 1, 1, 1, 5, 1, 1, 1, 1, 1, 2, 1, 1, 1, 1, 2, 1, 1, 2, 2, 1, 1, 10, 1, 2, 2, 3, 1, 1, 1, 1, 1, 1, 2, 1, 1, 1, 1, 1, 4, 1, 2, 1, 2, 1, 1, 18, 1, 2, 3, 1, 1, 8, 1, 1, 1, 1, 1, 1, 1, 1, 1, 1, 1, 2, 1, 12, 4, 1, 1, 1, 1, 1, 2, 1, 1, 1, 8, 1, 1, 2, 1, 1, 3, 2, 2, 1, 1, 1, 1, 1, 1, 1, 3, 5, 1, 1, 1, 1, 1, 1, 1, 2, 2, 1, 1, 1, 2, 1, 4, 1, 1, 1, 1, 3, 1, 1, 2, 2, 2, 1, 5, 1, 2, 1, 2, 1, 2, 6, 1, 1, 1, 1, 1, 2, 1, 2, 1, 2, 2, 2, 1, 2, 1, 1, 1, 1, 2, 1, 1, 2, 2, 2, 1, 1, 2, 1, 1, 1, 1, 2, 1, 1, 1, 1, 1, 1, 1, 2, 1, 1, 1, 1, 2, 1, 1, 3, 1, 6, 2, 1, 2, 1, 1, 2, 2, 1, 2, 1, 2, 1, 1, 3, 1, 1, 1, 1, 1, 1, 1, 1, 1, 3, 1, 1, 1, 1, 1, 3, 1, 1, 1, 1, 1, 1, 5, 3, 1, 1, 3, 1, 1, 1, 1, 1, 1, 2, 1, 3, 2, 1, 1, 1, 1, 2, 1, 1, 4, 4, 1, 1, 1, 2, 1, 1, 17, 1, 1, 1, 1, 2, 1, 1, 1, 2, 1, 5, 1, 3, 1, 3, 1, 1, 2, 1, 1, 1, 1, 5, 1, 1, 2, 1, 1, 5, 1, 1, 3, 1, 1, 1, 1, 1, 1, 7, 1, 2, 1, 1, 1, 3, 1, 1, 1, 6, 1, 1, 2, 1, 1, 2, 1, 1, 1, 1, 1, 1, 2, 1, 2, 1, 1, 1, 1, 1, 1, 1, 1, 1, 1, 2, 1, 1, 2, 1, 1, 1, 1, 2, 1, 1, 2, 1, 2, 2, 1, 1, 2, 1, 1, 1, 2, 1, 1, 1, 1, 1, 1, 1, 1, 1, 1, 1, 2, 3, 1, 1, 1, 1, 1, 1, 1, 2, 1, 2, 1, 1, 1, 2, 1, 2, 15, 1, 1, 1, 1, 2, 3, 1, 1, 1, 1, 1, 1, 1, 1, 1, 2, 3, 1, 2, 2, 1, 1, 1, 1, 2, 1, 1, 2, 1, 2, 1, 1, 5, 2, 1, 2, 1, 2, 1, 1, 3, 1, 1, 3, 1, 4, 1, 2, 1, 2, 1, 1, 1, 2, 1, 1, 1, 3, 2, 2, 4, 1, 1, 1, 1, 1, 3, 1, 1, 1, 3, 1, 12, 3, 1, 1, 4, 1, 1, 1, 1, 2, 2, 2, 2, 9, 5, 2, 3, 1, 1, 4, 1, 1, 1, 1, 3, 2, 1, 4, 3, 2, 1, 1, 1, 1, 1, 1, 1, 1, 1, 32, 1, 1, 1, 1, 3, 1, 1, 1, 1, 1, 1, 2, 1, 4, 1, 3, 1, 1, 1, 2, 1, 1, 1, 1, 3, 1, 4, 2, 2, 1, 1, 1, 2, 1, 1, 1, 1, 2, 1, 1, 2, 3, 2, 2, 1, 1, 14, 2, 2, 1, 1, 1, 1, 1, 1, 1, 1, 1, 1, 1, 1, 1, 1, 1, 2, 2, 4, 2, 1, 1, 1, 1, 2, 1, 1, 1, 1, 2, 1, 1, 1, 1, 1, 1, 1, 1, 2, 1, 1, 1, 1, 1, 1, 1, 1, 2, 2, 1, 1, 1, 1, 2, 1, 3, 1, 1, 1, 1, 1, 1, 1, 1, 1, 1, 5, 1, 1, 1, 1, 1, 1, 1, 3, 1, 1, 1, 1, 1, 1, 1, 1, 3, 2, 1, 3, 2, 1, 1, 2, 3, 1, 1, 1, 1, 1, 1, 1, 1, 3, 1, 1, 1, 1, 1, 1, 1, 6, 3, 1, 6, 1, 1, 1, 1, 1, 1, 1, 17, 1, 1, 6, 2, 3, 3, 1, 1, 1, 1, 1, 1, 1, 1, 1, 1, 1, 1, 1, 1, 1, 1, 1, 3, 3, 3, 2, 1, 1, 1, 1, 1, 1, 9, 9, 9, 1, 1, 1, 2, 5, 4, 8, 5, 1, 1, 1, 1, 8, 10, 1, 1, 1, 9, 1, 1, 1, 2, 1, 1, 2, 2, 1, 1, 1, 1, 1, 2, 1, 1, 1, 1, 1, 1, 1, 5, 2, 3, 3, 1, 6, 2, 4, 1, 1, 1, 1, 2, 1, 1, 1, 1, 2, 1, 1, 2, 5, 1, 1, 8, 1, 1, 1, 2, 4, 1, 2, 1, 1, 1, 1, 1, 1, 1, 3, 1, 1, 3, 1, 2, 1, 1, 1, 1, 1, 1, 2, 2, 1, 1, 2, 1, 1, 1, 4, 1, 7, 1, 1, 1, 1, 1, 1, 2, 8, 4, 2, 3, 1, 1, 2, 1, 1, 1, 1, 1, 1, 1, 1, 1, 2, 1, 4, 1, 1, 3, 2, 1, 1, 1, 1, 2, 2, 2, 2, 3, 2, 3, 1, 1, 1, 1, 1, 1, 2, 1, 2, 1, 2, 1, 8, 1, 1, 4, 1, 1, 1, 2, 1, 1, 1, 4, 1, 1, 1, 1, 1, 1, 1, 1, 1, 2, 1, 1, 1, 3, 276, 1, 8, 7, 1, 1, 1, 1, 12, 1, 1, 1, 1, 2, 1, 1, 1, 14, 1, 2, 2, 1, 6, 2, 2, 1, 5, 2, 1, 2, 1, 1, 2, 1, 1, 1, 1, 1, 1, 1, 1, 1, 2, 1, 2, 1, 1, 3, 2, 3, 1, 1, 1, 1, 2, 1, 1, 2, 1, 4, 3, 1, 1, 1, 1, 1, 3, 3, 1, 2, 2, 1, 1, 1, 1, 1, 1, 4, 1, 1, 1, 1, 2, 1, 1, 2, 1, 4, 1, 4, 3, 1, 1, 1, 2, 1, 1, 1, 2, 1, 5, 1, 1, 1, 1, 1, 1, 1, 1, 1, 1, 1, 2, 1, 1, 1, 1, 3, 3, 1, 2, 2, 1, 2, 1, 1, 1, 1, 1, 2, 5, 16, 3, 1, 6, 3, 1, 1, 2, 2, 2, 1, 3, 2, 1, 1, 1, 1, 1, 1, 19, 1, 1, 4, 1, 1, 3, 1, 1, 1, 1, 4, 1, 1, 1, 1, 3, 2, 1, 1, 5, 1, 1, 3, 1, 3, 1, 1, 1, 3, 1, 1, 5, 1, 1, 1, 1, 1, 1, 1, 5, 1, 1, 1, 1, 1, 2, 38, 1, 9, 3, 4, 1, 1, 3, 2, 1, 1, 2, 1, 1, 1, 1, 1, 1, 2, 1, 2, 1, 1, 1, 1, 1, 1, 1, 2, 1, 4, 1, 7, 1, 9, 1, 1, 1, 2, 1, 1, 1, 5, 6, 3, 2, 3, 2, 2, 1, 2, 2, 1, 3, 1, 1, 2, 1, 1, 1, 3, 1, 1, 1, 1, 1, 1, 1, 1, 1, 1, 1, 1, 1, 1, 1, 1, 1, 1, 3, 1, 1, 1, 1, 3, 5, 1, 2, 4, 1, 1, 7, 1, 1, 1, 1, 1, 1, 1, 1, 3, 1, 1, 1, 7, 1, 1, 1, 1, 1, 1, 1, 1, 1, 2, 1, 1, 1, 1, 1, 1, 1, 1, 3, 2, 1, 2, 1, 1, 1, 2, 1, 1, 2, 1, 1, 1, 1, 1, 1, 1, 2, 1, 3, 1, 1, 1, 1, 15, 1, 3, 1, 2, 1, 1, 1, 1, 1, 1, 1, 1, 1, 1, 1, 1, 2, 1, 1, 1, 2, 16, 1, 1, 1, 1, 2, 1, 3, 1, 1, 3, 2, 1, 1, 1, 1, 1, 1, 1, 1, 1, 1, 2, 3, 1, 1, 1, 1, 3, 1, 1, 1, 4, 1, 1, 2, 1, 1, 2, 4, 1, 1, 4, 1, 1, 1, 1, 1, 1, 1, 1, 1, 1, 1, 4, 1, 1, 1, 1, 5, 1, 3, 1, 1, 1, 1, 1, 4, 1, 1, 1, 1, 1, 1, 1, 1, 1, 1, 1, 2, 4, 1, 1, 1, 1, 1, 1, 1, 1, 1, 5, 1, 2, 1, 1, 1, 3, 1, 1, 1, 2, 6, 1, 1, 1, 1, 2, 5, 1, 3, 1, 3, 1, 3, 1, 1, 1, 3, 1, 2, 2, 1, 2, 1, 2, 1, 1, 1, 1, 2, 1, 1, 1, 1, 1, 1, 1, 1, 1, 1, 1, 1, 2, 1, 1, 1, 3, 1, 1, 1, 4, 2, 2, 2, 1, 1, 1, 1, 2, 3, 1, 1, 1, 1, 1, 1, 7, 2, 1, 1, 1, 1, 1, 2, 4, 1, 1, 2, 1, 1, 2, 1, 1, 1, 1, 1, 1, 2, 1, 3, 3, 5, 3, 1, 1, 2, 1, 1, 1, 1, 1, 2, 1, 1, 1, 2, 3, 1, 1, 1, 2, 2, 1, 1, 1, 3, 1, 1, 1, 1, 4, 3, 1, 1, 1, 1, 1, 1, 1, 3, 1, 5, 2, 2, 1, 1, 1, 1, 1, 3, 1, 3, 2, 3, 1, 1, 12, 1, 1, 1, 1, 1, 1, 1, 1, 2, 1, 1, 1, 1, 1, 1, 1, 1, 1, 2, 9, 1, 1, 1, 8, 1, 1, 1, 1, 5, 1, 2, 1, 1, 1, 1, 1, 1, 1, 1, 1, 1, 2, 1, 1, 1, 5, 7, 7, 1, 11, 2, 9, 9, 1, 1, 1, 2, 3, 1, 2, 13, 1, 1, 3, 1, 1, 3, 2, 1, 1, 1, 2, 1, 4, 10, 1, 1, 1, 1, 1, 1, 1, 1, 1, 2, 2, 2, 1, 1, 2, 3, 2, 2, 1, 1, 1, 1, 1, 1, 1, 4, 7, 2, 1, 1, 3, 5, 1, 2, 3, 1, 4, 4, 1, 4, 1, 1, 2, 2, 1, 1, 4, 2, 1, 2, 2, 1, 1, 2, 2, 1, 1, 2, 5, 1, 1, 1, 1, 2, 2, 1, 1, 4, 1, 5, 4, 2, 1, 1, 1, 1, 1, 1, 4, 2, 2, 2, 2, 1, 2, 1, 1, 1, 1, 1, 1, 2, 1, 2, 1, 1, 1, 1, 1, 1, 2, 1, 2, 1, 7, 1, 1, 1, 1, 1, 1, 1, 1, 1, 1, 1, 1, 1, 4, 1, 1, 1, 2, 1, 5, 1, 1, 8, 1, 1, 3, 2, 3, 4, 1, 5, 5, 5, 2, 1, 3, 1, 1, 1, 1, 2, 3, 4, 1, 1, 9, 1, 1, 11, 1, 1, 1, 1, 2, 1, 4, 1, 5, 1, 1, 2, 2, 1, 1, 1, 1, 1, 1, 1, 3, 1, 1, 1, 2, 1, 1, 1, 1, 11, 1, 1, 3, 1, 1, 1, 1, 3, 1, 1, 1, 1, 1, 1, 1, 1, 5, 3, 1, 1, 1, 1, 1, 1, 1, 1, 1, 7, 2, 1, 5, 1, 1, 1, 3, 1, 1, 20, 1, 1, 4, 1, 1, 2, 1, 4, 1, 1, 1, 1, 1, 6, 1, 2, 5, 1, 2, 1, 1, 1, 4, 1, 1, 1, 1, 3, 1, 1, 1, 1, 1, 1, 1, 1, 1, 1, 1, 1, 1, 1, 6, 1, 2, 1, 1, 3, 2, 1, 2, 1, 1, 1, 1, 2, 1, 1, 1, 1, 1, 1, 1, 1, 1, 1, 1, 1, 1, 1, 1, 1, 2, 1, 2, 2, 1, 6, 1, 3, 3, 1, 2, 3, 1, 2, 1, 2, 1, 5, 4, 16, 1, 1, 1, 1, 1, 2, 1, 1, 1, 1, 7, 4, 2, 2, 13, 1, 1, 4, 2, 1, 1, 1, 1, 1, 1, 2, 2, 2, 2, 2, 1, 1, 1, 1, 1, 7, 1, 2, 3, 1, 1, 1, 1, 5, 2, 2, 1, 1, 1, 1, 4, 1, 1, 1, 1, 1, 2, 1, 1, 2, 1, 1, 1, 1, 1, 1, 1, 1, 7, 4, 1, 1, 1, 5, 3, 1, 1, 7, 1, 1, 1, 1, 1, 2, 1, 1, 1, 15, 1, 3, 3, 1, 1, 1, 2, 1, 1, 1, 1, 1, 2, 1, 1, 1, 1, 1, 1, 1, 1, 1, 1, 4, 1, 3, 1, 1, 1, 1, 1, 2, 2, 7, 1, 1, 1, 1, 2, 4, 1, 6, 2, 1, 1, 1, 1, 1, 1, 1, 1, 1, 1, 1, 1, 2, 2, 1, 1, 2, 1, 2, 1, 1, 1, 1, 1, 1, 1, 4, 1, 1, 1, 1, 1, 1, 1, 2, 1, 2, 2, 1, 1, 2, 1, 1, 4, 1, 2, 1, 1, 1, 2, 1, 2, 1, 1, 1, 1, 1, 1, 1, 1, 1, 1, 2, 1, 1, 2, 1, 1, 1, 1, 2, 1, 7, 2, 1, 1, 1, 6, 2, 3, 1, 2, 3, 1, 2, 1, 1, 1, 4, 1, 1, 1, 1, 1, 1, 1, 1, 2, 2, 1, 1, 1, 2, 1, 1, 1, 2, 2, 6, 1, 1, 1, 1, 3, 5, 1, 1, 2, 1, 2, 1, 2, 2, 1, 2, 1, 1, 1, 1, 1, 2, 2, 1, 2, 1, 1, 4, 1, 3, 1, 2, 1, 2, 1, 1, 3, 1, 1, 1, 1, 1, 4, 3, 3, 10, 9, 1, 1, 3, 1, 1, 1, 1, 1, 3, 1, 2, 4, 1, 3, 1, 2, 2, 1, 1, 1, 2, 1, 1, 1, 3, 1, 5, 1, 1, 1, 1, 5, 1, 1, 1, 1, 1, 2, 1, 1, 1, 4, 1, 1, 1, 1, 2, 3, 1, 1, 1, 1, 2, 1, 1, 1, 1, 2, 1, 1, 1, 1, 1, 1, 1, 1, 1, 1, 1, 2, 1, 1, 1, 2, 1, 1, 1, 1, 1, 1, 1, 1, 1, 2, 1, 1, 1, 1, 3, 1, 3, 1, 2, 2, 1, 2, 2, 1, 5, 1, 4, 1, 3, 1, 1, 3, 1, 1, 1, 1, 2, 1, 1, 1, 3, 1, 1, 1, 2, 4, 1, 1, 6, 1, 1, 1, 1, 1, 1, 2, 1, 3, 1, 1, 4, 1, 4, 2, 1, 1, 1, 2, 1, 1, 1, 1, 1, 1, 1, 1, 2, 1, 2, 1, 1, 1, 5, 1, 1, 1, 1, 1, 3, 2, 2, 2, 2, 1, 1, 5, 2, 1, 1, 1, 1, 1, 1, 1, 1, 2, 2, 4, 1, 1, 1, 1, 1, 1, 1, 1, 1, 1, 1, 1, 2, 2, 1, 1, 1, 6, 1, 1, 1, 1, 1, 4, 2, 2, 1, 1, 4, 1, 1, 1, 2, 1, 1, 2, 1, 3, 1, 1, 1, 1, 1, 1, 1, 1, 1, 5, 1, 1, 1, 1, 2, 1, 1, 2, 1, 1, 3, 1, 1, 1, 1, 1, 1, 1, 1, 1, 1, 1, 1, 2, 1, 2, 1, 1, 1, 1, 1, 1, 1, 1, 1, 1, 1, 1, 4, 4, 1, 1, 2, 4, 1, 1, 1, 1, 1, 1, 2, 1, 1, 1, 1, 9, 1, 1, 1, 2, 1, 2, 1, 1, 1, 1, 2, 1, 2, 1, 1, 1, 1, 2, 1, 1, 1, 1, 2, 3, 2, 1, 5, 3, 7, 1, 1, 1, 1, 1, 1, 1, 1, 1, 1, 1, 1, 3, 2, 1, 5, 1, 4, 2, 1, 1, 2, 2, 3, 1, 1, 1, 1, 2, 1, 1, 1, 1, 1, 1, 6, 1, 1, 1, 1, 1, 1, 1, 1, 1, 1, 1, 1, 1, 1, 1, 2, 2, 1, 2, 1, 1, 2, 1, 2, 1, 3, 1, 1, 1, 1, 5, 3, 3, 2, 1, 1, 1, 2, 3, 1, 1, 2, 2, 3, 1, 1, 1, 1, 1, 4, 1, 1, 2, 2, 1, 1, 1, 6, 1, 1, 2, 1, 3, 1, 1, 1, 1, 1, 1, 1, 1, 2, 1, 2, 1, 1, 1, 1, 1, 1, 3, 1, 1, 6, 4, 1, 1, 1, 3, 4, 2, 1, 2, 1, 1, 2, 1, 1, 1, 3, 1, 1, 1, 1, 2, 1, 1, 1, 1, 1, 1, 1, 1, 1, 2, 2, 1, 1, 2, 1, 1, 1, 1, 1, 2, 13, 2, 1, 2, 2, 1, 3, 1, 1, 1, 1, 2, 1, 4, 2, 1, 1, 1, 1, 1, 1, 1, 2, 2, 1, 1, 3, 2, 4, 1, 1, 1, 2, 1, 1, 2, 1, 1, 1, 2, 3, 1, 1, 1, 1, 1, 1, 2, 1, 2, 5, 1, 4, 1, 1, 7, 1, 9, 1, 1, 1, 2, 1, 1, 1, 1, 2, 1, 1, 2, 5, 1, 1, 1, 1, 2, 1, 1, 5, 1, 1, 3, 6, 1, 4, 1, 1, 1, 2, 1, 1, 1, 1, 1, 1, 4, 1, 2, 1, 1, 2, 1, 2, 1, 1, 3, 1, 1, 1, 1, 5, 1, 1, 1, 1, 1, 1, 1, 1, 1, 1, 1, 1, 1, 1, 1, 2, 1, 1, 1, 1, 2, 1, 1, 1, 13, 1, 3, 2, 1, 3, 1, 1, 1, 1, 1, 1, 1, 1, 2, 1, 1, 1, 1, 1, 8, 1, 1, 1, 1, 1, 1, 1, 1, 1, 4, 1, 1, 1, 1, 1, 1, 2, 1, 2, 1, 2, 1, 1, 2, 1, 5, 1, 1, 1, 1, 1, 3, 1, 1, 1, 1, 1, 1, 1, 2, 2, 2, 3, 2, 1, 1, 1, 1, 1, 2, 1, 1, 1, 4, 3, 1, 1, 3, 1, 1, 1, 2, 2, 1, 5, 1, 1, 4, 1, 2, 2, 1, 1, 2, 1, 1, 2, 2, 1, 1, 1, 1, 1, 1, 2, 1, 1, 6, 1, 7, 7, 3, 1, 1, 1, 3, 1, 3, 2, 4, 1, 1, 1, 2, 1, 1, 2, 3, 1, 1, 1, 1, 1, 1, 1, 2, 1, 1, 1, 1, 1, 1, 1, 1, 1, 1, 1, 1, 1, 3, 1, 1, 1, 1, 3, 2, 1, 1, 2, 1, 1, 1, 1, 1, 1, 1, 1, 1, 1, 1, 1, 1, 2, 2, 2, 7, 10, 10, 1, 3, 1, 1, 1, 1, 1, 1, 1, 1, 4, 1, 1, 3, 1, 2, 1, 7, 1, 1, 2, 1, 3, 1, 1, 7, 2, 1, 1, 1, 2, 1, 4, 1, 1, 1, 1, 2, 3, 1, 3, 1, 1, 1, 1, 1, 1, 1, 1, 3, 4, 1, 1, 2, 1, 1, 2, 1, 3, 4, 4, 1, 14, 1, 1, 1, 1, 1, 1, 1, 1, 1, 1, 3, 1, 1, 1, 1, 1, 15, 3, 1, 1, 1, 1, 2, 1, 9, 1, 1, 1, 1, 2, 1, 1, 1, 1, 1, 1, 1, 1, 2, 1, 2, 1, 1, 1, 1, 1, 1, 1, 1, 1, 2, 1, 2, 2, 1, 3, 2, 1, 1, 1, 1, 2, 1, 1, 2, 1, 1, 1, 1, 1, 1, 2, 5, 1, 1, 3, 1, 1, 1, 1, 2, 1, 1, 2, 2, 3, 1, 1, 1, 1, 1, 1, 2, 1, 1, 1, 6, 2, 3, 1, 1, 1, 1, 1, 1, 2, 2, 1, 1, 5, 1, 1, 1, 1, 1, 1, 1, 2, 1, 1, 2, 1, 1, 1, 1, 1, 2, 3, 4, 1, 1, 4, 1, 1, 1, 6, 3, 1, 4, 1, 1, 2, 1, 4, 1, 1, 5, 1, 1, 5, 3, 2, 1, 2, 1, 5, 1, 2, 3, 1, 1, 2, 1, 2, 1, 1, 10, 1, 1, 3, 2, 1, 1, 1, 4, 1, 1, 3, 1, 2, 1, 1, 1, 1, 2, 1, 3, 1, 1, 2, 1, 1, 1, 2, 1, 1, 1, 1, 1, 1, 1, 2, 1, 1, 1, 1, 3, 6, 11, 1, 1, 1, 1, 2, 1, 1, 2, 3, 1, 1, 1, 4, 2, 1, 1, 1, 1, 1, 1, 1, 1, 1, 1, 2, 1, 7, 1, 1, 1, 1, 1, 1, 1, 1, 1, 1, 1, 1, 3, 1, 1, 1, 3, 1, 1, 1, 1, 2, 1, 1, 1, 1, 2, 1, 2, 1, 1, 1, 1, 1, 1, 1, 4, 3, 1, 1, 3, 3, 1, 1, 1, 1, 2, 1, 3, 5, 1, 4, 1, 5, 1, 1, 1, 1, 3, 1, 3, 1, 2, 1, 1, 1, 1, 1, 2, 1, 2, 1, 1, 1, 1, 1, 1, 1, 2, 1, 1, 29, 2, 4, 1, 1, 1, 4, 3, 1, 1, 1, 1, 1, 1, 2, 1, 1, 1, 1, 1, 3, 1, 1, 1, 1, 1, 1, 2, 1, 1, 3, 1, 1, 2, 1, 1, 1, 1, 2, 1, 1, 1, 6, 1, 1, 2, 1, 1, 1, 1, 1, 1, 1, 1, 1, 1, 1, 3, 1, 1, 1, 1, 1, 1, 3, 2, 1, 2, 1, 1, 1, 1, 1, 1, 1, 1, 1, 1, 1, 3, 1, 1, 1, 2, 1, 1, 1, 1, 2, 1, 2, 1, 2, 6, 1, 1, 1, 1, 2, 1, 1, 1, 1, 1, 1, 6, 8, 5, 1, 14, 1, 1, 1, 1, 1, 1, 4, 7, 2, 1, 1, 3, 1, 1, 3, 1, 1, 1, 2, 2, 3, 2, 1, 1, 1, 1, 2, 2, 1, 1, 1, 1, 2, 1, 1, 1, 1, 1, 2, 1, 1, 1, 5, 5, 4, 1, 1, 1, 1, 1, 1, 1, 2, 1, 6, 1, 1, 1, 1, 1, 1, 1, 4, 4, 2, 2, 2, 1, 1, 1, 3, 1, 1, 2, 1, 1, 1, 1, 1, 1, 2, 1, 1, 1, 2, 1, 1, 1, 2, 1, 1, 1, 2, 1, 1, 1, 1, 3, 1, 1, 6, 8, 2, 1, 4, 1, 1, 1, 1, 1, 1, 1, 6, 1, 1, 2, 1, 1, 1, 2, 4, 1, 1, 1, 1, 6, 1, 1, 2, 1, 1, 2, 3, 1, 3, 1, 1, 8, 1, 1, 1, 2, 1, 2, 2, 1, 1, 1, 1, 1, 1, 1, 1, 1, 2, 3, 3, 1, 1, 1, 1, 1, 1, 1, 8, 1, 1, 1, 3, 3, 1, 1, 1, 1, 2, 6, 7, 3, 1, 1, 2, 1, 1, 8, 2, 1, 1, 1, 1, 5, 1, 2, 1, 1, 1, 1, 2, 1, 1, 1, 2, 1, 1, 1, 1, 4, 1, 2, 1, 1, 1, 4, 4, 1, 4, 1, 6, 2, 1, 1, 1, 11, 1, 1, 1, 1, 1, 1, 4, 1, 1, 1, 1, 1, 1, 1, 1, 1, 1, 1, 1, 1, 2, 1, 1, 1, 1, 1, 1, 1, 1, 2, 4, 1, 4, 1, 1, 2, 1, 1, 1, 2, 1, 1, 2, 2, 1, 1, 1, 1, 1, 1, 1, 1, 1, 1, 1, 1, 1, 1, 1, 1, 1, 1, 1, 1, 5, 1, 1, 1, 1, 4, 3, 1, 2, 1, 1, 1, 1, 2, 1, 1, 1, 3, 1, 1, 1, 1, 1, 2, 1, 1, 2, 1, 3, 1, 1, 1, 1, 1, 1, 1, 1, 1, 2, 1, 3, 1, 1, 1, 1, 2, 1, 1, 2, 1, 1, 3, 2, 2, 1, 1, 1, 2, 1, 1, 1, 1, 1, 3, 2, 1, 2, 1, 1, 1, 1, 2, 1, 7, 2, 1, 1, 1, 1, 1, 2, 1, 2, 4, 1, 1, 1, 1, 1, 1, 1, 1, 2, 2, 1, 1, 1, 1, 1, 3, 1, 1, 1, 1, 1, 1, 2, 1, 1, 4, 1, 1, 1, 1, 1, 1, 1, 1, 2, 1, 8, 1, 1, 1, 1, 1, 3, 1, 1, 3, 1, 2, 1, 1, 3, 1, 2, 1, 1, 1, 1, 1, 1, 1, 1, 1, 1, 1, 1, 1, 1, 1, 1, 1, 1, 1, 1, 1, 1, 1, 1, 1, 4, 1, 1, 1, 1, 1, 3, 2, 1, 1, 15, 1, 1, 1, 1, 1, 1, 1, 1, 1, 1, 1, 1, 1, 2, 1, 1, 1, 1, 1, 1, 2, 1, 2, 1, 1, 1, 1, 1, 1, 1, 1, 1, 1, 1, 1, 1, 1, 1, 1, 1, 1, 2, 1, 1, 1, 1, 3, 3, 1, 1, 1, 1, 1, 1, 14, 1, 1, 1, 3, 1, 1, 1, 1, 4, 1, 1, 1, 1, 2, 1, 2, 2, 1, 1, 1, 1, 1, 9, 4, 2, 1, 1, 1, 1, 1, 1, 1, 5, 4, 1, 1, 1, 1, 1, 1, 1, 1, 2, 1, 1, 1, 2, 1, 6, 1, 5, 1, 2, 1, 2, 1, 1, 1, 1, 2, 1, 2, 1, 1, 2, 2, 1, 1, 1, 1, 1, 1, 1, 1, 1, 1, 1, 4, 2, 1, 1, 1, 1, 2, 1, 1, 1, 1, 1, 2, 2, 1, 2, 1, 2, 2, 1, 1, 2, 1, 1, 1, 1, 1, 1, 1, 6, 1, 2, 1, 1, 1, 3, 1, 1, 2, 1, 1, 2, 1, 1, 3, 5, 3, 1, 1, 1, 2, 1, 1, 2, 1, 1, 4, 1, 1, 1, 1, 3, 4, 1, 1, 1, 1, 1, 6, 1, 1, 1, 1, 1, 1, 2, 1, 2, 1, 1, 1, 1, 3, 1, 1, 1, 1, 1, 1, 1, 1, 1, 2, 1, 3, 1, 1, 2, 2, 1, 1, 1, 2, 1, 2, 1, 1, 1, 1, 1, 1, 9, 2, 2, 1, 1, 1, 1, 2, 1, 3, 1, 1, 1, 1, 1, 1, 1, 1, 2, 1, 1, 1, 1, 2, 1, 3, 1, 5, 3, 1, 2, 4, 2, 2, 1, 1, 1, 1, 1, 1, 1, 1, 3, 1, 1, 1, 2, 3, 1, 1, 8, 1, 1, 1, 2, 1, 1, 1, 3, 1, 2, 1, 9, 1, 1, 2, 1, 1, 2, 1, 2, 6, 1, 1, 2, 1, 1, 1, 1, 2, 2, 1, 2, 1, 5, 1, 4, 2, 9, 3, 2, 6, 8, 7, 2, 4, 2, 1, 1, 2, 2, 1, 1, 1, 5, 5, 5, 3, 3, 1, 2, 4, 7, 1, 2, 2, 1, 1, 1, 1, 2, 1, 9, 1, 1, 3, 1, 1, 1, 1, 1, 1, 1, 1, 1, 1, 1, 9, 4, 1, 1, 1, 1, 1, 1, 2, 1, 5, 1, 4, 1, 1, 1, 1, 1, 1, 1, 1, 1, 23, 1, 3, 3, 1, 2, 1, 1, 1, 2, 2, 1, 1, 2, 1, 5, 1, 1, 1, 5, 1, 1, 1, 1, 1, 1, 1, 1, 1, 1, 1, 1, 1, 3, 5, 1, 1, 1, 1, 1, 1, 1, 1, 3, 1, 1, 4, 2, 2, 1, 1, 7, 1, 1, 1, 1, 1, 1, 1, 1, 1, 1, 1, 7, 1, 1, 1, 2, 1, 1, 1, 1, 4, 1, 1, 1, 1, 1, 3, 1, 1, 1, 1, 1, 1, 1, 1, 1, 1, 1, 2, 2, 1, 1, 1, 2, 2, 1, 4, 2, 1, 1, 1, 2, 1, 2, 1, 1, 2, 1, 1, 1, 1, 3, 1, 1, 1, 6, 1, 1, 1, 1, 2, 3, 3, 1, 1, 1, 2, 1, 4, 1, 1, 2, 1, 2, 1, 1, 1, 1, 1, 2, 1, 2, 1, 4, 1, 5, 7, 1, 1, 1, 1, 1, 1, 2, 2, 1, 4, 2, 2, 4, 1, 2, 1, 1, 3, 1, 1, 1, 2, 3, 1, 1, 1, 1, 1, 2, 1, 1, 4, 2, 1, 1, 1, 1, 3, 1, 1, 1, 2, 1, 1, 4, 1, 2, 1, 1, 1, 1, 1, 1, 1, 1, 3, 2, 1, 1, 1, 2, 1, 1, 1, 2, 1, 1, 1, 1, 1, 1, 1, 1, 2, 1, 1, 1, 1, 1, 1, 2, 2, 1, 2, 1, 4, 1, 1, 3, 1, 1, 1, 1, 1, 1, 1, 2, 4, 1, 2, 1, 1, 1, 1, 1, 1, 1, 2, 3, 1, 3, 3, 1, 1, 1, 1, 1, 1, 1, 1, 1, 2, 1, 1, 1, 3, 1, 1, 1, 2, 1, 1, 1, 1, 2, 1, 1, 3, 1, 1, 1, 1, 1, 2, 2, 1, 1, 6, 1, 1, 2, 1, 1, 1, 1, 1, 2, 1, 6, 2, 1, 1, 2, 1, 1, 1, 1, 1, 1, 1, 4, 2, 1, 1, 1, 1, 1, 5, 1, 1, 1, 3, 1, 1, 1, 1, 1, 2, 1, 1, 1, 1, 1, 1, 1, 1, 1, 1, 1, 1, 4, 1, 1, 2, 1, 1, 3, 1, 1, 1, 1, 3, 1, 1, 1, 1, 1, 2, 1, 1, 1, 1, 6, 2, 1, 1, 1, 1, 2, 6, 2, 1, 1, 3, 1, 1, 1, 2, 1, 2, 1, 1, 1, 1, 1, 1, 1, 1, 1, 4, 2, 1, 1, 1, 1, 1, 1, 3, 1, 2, 1, 1, 1, 1, 1, 1, 1, 1, 1, 1, 1, 3, 1, 4, 1, 4, 1, 8, 9, 1, 1, 1, 1, 1, 2, 1, 1, 1, 1, 1, 1, 1, 1, 1, 1, 1, 5, 1, 1, 2, 2, 1, 1, 5, 1, 1, 1, 2, 1, 1, 1, 1, 1, 1, 1, 1, 2, 2, 5, 1, 4, 2, 1, 1, 1, 1, 1, 1, 1, 1, 1, 2, 1, 1, 2, 2, 1, 3, 1, 1, 1, 1, 1, 1, 4, 4, 3, 1, 1, 1, 1, 1, 2, 1, 1, 1, 5, 3, 1, 1, 5, 2, 2, 1, 1, 2, 5, 1, 1, 2, 2, 2, 1, 1, 1, 1, 1, 10, 5, 4, 1, 1, 2, 1, 1, 1, 1, 2, 1, 1, 1, 1, 1, 1, 2, 4, 3, 1, 1, 1, 2, 1, 1, 1, 1, 2, 2, 1, 1, 1, 1, 2, 1, 1, 1, 1, 2, 1, 1, 1, 1, 6, 1, 1, 1, 1, 1, 1, 1, 1, 2, 1, 1, 2, 4, 1, 1, 1, 2, 1, 1, 1, 2, 1, 1, 1, 1, 1, 1, 1, 1, 1, 1, 1, 1, 1, 3, 1, 1, 1, 1, 1, 1, 1, 1, 1, 2, 1, 1, 3, 1, 1, 2, 1, 2, 1, 1, 1, 1, 2, 1, 3, 1, 1, 2, 1, 7, 2, 1, 1, 1, 1, 1, 1, 3, 1, 1, 1, 1, 1, 2, 4, 2, 1, 137, 1, 1, 3, 1, 1, 1, 1, 1, 1, 2, 1, 1, 1, 1, 1, 1, 1, 1, 1, 1, 2, 1, 1, 2, 1, 1, 1, 1, 1, 1, 1, 1, 1, 1, 1, 1, 1, 1, 1, 1, 1, 1, 2, 1, 1, 1, 1, 2, 1, 1, 1, 1, 1, 1, 1, 1, 2, 1, 1, 1, 1, 1, 1, 1, 1, 1, 796, 1, 1, 1, 1, 1, 2, 1, 1, 3, 1, 1, 2, 1, 1, 1, 1, 2, 2, 1, 1, 2, 1, 1, 1, 1, 1, 1, 1, 2, 1, 1, 1, 1, 1, 1, 2, 1, 1, 1, 1, 2, 2, 2, 1, 1, 1, 1, 2, 1, 1, 1, 1, 1, 1, 1, 1, 1, 1, 1, 5, 1, 1, 1, 1, 1, 1, 1, 1, 1, 1, 1, 1, 1, 1, 1, 2, 1, 1, 1, 1, 1, 1, 1, 1, 1, 2, 3, 1, 1, 1, 1, 1, 1, 3, 2, 2, 1, 1, 1, 1, 1, 4, 1, 2, 1, 2, 2, 3, 1, 1, 1, 5, 1, 1, 1, 1, 1, 1, 3, 1, 6, 2, 6, 1, 1, 2, 1, 1, 4, 1, 74, 1, 1, 1, 1, 1, 2, 1, 1, 1, 1, 1, 1, 2, 1, 1, 1, 1, 1, 2, 1, 1, 1, 2, 1, 1, 2, 1, 2, 1, 1, 2, 1, 1, 1, 1, 1, 1, 1, 1, 1, 1, 1, 3, 1, 1, 1, 1, 1, 1, 1, 1, 1, 1, 1, 1, 1, 9, 1, 1, 1, 1, 2, 7, 1, 3, 1, 1, 8, 6, 2, 1, 1, 1, 1, 2, 1, 1, 1, 1, 2, 2, 1, 1, 1, 1, 2, 1, 1, 1, 1, 3, 1, 1, 1, 2, 1, 1, 1, 2, 1, 1, 1, 1, 1, 1, 1, 1, 1, 1, 1, 1, 1, 1, 3, 1, 1, 1, 1, 1, 2, 1, 2, 1, 1, 1, 5, 1, 1, 1, 1, 2, 1, 2, 2, 1, 1, 1, 3, 1, 1, 1, 1, 1, 1, 1, 1, 1, 2, 1, 1, 1, 1, 2, 1, 1, 1, 1, 1, 1, 1, 1, 1, 2, 3, 4, 1, 1, 1, 1, 1, 1, 1, 2, 1, 1, 1, 1, 1, 9, 1, 3, 1, 3, 1, 1, 6, 1, 1, 1, 1, 1, 9, 1, 1, 2, 1, 1, 1, 1, 1, 1, 1, 1, 2, 4, 2, 1, 1, 1, 1, 1, 1, 1, 1, 1, 2, 1, 1, 1, 1, 1, 1, 1, 1, 1, 1, 3, 1, 5, 1, 3, 2, 2, 1, 2, 1, 1, 2, 3, 1, 1, 3, 1, 2, 1, 1, 1, 1, 1, 1, 1, 1, 4, 1, 1, 1, 1, 2, 8, 1, 1, 2, 2, 2, 1, 1, 1, 1, 2, 1, 1, 5, 4, 1, 1, 1, 1, 1, 1, 1, 1, 1, 1, 1, 1, 1, 1, 1, 2, 1, 2, 1, 3, 2, 1, 1, 1, 1, 3, 2, 4, 1, 2, 1, 1, 2, 1, 1, 1, 1, 1, 2, 1, 1, 1, 2, 1, 2, 2, 1, 1, 1, 3, 1, 1, 1, 1, 1, 1, 1, 1, 1, 1, 1, 1, 1, 1, 2, 1, 1, 1, 1, 1, 2, 1, 1, 1, 1, 1, 2, 1, 1, 1, 1, 1, 3, 2, 1, 9, 67, 1, 1, 1, 1, 1, 1, 1, 1, 1, 1, 1, 1, 2, 1, 1, 2, 1, 1, 1, 1, 3, 1, 1, 1, 1, 1, 1, 1, 4, 1, 1, 1, 3, 1, 1, 1, 2, 1, 2, 1, 1, 2, 1, 1, 1, 1, 2, 1, 2, 2, 1, 1, 1, 1, 1, 1, 1, 1, 4, 1, 1, 1, 2, 4, 2, 1, 3, 1, 1, 1, 1, 1, 1, 3, 2, 1, 1, 1, 1, 1, 1, 1, 1, 1, 2, 1, 1, 2, 1, 1, 2, 1, 1, 1, 1, 4, 1, 1, 1, 1, 1, 1, 2, 1, 1, 2, 1, 1, 1, 1, 4, 1, 1, 1, 2, 1, 7, 1, 1, 1, 1, 3, 3, 1, 2, 4, 2, 1, 1, 1, 1, 47, 1, 1, 3, 1, 1, 1, 2, 1, 2, 2, 1, 1, 2, 1, 1, 1, 1, 1, 1, 1, 1, 3, 1, 1, 3, 1, 4, 2, 1, 4, 1, 1, 1, 1, 1, 1, 1, 1, 1, 1, 1, 1, 1, 4, 1, 1, 1, 1, 2, 2, 2, 1, 1, 2, 1, 1, 1, 1, 1, 1, 1, 1, 1, 1, 1, 1, 3, 6, 1, 1, 1, 2, 1, 1, 1, 1, 1, 1, 2, 1, 1, 2, 1, 1, 2, 1, 1, 1, 1, 1, 1, 1, 1, 1, 1, 1, 1, 38, 1, 1, 1, 1, 2, 1, 1, 1, 1, 1, 2, 3, 1, 1, 3, 3, 3, 1, 16, 1, 1, 1, 1, 5, 1, 1, 1, 1, 4, 1, 1, 6, 1, 1, 1, 1, 1, 3, 1, 1, 1, 1, 2, 2, 1, 1, 2, 1, 2, 2, 1, 2, 1, 1, 3, 2, 1, 1, 1, 1, 1, 4, 1, 1, 1, 1, 4, 1, 1, 1, 1, 2, 3, 1, 1, 1, 1, 1, 1, 1, 1, 1, 1, 1, 4, 1, 1, 1, 1, 1, 2, 2, 1, 1, 1, 1, 1, 1, 2, 2, 1, 1, 1, 3, 1, 1, 1, 1, 1, 2, 2, 2, 1, 1, 1, 1, 1, 7, 1, 1, 1, 1, 7, 1, 1, 1, 1, 1, 1, 1, 1, 1, 1, 1, 2, 1, 1, 1, 1, 1, 2, 1, 1, 1, 1, 1, 1, 4, 2, 1, 1, 1, 1, 1, 1, 1, 1, 1, 2, 1, 1, 1, 1, 1, 1, 2, 1, 1, 1, 1, 1, 1, 12, 1, 1, 1, 1, 1, 1, 1, 1, 1, 1, 1, 1, 1, 1, 2, 1, 1, 1, 1, 4, 1, 1, 1, 1, 1, 2, 1, 1, 1, 8, 1, 1, 1, 1, 4, 1, 1, 1, 1, 1, 1, 1, 1, 1, 1, 1, 1, 1, 1, 1, 1, 1, 1, 1, 1, 1, 1, 1, 1, 1, 1, 1, 1, 1, 1, 1, 1, 2, 1, 1, 1, 2, 1, 1, 1, 3, 1, 1, 4, 5, 1, 1, 2, 1, 1, 1, 1, 1, 1, 2, 2, 1, 2, 1, 1, 1, 1, 2, 3, 1, 1, 1, 1, 1, 1, 1, 6, 1, 3, 2, 1, 2, 1, 3, 1, 1, 6, 1, 1, 1, 1, 1, 2, 1, 4, 11, 3, 1, 1, 1, 1, 1, 1, 4, 3, 6, 1, 1, 1, 1, 2, 1, 1, 1, 1, 1, 3, 1, 1, 1, 1, 1, 1, 1, 2, 1, 1, 1, 1, 1, 1, 9, 2, 1, 1, 1, 1, 2, 1, 1, 1, 1, 1, 3, 1, 1, 2, 1, 1, 1, 1, 2, 1, 3, 1, 1, 1, 1, 1, 1, 1, 1, 4, 1, 1, 1, 1, 2, 1, 1, 1, 1, 1, 13, 1, 1, 2, 1, 1, 1, 1, 1, 1, 1, 1, 5, 2, 1, 1, 1, 1, 2, 1, 1, 1, 1, 1, 1, 1, 1, 2, 1, 1, 1, 1, 1, 3, 1, 1, 1, 1, 1, 2, 1, 1, 1, 1, 1, 1, 1, 1, 1, 1, 1, 1, 1, 1, 1, 1, 2, 1, 1, 1, 1, 1, 2, 1, 1, 1, 1, 1, 1, 1, 1, 2, 1, 1, 1, 2, 1, 1, 1, 1, 1, 1, 1, 1, 1, 1, 6, 3, 1, 1, 2, 1, 2, 1, 1, 1, 2, 1, 1, 1, 2, 1, 1, 2, 1, 1, 1, 1, 2, 1, 1, 1, 1, 1, 1, 1, 1, 4, 1, 3, 1, 2, 1, 2, 1, 1, 4, 1, 1, 1, 1, 1, 1, 1, 4, 1, 1, 1, 1, 1, 1, 2, 2, 1, 7, 1, 1, 1, 1, 1, 1, 1, 1, 1, 1, 1, 1, 1, 2, 1, 1, 1, 2, 2, 1, 1, 1, 1, 1, 4, 2, 1, 3, 1, 1, 1, 2, 2, 1, 1, 1, 1, 1, 1, 1, 2, 1, 2, 2, 1, 1, 1, 2, 1, 1, 1, 1, 1, 1, 1, 1, 2, 1, 1, 1, 1, 1, 2, 1, 1, 1, 1, 2, 7, 1, 1, 1, 1, 1, 1, 2, 2, 2, 1, 1, 2, 1, 1, 1, 5, 1, 2, 1, 1, 1, 9, 1, 1, 1, 1, 1, 2, 1, 1, 1, 1, 1, 1, 6, 3, 1, 1, 1, 1, 2, 1, 1, 3, 4, 1, 1, 4, 1, 1, 1, 2, 1, 1, 1, 2, 2, 1, 3, 2, 2, 1, 1, 1, 1, 1, 1, 1, 1, 4, 1, 2, 2, 1, 2, 3, 1, 1, 1, 2, 9, 1, 5, 2, 1, 1, 1, 1, 1, 1, 1, 1, 1, 1, 4, 1, 1, 1, 1, 1, 1, 1, 5, 4, 1, 1, 5, 1, 6, 1, 1, 1, 1, 1, 2, 3, 1, 1, 1, 1, 4, 1, 2, 1, 1, 1, 3, 1, 1, 1, 1, 4, 1, 1, 1, 1, 1, 1, 1, 2, 1, 1, 1, 5, 1, 8, 1, 1, 1, 1, 1, 1, 3, 1, 1, 1, 1, 1, 25, 1, 1, 6, 1, 1, 1, 2, 1, 1, 1, 1, 2, 6, 1, 1, 5, 2, 1, 1, 1, 1, 1, 1, 1, 2, 3, 1, 1, 1, 4, 1, 2, 1, 1, 1, 1, 1, 1, 1, 1, 1, 5, 1, 1, 2, 2, 1, 1, 1, 2, 1, 1, 1, 1, 1, 1, 1, 4, 1, 1, 1, 1, 1, 1, 1, 1, 1, 1, 1, 1, 1, 1, 5, 1, 1, 1, 1, 1, 1, 1, 1, 1, 1, 1, 1, 1, 1, 1, 2, 1, 1, 1, 1, 1, 1, 1, 2, 2, 1, 3, 6, 6, 2, 1, 1, 1, 1, 1, 1, 1, 1, 1, 1, 1, 1, 1, 1, 1, 1, 1, 1, 1, 1, 1, 2, 1, 1, 1, 1, 3, 1, 2, 4, 3, 1, 1, 1, 1, 3, 1, 1, 1, 2, 1, 1, 2, 1, 1, 1, 3, 2, 1, 1, 1, 2, 1, 5, 1, 1, 1, 2, 1, 1, 1, 1, 2, 3, 1, 2, 1, 1, 1, 1, 1, 1, 1, 1, 1, 1, 2, 1, 5, 1, 2, 1, 1, 3, 1, 1, 1, 1, 2, 1, 3, 1, 2, 2, 1, 1, 1, 1, 1, 1, 1, 5, 1, 1, 1, 1, 1, 1, 1, 1, 1, 2, 1, 2, 1, 1, 1, 1, 3, 1, 2, 7, 2, 1, 3, 1, 1, 1, 1, 1, 2, 3, 4, 1, 2, 1, 1, 1, 1, 1, 1, 1, 2, 1, 1, 1, 1, 1, 1, 1, 7, 2, 1, 1, 2, 1, 2, 1, 1, 1, 1, 1, 1, 1, 2, 1, 1, 2, 1, 1, 2, 1, 1, 5, 2, 1, 1, 1, 1, 1, 1, 1, 1, 1, 1, 1, 1, 1, 1, 1, 3, 2, 1, 1, 1, 2, 3, 1, 1, 1, 1, 1, 1, 1, 1, 1, 1, 1, 1, 1, 2, 2, 1, 3, 5, 1, 1, 1, 1, 2, 1, 1, 1, 1, 1, 1, 1, 2, 2, 1, 1, 1, 1, 1, 1, 1, 1, 2, 1, 1, 1, 1, 1, 3, 1, 1, 1, 1, 1, 1, 2, 1, 1, 2, 1, 1, 10, 1, 1, 1, 3, 1, 1, 1, 1, 1, 1, 1, 1, 2, 1, 1, 1, 2, 2, 1, 1, 1, 1, 1, 1, 1, 1, 1, 1, 3, 1, 1, 1, 1, 1, 1, 1, 4, 1, 1, 1, 1, 1, 1, 1, 1, 1, 1, 1, 1, 1, 5, 2, 1, 2, 2, 1, 3, 1, 3, 1, 1, 1, 2, 1, 9, 2, 1, 1, 3, 1, 1, 1, 1, 1, 1, 1, 1, 1, 2, 1, 1, 1, 1, 1, 2, 2, 1, 1, 2, 1, 1, 3, 4, 1, 1, 1, 1, 1, 1, 1, 1, 1, 7, 1, 1, 1, 1, 1, 1, 4, 1, 1, 1, 1, 3, 1, 1, 1, 1, 2, 2, 1, 1, 1, 1, 4, 1, 1, 1, 1, 1, 1, 1, 1, 1, 2, 1, 1, 1, 1, 1, 2, 1, 1, 5, 1, 1, 1, 1, 1, 1, 4, 1, 1, 1, 1, 1, 1, 1, 1, 1, 1, 1, 2, 2, 1, 1, 1, 2, 1, 1, 2, 1, 2, 5, 1, 2, 1, 3, 1, 1, 1, 1, 1, 2, 1, 4, 1, 1, 1, 1, 1, 1, 1, 1, 1, 2, 2, 3, 2, 2, 4, 5, 1, 1, 1, 1, 1, 1, 4, 1, 1, 1, 1, 1, 2, 1, 1, 1, 1, 2, 1, 1, 2, 1, 1, 1, 1, 1, 1, 1, 2, 1, 2, 1, 3, 1, 2, 2, 3, 1, 1, 1, 1, 1, 1, 1, 1, 2, 1, 1, 1, 1, 2, 5, 2, 1, 1, 1, 1, 1, 1, 1, 1, 1, 2, 1, 11, 2, 2, 1, 2, 1, 1, 1, 2, 3, 1, 1, 1, 1, 1, 1, 1, 1, 1, 1, 1, 2, 1, 1, 1, 1, 1, 1, 1, 1, 3, 1, 1, 1, 1, 1, 1, 1, 1, 1, 1, 1, 2, 1, 2, 1, 1, 2, 1, 1, 3, 1, 3, 4, 3, 1, 2, 1, 1, 5, 1, 1, 1, 1, 14, 3, 1, 1, 1, 1, 1, 1, 1, 1, 1, 4, 1, 1, 1, 1, 1, 1, 1, 7, 1, 1, 1, 2, 1, 1, 1, 1, 1, 1, 1, 1, 4, 3, 2, 1, 3, 1, 1, 2, 1, 1, 1, 1, 1, 1, 3, 2, 1, 1, 1, 1, 1, 3, 3, 1, 4, 1, 1, 1, 1, 1, 1, 1, 3, 1, 4, 2, 1, 2, 4, 4, 1, 1, 1, 1, 4, 4, 2, 2, 3, 1, 1, 4, 1, 1, 1, 1, 1, 1, 1, 1, 2, 1, 1, 1, 4, 2, 1, 1, 1, 4, 1, 1, 1, 1, 1, 1, 1, 1, 2, 4, 1, 1, 1, 1, 1, 1, 1, 1, 1, 1, 3, 1, 1, 2, 1, 1, 1, 1, 3, 1, 1, 1, 4, 1, 1, 1, 7, 2, 1, 1, 3, 1, 17, 1, 2, 1, 1, 5, 1, 1, 2, 3, 1, 1, 1, 1, 4, 1, 1, 1, 1, 1, 1, 8, 1, 1, 1, 1, 1, 1, 1, 2, 1, 1, 1, 1, 1, 1, 2, 1, 1, 1, 1, 1, 1, 1, 3, 1, 1, 1, 3, 5, 1, 1, 1, 1, 1, 1, 1, 1, 1, 1, 1, 3, 1, 1, 1, 1, 9, 1, 1, 1, 2, 2, 2, 1, 1, 2, 1, 1, 4, 1, 1, 1, 1, 1, 1, 1, 1, 2, 1, 2, 1, 1, 2, 1, 1, 1, 4, 2, 1, 1, 4, 2, 1, 1, 2, 1, 1, 1, 1, 1, 1, 1, 1, 1, 1, 1, 1, 1, 1, 1, 3, 1, 1, 1, 1, 1, 1, 1, 1, 1, 4, 1, 1, 4, 1, 1, 2, 1, 1, 1, 2, 1, 1, 1, 1, 1, 1, 1, 2, 1, 2, 2, 1, 1, 1, 3, 1, 1, 2, 1, 1, 1, 1, 4, 1, 1, 1, 1, 1, 1, 3, 2, 1, 1, 1, 1, 1, 1, 1, 1, 1, 1, 2, 1, 1, 2, 1, 1, 3, 1, 3, 1, 6, 1, 10, 12, 2, 1, 2, 2, 3, 1, 1, 1, 1, 1, 1, 1, 1, 1, 1, 1, 1, 2, 1, 2, 1, 1, 1, 1, 1, 1, 1, 3, 1, 1, 1, 1, 2, 1, 1, 1, 1, 1, 1, 4, 2, 4, 3, 2, 1, 2, 1, 1, 1, 1, 1, 2, 1, 1, 2, 1, 4, 1, 1, 2, 1, 1, 1, 4, 1, 1, 1, 1, 1, 1, 1, 1, 1, 1, 1, 1, 1, 1, 1, 2, 1, 2, 2, 1, 2, 3, 1, 2, 3, 3, 1, 1, 1, 1, 1, 1, 1, 1, 1, 1, 2, 1, 2, 2, 1, 1, 1, 2, 1, 1, 6, 2, 2, 1, 1, 1, 1, 1, 1, 1, 1, 2, 1, 1, 1, 1, 1, 1, 13, 1, 1, 2, 9, 8, 1, 1, 1, 1, 1, 2, 1, 1, 2, 2, 1, 1, 1, 1, 1, 2, 1, 2, 1, 1, 2, 1, 1, 1, 2, 1, 1, 1, 2, 1, 5, 1, 1, 1, 1, 1, 1, 1, 1, 1, 1, 1, 1, 1, 1, 1, 1, 3, 1, 2, 1, 1, 1, 5, 2, 1, 1, 1, 1, 5, 1, 1, 1, 1, 1, 1, 1, 1, 1, 2, 1, 1, 1, 4, 1, 1, 1, 1, 2, 1, 1, 5, 2, 2, 2, 1, 4, 1, 1, 2, 1, 2, 1, 1, 1, 1, 1, 1, 1, 2, 1, 1, 1, 2, 1, 1, 4, 1, 1, 1, 2, 1, 1, 1, 1, 1, 2, 1, 1, 5, 2, 1, 2, 4, 1, 1, 1, 1, 2, 1, 1, 5, 2, 1, 3, 1, 1, 2, 1, 1, 1, 1, 2, 1, 1, 2, 1, 1, 27, 2, 1, 3, 1, 2, 1, 1, 1, 1, 4, 1, 1, 5, 7, 1, 1, 1, 1, 1, 1, 2, 1, 2, 2, 2, 1, 1, 1, 1, 2, 1, 1, 1, 2, 1, 1, 4, 2, 3, 2, 2, 1, 1, 5, 1, 1, 2, 1, 1, 2, 2, 2, 1, 2, 2, 2, 1, 1, 1, 1, 2, 1, 1, 1, 1, 1, 1, 1, 3, 2, 1, 1, 1, 1, 3, 1, 1, 1, 1, 1, 1, 1, 1, 1, 1, 2, 1, 2, 1, 1, 1, 1, 1, 1, 1, 2, 1, 2, 1, 1, 2, 1, 1, 2, 1, 1, 1, 1, 1, 1, 1, 1, 1, 2, 1, 1, 1, 5, 1, 1, 1, 3, 4, 1, 1, 1, 1, 1, 1, 2, 2, 1, 1, 1, 1, 2, 2, 8, 1, 1, 1, 1, 2, 1, 1, 1, 1, 1, 1, 1, 2, 1, 1, 1, 1, 3, 1, 2, 1, 1, 1, 1, 1, 1, 1, 5, 1, 1, 2, 1, 2, 3, 1, 1, 1, 2, 2, 1, 1, 2, 1, 1, 1, 2, 1, 1, 1, 1, 4, 1, 1, 1, 1, 4, 1, 6, 1, 1, 1, 4, 1, 2, 1, 1, 1, 1, 1, 1, 1, 1, 1, 2, 1, 1, 1, 1, 1, 1, 1, 2, 1, 1, 1, 2, 1, 1, 3, 1, 1, 3, 1, 1, 1, 8, 1, 3, 1, 1, 2, 1, 1, 1, 2, 1, 2, 1, 1, 1, 1, 4, 2, 1, 2, 2, 3, 1, 1, 3, 1, 1, 4, 1, 1, 1, 1, 2, 2, 1, 1, 1, 2, 1, 1, 2, 1, 1, 3, 1, 1, 1, 5, 2, 1, 2, 1, 1, 1, 1, 2, 1, 1, 4, 4, 1, 1, 1, 1, 10, 3, 1, 1, 2, 1, 2, 2, 2, 3, 1, 1, 1, 1, 1, 1, 1, 2, 1, 1, 1, 1, 2, 1, 1, 1, 1, 2, 1, 8, 1, 1, 1, 2, 2, 1, 1, 1, 1, 1, 1, 1, 1, 1, 1, 1, 1, 1, 1, 1, 1, 1, 1, 1, 1, 1, 2, 1, 1, 1, 1, 1, 1, 1, 1, 1, 1, 1, 1, 1, 1, 12, 2, 1, 1, 2, 2, 2, 1, 1, 1, 1, 1, 1, 1, 1, 2, 2, 1, 1, 2, 5, 3, 1, 1, 1, 3, 5, 1, 2, 1, 1, 1, 1, 1, 1, 1, 1, 3, 1, 1, 1, 2, 1, 1, 1, 1, 3, 1, 1, 1, 1, 2, 2, 1, 1, 1, 1, 1, 2, 3, 1, 1, 2, 3, 1, 1, 1, 1, 1, 1, 1, 1, 1, 1, 2, 1, 1, 1, 1, 2, 2, 3, 1, 1, 1, 1, 5, 1, 2, 1, 1, 1, 1, 2, 1, 1, 3, 8, 1, 3, 1, 1, 1, 1, 1, 1, 1, 2, 1, 1, 2, 1, 3, 1, 1, 5, 1, 1, 1, 1, 1, 1, 1, 1, 1, 1, 1, 1, 2, 1, 1, 1, 1, 1, 1, 1, 1, 1, 1, 1, 1, 2, 4, 3, 1, 1, 3, 2, 1, 13, 1, 1, 1, 1, 3, 1, 1, 1, 1, 1, 1, 1, 2, 1, 1, 1, 1, 1, 1, 1, 2, 5, 1, 1, 2, 1, 1, 1, 1, 1, 1, 1, 4, 1, 2, 1, 1, 1, 5, 1, 4, 1, 1, 1, 2, 4, 1, 1, 3, 1, 1, 1, 1, 1, 1, 1, 1, 1, 1, 1, 1, 1, 1, 1, 1, 1, 2, 1, 1, 1, 1, 1, 1, 1, 1, 3, 1, 1, 1, 1, 1, 1, 1, 1, 1, 1, 1, 3, 1, 1, 2, 1, 2, 1, 1, 1, 2, 1, 1, 7, 2, 1, 1, 1, 1, 1, 1, 1, 1, 1, 3, 1, 1, 1, 1, 1, 1, 1, 1, 1, 1, 1, 4, 1, 1, 1, 1, 1, 1, 2, 2, 1, 1, 1, 4, 8, 1, 1, 1, 1, 1, 1, 1, 1, 2, 3, 1, 1, 1, 1, 1, 1, 1, 1, 1, 1, 1, 2, 1, 2, 5, 1, 1, 1, 1, 2, 2, 1, 1, 1, 1, 1, 1, 5, 1, 1, 1, 1, 2, 1, 3, 1, 1, 1, 1, 1, 2, 1, 4, 1, 1, 1, 1, 1, 3, 1, 1, 2, 4, 1, 2, 3, 1, 2, 1, 1, 1, 1, 1, 2, 1, 1, 1, 2, 2, 1, 1, 2, 1, 2, 1, 1, 1, 1, 1, 1, 3, 1, 1, 2, 1, 1, 1, 1, 1, 2, 3, 4, 1, 7, 1, 1, 1, 1, 5, 1, 2, 1, 1, 1, 6, 1, 1, 1, 1, 1, 1, 2, 2, 1, 2, 1, 1, 1, 1, 1, 1, 1, 2, 1, 1, 1, 1, 3, 1, 1, 4, 2, 1, 1, 1, 1, 1, 1, 1, 4, 1, 1, 1, 3, 1, 1, 1, 2, 1, 2, 1, 1, 3, 1, 1, 2, 1, 1, 2, 1, 1, 1, 2, 1, 1, 1, 1, 3, 1, 1, 1, 1, 2, 1, 3, 1, 1, 2, 1, 1, 3, 1, 2, 1, 1, 2, 1, 3, 1, 2, 1, 2, 1, 1, 1, 1, 1, 1, 1, 1, 1, 1, 1, 1, 2, 3, 1, 1, 2, 1, 1, 1, 1, 1, 2, 1, 1, 1, 1, 1, 1, 1, 1, 1, 1, 1, 1, 4, 1, 1, 1, 2, 1, 1, 1, 1, 1, 1, 1, 1, 2, 2, 1, 1, 1, 1, 1, 1, 1, 1, 1, 1, 1, 1, 1, 1, 1, 1, 2, 1, 1, 9, 1, 12, 1, 6, 1, 1, 1, 1, 1, 3, 1, 1, 1, 1, 1, 1, 2, 1, 5, 1, 1, 1, 1, 1, 3, 1, 1, 1, 3, 1, 1, 1, 1, 1, 5, 3, 1, 2, 1, 1, 1, 1, 4, 1, 1, 1, 1, 1, 1, 2, 1, 2, 1, 1, 1, 1, 1, 1, 1, 1, 1, 1, 2, 2, 1, 1, 1, 1, 1, 1, 1, 1, 3, 1, 1, 1, 1, 1, 1, 1, 2, 3, 1, 1, 1, 1, 1, 2, 1, 3, 1, 3, 1, 1, 1, 2, 1, 1, 1, 1, 1, 1, 1, 2, 1, 1, 2, 1, 3, 1, 1, 1, 2, 1, 1, 1, 1, 1, 1, 1, 1, 1, 1, 1, 1, 1, 1, 2, 4, 1, 2, 6, 3, 2, 1, 1, 4, 1, 1, 1, 1, 1, 1, 2, 1, 2, 1, 1, 1, 1, 1, 2, 2, 1, 1, 4, 1, 1, 1, 1, 1, 1, 9, 3, 4, 1, 1, 1, 1, 1, 1, 1, 1, 2, 1, 3, 1, 1, 1, 1, 1, 1, 1, 1, 1, 1, 1, 2, 2, 1, 1, 1, 1, 1, 1, 1, 4, 1, 1, 2, 1, 1, 1, 1, 16, 1, 6, 1, 2, 6, 6, 1, 1, 1, 2, 1, 2, 2, 2, 1, 1, 1, 2, 1, 1, 1, 1, 1, 1, 2, 1, 1, 3, 1, 1, 1, 2, 6, 1, 1, 5, 1, 1, 3, 1, 1, 1, 1, 1, 1, 1, 5, 1, 1, 7, 1, 4, 1, 1, 1, 6, 6, 1, 1, 1, 1, 1, 1, 1, 1, 1, 1, 1, 1, 1, 1, 1, 1, 1, 1, 3, 2, 1, 1, 1, 1, 1, 1, 2, 1, 1, 2, 1, 1, 3, 1, 1, 1, 1, 4, 1, 1, 1, 1, 1, 1, 1, 2, 2, 7, 2, 1, 1, 1, 1, 1, 1, 1, 3, 1, 2, 1, 1, 1, 1, 1, 1, 1, 2, 1, 2, 2, 1, 1, 3, 1, 2, 1, 2, 1, 4, 7, 1, 2, 2, 2, 2, 2, 2, 2, 2, 2, 3, 3, 1, 1, 3, 1, 1, 1, 1, 1, 2, 2, 1, 1, 1, 1, 1, 4, 1, 1, 1, 3, 1, 1, 5, 1, 1, 1, 1, 1, 1, 1, 3, 2, 7, 1, 1, 2, 1, 4, 1, 1, 1, 1, 2, 1, 1, 2, 2, 1, 1, 2, 1, 1, 1, 1, 1, 1, 1, 1, 1, 1, 1, 1, 1, 2, 1, 1, 1, 1, 1, 1, 1, 2, 1, 2, 2, 1, 1, 2, 1, 1, 1, 1, 1, 1, 1, 1, 1, 2, 2, 1, 1, 2, 1, 1, 1, 1, 1, 1, 3, 1, 1, 1, 1, 1, 2, 1, 2, 1, 2, 1, 1, 1, 1, 1, 1, 1, 3, 1, 1, 1, 1, 1, 4, 2, 1, 2, 1, 1, 1, 1, 1, 1, 1, 1, 1, 1, 1, 7, 1, 1, 1, 2, 1, 1, 1, 1, 3, 1, 2, 1, 3, 1, 1, 1, 1, 1, 2, 1, 2, 2, 1, 1, 2, 1, 1, 1, 1, 1, 1, 1, 2, 1, 1, 1, 1, 1, 1, 1, 1, 1, 1, 1, 2, 3, 1, 1, 1, 2, 1, 2, 2, 1, 2, 1, 1, 1, 1, 1, 2, 1, 1, 1, 1, 1, 1, 1, 1, 1, 5, 1, 2, 3, 2, 1, 5, 1, 1, 2, 1, 1, 1, 1, 1, 1, 1, 1, 1, 1, 1, 1, 1, 1, 1, 1, 1, 2, 1, 1, 1, 1, 1, 1, 2, 1, 1, 1, 1, 1, 1, 1, 5, 1, 1, 1, 1, 1, 1, 1, 1, 80, 1, 1, 1, 1, 1, 1, 1, 1, 1, 1, 1, 1, 8, 1, 2, 1, 1, 1, 1, 1, 1, 2, 1, 1, 1, 1, 1, 1, 1, 1, 1, 1, 1, 1, 2, 1, 1, 1, 1, 1, 2, 2, 3, 1, 1, 2, 1, 1, 1, 1, 1, 1, 1, 1, 2, 1, 2, 1, 1, 4, 3, 1, 1, 1, 1, 1, 1, 1, 1, 1, 1, 1, 4, 2, 8, 1, 1, 1, 2, 1, 1, 1, 1, 1, 3, 1, 1, 1, 1, 1, 1, 1, 1, 1, 3, 1, 1, 1, 1, 1, 1, 1, 1, 1, 2, 1, 1, 1, 2, 1, 2, 4, 1, 1, 1, 1, 1, 1, 5, 1, 1, 3, 1, 1, 4, 2, 1, 2, 1, 1, 1, 1, 2, 1, 1, 1, 1, 1, 1, 1, 1, 1, 1, 1, 1, 1, 1, 1, 1, 1, 4, 1, 8, 1, 1, 1, 1, 1, 1, 1, 1, 1, 1, 1, 1, 1, 1, 1, 1, 1, 1, 1, 3, 1, 1, 1, 1, 1, 1, 1, 4, 3, 1, 2, 1, 1, 1, 1, 1, 2, 1, 2, 1, 2, 1, 6, 1, 1, 1, 1, 1, 1, 2, 1, 8, 1, 2, 2, 2, 1, 2, 1, 9, 1, 1, 1, 1, 1, 1, 1, 1, 1, 1, 2, 1, 2, 1, 2, 1, 1, 2, 1, 1, 4, 6, 1, 1, 1, 5, 1, 1, 1, 1, 2, 1, 2, 1, 2, 1, 1, 2, 1, 2, 1, 1, 1, 2, 1, 31, 1, 1, 1, 1, 1, 1, 1, 1, 1, 1, 1, 1, 2, 2, 3, 3, 10, 10, 1, 1, 3, 1, 2, 1, 1, 1, 2, 1, 3, 1, 1, 1, 1, 1, 2, 1, 1, 1, 1, 1, 3, 1, 3, 1, 1, 1, 2, 1, 1, 2, 3, 1, 1, 1, 1, 2, 1, 1, 1, 1, 2, 2, 1, 1, 2, 7, 1, 1, 1, 1, 1, 1, 1, 1, 2, 1, 1, 1, 1, 1, 1, 1, 1, 1, 1, 1, 5, 2, 1, 4, 2, 1, 2, 1, 1, 1, 1, 1, 4, 1, 4, 1, 1, 1, 1, 1, 1, 2, 1, 8, 1, 1, 2, 1, 1, 2, 1, 1, 1, 1, 1, 1, 1, 1, 1, 1, 3, 2, 1, 1, 1, 1, 1, 1, 2, 1, 1, 2, 1, 1, 2, 1, 1, 1, 10, 1, 1, 1, 3, 2, 1, 1, 1, 2, 1, 1, 1, 2, 1, 1, 9, 1, 1, 1, 1, 1, 1, 1, 1, 1, 1, 1, 1, 1, 1, 1, 1, 1, 1, 1, 2, 2, 1, 1, 1, 1, 3, 1, 1, 1, 1, 1, 2, 1, 1, 1, 1, 2, 1, 1, 1, 2, 1, 1, 1, 1, 1, 3, 1, 1, 1, 3, 1, 1, 4, 1, 2, 1, 1, 1, 1, 1, 3, 1, 1, 1, 1, 1, 1, 1, 1, 2, 6, 6, 1, 1, 3, 1, 2, 1, 1, 2, 1, 1, 2, 1, 1, 2, 1, 1, 1, 1, 1, 1, 1, 1, 1, 1, 1, 1, 1, 1, 3, 1, 1, 1, 1, 1, 1, 1, 1, 1, 2, 1, 1, 1, 4, 1, 2, 1, 2, 1, 1, 1, 1, 1, 1, 1, 4, 1, 1, 1, 1, 1, 4, 1, 1, 1, 1, 1, 1, 1, 1, 1, 1, 1, 1, 1, 1, 1, 1, 2, 1, 1, 1, 1, 2, 1, 1, 1, 1, 1, 1, 1, 1, 1, 1, 1, 1, 1, 1, 2, 1, 1, 1, 3, 1, 1, 3, 2, 1, 1, 1, 1, 1, 2, 1, 4, 1, 1, 1, 1, 1, 1, 1, 1, 1, 1, 1, 1, 1, 1, 1, 4, 1, 1, 1, 2, 2, 1, 1, 2, 1, 1, 1, 1, 1, 1, 1, 1, 1, 1, 1, 1, 1, 4, 1, 1, 1, 3, 2, 1, 1, 1, 1, 1, 1, 1, 1, 1, 1, 1, 2, 1, 3, 1, 2, 1, 1, 1, 3, 1, 1, 1, 1, 1, 2, 1, 1, 1, 2, 1, 2, 1, 1, 1, 1, 2, 1, 1, 1, 1, 1, 1, 2, 1, 1, 1, 2, 1, 1, 1, 1, 1, 1, 2, 1, 1, 3, 1, 1, 2, 1, 1, 1, 1, 1, 1, 2, 1, 1, 1, 1, 1, 1, 1, 1, 1, 1, 1, 1, 1, 3, 2, 1, 1, 1, 1, 1, 1, 1, 1, 1, 1, 1, 1, 1, 1, 1, 2, 1, 1, 1, 1, 1, 1, 1, 1, 2, 2, 1, 1, 1, 1, 1, 1, 1, 1, 1, 1, 2, 1, 1, 2, 1, 1, 1, 1, 1, 1, 1, 1, 1, 3, 1, 1, 1, 2, 1, 1, 4, 1, 3, 2, 1, 2, 1, 1, 2, 2, 1, 1, 1, 3, 1, 1, 1, 1, 1, 1, 1, 1, 2, 2, 2, 2, 1, 1, 1, 1, 1, 1, 1, 1, 2, 1, 1, 1, 3, 1, 1, 1, 1, 1, 1, 1, 2, 1, 5, 2, 1, 1, 1, 5, 1, 1, 1, 1, 1, 1, 1, 1, 4, 1, 1, 1, 1, 1, 3, 1, 1, 1, 1, 1, 1, 1, 1, 1, 2, 1, 1, 1, 1, 1, 1, 1, 1, 1, 1, 2, 2, 1, 9, 1, 1, 6, 1, 2, 1, 1, 1, 1, 1, 2, 1, 1, 5, 2, 1, 1, 1, 1, 2, 1, 2, 1, 1, 11, 1, 1, 1, 4, 1, 1, 1, 1, 1, 2, 1, 1, 3, 1, 1, 1, 1, 1, 1, 1, 1, 1, 1, 5, 1, 1, 1, 1, 1, 1, 2, 1, 1, 2, 1, 1, 1, 3, 1, 1, 1, 1, 1, 1, 2, 1, 1, 3, 1, 2, 1, 1, 1, 3, 1, 1, 1, 1, 1, 1, 1, 1, 1, 1, 1, 1, 1, 1, 1, 1, 1, 1, 2, 1, 3, 1, 1, 1, 1, 1, 1, 1, 1, 1, 1, 1, 1, 2, 1, 1, 3, 1, 1, 1, 2, 1, 3, 1, 1, 1, 1, 1, 1, 2, 1, 2, 1, 1, 3, 1, 1, 2, 1, 1, 3, 3, 1, 1, 1, 1, 1, 1, 1, 1, 1, 1, 3, 1, 1, 1, 1, 1, 1, 1, 1, 1, 1, 1, 1, 1, 1, 1, 1, 1, 3, 1, 1, 1, 1, 1, 1, 1, 1, 1, 1, 2, 2, 3, 1, 1, 1, 1, 1, 1, 1, 1, 1, 1, 1, 1, 2, 7, 1, 1, 1, 1, 1, 1, 1, 1, 1, 1, 1, 1, 2, 1, 1, 4, 1, 2, 1, 3, 1, 1, 1, 1, 1, 1, 1, 1, 1, 1, 1, 2, 2, 1, 1, 2, 1, 1, 5, 5, 1, 1, 1, 1, 1, 1, 2, 2, 1, 1, 1, 1, 1, 2, 2, 1, 1, 1, 2, 1, 1, 1, 1, 1, 1, 1, 1, 1, 1, 1, 1, 1, 1, 1, 1, 1, 1, 1, 1, 1, 1, 1, 1, 1, 1, 1, 1, 1, 1, 1, 2, 1, 2, 2, 2, 3, 3, 2, 2, 5, 1, 1, 1, 1, 1, 1, 1, 1, 2, 1, 1, 1, 1, 1, 1, 1, 3, 1, 1, 3, 1, 1, 1, 3, 1, 1, 1, 1, 2, 1, 1, 1, 1, 1, 1, 1, 1, 1, 1, 1, 1, 1, 1, 1, 1, 1, 1, 2, 2, 1, 1, 1, 1, 2, 1, 1, 1, 3, 1, 1, 1, 2, 2, 1, 1, 2, 1, 1, 1, 1, 1, 1, 1, 1, 1, 1, 1, 1, 1, 1, 1, 1, 1, 1, 1, 1, 1, 1, 1, 18, 1, 1, 3, 1, 1, 1, 1, 1, 1, 1, 3, 1, 2, 1, 1, 1, 1, 1, 1, 1, 1, 1, 1, 1, 1, 1, 1, 1, 1, 1, 1, 1, 1, 1, 1, 1, 2, 1, 4, 1, 2, 1, 1, 1, 1, 1, 1, 1, 1, 1, 5, 1, 2, 1, 15, 1, 1, 1, 1, 1, 1, 1, 1, 1, 1, 2, 1, 1, 1, 1, 1, 2, 1, 1, 1, 1, 2, 1, 2, 3, 1, 1, 1, 1, 1, 1, 1, 3, 3, 1, 1, 1, 1, 1, 1, 1, 1, 1, 1, 1, 1, 2, 4, 2, 1, 2, 1, 4, 1, 1, 2, 1, 1, 3, 1, 1, 1, 1, 1, 2, 1, 1, 1, 1, 1, 1, 1, 1, 1, 1, 2, 2, 1, 2, 1, 1, 1, 1, 2, 1, 1, 1, 9, 8, 1, 2, 3, 1, 2, 1, 1, 1, 1, 1, 1, 2, 1, 4, 1, 1, 1, 2, 1, 1, 1, 1, 1, 1, 2, 1, 1, 1, 1, 2, 2, 1, 2, 1, 1, 1, 2, 1, 1, 1, 5, 1, 2, 1, 1, 1, 1, 1, 1, 1, 1, 1, 1, 1, 1, 1, 2, 1, 1, 1, 7, 1, 1, 1, 1, 1, 1, 1, 1, 1, 1, 1, 1, 1, 1, 1, 1, 4, 1, 4, 1, 1, 1, 1, 1, 1, 1, 1, 3, 1, 1, 2, 1, 2, 1, 1, 1, 1, 1, 2, 6, 3, 2, 1, 1, 1, 1, 1, 2, 2, 1, 1, 1, 3, 1, 1, 1, 1, 1, 1, 1, 1, 1, 1, 1, 2, 1, 1, 1, 3, 1, 1, 1, 1, 2, 5, 1, 3, 1, 1, 1, 1, 1, 1, 1, 1, 2, 3, 1, 1, 3, 1, 1, 1, 1, 1, 4, 1, 2, 2, 1, 1, 1, 2, 1, 1, 1, 1, 5, 1, 1, 1, 1, 1, 1, 1, 2, 1, 1, 1, 2, 1, 1, 1, 1, 1, 1, 1, 1, 1, 1, 1, 1, 1, 1, 2, 1, 2, 2, 3, 1, 2, 1, 1, 1, 1, 1, 1, 12, 1, 1, 1, 1, 1, 1, 1, 2, 1, 1, 2, 2, 1, 1, 1, 1, 1, 1, 1, 3, 1, 2, 1, 1, 2, 1, 1, 1, 2, 2, 1, 1, 1, 1, 3, 1, 1, 1, 1, 1, 1, 1, 1, 1, 2, 1, 1, 1, 4, 1, 1, 1, 1, 2, 2, 1, 1, 2, 1, 1, 3, 1, 2, 1, 1, 1, 1, 2, 1, 1, 1, 1, 1, 2, 1, 1, 1, 1, 1, 1, 1, 1, 1, 1, 1, 1, 1, 1, 1, 1, 1, 1, 1, 1, 3, 1, 1, 1, 1, 2, 2, 1, 1, 2, 1, 1, 1, 1, 1, 2, 1, 2, 1, 4, 1, 1, 1, 1, 1, 1, 1, 1, 1, 1, 1, 2, 1, 1, 1, 1, 3, 1, 1, 1, 1, 1, 1, 1, 1, 1, 1, 3, 3, 1, 1, 2, 3, 2, 1, 1, 1, 1, 1, 1, 1, 1, 1, 1, 1, 2, 1, 1, 1, 1, 1, 1, 3, 1, 1, 1, 1, 1, 1, 1, 8, 1, 1, 1, 1, 1, 1, 1, 2, 1, 1, 1, 1, 1, 1, 2, 1, 2, 1, 1, 1, 1, 1, 1, 1, 1, 3, 2, 1, 1, 1, 1, 1, 1, 1, 1, 1, 3, 1, 1, 1, 1, 2, 1, 1, 1, 1, 1, 2, 1, 4, 1, 2, 2, 1, 1, 1, 3, 1, 8, 1, 1, 1, 1, 4, 1, 1, 1, 1, 1, 1, 1, 1, 1, 2, 1, 1, 1, 2, 1, 3, 4, 1, 1, 1, 4, 1, 2, 1, 1, 1, 1, 4, 2, 4, 1, 1, 1, 1, 9, 2, 1, 1, 1, 1, 1, 1, 2, 2, 1, 3, 2, 2, 1, 1, 2, 1, 1, 1, 1, 1, 2, 1, 3, 1, 1, 1, 1, 1, 1, 1, 1, 1, 1, 4, 1, 1, 1, 1, 1, 1, 1, 6, 1, 1, 1, 1, 1, 1, 1, 3, 1, 2, 1, 1, 1, 2, 2, 1, 1, 1, 2, 1, 1, 1, 2, 1, 4, 1, 1, 2, 1, 1, 1, 1, 1, 1, 2, 1, 1, 1, 1, 1, 1, 1, 1, 1, 1, 1, 2, 1, 1, 1, 1, 1, 1, 1, 1, 1, 1, 1, 1, 1, 1, 3, 1, 2, 1, 1, 1, 2, 1, 1, 1, 6, 1, 6, 2, 3, 1, 1, 1, 1, 3, 1, 1, 2, 1, 1, 1, 1, 2, 1, 3, 1, 1, 2, 9, 8, 1, 1, 1, 1, 1, 1, 1, 1, 1, 1, 1, 1, 2, 1, 1, 1, 3, 1, 1, 2, 3, 1, 1, 1, 1, 1, 1, 1, 12, 2, 1, 1, 1, 1, 1, 1, 2, 2, 1, 1, 1, 1, 2, 2, 3, 1, 1, 1, 3, 1, 2, 1, 1, 1, 1, 2, 1, 1, 1, 1, 1, 1, 1, 1, 1, 1, 2, 1, 2, 1, 40, 1, 1, 1, 1, 1, 1, 1, 3, 1, 1, 1, 1, 11, 1, 1, 1, 1, 1, 2, 1, 1, 1, 1, 1, 2, 1, 1, 1, 1, 1, 1, 1, 2, 2, 1, 1, 1, 1, 1, 1, 1, 1, 2, 1, 1, 1, 1, 2, 1, 1, 1, 1, 1, 1, 1, 1, 1, 1, 2, 1, 2, 1, 2, 1, 1, 1, 1, 1, 1, 3, 1, 2, 2, 2, 1, 1, 1, 1, 1, 1, 3, 1, 1, 2, 1, 2, 1, 1, 1, 2, 2, 1, 1, 1, 1, 1, 1, 1, 1, 2, 1, 1, 1, 1, 1, 1, 1, 1, 1, 5, 1, 1, 1, 1, 1, 1, 1, 3, 4, 1, 2, 1, 1, 1, 1, 1, 1, 1, 1, 1, 1, 1, 1, 2, 1, 2, 2, 3, 1, 1, 1, 1, 2, 1, 2, 2, 1, 1, 6, 4, 4, 3, 1, 1, 4, 1, 1, 1, 3, 1, 1, 2, 3, 2, 2, 1, 1, 1, 1, 1, 1, 2, 3, 1, 1, 1, 2, 1, 1, 1, 1, 1, 2, 3, 1, 4, 1, 1, 2, 1, 1, 2, 1, 1, 1, 1, 1, 1, 1, 2, 1, 1, 1, 1, 2, 1, 1, 1, 1, 2, 1, 2, 1, 1, 2, 1, 1, 1, 1, 1, 1, 1, 3, 1, 1, 1, 1, 1, 1, 1, 1, 3, 2, 5, 1, 1, 1, 1, 1, 1, 1, 1, 2, 1, 2, 1, 1, 1, 1, 1, 1, 1, 1, 1, 2, 2, 1, 2, 1, 2, 1, 13, 1, 1, 23, 1, 5, 1, 1, 1, 1, 1, 1, 1, 1, 3, 1, 1, 1, 1, 2, 2, 1, 8, 1, 1, 1, 1, 1, 1, 4, 3, 3, 1, 2, 2, 2, 2, 1, 3, 1, 1, 2, 1, 1, 1, 1, 1, 1, 1, 1, 3, 1, 1, 1, 1, 1, 1, 2, 1, 1, 1, 1, 1, 1, 1, 1, 2, 1, 1, 1, 1, 1, 1, 1, 1, 1, 1, 1, 1, 1, 1, 1, 2, 1, 1, 2, 1, 1, 1, 1, 1, 1, 4, 2, 1, 1, 1, 1, 2, 6, 1, 1, 1, 1, 2, 1, 1, 1, 2, 2, 1, 1, 1, 2, 1, 3, 1, 1, 1, 3, 1, 2, 1, 1, 1, 1, 4, 2, 2, 1, 1, 5, 1, 1, 1, 1, 1, 1, 1, 1, 1, 1, 10, 10, 1, 1, 1, 4, 1, 1, 1, 1, 1, 2, 1, 2, 1, 1, 1, 1, 1, 1, 1, 2, 1, 1, 1, 1, 1, 2, 1, 1, 2, 1, 1, 1, 1, 2, 1, 1, 1, 1, 1, 1, 1, 1, 1, 1, 1, 1, 1, 3, 1, 2, 3, 1, 1, 1, 1, 2, 1, 1, 7, 1, 1, 1, 1, 1, 1, 1, 1, 1, 1, 1, 1, 1, 1, 1, 2, 1, 2, 2, 1, 1, 1, 2, 1, 1, 1, 1, 1, 1, 1, 1, 1, 1, 1, 2, 1, 1, 1, 1, 1, 1, 1, 1, 1, 1, 3, 1, 1, 5, 10, 1, 1, 1, 1, 1, 1, 1, 3, 1, 1, 1, 2, 1, 2, 1, 1, 1, 1, 1, 1, 1, 1, 1, 1, 1, 2, 1, 1, 1, 4, 1, 1, 1, 1, 1, 5, 1, 1, 1, 3, 1, 1, 2, 1, 1, 1, 1, 1, 2, 2, 2, 1, 1, 1, 1, 1, 1, 1, 1, 1, 2, 1, 5, 1, 1, 1, 1, 1, 3, 1, 1, 1, 1, 1, 1, 2, 1, 1, 1, 3, 1, 1, 1, 1, 1, 2, 1, 3, 1, 3, 1, 1, 2, 2, 1, 1, 1, 3, 1, 2, 2, 1, 1, 1, 1, 2, 1, 1, 1, 1, 5, 1, 1, 1, 1, 1, 1, 1, 1, 6, 1, 1, 2, 1, 1, 1, 1, 1, 1, 1, 1, 1, 1, 1, 1, 1, 1, 1, 1, 1, 1, 1, 1, 1, 2, 1, 1, 1, 1, 4, 1, 1, 6, 1, 1, 2, 3, 1, 1, 3, 13, 5, 1, 1, 2, 1, 1, 1, 2, 1, 2, 1, 1, 2, 1, 1, 1, 1, 1, 1, 1, 6, 1, 1, 1, 1, 1, 2, 4, 1, 1, 1, 1, 1, 1, 2, 1, 1, 1, 3, 1, 1, 1, 2, 1, 2, 1, 6, 1, 1, 5, 1, 4, 1, 1, 14, 1, 1, 2, 4, 1, 1, 1, 1, 1, 1, 1, 1, 1, 2, 1, 3, 1, 1, 1, 1, 1, 1, 2, 2, 2, 1, 1, 1, 1, 2, 1, 1, 1, 1, 2, 1, 1, 1, 1, 1, 1, 1, 2, 4, 1, 1, 1, 1, 3, 1, 1, 1, 1, 1, 1, 1, 1, 1, 1, 1, 1, 1, 2, 1, 2, 1, 1, 1, 1, 1, 2, 1, 1, 1, 1, 1, 1, 1, 2, 1, 1, 1, 1, 1, 1, 3, 1, 1, 2, 2, 1, 1, 1, 1, 1, 1, 1, 1, 1, 1, 1, 1, 1, 1, 1, 1, 2, 1, 1, 1, 1, 1, 1, 1, 1, 1, 1, 1, 1, 1, 1, 1, 1, 1, 1, 2, 1, 1, 1, 2, 1, 1, 1, 1, 1, 2, 1, 2, 1, 1, 1, 1, 1, 1, 1, 1, 1, 1, 1, 1, 1, 3, 1, 3, 1, 1, 1, 3, 1, 1, 1, 2, 1, 2, 1, 2, 1, 1, 2, 1, 1, 1, 1, 4, 1, 1, 3, 1, 1, 2, 1, 1, 2, 2, 2, 2, 1, 1, 2, 1, 2, 1, 2, 1, 1, 1, 1, 1, 1, 4, 1, 1, 1, 1, 1, 1, 2, 1, 1, 3, 3, 1, 1, 2, 3, 1, 1, 1, 1, 1, 1, 1, 3, 1, 4, 1, 1, 3, 1, 1, 2, 2, 1, 1, 1, 1, 1, 1, 1, 1, 1, 1, 1, 1, 1, 1, 1, 1, 1, 5, 1, 2, 1, 1, 1, 1, 1, 1, 1, 1, 1, 2, 1, 8, 1, 1, 1, 1, 1, 1, 2, 2, 1, 1, 1, 1, 1, 3, 3, 1, 2, 1, 1, 1, 1, 1, 1, 1, 1, 1, 1, 2, 1, 2, 3, 2, 2, 1, 1, 1, 4, 1, 1, 1, 1, 3, 1, 1, 9, 1, 1, 1, 2, 1, 1, 1, 2, 1, 1, 1, 1, 1, 1, 1, 1, 1, 1, 1, 1, 3, 1, 2, 1, 1, 1, 2, 1, 1, 1, 1, 2, 2, 2, 1, 1, 1, 10, 1, 1, 1, 1, 1, 9, 2, 1, 1, 1, 4, 3, 1, 1, 1, 1, 1, 1, 2, 1, 1, 1, 1, 1, 1, 1, 1, 1, 3, 7, 1, 1, 2, 3, 1, 1, 1, 1, 1, 1, 1, 1, 2, 1, 1, 1, 1, 1, 1, 1, 1, 1, 4, 1, 1, 1, 2, 1, 1, 1, 1, 1, 1, 1, 1, 1, 1, 2, 2, 1, 1, 1, 1, 1, 3, 1, 1, 1, 1, 1, 1, 1, 1, 8, 1, 1, 1, 1, 1, 1, 2, 2, 1, 1, 1, 1, 1, 1, 1, 1, 1, 1, 1, 1, 1, 1, 1, 2, 1, 1, 1, 4, 1, 2, 1, 1, 3, 1, 3, 1, 1, 1, 4, 2, 1, 1, 1, 1, 1, 3, 2, 2, 1, 1, 1, 1, 1, 1, 2, 1, 6, 1, 1, 1, 1, 1, 1, 1, 1, 1, 1, 1, 1, 1, 1, 1, 2, 1, 1, 1, 1, 1, 1, 1, 1, 1, 1, 1, 1, 2, 1, 1, 1, 1, 1, 1, 1, 1, 1, 1, 2, 1, 2, 1, 1, 1, 1, 1, 1, 1, 1, 1, 1, 1, 1, 1, 2, 2, 1, 3, 1, 1, 1, 1, 1, 3, 2, 1, 1, 2, 2, 1, 1, 1, 1, 2, 1, 1, 1, 1, 4, 1, 1, 1, 2, 2, 1, 1, 2, 1, 2, 1, 1, 1, 1, 1, 1, 3, 1, 1, 2, 1, 2, 1, 1, 1, 1, 1, 1, 1, 1, 2, 1, 1, 1, 1, 1, 1, 1, 1, 2, 1, 1, 1, 1, 1, 1, 1, 1, 1, 1, 1, 1, 1, 1, 2, 2, 1, 1, 1, 1, 1, 1, 1, 1, 1, 1, 1, 1, 1, 5, 1, 1, 1, 1, 1, 1, 1, 1, 1, 1, 1, 1, 1, 1, 2, 1, 1, 1, 1, 1, 1, 1, 1, 2, 1, 1, 1, 2, 1, 1, 1, 1, 1, 2, 1, 1, 1, 1, 1, 1, 3, 1, 1, 1, 1, 1, 1, 2, 1, 1, 1, 1, 1, 1, 1, 1, 1, 1, 1, 1, 1, 1, 8, 1, 1, 1, 1, 1, 1, 2, 1, 1, 2, 1, 1, 1, 4, 3, 1, 1, 1, 8, 1, 2, 2, 2, 3, 1, 1, 1, 1, 1, 1, 1, 1, 2, 1, 1, 1, 1, 1, 1, 1, 1, 1, 1, 1, 1, 1, 1, 1, 1, 1, 1, 1, 1, 1, 1, 1, 1, 1, 1, 1, 1, 1, 1, 1, 1, 1, 1, 1, 1, 1, 1, 1, 1, 1, 1, 1, 1, 2, 2, 2, 1, 2, 1, 1, 1, 2, 2, 1, 1, 1, 1, 1, 1, 1, 1, 1, 2, 1, 1, 1, 1, 1, 1, 1, 2, 1, 1, 3, 1, 1, 1, 1, 1, 1, 1, 3, 1, 1, 1, 1, 1, 1, 1, 1, 2, 1, 1, 1, 1, 1, 1, 1, 7, 1, 1, 1, 1, 1, 3, 1, 2, 1, 1, 1, 2, 1, 1, 1, 1, 1, 1, 1, 1, 1, 1, 1, 1, 1, 1, 1, 1, 1, 1, 1, 1, 2, 1, 1, 4, 2, 1, 2, 1, 1, 1, 1, 1, 4, 1, 2, 1, 1, 1, 1, 1, 1, 1, 1, 1, 2, 8, 1, 1, 1, 2, 1, 1, 1, 1, 3, 1, 1, 5, 1, 1, 1, 1, 1, 1, 1, 2, 4, 1, 1, 1, 1, 2, 1, 1, 2, 1, 2, 1, 1, 2, 1, 1, 2, 1, 2, 2, 1, 1, 1, 1, 1, 1, 1, 1, 1, 1, 1, 1, 2, 1, 1, 2, 1, 1, 1, 1, 1, 1, 1, 2, 1, 1, 2, 1, 1, 1, 2, 2, 1, 2, 1, 1, 1, 1, 1, 2, 1, 1, 1, 1, 2, 2, 1, 1, 1, 1, 4, 2, 1, 1, 1, 1, 3, 1, 2, 1, 1, 1, 1, 1, 1, 1, 3, 1, 1, 1, 1, 1, 9, 1, 1, 1, 1, 1, 1, 1, 1, 1, 1, 1, 1, 1, 6, 6, 6, 6, 1, 1, 1, 1, 1, 3, 1, 1, 1, 1, 1, 1, 2, 1, 1, 1, 1, 1, 1, 1, 1, 8, 1, 1, 1, 2, 3, 2, 1, 1, 2, 1, 1, 1, 1, 1, 1, 1, 2, 1, 1, 1, 2, 1, 1, 1, 1, 1, 1, 1, 11, 2, 1, 1, 1, 1, 1, 1, 1, 1, 1, 1, 1, 1, 9, 1, 1, 1, 1, 1, 1, 1, 1, 1, 1, 1, 5, 1, 1, 1, 1, 1, 6, 1, 1, 1, 1, 1, 1, 1, 1, 1, 1, 1, 1, 1, 1, 1, 1, 1, 2, 1, 1, 1, 3, 8, 1, 1, 1, 7, 1, 13, 2, 1, 1, 1, 1, 1, 1, 1, 1, 2, 1, 3, 2, 1, 3, 1, 2, 3, 1, 1, 1, 1, 1, 1, 1, 1, 1, 1, 1, 1, 1, 1, 1, 1, 2, 3, 1, 1, 1, 1, 1, 1, 1, 1, 1, 1, 2, 1, 1, 1, 2, 1, 1, 1, 1, 1, 1, 1, 1, 3, 1, 3, 1, 2, 1, 1, 1, 1, 1, 1, 1, 1, 1, 1, 1, 1, 1, 2, 2, 1, 1, 1, 1, 3, 2, 1, 1, 1, 1, 1, 1, 1, 1, 1, 1, 4, 1, 2, 2, 1, 2, 1, 1, 1, 1, 1, 1, 1, 1, 1, 1, 1, 1, 1, 1, 1, 1, 1, 1, 1, 1, 1, 1, 1, 1, 1, 1, 1, 2, 1, 1, 2, 1, 1, 1, 1, 1, 1, 1, 1, 1, 1, 1, 1, 1, 2, 1, 1, 1, 1, 5, 1, 7, 1, 4, 1, 9, 2, 1, 2, 1, 1, 1, 1, 1, 1, 1, 1, 2, 2, 1, 3, 1, 3, 1, 1, 2, 1, 1, 1, 1, 1, 2, 3, 1, 1, 1, 1, 1, 1, 1, 1, 2, 1, 1, 1, 3, 1, 1, 1, 1, 1, 1, 1, 1, 1, 3, 7, 1, 1, 2, 1, 1, 1, 3, 3, 2, 1, 1, 3, 1, 1, 1, 1, 1, 2, 1, 1, 1, 1, 1, 1, 2, 1, 1, 1, 2, 1, 2, 1, 2, 1, 1, 1, 1, 1, 1, 1, 1, 1, 1, 2, 2, 1, 1, 1, 1, 1, 1, 1, 1, 1, 1, 1, 4, 1, 1, 1, 1, 1, 3, 1, 1, 1, 1, 1, 1, 1, 1, 1, 1, 1, 2, 1, 1, 1, 1, 2, 1, 1, 2, 2, 1, 2, 1, 1, 1, 1, 4, 1, 1, 1, 2, 1, 1, 1, 1, 1, 1, 1, 1, 1, 2, 1, 1, 2, 1, 1, 1, 1, 1, 1, 1, 1, 1, 1, 1, 4, 1, 1, 1, 1, 1, 1, 1, 1, 2, 1, 3, 1, 1, 1, 3, 1, 1, 2, 1, 1, 2, 1, 2, 1, 2, 1, 1, 1, 1, 1, 1, 1, 1, 1, 1, 1, 1, 1, 1, 1, 1, 1, 2, 1, 1, 1, 1, 1, 1, 1, 1, 1, 1, 1, 1, 1, 1, 1, 1, 1, 1, 1, 1, 2, 3, 1, 1, 2, 1, 1, 1, 1, 1, 1, 1, 1, 1, 1, 1, 1, 1, 2, 1, 1, 1, 1, 1, 1, 1, 2, 2, 1, 1, 1, 1, 1, 1, 2, 1, 1, 2, 1, 3, 1, 1, 1, 1, 1, 1, 2, 1, 1, 1, 2, 1, 1, 5, 1, 1, 3, 1, 1, 1, 1, 1, 1, 1, 1, 1, 1, 1, 1, 1, 1, 1, 1, 1, 1, 3, 1, 1, 1, 1, 1, 1, 1, 1, 1, 1, 1, 1, 1, 1, 1, 2, 1, 1, 1, 1, 1, 1, 2, 1, 1, 1, 1, 1, 1, 1, 2, 2, 2, 1, 1, 1, 1, 1, 1, 1, 1, 1, 3, 2, 1, 1, 1, 2, 1, 1, 1, 1, 1, 1, 7, 2, 1, 1, 1, 1, 1, 3, 1, 1, 1, 1, 1, 1, 1, 1, 1, 3, 1, 1, 1, 1, 1, 1, 1, 1, 1, 1, 1, 1, 1, 3, 1, 2, 1, 1, 1, 1, 1, 1, 1, 1, 2, 1, 4, 1, 1, 1, 1, 1, 1, 1, 1, 1, 1, 1, 1, 1, 2, 1, 1, 1, 1, 1, 1, 1, 6, 1, 1, 1, 1, 1, 1, 1, 1, 1, 5, 1, 2, 2, 1, 1, 1, 1, 1, 1, 1, 1, 1, 1, 1, 1, 1, 2, 2, 4, 4, 1, 2, 1, 1, 1, 1, 1, 1, 1, 1, 1, 5, 1, 1, 1, 1, 1, 1, 1, 2, 1, 1, 2, 1, 2, 1, 1, 3, 1, 1, 1, 1, 1, 1, 1, 1, 1, 1, 1, 2, 2, 1, 2, 1, 3, 1, 2, 2, 2, 8, 1, 1, 1, 1, 1, 1, 2, 1, 1, 1, 1, 1, 1, 1, 1, 1, 1, 1, 3, 1, 1, 1, 1, 1, 1, 1, 3, 2, 1, 1, 1, 1, 2, 2, 2, 5, 1, 1, 1, 1, 1, 1, 1, 1, 1, 1, 3, 1, 1, 7, 3, 5, 5, 1, 1, 1, 2, 3, 1, 1, 5, 4, 1, 1, 1, 1, 1, 1, 1, 2, 1, 1, 1, 2, 2, 1, 1, 1, 1, 1, 1, 3, 1, 1, 1, 1, 1, 1, 1, 1, 1, 2, 2, 1, 1, 1, 1, 1, 1, 1, 1, 1, 1, 1, 3, 2, 4, 1, 3, 1, 1, 1, 1, 1, 1, 3, 1, 1, 1, 1, 1, 1, 1, 2, 1, 1, 1, 2, 1, 1, 1, 5, 1, 1, 2, 3, 1, 1, 1, 1, 1, 1, 1, 1, 1, 2, 5, 1, 1, 1, 2, 1, 1, 1, 3, 1, 1, 1, 1, 1, 1, 1, 1, 1, 2, 1, 2, 1, 1, 2, 1, 1, 1, 1, 2, 1, 1, 3, 1, 1, 1, 2, 1, 1, 1, 1, 1, 1, 1, 1, 2, 1, 1, 1, 1, 1, 1, 1, 2, 1, 1, 1, 2, 1, 1, 1, 1, 1, 2, 1, 1, 1, 1, 1, 1, 1, 1, 1, 1, 1, 1, 2, 1, 1, 1, 1, 1, 2, 1, 1, 1, 1, 2, 1, 1, 1, 1, 1, 2, 2, 1, 2, 1, 1, 1, 1, 2, 1, 2, 1, 1, 1, 1, 1, 1, 4, 1, 1, 2, 2, 1, 1, 1, 2, 1, 1, 2, 2, 1, 1, 1, 1, 1, 2, 1, 1, 1, 1, 1, 1, 1, 1, 1, 1, 1, 1, 1, 1, 1, 1, 1, 1, 1, 1, 1, 1, 1, 1, 1, 1, 1, 1, 1, 1, 1, 1, 1, 1, 2, 2, 1, 1, 1, 1, 1, 1, 1, 2, 1, 1, 1, 1, 1, 1, 1, 1, 1, 1, 1, 3, 1, 1, 1, 1, 1, 1, 2, 1, 1, 1, 1, 1, 1, 1, 1, 1, 1, 12, 1, 1, 1, 1, 1, 1, 1, 1, 1, 2, 1, 1, 1, 1, 1, 1, 1, 1, 1, 3, 1, 1, 1, 1, 1, 1, 1, 1, 1, 1, 1, 1, 1, 1, 1, 1, 1, 1, 2, 1, 1, 1, 1, 1, 1, 1, 1, 1, 1, 1, 1, 2, 1, 1, 1, 1, 1, 1, 1, 1, 1, 1, 1, 1, 1, 1, 1, 1, 1, 1, 1, 1, 1, 1, 1, 1, 1, 1, 1, 1, 1, 1, 1, 1, 1, 1, 1, 1, 1, 1, 1, 1, 1, 1, 1, 4, 1, 1, 1, 1, 1, 8, 1, 1, 1, 1, 1, 2, 1, 1, 1, 1, 2, 1, 1, 1, 3, 1, 2, 1, 1, 1, 2, 1, 2, 1, 1, 1, 1, 1, 1, 1, 1, 1, 1, 1, 1, 1, 1, 1, 1, 1, 1, 1, 2, 1, 1, 1, 1, 1, 1, 1, 2, 3, 1, 2, 1, 1, 2, 1, 2, 2, 1, 1, 1, 1, 1, 1, 1, 1, 1, 1, 1, 1, 1, 7, 1, 1, 1, 1, 1, 1, 1, 2, 1, 1, 1, 1, 1, 1, 1, 1, 1, 1, 1, 2, 4, 1, 1, 1, 1, 1, 1, 1, 1, 2, 1, 1, 1, 2, 1, 1, 1, 1, 1, 1, 1, 1, 2, 1, 1, 1, 1, 1, 1, 1, 1, 1, 1, 1, 2, 1, 1, 1, 1, 1, 6, 1, 1, 1, 1, 2, 1, 2, 2, 2, 3, 1, 1, 1, 1, 1, 1, 1, 1, 1, 1, 1, 3, 1, 1, 1, 1, 1, 1, 1, 1, 1, 1, 2, 1, 3, 1, 1, 1, 1, 5, 1, 1, 1, 1, 1, 2, 1, 1, 1, 1, 1, 1, 1, 1, 3, 2, 1, 3, 2, 1, 1, 1, 6, 1, 1, 1, 2, 1, 2, 1, 1, 6, 1, 1, 1, 1, 1, 2, 1, 1, 1, 1, 1, 1, 2, 1, 1, 2, 1, 3, 1, 1, 2, 1, 1, 1, 1, 1, 1, 1, 1, 1, 1, 1, 1, 4, 1, 1, 1, 1, 1, 1, 1, 1, 1, 1, 1, 1, 1, 1, 1, 2, 1, 1, 1, 1, 3, 2, 1, 1, 1, 2, 67, 1, 1, 1, 2, 1, 1, 1, 1, 1, 1, 3, 1, 1, 1, 1, 2, 1, 1, 1, 1, 3, 1, 1, 1, 1, 2, 2, 1, 1, 1, 1, 1, 1, 1, 2, 1, 1, 1, 1, 2, 1, 1, 1, 1, 1, 2, 1, 1, 1, 1, 1, 2, 1, 1, 3, 1, 1, 1, 1, 2, 2, 4, 1, 1, 1, 1, 1, 1, 1, 1, 1, 1, 1, 1, 1, 1, 1, 1, 1, 1, 1, 1, 1, 1, 1, 1, 1, 1, 1, 1, 1, 1, 1, 2, 3, 1, 1, 1, 1, 1, 1, 1, 1, 7, 1, 1, 1, 1, 1, 2, 1, 1, 1, 2, 1, 1, 1, 1, 2, 1, 1, 1, 2, 1, 1, 1, 1, 3, 2, 1, 2, 1, 2, 1, 1, 1, 1, 1, 1, 1, 1, 1, 2, 1, 1, 1, 1, 1, 2, 1, 1, 1, 1, 1, 1, 1, 2, 1, 1, 3, 1, 1, 2, 1, 2, 1, 2, 2, 1, 1, 1, 1, 1, 1, 1, 1, 1, 1, 1, 1, 1, 1, 1, 1, 1, 2, 1, 1, 1, 1, 1, 1, 1, 1, 1, 1, 1, 1, 1, 1, 1, 1, 1, 2, 1, 1, 1, 1, 1, 1, 1, 1, 1, 1, 1, 1, 1, 34, 1, 1, 1, 1, 1, 1, 1, 1, 1, 1, 1, 1, 1, 1, 1, 1, 1, 1, 1, 6, 1, 1, 1, 1, 1, 1, 1, 1, 1, 1, 1, 3, 1, 1, 1, 1, 1, 2, 1, 1, 2, 2, 1, 1, 1, 1, 3, 3, 1, 2, 1, 1, 1, 1, 1, 1, 1, 1, 1, 1, 2, 1, 1, 1, 2, 1, 1, 1, 1, 1, 1, 1, 1, 1, 1, 1, 1, 1, 16, 1, 1, 2, 1, 1, 1, 1, 1, 1, 1, 1, 2, 2, 1, 1, 1, 2, 1, 1, 3, 1, 1, 1, 1, 1, 1, 1, 1, 1, 1, 1, 2, 1, 1, 1, 1, 1, 1, 1, 5, 1, 1, 2, 1, 1, 1, 1, 1, 1, 1, 2, 1, 1, 1, 1, 3, 2, 1, 1, 1, 1, 1, 1, 1, 1, 1, 2, 1, 2, 1, 5, 1, 1, 1, 1, 2, 1, 1, 1, 1, 1, 1, 1, 1, 3, 1, 1, 1, 1, 1, 4, 1, 1, 3, 1, 1, 1, 2, 1, 1, 2, 1, 1, 1, 10, 1, 1, 1, 1, 1, 1, 1, 1, 1, 1, 1, 1, 1, 1, 1, 1, 1, 2, 2, 2, 1, 1, 1, 1, 1, 3, 1, 1, 1, 1, 1, 1, 2, 1, 1, 1, 1, 3, 1, 1, 1, 1, 2, 1, 1, 1, 1, 1, 1, 2, 2, 7, 1, 1, 1, 1, 1, 2, 1, 1, 1, 1, 1, 1, 1, 1, 1, 3, 1, 1, 1, 2, 4, 1, 1, 1, 1, 1, 1, 1, 2, 1, 1, 1, 1, 1, 1, 1, 1, 2, 1, 1, 3, 5, 2, 1, 1, 1, 1, 1, 1, 1, 2, 2, 2, 1, 1, 2, 2, 1, 1, 1, 1, 1, 1, 1, 1, 1, 1, 1, 1, 1, 3, 1, 1, 1, 1, 1, 1, 1, 1, 1, 1, 1, 2, 1, 1, 1, 1, 1, 1, 1, 1, 1, 1, 1, 1, 1, 1, 1, 1, 1, 1, 1, 1, 1, 1, 1, 1, 1, 1, 1, 2, 2, 1, 2, 1, 1, 1, 2, 1, 1, 3, 1, 1, 1, 1, 1, 2, 1, 1, 1, 2, 1, 2, 1, 4, 4, 2, 1, 3, 3, 1, 1, 1, 1, 2, 2, 1, 1, 1, 1, 1, 1, 1, 1, 2, 1, 1, 2, 2, 1, 1, 1, 1, 1, 1, 1, 1, 1, 1, 1, 1, 1, 1, 1, 2, 1, 1, 2, 9, 1, 1, 3, 1, 2, 5, 1, 1, 2, 1, 1, 2, 1, 1, 6, 1, 1, 1, 1, 1, 1, 1, 1, 1, 5, 1, 2, 1, 2, 3, 1, 1, 2, 1, 1, 1, 1, 1, 1, 1, 1, 1, 1, 1, 7, 1, 1, 1, 1, 1, 1, 1, 1, 1, 4, 4, 1, 1, 1, 1, 26, 26, 2, 3, 1, 1, 1, 1, 1, 1, 1, 2, 1, 1, 1, 2, 2, 1, 1, 1, 1, 1, 1, 1, 1, 1, 1, 2, 1, 1, 2, 2, 1, 1, 1, 1, 1, 1, 1, 2, 1, 1, 1, 1, 2, 1, 2, 1, 1, 1, 2, 1, 1, 1, 1, 1, 2, 1, 1, 1, 5, 3, 3, 3, 3, 3, 3, 1, 1, 1, 1, 2, 2, 1, 1, 1, 1, 2, 2, 2, 13, 1, 1, 1, 4, 6, 1, 1, 1, 1, 1, 2, 1, 1, 1, 1, 1, 1, 1, 2, 1, 1, 3, 1, 1, 2, 2, 1, 1, 1, 1, 4, 3, 1, 1, 1, 2, 3, 2, 5, 3, 1, 1, 1, 1, 1, 1, 1, 1, 2, 2, 1, 1, 1, 1, 1, 1, 1, 2, 1, 3, 1, 1, 1, 1, 1, 1, 1, 1, 1, 1, 1, 2, 1, 2, 1, 1, 1, 1, 1, 1, 1, 1, 1, 1, 1, 1, 1, 1, 1, 2, 2, 2, 2, 1, 1, 2, 3, 1, 1, 1, 3, 1, 1, 2, 1, 1, 1, 1, 1, 1, 1, 1, 1, 1, 1, 1, 1, 1, 1, 1, 2, 1, 1, 1, 1, 1, 1, 1, 2, 2, 1, 3, 1, 1, 1, 1, 1, 1, 1, 1, 1, 1, 1, 1, 1, 3, 1, 1, 1, 1, 2, 1, 4, 1, 2, 2, 1, 1, 1, 1, 1, 1, 1, 1, 1, 1, 1, 1, 1, 2, 1, 1, 1, 1, 1, 1, 1, 1, 1, 1, 1, 2, 1, 1, 1, 1, 1, 1, 2, 1, 1, 1, 3, 1, 1, 1, 1, 1, 2, 1, 2, 1, 1, 2, 1, 1, 1, 1, 1, 1, 1, 2, 1, 1, 1, 1, 1, 1, 1, 1, 1, 3, 1, 1, 1, 3, 1, 1, 1, 1, 1, 2, 7, 1, 1, 2, 1, 2, 1, 4, 1, 1, 2, 1, 1, 1, 1, 1, 1, 1, 1, 1, 1, 1, 1, 1, 1, 2, 1, 1, 1, 1, 14, 1, 1, 1, 2, 2, 1, 1, 1, 2, 1, 1, 1, 1, 1, 1, 6, 1, 1, 1, 1, 1, 1, 1, 1, 1, 1, 1, 1, 1, 1, 1, 1, 1, 1, 2, 1, 1, 1, 1, 1, 1, 3, 1, 1, 8, 1, 1, 13, 5, 1, 1, 1, 1, 1, 1, 1, 1, 1, 1, 1, 1, 7, 1, 1, 1, 1, 2, 1, 1, 1, 1, 1, 2, 1, 2, 1, 1, 1, 1, 1, 2, 1, 1, 1, 1, 4, 1, 1, 1, 1, 1, 1, 1, 1, 1, 1, 1, 1, 3, 1, 1, 1, 1, 1, 1, 1, 1, 1, 1, 1, 1, 1, 3, 1, 1, 1, 1, 1, 1, 1, 1, 1, 1, 1, 1, 2, 2, 2, 1, 1, 1, 1, 3, 1, 1, 1, 1, 1, 9, 1, 1, 1, 1, 2, 1, 1, 1, 1, 1, 1, 2, 2, 1, 1, 1, 1, 1, 1, 1, 1, 1, 1, 8, 1, 2, 2, 1, 1, 1, 1, 1, 1, 1, 1, 1, 1, 1, 1, 1, 1, 1, 1, 1, 2, 1, 1, 1, 1, 1, 5, 1, 1, 1, 1, 1, 1, 6, 1, 1, 1, 1, 1, 1, 1, 2, 1, 1, 1, 1, 4, 2, 2, 1, 1, 1, 2, 2, 5, 21, 1, 1, 6, 1, 2, 5, 1, 1, 1, 1, 1, 1, 1, 1, 1, 1, 1, 1, 2, 1, 1, 2, 1, 1, 1, 1, 1, 1, 1, 3, 1, 1, 1, 1, 1, 1, 1, 1, 3, 1, 1, 1, 1, 1, 1, 1, 1, 1, 1, 1, 1, 1, 1, 2, 2, 2, 2, 4, 1, 1, 1, 1, 2, 2, 1, 1, 1, 1, 1, 1, 2, 4, 1, 1, 1, 1, 2, 1, 4, 1, 1, 1, 1, 1, 1, 1, 1, 1, 1, 1, 1, 1, 1, 5, 1, 1, 1, 1, 1, 1, 1, 1, 1, 1, 1, 1, 1, 2, 1, 1, 1, 1, 1, 1, 1, 5, 5, 5, 1, 1, 1, 1, 1, 1, 1, 3, 1, 1, 1, 1, 1, 1, 1, 1, 1, 1, 1, 1, 1, 1, 1, 3, 1, 1, 1, 1, 1, 1, 1, 2, 1, 1, 1, 1, 1, 1, 1, 1, 1, 1, 1, 1, 1, 1, 1, 1, 1, 1, 1, 1, 2, 2, 1, 5, 1, 1, 1, 1, 1, 2, 1, 1, 1, 1, 1, 1, 2, 3, 3, 3, 1, 1, 1, 1, 2, 2, 1, 1, 1, 1, 2, 2, 1, 2, 1, 1, 1, 1, 1, 2, 1, 1, 1, 1, 3, 4, 1, 1, 1, 1, 1, 2, 1, 1, 2, 1, 1, 1, 1, 1, 1, 1, 3, 1, 1, 1, 1, 1, 1, 1, 2, 2, 1, 1, 1, 1, 2, 1, 1, 1, 2, 1, 1, 1, 1, 1, 1, 1, 1, 1, 4, 1, 1, 2, 1, 1, 1, 1, 1, 1, 1, 1, 1, 1, 1, 1, 1, 1, 1, 1, 2, 1, 1, 1, 1, 1, 1, 1, 1, 1, 1, 1, 1, 1, 1, 1, 1, 1, 2, 1, 1, 1, 1, 2, 1, 1, 1, 1, 1, 1, 1, 1, 1, 1, 1, 1, 1, 1, 1, 1, 1, 1, 5, 3, 1, 1, 1, 1, 1, 2, 1, 1, 1, 1, 1, 1, 1, 11, 1, 1, 1, 1, 1, 2, 1, 1, 1, 1, 1, 1, 1, 1, 1, 1, 1, 1, 1, 2, 1, 1, 1, 1, 1, 1, 1, 1, 2, 1, 1, 1, 1, 1, 3, 1, 1, 4, 2, 1, 1, 1, 1, 1, 2, 1, 1, 1, 1, 1, 1, 2, 1, 1, 1, 1, 1, 3, 1, 2, 1, 1, 1, 1, 1, 3, 1, 1, 1, 1, 4, 1, 1, 1, 1, 44, 1, 1, 1, 1, 1, 1, 1, 1, 5, 2, 1, 1, 1, 1, 1, 1, 1, 1, 1, 1, 1, 1, 1, 1, 2, 2, 2, 1, 2, 1, 2, 1, 1, 1, 1, 2, 1, 1, 1, 1, 5, 1, 1, 1, 1, 1, 1, 1, 15, 1, 1, 1, 1, 1, 1, 1, 1, 1, 1, 1, 1, 2, 1, 2, 1, 1, 1, 2, 1, 2, 1, 2, 3, 1, 1, 1, 1, 1, 2, 1, 3, 1, 1, 1, 1, 1, 2, 1, 1, 1, 1, 1, 1, 1, 1, 1, 1, 1, 1, 1, 1, 1, 1, 1, 1, 1, 3, 4, 1, 1, 1, 1, 3, 1, 1, 2, 1, 1, 1, 1, 1, 1, 2, 1, 1, 1, 1, 1, 1, 1, 1, 1, 1, 1, 1, 1, 1, 1, 1, 1, 2, 1, 1, 1, 1, 1, 1, 1, 1, 1, 1, 1, 3, 1, 1, 1, 1, 1, 1, 1, 1, 1, 1, 1, 1, 2, 2, 1, 1, 1, 1, 2, 1, 1, 1, 1, 2, 2, 2, 1, 1, 1, 1, 1, 1, 1, 1, 1, 2, 1, 1, 1, 1, 1, 1, 1, 1, 1, 1, 1, 1, 1, 1, 1, 1, 1, 1, 1, 1, 1, 1, 1, 1, 1, 1, 1, 1, 1, 1, 1, 1, 1, 1, 2, 2, 4, 1, 1, 1, 1, 1, 3, 1, 1, 1, 2, 1, 1, 1, 1, 2, 1, 2, 1, 1, 1, 1, 1, 2, 1, 1, 1, 1, 1, 1, 3, 1, 1, 1, 1, 1, 1, 2, 3, 2, 1, 1, 1, 1, 1, 1, 1, 1, 2, 1, 1, 1, 1, 1, 1, 1, 1, 2, 1, 1, 3, 2, 1, 1, 1, 1, 1, 1, 1, 1, 1, 1, 1, 1, 2, 1, 1, 1, 1, 1, 1, 1, 1, 1, 1, 1, 1, 1, 1, 1, 2, 1, 2, 1, 1, 1, 1, 1, 1, 1, 1, 1, 1, 1, 1, 1, 2, 1, 1, 1, 1, 1, 1, 1, 3, 1, 1, 1, 1, 1, 1, 3, 1, 1, 1, 1, 1, 1, 1, 3, 4, 1, 1, 1, 1, 1, 3, 4, 3, 1, 9, 4, 1, 1, 1, 2, 1, 1, 3, 1, 1, 4, 5, 1, 1, 1, 1, 1, 1, 1, 2, 1, 4, 1, 1, 1, 1, 1, 23, 1, 1, 1, 4, 4, 1, 1, 1, 1, 1, 1, 3, 3, 4, 2, 1, 1, 1, 1, 1, 1, 1, 1, 2, 1, 1, 2, 5, 1, 1, 2, 1, 2, 1, 1, 3, 1, 1, 1, 1, 1, 1, 1, 1, 1, 1, 2, 1, 1, 1, 1, 1, 2, 2, 1, 1, 1, 1, 1, 1, 1, 1, 1, 1, 1, 1, 2, 1, 1, 2, 4, 2, 1, 1, 1, 1, 2, 1, 1, 1, 1, 2, 2, 1, 1, 2, 1, 1, 2, 2, 2, 1, 1, 1, 1, 1, 1, 1, 2, 1, 1, 1, 1, 5, 1, 2, 2, 1, 1, 1, 4, 1, 2, 1, 1, 1, 1, 1, 1, 1, 1, 1, 2, 1, 1, 1, 1, 1, 1, 1, 1, 1, 1, 1, 2, 1, 1, 1, 1, 1, 1, 1, 1, 4, 2, 3, 1, 1, 1, 1, 1, 1, 2, 1, 1, 1, 1, 1, 1, 1, 1, 1, 1, 1, 1, 2, 1, 1, 1, 1, 1, 1, 1, 1, 1, 1, 1, 1, 2, 1, 1, 1, 1, 1, 1, 1, 1, 1, 2, 1, 1, 1, 1, 1, 1, 1, 1, 1, 2, 1, 1, 1, 1, 1, 1, 1, 1, 1, 1, 1, 1, 2, 1, 1, 1, 1, 2, 1, 1, 1, 3, 6, 1, 1, 1, 1, 1, 2, 1, 2, 1, 1, 1, 1, 1, 2, 1, 1, 1, 1, 1, 1, 1, 1, 1, 1, 1, 1, 1, 1, 1, 1, 1, 1, 1, 1, 1, 1, 1, 1, 2, 1, 1, 1, 1, 1, 1, 1, 2, 1, 1, 1, 1, 1, 3, 4, 1, 1, 1, 2, 1, 1, 4, 1, 1, 2, 3, 6, 1, 2, 1, 1, 1, 1, 1, 1, 1, 1, 1, 1, 1, 1, 1, 1, 1, 1, 1, 1, 1, 2, 1, 2, 1, 1, 2, 1, 1, 1, 1, 2, 1, 1, 1, 4, 2, 1, 1, 1, 8, 1, 1, 1, 1, 1, 1, 1, 1, 3, 1, 1, 8, 1, 1, 1, 1, 1, 1, 1, 1, 3, 1, 1, 3, 1, 1, 1, 1, 1, 3, 1, 3, 1, 1, 1, 3, 1, 1, 2, 1, 1, 1, 2, 1, 1, 1, 1, 1, 1, 2, 1, 1, 2, 1, 1, 2, 2, 1, 1, 5, 1, 1, 2, 1, 1, 1, 3, 1, 1, 1, 1, 1, 2, 2, 1, 1, 1, 1, 1, 1, 1, 1, 1, 1, 1, 1, 1, 1, 1, 1, 1, 1, 1, 1, 1, 1, 1, 3, 1, 3, 1, 1, 2, 1, 3, 1, 3, 1, 1, 1, 1, 3, 1, 1, 1, 1, 1, 2, 1, 1, 1, 1, 1, 5, 1, 1, 1, 2, 1, 1, 1, 1, 1, 1, 1, 1, 1, 1, 1, 1, 1, 1, 1, 11, 1, 1, 1, 1, 1, 1, 1, 1, 1, 1, 5, 1, 2, 5, 1, 2, 1, 1, 1, 1, 1, 3, 2, 1, 1, 1, 1, 1, 1, 1, 1, 1, 2, 1, 1, 1, 1, 2, 1, 2, 1, 2, 1, 1, 8, 2, 7, 2, 1, 1, 1, 1, 1, 1, 1, 1, 1, 1, 1, 1, 1, 1, 1, 2, 2, 1, 1, 1, 7, 3, 1, 6, 1, 1, 1, 2, 2, 1, 1, 1, 1, 1, 2, 1, 1, 1, 1, 1, 1, 1, 1, 2, 3, 1, 1, 1, 1, 2, 1, 1, 1, 2, 1, 1, 1, 1, 1, 1, 1, 1, 1, 1, 1, 2, 1, 1, 1, 1, 1, 5, 5, 2, 1, 1, 1, 1, 2, 1, 1, 1, 3, 1, 2, 1, 1, 1, 1, 1, 2, 1, 1, 4, 1, 11, 11, 1, 1, 2, 1, 2, 1, 1, 1, 1, 1, 2, 2, 1, 1, 1, 2, 2, 1, 1, 1, 1, 1, 1, 1, 1, 1, 1, 1, 1, 1, 1, 1, 1, 1, 1, 1, 1, 1, 1, 1, 2, 2, 3, 1, 1, 1, 1, 1, 1, 1, 1, 1, 6, 1, 1, 1, 1, 1, 1, 1, 1, 1, 2, 1, 1, 1, 3, 1, 1, 1, 1, 1, 1, 1, 1, 1, 1, 1, 1, 1, 1, 1, 1, 1, 1, 2, 1, 1, 1, 2, 2, 9, 2, 1, 1, 1, 1, 1, 2, 1, 2, 1, 1, 1, 1, 1, 1, 1, 4, 1, 1, 2, 1, 1, 1, 3, 1, 1, 1, 1, 1, 1, 1, 1, 2, 3, 2, 1, 1, 1, 1, 2, 5, 1, 1, 1, 1, 1, 1, 1, 5, 6, 1, 4, 1, 4, 2, 1, 1, 1, 1, 5, 1, 5, 4, 1, 1, 1, 1, 1, 1, 4, 1, 1, 1, 1, 1, 1, 1, 1, 1, 1, 2, 2, 1, 2, 1, 1, 1, 1, 1, 1, 1, 1, 1, 1, 2, 1, 1, 1, 1, 1, 2, 1, 2, 1, 2, 1, 1, 1, 1, 1, 1, 1, 1, 2, 1, 1, 1, 2, 1, 1, 1, 1, 1, 1, 1, 1, 1, 1, 3, 1, 1, 2, 2, 1, 1, 1, 1, 1, 1, 1, 1, 1, 1, 1, 3, 3, 1, 1, 5, 1, 1, 1, 1, 2, 1, 1, 1, 2, 1, 1, 1, 1, 1, 1, 10, 1, 1, 1, 1, 1, 1, 1, 1, 1, 2, 4, 1, 1, 2, 1, 1, 1, 2, 1, 1, 1, 1, 2, 1, 1, 1, 1, 2, 1, 1, 1, 1, 2, 1, 1, 1, 1, 1, 1, 2, 1, 1, 1, 1, 1, 1, 1, 1, 1, 1, 1, 1, 2, 1, 1, 1, 2, 1, 1, 1, 1, 2, 3, 1, 1, 1, 2, 1, 1, 1, 3, 1, 1, 2, 1, 1, 1, 1, 1, 1, 1, 1, 1, 1, 1, 2, 2, 1, 1, 1, 2, 1, 1, 1, 1, 1, 1, 2, 1, 1, 3, 1, 2, 2, 1, 1, 1, 1, 2, 1, 1, 8, 2, 1, 3, 1, 1, 1, 1, 1, 1, 1, 1, 1, 1, 1, 1, 1, 1, 1, 1, 1, 1, 1, 1, 1, 1, 1, 1, 1, 1, 1, 1, 1, 1, 1, 1, 1, 1, 1, 1, 1, 1, 1, 1, 1, 1, 1, 1, 1, 12, 2, 1, 1, 1, 1, 1, 1, 1, 1, 1, 1, 1, 1, 1, 1, 2, 1, 1, 1, 2, 2, 1, 2, 1, 1, 1, 1, 1, 1, 1, 1, 1, 2, 1, 3, 1, 1, 1, 8, 8, 1, 1, 1, 1, 1, 1, 1, 1, 1, 1, 1, 1, 3, 1, 7, 1, 1, 1, 1, 1, 1, 1, 1, 4, 3, 1, 1, 2, 2, 1, 1, 1, 1, 1, 1, 1, 1, 1, 2, 1, 1, 4, 1, 1, 1, 1, 2, 1, 3, 1, 1, 1, 3, 1, 1, 1, 1, 2, 1, 1, 2, 2, 1, 1, 1, 1, 1, 1, 1, 1, 1, 2, 1, 1, 1, 1, 3, 1, 1, 3, 2, 1, 2, 1, 1, 1, 1, 1, 1, 1, 1, 1, 1, 1, 1, 1, 1, 1, 1, 2, 1, 1, 2, 1, 1, 1, 2, 2, 2, 1, 1, 1, 1, 3, 2, 177, 6, 1, 1, 1, 1, 1, 1, 1, 1, 1, 2, 1, 1, 1, 1, 1, 1, 1, 1, 1, 1, 1, 1, 1, 1, 2, 1, 8, 2, 2, 1, 1, 1, 1, 1, 1, 1, 1, 1, 1, 1, 2, 2, 1, 1, 1, 1, 1, 2, 1, 1, 1, 1, 1, 1, 1, 1, 2, 1, 1, 1, 1, 1, 1, 1, 1, 1, 1, 4, 1, 1, 1, 1, 1, 1, 1, 1, 1, 2, 1, 1, 1, 1, 1, 1, 1, 1, 2, 2, 1, 1, 3, 1, 2, 1, 1, 8, 2, 3, 3, 1, 1, 1, 1, 1, 1, 4, 1, 1, 1, 1, 1, 2, 5, 1, 1, 1, 1, 1, 1, 1, 1, 1, 1, 1, 1, 1, 1, 1, 1, 1, 1, 1, 1, 2, 1, 1, 2, 2, 1, 1, 1, 1, 1, 1, 1, 1, 1, 1, 1, 2, 1, 3, 1, 1, 5, 1, 1, 1, 1, 1, 3, 1, 1, 1, 1, 1, 2, 1, 1, 1, 1, 1, 4, 2, 1, 1, 1, 1, 1, 1, 1, 1, 1, 1, 1, 1, 1, 2, 1, 1, 1, 1, 1, 1, 5, 1, 1, 1, 2, 2, 1, 1, 1, 1, 1, 2, 1, 1, 1, 1, 1, 2, 2, 1, 2, 2, 1, 1, 1, 3, 1, 3, 1, 3, 3, 6, 2, 1, 1, 1, 1, 3, 1, 2, 1, 1, 1, 1, 1, 1, 1, 1, 3, 1, 1, 1, 1, 1, 1, 1, 1, 1, 1, 3, 1, 1, 1, 1, 1, 1, 1, 1, 1, 1, 1, 1, 3, 7, 1, 1, 1, 1, 1, 1, 1, 1, 1, 1, 1, 1, 1, 1, 1, 1, 1, 1, 1, 2, 1, 1, 1, 14, 1, 1, 1, 1, 1, 4, 1, 1, 1, 1, 1, 1, 1, 1, 1, 1, 1, 3, 3, 1, 1, 1, 1, 1, 1, 1, 1, 1, 1, 1, 1, 1, 1, 1, 1, 1, 1, 2, 2, 1, 1, 1, 1, 1, 1, 1, 1, 2, 1, 1, 2, 1, 1, 1, 1, 2, 1, 1, 1, 1, 1, 4, 1, 1, 1, 1, 1, 1, 1, 1, 1, 4, 1, 1, 1, 3, 1, 1, 2, 1, 1, 1, 1, 2, 1, 1, 1, 1, 1, 1, 2, 1, 1, 1, 1, 1, 1, 1, 1, 1, 1, 1, 1, 1, 2, 2, 1, 1, 1, 1, 1, 2, 1, 2, 1, 1, 2, 3, 3, 1, 2, 2, 1, 1, 1, 1, 1, 1, 2, 1, 1, 3, 2, 1, 7, 1, 5, 1, 1, 1, 1, 1, 1, 1, 2, 1, 1, 1, 1, 1, 1, 1, 2, 1, 3, 1, 1, 1, 1, 1, 1, 1, 1, 1, 1, 1, 1, 1, 1, 1, 1, 1, 1, 3, 1, 1, 1, 1, 1, 1, 1, 1, 1, 1, 1, 1, 2, 1, 1, 1, 1, 1, 1, 1, 1, 1, 1, 1, 1, 1, 1, 1, 1, 2, 1, 1, 1, 1, 1, 1, 3, 1, 1, 1, 1, 1, 2, 1, 1, 2, 1, 1, 2, 2, 1, 2, 5, 1, 1, 1, 3, 1, 1, 1, 2, 2, 2, 1, 1, 1, 1, 2, 1, 1, 2, 2, 1, 1, 1, 1, 1, 1, 1, 1, 1, 1, 1, 1, 1, 1, 1, 2, 2, 1, 1, 1, 1, 1, 2, 1, 1, 1, 2, 1, 1, 1, 1, 1, 1, 1, 1, 1, 1, 1, 1, 1, 1, 1, 1, 1, 1, 1, 1, 2, 4, 1, 1, 1, 1, 1, 2, 2, 1, 1, 2, 1, 1, 2, 2, 1, 3, 2, 1, 1, 1, 1, 1, 2, 1, 1, 1, 1, 1, 2, 1, 3, 1, 1, 1, 1, 1, 2, 2, 1, 1, 1, 1, 1, 1, 1, 1, 2, 1, 1, 1, 1, 1, 1, 1, 1, 1, 1, 1, 1, 1, 1, 1, 1, 1, 5, 1, 1, 1, 1, 1, 1, 1, 1, 3, 1, 2, 1, 1, 1, 1, 1, 1, 1, 4, 1, 1, 1, 2, 1, 1, 1, 1, 1, 1, 1, 1, 2, 2, 2, 2, 2, 1, 1, 1, 1, 1, 15, 1, 1, 1, 1, 1, 1, 2, 1, 1, 1, 1, 1, 1, 2, 1, 1, 1, 1, 1, 2, 2, 1, 1, 1, 1, 1, 2, 1, 1, 1, 1, 2, 1, 1, 1, 1, 1, 1, 1, 3, 1, 1, 1, 1, 1, 1, 1, 1, 1, 1, 1, 1, 2, 1, 2, 1, 1, 1, 1, 1, 1, 1, 1, 1, 1, 1, 2, 1, 1, 1, 1, 1, 1, 1, 1, 1, 3, 4, 3, 1, 2, 1, 1, 2, 1, 2, 1, 2, 1, 1, 1, 1, 1, 1, 2, 1, 1, 3, 1, 2, 1, 1, 1, 2, 1, 1, 3, 2, 2, 1, 1, 1, 1, 1, 1, 1, 1, 1, 1, 1, 1, 163, 1, 2, 4, 2, 1, 1, 1, 1, 1, 1, 1, 1, 1, 1, 1, 1, 1, 2, 1, 1, 1, 1, 1, 1, 1, 1, 1, 1, 1, 1, 1, 1, 1, 1, 1, 1, 3, 1, 1, 6, 1, 6, 1, 3, 1, 1, 1, 1, 1, 1, 3, 1, 1, 1, 1, 2, 1, 1, 1, 1, 1, 1, 2, 1, 1, 1, 1, 1, 1, 1, 1, 1, 1, 1, 1, 1, 1, 1, 1, 1, 1, 1, 1, 1, 1, 1, 1, 1, 1, 1, 2, 1, 1, 2, 1, 1, 4, 2, 1, 2, 7, 1, 1, 4, 4, 1, 1, 1, 1, 1, 1, 1, 1, 1, 2, 1, 1, 2, 2, 1, 1, 1, 1, 1, 1, 1, 1, 3, 1, 1, 1, 1, 1, 1, 1, 1, 3, 2, 1, 1, 1, 1, 1, 1, 1, 1, 1, 1, 1, 1, 1, 1, 1, 1, 1, 1, 2, 1, 1, 1, 1, 2, 1, 2, 1, 1, 2, 1, 1, 1, 1, 1, 2, 1, 1, 1, 1, 1, 4, 2, 1, 1, 1, 1, 1, 1, 1, 5, 1, 3, 6, 1, 2, 1, 1, 4, 3, 1, 2, 1, 1, 1, 1, 1, 1, 1, 1, 1, 1, 1, 1, 5, 5, 2, 1, 1, 1, 1, 1, 1, 1, 1, 1, 1, 1, 1, 3, 1, 1, 1, 1, 2, 1, 1, 1, 1, 1, 1, 3, 1, 1, 1, 1, 1, 1, 1, 1, 1, 2, 2, 1, 1, 1, 1, 1, 1, 1, 1, 1, 1, 1, 1, 1, 3, 1, 1, 1, 1, 1, 1, 1, 1, 1, 1, 1, 1, 2, 1, 1, 2, 1, 1, 1, 1, 1, 1, 2, 2, 1, 1, 2, 1, 1, 1, 1, 3, 1, 1, 1, 1, 1, 1, 2, 1, 1, 1, 1, 1, 1, 1, 1, 2, 1, 1, 1, 1, 1, 1, 1, 1, 1, 1, 1, 1, 4, 4, 1, 1, 3, 1, 1, 1, 1, 1, 1, 1, 4, 1, 2, 1, 1, 1, 1, 1, 1, 1, 1, 1, 1, 1, 1, 3, 1, 1, 1, 1, 1, 1, 1, 2, 2, 1, 1, 1, 1, 1, 1, 1, 2, 2, 1, 2, 2, 1, 1, 1, 1, 1, 1, 2, 1, 1, 1, 1, 1, 1, 3, 1, 1, 1, 1, 1, 5, 1, 1, 1, 1, 1, 9, 1, 1, 2, 1, 2, 1, 1, 1, 1, 1, 1, 1, 1, 1, 1, 1, 1, 1, 1, 1, 1, 1, 1, 4, 1, 1, 2, 1, 1, 2, 1, 1, 1, 1, 2, 1, 2, 1, 1, 1, 1, 1, 1, 1, 2, 1, 1, 2, 1, 1, 1, 2, 1, 1, 1, 1, 2, 1, 1, 1, 2, 1, 1, 1, 1, 1, 1, 1, 1, 1, 1, 1, 1, 1, 1, 1, 1, 1, 1, 1, 1, 1, 1, 1, 1, 1, 1, 4, 1, 1, 2, 1, 1, 1, 1, 1, 1, 2, 1, 1, 1, 2, 1, 1, 1, 1, 1, 1, 1, 1, 2, 1, 1, 5, 1, 1, 1, 1, 1, 1, 1, 2, 1, 1, 1, 1, 1, 1, 1, 3, 1, 1, 1, 1, 1, 1, 1, 1, 1, 1, 1, 1, 1, 1, 3, 1, 1, 1, 1, 1, 2, 1, 1, 1, 1, 1, 1, 1, 1, 1, 1, 1, 1, 1, 1, 1, 1, 1, 1, 1, 1, 1, 1, 1, 1, 1, 1, 1, 1, 1, 1, 1, 2, 1, 1, 1, 1, 1, 1, 1, 1, 1, 1, 1, 1, 1, 1, 1, 1, 1, 1, 4, 1, 2, 1, 1, 1, 1, 1, 1, 1, 1, 1, 1, 2, 2, 3, 1, 1, 1, 1, 1, 1, 1, 1, 1, 1, 1, 1, 1, 1, 1, 1, 1, 1, 1, 1, 1, 1, 1, 2, 1, 1, 1, 1, 1, 1, 1, 1, 1, 1, 1, 1, 1, 1, 1, 2, 1, 1, 2, 1, 1, 1, 1, 1, 1, 1, 1, 4, 1, 1, 1, 1, 2, 1, 1, 1, 1, 1, 1, 1, 1, 2, 1, 1, 1, 1, 1, 1, 1, 1, 4, 1, 1, 1, 2, 1, 1, 1, 1, 1, 1, 1, 1, 1, 1, 1, 1, 1, 4, 1, 1, 1, 1, 1, 1, 1, 1, 1, 1, 1, 1, 1, 1, 1, 1, 1, 1, 1, 1, 1, 1, 2, 1, 1, 1, 1, 1, 1, 1, 1, 1, 1, 2, 1, 1, 1, 1, 5, 1, 1, 1, 1, 1, 1, 1, 1, 1, 1, 2, 1, 1, 1, 1, 1, 1, 1, 1, 1, 1, 1, 1, 1, 1, 1, 1, 1, 1, 1, 1, 1, 1, 1, 1, 1, 1, 1, 1, 1, 2, 1, 2, 1, 1, 1, 1, 1, 1, 1, 1, 1, 1, 10, 5, 1, 4, 1, 1, 1, 1, 1, 1, 1, 1, 1, 1, 1, 1, 1, 1, 1, 1, 1, 1, 1, 1, 1, 1, 1, 2, 1, 2, 4, 4, 1, 1, 1, 1, 2, 1, 1, 1, 1, 1, 1, 1, 2, 1, 1, 1, 1, 1, 1, 1, 1, 1, 1, 2, 1, 3, 1, 1, 1, 1, 1, 1, 1, 1, 2, 1, 1, 1, 1, 1, 1, 1, 1, 2, 1, 1, 1, 1, 1, 3, 1, 1, 1, 1, 1, 1, 1, 1, 1, 1, 1, 1, 1, 1, 1, 1, 1, 1, 2, 1, 1, 1, 1, 1, 1, 1, 1, 1, 2, 2, 1, 1, 3, 1, 1, 1, 1, 5, 1, 1, 5, 1, 1, 1, 1, 1, 1, 1, 1, 1, 1, 1, 1, 1, 1, 1, 1, 1, 1, 1, 2, 1, 1, 1, 3, 1, 1, 2, 1, 1, 1, 1, 2, 1, 1, 1, 1, 1, 1, 2, 1, 1, 1, 1, 2, 1, 1, 1, 1, 1, 1, 1, 1, 1, 3, 1, 1, 2, 1, 1, 1, 1, 1, 1, 1, 1, 1, 2, 1, 3, 2, 1, 1, 1, 1, 1, 2, 1, 1, 1, 2, 1, 1, 1, 1, 1, 1, 1, 1, 1, 1, 2, 1, 1, 1, 1, 1, 1, 1, 1, 1, 1, 1, 1, 2, 1, 2, 1, 1, 1, 1, 1, 1, 1, 1, 1, 2, 1, 1, 1, 1, 1, 1, 1, 1, 1, 2, 1, 1, 2, 2, 1, 1, 1, 1, 1, 2, 3, 1, 1, 1, 1, 1, 4, 2, 2, 1, 1, 1, 2, 2, 1, 1, 1, 1, 1, 1, 1, 1, 1, 2, 1, 1, 1, 1, 3, 1, 1, 2, 2, 1, 1, 2, 1, 1, 4, 1, 1, 1, 2, 1, 2, 6, 1, 1, 1, 1, 1, 1, 1, 2, 1, 1, 1, 1, 1, 2, 1, 1, 1, 1, 1, 1, 1, 1, 1, 1, 1, 1, 2, 1, 1, 1, 1, 1, 1, 2, 1, 1, 1, 1, 1, 1, 1, 1, 1, 1, 1, 7, 1, 1, 1, 1, 1, 1, 1, 2, 1, 1, 6, 1, 2, 1, 1, 1, 2, 1, 1, 1, 1, 2, 1, 1, 1, 1, 1, 1, 1, 1, 1, 1, 1, 2, 1, 1, 1, 1, 1, 1, 1, 1, 1, 2, 1, 1, 1, 1, 1, 1, 1, 1, 1, 1, 1, 1, 1, 2, 1, 1, 1, 1, 1, 1, 1, 1, 1, 3, 2, 2, 1, 1, 1, 2, 2, 1, 1, 1, 1, 1, 1, 1, 1, 1, 1, 1, 1, 1, 1, 1, 1, 1, 1, 2, 1, 1, 1, 1, 1, 1, 1, 1, 1, 2, 1, 1, 1, 1, 2, 1, 7, 1, 1, 1, 1, 1, 2, 1, 1, 1, 1, 1, 1, 1, 1, 1, 1, 1, 1, 1, 1, 1, 1, 2, 1, 1, 2, 1, 2, 1, 1, 1, 1, 1, 2, 2, 1, 1, 1, 1, 1, 2, 2, 1, 1, 1, 1, 1, 1, 6, 1, 1, 1, 1, 1, 1, 1, 1, 2, 1, 1, 1, 1, 1, 1, 1, 1, 1, 2, 1, 4, 2, 1, 5, 1, 1, 1, 2, 1, 1, 1, 1, 1, 2, 8, 1, 1, 1, 2, 1, 1, 1, 1, 1, 1, 1, 1, 1, 1, 1, 1, 1, 1, 1, 1, 1, 1, 15, 2, 1, 3, 2, 9, 1, 1, 4, 1, 2, 1, 1, 1, 1, 1, 1, 1, 1, 1, 1, 1, 1, 1, 1, 1, 1, 1, 1, 1, 1, 1, 1, 1, 1, 1, 1, 1, 1, 2, 1, 2, 1, 1, 1, 1, 1, 1, 1, 1, 1, 1, 1, 1, 1, 1, 2, 1, 1, 1, 1, 1, 2, 2, 1, 1, 1, 1, 1, 1, 1, 1, 1, 1, 1, 1, 2, 1, 1, 1, 1, 1, 1, 2, 2, 1, 1, 1, 5, 1, 5, 2, 1, 1, 1, 1, 1, 1, 1, 1, 1, 1, 2, 1, 1, 2, 1, 2, 1, 1, 1, 1, 6, 2, 1, 2, 1, 1, 1, 1, 1, 1, 1, 1, 1, 2, 1, 2, 1, 1, 1, 1, 1, 1, 1, 1, 1, 1, 1, 1, 1, 1, 2, 1, 2, 1, 1, 3, 1, 2, 1, 1, 1, 1, 1, 1, 1, 1, 1, 1, 1, 1, 1, 1, 1, 1, 1, 1, 1, 1, 2, 1, 1, 1, 2, 1, 1, 1, 1, 1, 1, 1, 1, 2, 1, 1, 1, 1, 1, 1, 1, 1, 1, 1, 1, 1, 1, 1, 2, 1, 1, 1, 1, 4, 1, 1, 5, 1, 1, 2, 1, 1, 1, 1, 1, 1, 1, 1, 1, 1, 1, 1, 1, 1, 1, 1, 1, 1, 1, 1, 1, 1, 1, 3, 1, 1, 1, 1, 1, 1, 2, 1, 4, 2, 1, 13, 1, 1, 1, 1, 1, 1, 1, 1, 1, 1, 2, 1, 1, 1, 1, 1, 2, 1, 1, 1, 1, 1, 1, 1, 1, 1, 1, 1, 1, 1, 1, 2, 1, 1, 1, 1, 1, 2, 2, 1, 2, 1, 1, 1, 1, 1, 2, 1, 1, 1, 1, 4, 1, 1, 1, 2, 1, 1, 1, 1, 1, 2, 1, 1, 1, 1, 1, 1, 1, 1, 1, 1, 1, 1, 1, 1, 2, 1, 1, 1, 1, 1, 1, 1, 1, 1, 1, 1, 1, 1, 1, 1, 1, 1, 1, 1, 1, 1, 1, 1, 1, 1, 1, 1, 1, 1, 1, 1, 3, 3, 1, 1, 1, 1, 1, 1, 2, 1, 1, 1, 1, 1, 1, 1, 1, 1, 1, 2, 1, 1, 1, 1, 1, 1, 2, 1, 2, 1, 1, 1, 1, 2, 1, 1, 1, 1, 1, 1, 2, 1, 1, 1, 2, 1, 1, 1, 1, 1, 1, 1, 1, 1, 1, 1, 1, 1, 2, 1, 1, 1, 1, 1, 1, 1, 2, 1, 1, 1, 1, 1, 1, 1, 1, 1, 1, 1, 1, 1, 1, 1, 1, 3, 1, 2, 1, 1, 1, 1, 1, 1, 2, 1, 1, 1, 1, 1, 2, 1, 1, 1, 1, 1, 1, 2, 1, 1, 1, 1, 1, 2, 2, 3, 2, 1, 1, 1, 1, 1, 1, 1, 1, 1, 1, 2, 1, 1, 1, 1, 2, 1, 1, 1, 2, 1, 1, 1, 1, 1, 1, 4, 1, 1, 1, 2, 1, 1, 1, 1, 1, 1, 1, 1, 1, 1, 2, 1, 1, 1, 2, 1, 1, 1, 1, 1, 1, 1, 1, 1, 1, 1, 1, 1, 3, 1, 1, 2, 1, 1, 1, 2, 1, 3, 2, 1, 1, 1, 1, 1, 3, 1, 1, 1, 1, 1, 1, 1, 1, 1, 1, 1, 2, 2, 1, 1, 1, 1, 1, 3, 1, 2, 1, 1, 1, 1, 1, 1, 3, 1, 1, 1, 1, 1, 1, 1, 1, 2, 1, 1, 1, 1, 1, 1, 3, 1, 1, 2, 1, 1, 1, 1, 3, 1, 1, 1, 1, 1, 1, 1, 4, 1, 1, 1, 1, 2, 1, 1, 1, 1, 1, 1, 1, 1, 1, 1, 1, 1, 1, 1, 4, 1, 2, 1, 1, 1, 1, 1, 2, 1, 1, 1, 1, 2, 1, 1, 3, 1, 1, 1, 2, 1, 1, 1, 1, 2, 1, 1, 1, 1, 2, 1, 5, 1, 1, 3, 1, 1, 1, 1, 1, 1, 1, 1, 1, 1, 1, 1, 2, 1, 1, 1, 2, 1, 1, 2, 1, 1, 1, 1, 1, 1, 1, 1, 49, 1, 1, 1, 1, 1, 1, 1, 3, 1, 1, 1, 1, 1, 1, 1, 1, 1, 1, 1, 1, 2, 1, 1, 1, 1, 1, 2, 1, 1, 1, 1, 1, 2, 1, 1, 1, 1, 1, 1, 1, 1, 1, 1, 1, 1, 1, 1, 1, 1, 1, 1, 1, 1, 1, 1, 1, 1, 1, 2, 1, 1, 1, 1, 1, 1, 1, 1, 1, 1, 1, 1, 1, 1, 1, 1, 1, 1, 1, 9, 1, 1, 1, 1, 5, 2, 2, 1, 1, 1, 1, 1, 1, 3, 1, 1, 2, 1, 1, 1, 1, 1, 1, 1, 1, 1, 1, 2, 2, 1, 2, 1, 1, 1, 1, 1, 1, 1, 1, 2, 1, 1, 1, 1, 1, 1, 1, 1, 1, 1, 1, 1, 1, 1, 1, 1, 1, 1, 1, 1, 1, 1, 1, 1, 1, 1, 1, 1, 1, 1, 1, 2, 1, 1, 1, 1, 4, 1, 1, 1, 1, 1, 1, 1, 1, 1, 1, 1, 1, 1, 1, 1, 1, 1, 1, 8, 1, 2, 2, 1, 1, 2, 1, 2, 1, 1, 1, 1, 1, 1, 1, 1, 1, 1, 1, 1, 1, 1, 1, 2, 1, 1, 1, 1, 1, 1, 1, 1, 1, 1, 1, 1, 1, 1, 1, 2, 1, 1, 1, 1, 1, 1, 1, 1, 1, 1, 1, 1, 1, 1, 1, 1, 1, 1, 1, 1, 1, 1, 1, 2, 1, 1, 1, 1, 1, 3, 3, 3, 3, 3, 3, 3, 1, 1, 1, 1, 1, 1, 1, 1, 1, 2, 1, 1, 1, 1, 1, 1, 6, 1, 1, 1, 1, 1, 3, 2, 1, 1, 1, 1, 1, 1, 2, 1, 1, 1, 1, 1, 1, 1, 1, 1, 1, 1, 1, 1, 2, 2, 1, 1, 1, 2, 1, 1, 2, 2, 1, 1, 1, 7, 1, 1, 1, 1, 1, 1, 1, 3, 1, 1, 1, 1, 1, 1, 1, 1, 1, 1, 1, 1, 1, 1, 1, 1, 1, 1, 1, 1, 1, 1, 1, 1, 1, 1, 1, 1, 2, 3, 1, 1, 1, 1, 1, 1, 1, 1, 2, 2, 1, 1, 1, 1, 1, 1, 1, 1, 1, 1, 1, 1, 1, 1, 1, 3, 4, 1, 1, 1, 1, 3, 1, 4, 3, 1, 1, 1, 1, 1, 1, 1, 1, 1, 1, 1, 8, 1, 1, 1, 1, 1, 1, 1, 2, 1, 1, 1, 1, 2, 2, 3, 3, 1, 1, 1, 1, 1, 1, 1, 2, 1, 1, 1, 1, 1, 1, 1, 1, 1, 1, 1, 1, 1, 1, 1, 1, 1, 1, 1, 1, 1, 1, 1, 1, 1, 1, 1, 1, 1, 1, 2, 2, 1, 1, 1, 3, 1, 1, 1, 1, 1, 1, 1, 1, 1, 2, 1, 1, 2, 1, 1, 1, 1, 1, 1, 1, 1, 1, 3, 1, 1, 1, 1, 1, 1, 1, 1, 2, 1, 1, 1, 1, 1, 3, 1, 1, 1, 1, 1, 1, 2, 1, 1, 1, 1, 6, 1, 1, 1, 2, 1, 1, 1, 1, 1, 1, 1, 1, 1, 1, 1, 1, 1, 1, 2, 1, 1, 1, 2, 1, 1, 1, 1, 1, 1, 1, 1, 1, 2, 1, 2, 1, 1, 2, 1, 1, 1, 1, 1, 1, 1, 1, 1, 1, 1, 1, 1, 1, 1, 1, 1, 1, 1, 1, 1, 1, 1, 1, 1, 1, 1, 1, 1, 1, 1, 1, 1, 1, 1, 1, 1, 1, 1, 1, 5, 5, 1, 4, 1, 1, 4, 1, 1, 1, 1, 1, 1, 1, 1, 1, 2, 1, 1, 1, 1, 1, 1, 1, 1, 1, 1, 1, 1, 2, 1, 1, 1, 1, 1, 1, 1, 1, 1, 1, 1, 1, 1, 1, 1, 1, 1, 1, 2, 1, 1, 1, 1, 1, 1, 1, 1, 1, 1, 2, 2, 2, 1, 8, 1, 2, 1, 1, 1, 1, 1, 1, 1, 2, 1, 1, 1, 1, 1, 1, 1, 1, 1, 1, 1, 1, 1, 1, 1, 1, 1, 1, 1, 1, 3, 1, 1, 1, 1, 1, 1, 1, 1, 2, 2, 1, 1, 1, 1, 1, 1, 1, 1, 2, 1, 1, 1, 1, 4, 1, 1, 1, 1, 1, 1, 1, 1, 1, 1, 2, 1, 1, 1, 2, 1, 1, 1, 1, 1, 1, 1, 1, 1, 1, 1, 2, 1, 2, 1, 1, 1, 1, 1, 1, 1, 1, 1, 1, 3, 1, 1, 1, 2, 1, 1, 1, 1, 1, 1, 1, 1, 1, 1, 7, 1, 2, 1, 1, 2, 1, 1, 1, 2, 1, 1, 1, 1, 1, 1, 2, 1, 1, 3, 1, 4, 1, 1, 1, 1, 1, 7, 1, 4, 1, 11, 1, 1, 1, 1, 1, 1, 1, 1, 1, 1, 1, 1, 1, 1, 2, 1, 3, 1, 1, 1, 1, 5, 1, 1, 2, 2, 2, 1, 1, 1, 1, 1, 1, 2, 1, 1, 1, 1, 2, 1, 1, 3, 1, 1, 1, 1, 1, 1, 1, 1, 2, 1, 1, 1, 1, 1, 2, 1, 2, 1, 1, 1, 1, 1, 1, 1, 2, 1, 1, 1, 1, 2, 1, 2, 2, 1, 1, 1, 1, 1, 1, 1, 1, 1, 1, 1, 1, 1, 1, 1, 1, 1, 1, 1, 1, 1, 1, 1, 1, 1, 1, 1, 1, 1, 1, 1, 2, 1, 1, 1, 1, 1, 1, 1, 1, 1, 1, 1, 1, 1, 1, 1, 1, 1, 1, 1, 1, 1, 1, 1, 1, 1, 1, 1, 1, 1, 1, 1, 1, 1, 1, 1, 1, 1, 1, 1, 1, 2, 2, 1, 1, 1, 1, 1, 1, 1, 1, 1, 1, 1, 1, 1, 1, 1, 1, 1, 1, 1, 1, 1, 1, 1, 1, 1, 1, 2, 1, 1, 1, 1, 1, 1, 1, 1, 1, 1, 2, 1, 2, 1, 2, 1, 1, 2, 1, 1, 2, 1, 1, 2, 1, 1, 2, 1, 1, 1, 1, 1, 1, 1, 1, 1, 2, 1, 1, 1, 1, 1, 1, 1, 1, 1, 1, 1, 1, 1, 1, 1, 1, 1, 1, 1, 2, 1, 1, 1, 1, 1, 1, 1, 1, 4, 1, 1, 1, 1, 1, 1, 1, 1, 2, 1, 1, 1, 1, 1, 1, 1, 1, 1, 1, 2, 2, 1, 1, 1, 1, 1, 1, 1, 1, 1, 1, 1, 1, 1, 1, 1, 1, 1, 1, 1, 1, 1, 1, 1, 1, 2, 2, 1, 1, 1, 1, 1, 1, 1, 1, 1, 1, 2, 1, 1, 2, 1, 1, 1, 1, 1, 1, 1, 1, 1, 1, 1, 1, 5, 1, 1, 1, 1, 1, 1, 1, 1, 1, 1, 1, 1, 3, 1, 1, 1, 1, 1, 1, 3, 1, 1, 1, 1, 1, 3, 1, 1, 1, 1, 1, 2, 1, 1, 1, 1, 1, 1, 1, 1, 1, 1, 2, 1, 1, 1, 1, 1, 1, 1, 1, 1, 1, 5, 1, 1, 2, 1, 1, 1, 1, 1, 1, 1, 1, 1, 1, 1, 1, 2, 1, 1, 1, 1, 1, 1, 1, 1, 1, 1, 2, 1, 1, 1, 1, 1, 1, 1, 1, 1, 1, 2, 6, 1, 1, 1, 1, 1, 1, 1, 1, 1, 1, 1, 3, 1, 1, 1, 1, 1, 1, 1, 1, 1, 1, 1, 1, 2, 2, 1, 1, 1, 1, 3, 1, 1, 1, 1, 1, 1, 1, 1, 1, 1, 1, 1, 1, 1, 1, 1, 1, 1, 1, 1, 1, 1, 1, 1, 1, 1, 2, 1, 6, 1, 1, 1, 1, 1, 1, 1, 1, 1, 1, 1, 1, 1, 1, 1, 3, 1, 3, 1, 1, 1, 1, 1, 1, 1, 1, 1, 1, 1, 1, 1, 1, 1, 2, 1, 1, 1, 1, 1, 1, 1, 1, 1, 1, 1, 1, 1, 1, 1, 1, 1, 1, 1, 1, 1, 1, 1, 1, 1, 1, 2, 1, 1, 2, 1, 1, 3, 1, 1, 1, 1, 1, 2, 1, 1, 1, 1, 1, 1, 1, 1, 1, 1, 4, 1, 1, 1, 1, 1, 1, 1, 1, 1, 5, 5, 1, 1, 1, 1, 1, 1, 2, 1, 1, 2, 1, 1, 1, 1, 1, 1, 1, 1, 1, 1, 1, 1, 1, 1, 1, 2, 2, 2, 2, 1, 1, 3, 1, 1, 1, 1, 1, 1, 1, 1, 1, 1, 1, 1, 1, 1, 1, 1, 1, 1, 1, 1, 1, 1, 1, 1, 1, 1, 1, 4, 1, 1, 1, 1, 1, 2, 3, 1, 1, 1, 1, 1, 1, 1, 3, 1, 1, 1, 1, 1, 1, 1, 1, 1, 1, 1, 1, 3, 1, 1, 1, 2, 1, 1, 1, 1, 1, 1, 1, 1, 1, 4, 2, 1, 1, 1, 1, 1, 1, 1, 2, 2, 4, 1, 1, 2, 1, 1, 2, 1, 1, 1, 1, 3, 1, 1, 2, 2, 1, 1, 1, 1, 1, 1, 1, 1, 1, 1, 1, 1, 1, 1, 1, 1, 1, 1, 1, 1, 1, 1, 1, 1, 1, 1, 1, 1, 1, 1, 1, 2, 1, 1, 1, 1, 1, 1, 1, 1, 3, 1, 1, 1, 1, 1, 1, 1, 1, 1, 1, 1, 1, 1, 1, 1, 1, 1, 2, 1, 1, 1, 1, 1, 1, 1, 1, 1, 1, 1, 1, 1, 1, 1, 1, 1, 1, 1, 1, 1, 1, 1, 2, 1, 1, 1, 1, 1, 1, 1, 1, 1, 1, 1, 4, 1, 1, 1, 1, 1, 1, 1, 1, 1, 1, 1, 1, 1, 2, 2, 1, 1, 1, 1, 1, 1, 1, 1, 1, 1, 1, 1, 1, 1, 1, 1, 1, 1, 1, 1, 1, 1, 1, 1, 1, 1, 1, 1, 1, 2, 1, 1, 1, 1, 1, 1, 1, 1, 1, 7, 1, 1, 1, 1, 1, 1, 1, 1, 1, 1, 1, 1, 1, 3, 1, 1, 1, 2, 1, 1, 1, 1, 1, 2, 1, 1, 1, 1, 1, 1, 3, 1, 1, 1, 1, 1, 1, 1, 1, 1, 5, 2, 4, 1, 1, 1, 1, 1, 6, 1, 1, 1, 1, 2, 1, 1, 3, 1, 1, 1, 1, 1, 2, 1, 1, 1, 1, 1, 1, 1, 1, 1, 1, 1, 1, 1, 1, 1, 1, 1, 1, 1, 1, 1, 1, 1, 1, 1, 1, 1, 1, 1, 1, 1, 1, 1, 1, 1, 1, 1, 1, 1, 1, 1, 1, 1, 1, 1, 1, 1, 2, 1, 1, 1, 1, 1, 1, 1, 1, 1, 1, 1, 1, 1, 1, 1, 1, 1, 1, 1, 1, 1, 1, 1, 1, 1, 1, 1, 1, 1, 1, 1, 1, 1, 1, 1, 1, 1, 2, 1, 3, 1, 1, 1, 1, 1, 1, 1, 1, 1, 1, 1, 1, 1, 1, 1, 1, 2, 1, 1, 1, 1, 1, 1, 1, 1, 1, 1, 1, 1, 1, 1, 1, 1, 1, 2, 2, 1, 1, 1, 1, 1, 1, 1, 1, 1, 1, 1, 1, 2, 1, 1, 1, 1, 1, 1, 1, 1, 1, 2, 1, 1, 1, 1, 1, 1, 1, 1, 1, 2, 1, 1, 2, 2, 2, 1, 1, 1, 1, 1, 5, 1, 1, 1, 1, 1, 1, 1, 1, 1, 1, 2, 1, 1, 1, 1, 1, 2, 1, 1, 2, 2, 1, 1, 1, 1, 1, 1, 2, 1, 1, 1, 1, 1, 1, 1, 1, 1, 1, 2, 1, 1, 1, 1, 1, 1, 1, 1, 1, 2, 1, 1, 1, 1, 1, 1, 1, 1, 1, 1, 1, 3, 1, 1, 1, 2, 1, 1, 1, 1, 1, 1, 1, 1, 1, 1, 1, 1, 1, 1, 1, 1, 1, 1, 1, 2, 1, 1, 1, 1, 1, 1, 1, 1, 1, 1, 1, 1, 1, 1, 4, 1, 2, 7, 1, 1, 1, 1, 1, 1, 1, 1, 1, 1, 1, 1, 1, 1, 1, 1, 1, 1, 1, 1, 1, 1, 1, 1, 1, 1, 1, 1, 1, 1, 1, 3, 4, 1, 1, 1, 1, 1, 2, 1, 1, 1, 2, 1, 1, 1, 1, 1, 1, 1, 2, 2, 1, 1, 1, 2, 3, 3, 1, 1, 2, 1, 1, 3, 1, 3, 1, 1, 1, 1, 1, 1, 2, 1, 1, 1, 1, 1, 1, 1, 1, 1, 2, 5, 1, 2, 1, 1, 1, 1, 1, 1, 1, 1, 1, 1, 1, 1, 1, 1, 1, 1, 1, 1, 1, 1, 1, 1, 1, 2, 1, 1, 1, 1, 1, 2, 1, 1, 1, 1, 1, 1, 1, 1, 1, 1, 1, 1, 1, 7, 11, 1, 1, 1, 1, 1, 1, 1, 1, 1, 1, 3, 1, 1, 1, 1, 1, 1, 1, 1, 1, 1, 1, 1, 1, 1, 1, 1, 1, 1, 1, 1, 1, 1, 1, 1, 1, 1, 1, 1, 1, 1, 1, 6, 1, 2, 1, 1, 1, 1, 1, 2, 1, 1, 1, 1, 1, 1, 2, 1, 1, 1, 1, 1, 1, 1, 1, 1, 1, 1, 1, 1, 1, 5, 1, 1, 1, 1, 1, 2, 1, 1, 1, 1, 1, 1, 1, 2, 1, 1, 1, 1, 1, 1, 1, 2, 6, 1, 1, 1, 1, 1, 1, 1, 2, 1, 1, 1, 1, 1, 1, 1, 1, 1, 1, 1, 1, 1, 1, 1, 1, 1, 1, 1, 1, 1, 2, 1, 1, 1, 1, 1, 1, 9, 1, 1, 1, 1, 1, 1, 1, 1, 1, 1, 1, 3, 1, 7, 1, 2, 2, 1, 1, 2, 1, 1, 1, 1, 2, 1, 1, 1, 2, 1, 1, 1, 1, 1, 2, 1, 1, 1, 1, 1, 1, 1, 1, 1, 1, 1, 1, 1, 1, 1, 1, 1, 1, 1, 1, 3, 1, 1, 1, 1, 1, 1, 1, 1, 1, 1, 1, 1, 1, 1, 1, 1, 1, 1, 1, 1, 1, 1, 1, 1, 1, 1, 1, 1, 1, 1, 1, 1, 3, 1, 4, 1, 1, 2, 1, 1, 1, 1, 1, 1, 1, 1, 1, 1, 1, 1, 1, 1, 1, 1, 1, 1, 1, 1, 1, 2, 2, 1, 1, 1, 1, 1, 1, 1, 1, 1, 1, 1, 1, 1, 1, 1, 1, 1, 1, 1, 1, 1, 1, 1, 1, 1, 2, 1, 1, 1, 1, 1, 2, 2, 2, 1, 2, 2, 2, 1, 1, 1, 1, 1, 1, 1, 1, 1, 1, 1, 1, 1, 1, 1, 1, 1, 1, 1, 1, 1, 1, 1, 1, 1, 1, 1, 1, 1, 1, 1, 1, 2, 1, 1, 1, 1, 1, 2, 1, 2, 1, 4, 1, 1, 1, 1, 2, 2, 1, 3, 1, 1, 1, 1, 1, 1, 1, 1, 2, 2, 1, 1, 1, 1, 1, 4, 1, 1, 1, 1, 1, 1, 1, 1, 2, 1, 1, 1, 1, 1, 2, 1, 1, 1, 2, 1, 1, 1, 1, 1, 1, 1, 1, 1, 1, 1, 1, 3, 1, 1, 2, 1, 2, 1, 1, 1, 1, 1, 1, 1, 2, 1, 1, 1, 1, 1, 1, 1, 1, 1, 1, 1, 10, 1, 1, 1, 1, 1, 1, 1, 1, 3, 1, 1, 1, 1, 1, 1, 1, 1, 1, 1, 1, 1, 1, 3, 1, 1, 1, 1, 1, 1, 1, 1, 1, 1, 1, 1, 1, 1, 1, 2, 1, 1, 1, 1, 1, 1, 1, 1, 1, 1, 1, 2, 1, 1, 1, 1, 1, 1, 1, 1, 1, 1, 1, 1, 1, 1, 1, 1, 2, 1, 1, 1, 1, 1, 1, 1, 2, 1, 2, 1, 1, 1, 13, 10, 1, 1, 1, 7, 1, 1, 1, 1, 1, 1, 1, 4, 1, 1, 1, 1, 1, 1, 2, 1, 1, 2, 1, 1, 1, 13, 1, 1, 2, 2, 1, 1, 1, 1, 1, 1, 1, 1, 1, 1, 1, 2, 1, 1, 1, 2, 2, 1, 1, 1, 1, 2, 1, 1, 2, 1, 1, 1, 1, 1, 1, 1, 1, 1, 1, 2, 1, 1, 1, 1, 1, 1, 1, 1, 2, 4, 2, 1, 1, 1, 1, 1, 1, 1, 1, 1, 1, 1, 1, 1, 1, 1, 1, 1, 1, 1, 1, 1, 1, 7, 1, 1, 1, 1, 6, 1, 1, 1, 1, 1, 1, 1, 1, 1, 2, 2, 1, 1, 1, 1, 1, 1, 1, 1, 1, 1, 1, 1, 1, 1, 1, 1, 1, 1, 1, 1, 1, 1, 1, 1, 1, 1, 1, 1, 1, 1, 2, 1, 2, 1, 1, 1, 1, 1, 2, 1, 1, 1, 1, 1, 1, 1, 1, 1, 1, 1, 1, 2, 1, 1, 1, 1, 1, 1, 1, 1, 1, 1, 1, 1, 1, 1, 1, 1, 1, 1, 1, 2, 1, 1, 1, 1, 1, 1, 1, 1, 1, 1, 1, 1, 1, 1, 1, 1, 1, 1, 1, 1, 2, 1, 1, 1, 1, 1, 1, 2, 1, 3, 1, 1, 1, 1, 1, 1, 1, 1, 1, 1, 1, 1, 1, 1, 1, 1, 1, 1, 1, 1, 2, 1, 1, 1, 1, 1, 1, 1, 1, 1, 1, 1, 1, 1, 1, 1, 1, 1, 1, 1, 1, 1, 1, 1, 1, 1, 1, 1, 1, 1, 1, 1, 1, 1, 1, 1, 1, 1, 2, 1, 1, 1, 1, 1, 1, 1, 1, 1, 1, 1, 1, 1, 1, 1, 1, 1, 1, 1, 3, 1, 1, 1, 1, 1, 1, 1, 1, 1, 1, 2, 1, 1, 1, 2, 1, 1, 1, 2, 1, 1, 1, 1, 1, 1, 1, 1, 1, 1, 1, 2, 1, 1, 1, 1, 1, 1, 1, 1, 1, 1, 1, 1, 1, 1, 1, 2, 1, 2, 1, 1, 1, 1, 1, 1, 1, 2, 1, 1, 1, 1, 1, 1, 1, 1, 1, 1, 1, 1, 1, 1, 1, 2, 1, 1, 1, 1, 1, 1, 1, 1, 1, 2, 1, 1, 1, 1, 2, 2, 1, 1, 1, 1, 1, 1, 1, 1, 1, 1, 1, 1, 1, 1, 1, 1, 1, 1, 1, 1, 1, 1, 1, 1, 1, 1, 1, 1, 1, 1, 1, 1, 1, 1, 1, 1, 1, 1, 1, 1, 1, 1, 1, 1, 1, 1, 1, 1, 1, 1, 2, 1, 1, 1, 1, 1, 2, 1, 1, 1, 1, 2, 1, 1, 1, 1, 1, 1, 1, 1, 2, 1, 1, 1, 1, 1, 1, 1, 1, 1, 1, 1, 1, 1, 1, 1, 1, 1, 3, 1, 1, 1, 1, 1, 1, 1, 1, 1, 1, 1, 1, 1, 1, 1, 1, 1, 1, 1, 1, 1, 1, 1, 1, 1, 1, 1, 1, 1, 1, 1, 1, 1, 1, 2, 1, 1, 1, 1, 1, 1, 1, 1, 1, 1, 1, 1, 1, 1, 1, 1, 1, 2, 1, 1, 1, 1, 1, 1, 1, 1, 1, 1, 1, 1, 1, 1, 1, 1, 1, 2, 1, 1, 1, 1, 1, 1, 1, 1, 1, 1, 1, 1, 1, 1, 1, 1, 2, 1, 1, 1, 1, 1, 1, 1, 1, 1, 2, 1, 1, 1, 1, 1, 1, 1, 1, 1, 1, 1, 1, 1, 1, 1, 1, 1, 1, 1, 1, 1, 1, 1, 1, 1, 1, 1, 1, 1, 1, 1, 1, 1, 1, 1, 1, 1, 1, 1, 1, 1, 1, 1, 1, 1, 2, 1, 1, 1, 1, 1, 1, 1, 2, 1, 1, 1, 1, 1, 1, 1, 1, 1, 2, 1, 1, 1, 7, 2, 1, 1, 1, 2, 1, 1, 1, 1, 1, 1, 1, 1, 1, 1, 1, 1, 1, 2, 1, 1, 1, 1, 2, 1, 1, 2, 2, 2, 1, 1, 1, 1, 2, 1, 1, 2, 1, 1, 1, 1, 1, 1, 1, 1, 1, 1, 1, 1, 1, 1, 1, 1, 1, 1, 1, 1, 2, 2, 1, 1, 1, 1, 1, 1, 1, 1, 1, 1, 1, 1, 1, 1, 1, 1, 1, 1, 1, 1, 1, 1, 1, 2, 1, 1, 1, 1, 1, 2, 1, 2, 1, 1, 1, 1, 1, 1, 1, 1, 1, 1, 1, 1, 1, 1, 3, 1, 1, 1, 1, 1, 1, 1, 1, 1, 1, 1, 1, 1, 1, 1, 1, 1, 2, 1, 1, 1, 1, 1, 1, 1, 1, 2, 1, 2, 1, 2, 1, 8, 9, 2, 1, 1, 1, 1, 1, 1, 1, 1, 1, 1, 1, 1, 1, 1, 1, 2, 1, 1, 1, 1, 2, 6, 1, 1, 1, 1, 1, 1, 1, 1, 3, 2, 1, 1, 1, 1, 1, 1, 2, 1, 2, 2, 1, 1, 1, 1, 1, 1, 2, 1, 1, 1, 1, 2, 1, 30, 1, 1, 3, 3, 1, 1, 1, 1, 1, 1, 1, 2, 2, 1, 1, 1, 1, 1, 1, 1, 1, 1, 1, 7, 1, 1, 1, 1, 1, 1, 1, 1, 1, 1, 1, 1, 1, 1, 1, 1, 1, 1, 1, 2, 2, 1, 1, 1, 1, 1, 1, 1, 1, 1, 1, 1, 1, 1, 1, 1, 1, 1, 1, 1, 1, 1, 1, 1, 1, 1, 1, 1, 1, 1, 1, 1, 1, 1, 1, 1, 1, 1, 3, 1, 1, 2, 1, 1, 1, 1, 1, 1, 1, 1, 2, 1, 1, 1, 2, 1, 1, 1, 3, 1, 1, 1, 1, 1, 1, 2, 1, 1, 1, 1, 1, 1, 1, 1, 1, 1, 1, 1, 1, 1, 1, 2, 1, 1, 1, 1, 1, 1, 1, 5, 1, 1, 1, 2, 1, 1, 1, 1, 1, 1, 1, 3, 1, 1, 1, 1, 1, 1, 3, 1, 1, 1, 1, 1, 1, 1, 1, 1, 1, 2, 2, 1, 1, 3, 1, 1, 1, 2, 1, 1, 1, 1, 1, 1, 1, 1, 1, 3, 3, 1, 1, 1, 1, 2, 1, 1, 1, 1, 1, 1, 1, 1, 1, 1, 1, 1, 1, 2, 1, 4, 1, 1, 1, 1, 1, 1, 1, 1, 1, 1, 1, 1, 1, 1, 4, 1, 1, 1, 1, 1, 1, 2, 1, 1, 1, 1, 1, 1, 2, 1, 1, 1, 1, 2, 1, 1, 1, 1, 1, 2, 1, 1, 1, 1, 1, 1, 1, 1, 2, 1, 1, 2, 1, 1, 1, 1, 1, 1, 1, 2, 1, 1, 1, 1, 1, 1, 1, 1, 1, 1, 2, 1, 1, 2, 1, 1, 1, 2, 1, 2, 1, 1, 1, 1, 1, 1, 1, 1, 1, 1, 1, 1, 1, 1, 1, 1, 1, 1, 1, 1, 1, 1, 1, 1, 1, 1, 2, 1, 1, 1, 1, 1, 1, 1, 1, 1, 1, 1, 1, 1, 3, 1, 2, 4, 1, 1, 1, 1, 1, 1, 2, 1, 1, 1, 1, 1, 2, 1, 1, 1, 1, 1, 1, 1, 1, 1, 1, 1, 1, 1, 1, 1, 1, 2, 1, 1, 1, 1, 1, 1, 2, 4, 1, 1, 1, 1, 1, 1, 1, 1, 1, 1, 1, 1, 1, 1, 1, 1, 1, 1, 1, 1, 1, 1, 1, 1, 1, 1, 2, 2, 1, 1, 1, 3, 1, 1, 1, 1, 1, 2, 1, 1, 1, 1, 1, 1, 1, 1, 1, 1, 2, 1, 1, 1, 1, 1, 1, 2, 1, 1, 1, 1, 1, 1, 1, 1, 1, 1, 1, 1, 1, 1, 1, 1, 1, 1, 1, 1, 1, 1, 2, 1, 1, 1, 1, 1, 1, 1, 1, 1, 1, 1, 1, 1, 1, 1, 1, 1, 1, 1, 1, 1, 1, 2, 1, 2, 1, 1, 1, 1, 1, 1, 1, 1, 1, 2, 1, 1, 3, 3, 2, 1, 1, 1, 1, 1, 1, 1, 1, 1, 1, 2, 1, 1, 1, 9, 1, 1, 1, 1, 1, 2, 2, 1, 1, 1, 1, 1, 1, 2, 2, 1, 1, 1, 1, 1, 1, 1, 1, 1, 1, 1, 1, 1, 1, 1, 1, 1, 4, 1, 1, 1, 1, 1, 1, 1, 1, 1, 1, 1, 1, 1, 1, 1, 1, 1, 1, 1, 1, 1, 1, 1, 1, 1, 1, 1, 1, 1, 1, 1, 1, 1, 1, 1, 1, 1, 1, 1, 1, 1, 1, 1, 1, 1, 1, 1, 1, 1, 1, 1, 1, 1, 1, 2, 1, 1, 2, 1, 1, 1, 1, 1, 1, 2, 1, 1, 1, 1, 1, 1, 1, 1, 1, 1, 1, 1, 1, 2, 1, 1, 1, 1, 1, 1, 1, 1, 1, 1, 1, 1, 1, 1, 1, 1, 1, 1, 1, 1, 1, 1, 1, 1, 1, 1, 1, 1, 1, 1, 1, 1, 1, 1, 1, 1, 1, 1, 1, 1, 1, 1, 1, 1, 1, 1, 1, 1, 1, 1, 1, 1, 1, 1, 1, 1, 1, 1, 3, 1, 1, 1, 1, 1, 1, 1, 1, 1, 1, 1, 1, 1, 1, 1, 1, 1, 1, 1, 1, 1, 1, 1, 1, 1, 1, 1, 1, 1, 1, 1, 1, 1, 1, 1, 1, 1, 1, 3, 1, 1, 1, 1, 1, 1, 1, 1, 2, 1, 1, 1, 1, 1, 1, 3, 1, 2, 1, 1, 1, 1, 1, 1, 1, 1, 1, 1, 1, 1, 1, 1, 1, 1, 1, 1, 1, 1, 1, 1, 1, 1, 1, 1, 1, 1, 1, 1, 1, 1, 1, 1, 1, 1, 1, 1, 2, 1, 1, 1, 1, 1, 1, 1, 1, 1, 1, 1, 1, 1, 1, 1, 1, 1, 1, 1, 1, 1, 1, 1, 1, 1, 1, 1, 1, 1, 1, 1, 1, 1, 1, 1, 1, 1, 1, 1, 1, 1, 1, 1, 1, 1, 1, 1, 1, 1, 1, 1, 1, 1, 1, 1, 1, 1, 1, 1, 1, 1, 1, 1, 1, 1, 1, 1, 1, 1, 1, 1, 2, 1, 1, 1, 1, 1, 1, 1, 1, 1, 1, 1, 1, 1, 1, 1, 2, 1, 1, 2, 1, 1, 2, 1, 1, 1, 1, 4, 4, 1, 1, 1, 1, 1, 1, 1, 2, 1, 1, 1, 1, 1, 1, 5, 5, 1, 2, 1, 1, 1, 1, 1, 1, 1, 1, 1, 1, 1, 1, 1, 1, 1, 1, 1, 1, 1, 1, 1, 1, 1, 1, 1, 1, 1, 1, 1, 1, 1, 1, 2, 1, 1, 1, 1, 1, 1, 2, 2, 1, 1, 1, 1, 1, 2, 1, 1, 1, 1, 1, 1, 2, 1, 1, 1, 8, 1, 1, 2, 1, 1, 1, 1, 1, 1, 1, 1, 2, 2, 2, 2, 1, 1, 1, 1, 1, 1, 1, 1, 1, 2, 1, 1, 1, 2, 1, 1, 1, 1, 1, 1, 1, 1, 1, 1, 1, 1, 1, 1, 1, 1, 1, 1, 2, 1, 1, 1, 1, 1, 1, 1, 1, 1, 1, 1, 1, 1, 1, 1, 1, 4, 1, 1, 1, 1, 1, 1, 1, 1, 1, 1, 1, 1, 1, 1, 1, 1, 1, 8, 1, 1, 1, 1, 1, 1, 1, 1, 2, 1, 1, 1, 1, 1, 1, 2, 1, 1, 2, 1, 2, 1, 1, 1, 1, 1, 1, 1, 1, 1, 1, 1, 1, 2, 1, 1, 1, 1, 1, 1, 1, 1, 1, 1, 1, 1, 1, 1, 1, 1, 1, 1, 1, 1, 1, 1, 1, 1, 1, 1, 1, 1, 5, 2, 1, 1, 1, 1, 1, 1, 1, 1, 1, 1, 1, 2, 2, 1, 1, 1, 1, 1, 1, 1, 1, 1, 1, 1, 1, 1, 1, 1, 1, 1, 1, 1, 1, 1, 2, 1, 1, 1, 1, 1, 1, 1, 1, 2, 1, 1, 1, 2, 1, 1, 1, 1, 1, 1, 1, 1, 1, 1, 1, 1, 1, 1, 1, 1, 1, 1, 1, 1, 1, 1, 1, 1, 1, 1, 1, 1, 1, 1, 1, 1, 1, 1, 1, 1, 1, 1, 1, 1, 1, 1, 1, 1, 1, 1, 1, 1, 1, 2, 1, 1, 1, 1, 1, 1, 1, 1, 1, 1, 1, 1, 1, 2, 1, 1, 1, 1, 1, 1, 1, 1, 1, 1, 1, 1, 1, 1, 1, 1, 2, 1, 1, 1, 1, 1, 1, 1, 1, 1, 1, 2, 2, 1, 1, 1, 1, 1, 1, 1, 1, 2, 1, 1, 1, 1, 2, 1, 1, 1, 1, 1, 1, 1, 1, 1, 1, 1, 1, 1, 1, 1, 1, 1, 1, 5, 1, 3, 1, 1, 1, 1, 1, 1, 1, 1, 1, 1, 1, 1, 3, 1, 1, 1, 1, 1, 1, 1, 1, 1, 1, 1, 4, 1, 1, 1, 1, 1, 1, 1, 1, 1, 1, 1, 1, 1, 1, 1, 1, 1, 1, 2, 1, 1, 1, 5, 2, 1, 1, 1, 1, 1, 1, 1, 1, 1, 1, 1, 2, 1, 1, 1, 1, 1, 1, 1, 1, 1, 1, 1, 1, 1, 1, 1, 1, 1, 1, 1, 2, 1, 1, 1, 1, 1, 1, 3, 1, 1, 1, 1, 1, 1, 1, 1, 1, 1, 1, 1, 1, 1, 1, 1, 1, 1, 1, 1, 1, 1, 2, 1, 1, 1, 1, 1, 1, 1, 1, 1, 1, 1, 1, 1, 1, 1, 1, 1, 1, 1, 1, 1, 1, 1, 1, 1, 1, 1, 1, 2, 1, 1, 1, 1, 1, 1, 1, 1, 1, 1, 1, 1, 1, 1, 1, 1, 1, 1, 1, 1, 1, 1, 1, 1, 1, 1, 1, 1, 1, 1, 1, 1, 1, 1, 1, 1, 1, 1, 1, 1, 1, 1, 1, 1, 1, 1, 3, 1, 1, 2, 1, 1, 1, 1, 1, 1, 1, 1, 1, 1, 1, 2, 1, 1, 1, 1, 1, 1, 1, 1, 1, 1, 1, 1, 1, 1, 1, 1, 1, 1, 1, 1, 1, 1, 1, 1, 2, 1, 1, 1, 1, 1, 1, 1, 1, 1, 1, 1, 1, 1, 1, 1, 1, 1, 1, 1, 1, 1, 1, 3, 1, 1, 1, 1, 1, 1, 1, 1, 1, 1, 1, 1, 1, 1, 1, 1, 1, 1, 1, 1, 1, 1, 1, 1, 1, 1, 2, 3, 1, 1, 1, 1, 1, 1, 1, 1, 1, 2, 1, 1, 1, 1, 1, 1, 1, 1, 1, 1, 1, 1, 1, 1, 1, 1, 1, 1, 2, 1, 1, 1, 1, 1, 1, 1, 1, 2, 1, 1, 1, 1, 1, 1, 1, 1, 1, 1, 1, 1, 1, 1, 1, 1, 1, 1, 1, 1, 1, 1, 1, 1, 1, 1, 1, 1, 1, 1, 1, 1, 1, 1, 1, 1, 1, 1, 1, 1, 2, 1, 1, 1, 1, 1, 1, 1, 1, 2, 1, 1, 1, 1, 1, 1, 1, 1, 1, 1, 1, 1, 1, 1, 1, 1, 1, 1, 1, 1, 1, 1, 1, 1, 1, 2, 1, 1, 1, 1, 1, 1, 1, 2, 1, 1, 1, 1, 1, 3, 1, 2, 1, 1, 1, 1, 2, 1, 1, 1, 1, 1, 1, 1, 1, 1, 1, 1, 1, 1, 1, 1, 1, 1, 1, 1, 1, 1, 1, 1, 1, 1, 1, 1, 1, 1, 2, 1, 1, 1, 4, 1, 1, 1, 1, 1, 1, 2, 1, 1, 1, 1, 1, 1, 1, 1, 1, 1, 1, 1, 1, 1, 2, 1, 1, 1, 1, 1, 1, 1, 1, 1, 1, 1, 1, 1, 1, 1, 1, 1, 1, 1, 1, 1, 1, 1, 1, 1, 1, 1, 1, 2, 1, 1, 5, 1, 1, 1, 1, 1, 1, 2, 1, 1, 1, 1, 1, 1, 2, 1, 1, 1, 1, 1, 1, 1, 1, 1, 1, 1, 1, 1, 1, 1, 1, 1, 1, 1, 1, 1, 1, 1, 1, 1, 1, 2, 1, 1, 1, 1, 2, 1, 1, 1, 1, 1, 3, 1, 1, 1, 1, 1, 1, 1, 1, 1, 1, 1, 1, 1, 1, 1, 1, 1, 1, 1, 1, 1, 1, 1, 1, 1, 1, 1, 1, 1, 1, 1, 1, 1, 1, 1, 1, 1, 1, 1, 1, 1, 1, 1, 1, 2, 1, 1, 1, 1, 1, 2, 1, 1, 1, 1, 1, 1, 3, 1, 1, 1, 1, 1, 1, 1, 1, 1, 1, 1, 1, 1, 1, 1, 1, 1, 1, 1, 1, 3, 1, 1, 1, 1, 1, 1, 1, 1, 1, 1, 1, 1, 1, 1, 1, 1, 1, 2, 1, 1, 1, 1, 1, 1, 1, 1, 1, 1, 1, 1, 1, 1, 1, 1, 2, 1, 1, 1, 1, 1, 1, 1, 1, 1, 1, 1, 1, 1, 1, 1, 1, 1, 1, 1, 1, 1, 1, 1, 1, 1, 1, 1, 3, 1, 1, 1, 1, 1, 1, 1, 1, 1, 2, 1, 1, 1, 1, 1, 1, 1, 1, 1, 1, 1, 1, 1, 1, 1, 1, 1, 3, 1, 4, 1, 1, 1, 1, 1, 1, 1, 1, 1, 1, 1, 1, 1, 1, 1, 1, 1, 2, 1, 1, 1, 1, 1, 1, 1, 1, 1, 1, 1, 1, 1, 1, 1, 1, 1, 1, 1, 1, 1, 1, 1, 1, 1, 1, 1, 1, 1, 1, 1, 1, 1, 1, 1, 1, 1, 1, 1, 1, 1, 1, 1, 1, 1, 1, 1, 1, 1, 1, 1, 1, 1, 1, 1, 1, 1, 1, 1, 1, 1, 1, 1, 1, 1, 1, 1, 1, 1, 1, 1, 1, 1, 1, 1, 1, 1, 1, 1, 1, 1, 1, 1, 1, 1, 1, 1, 1, 1, 1, 1, 1, 1, 1, 1, 1, 1, 1, 1, 1, 1, 1, 1, 3, 1, 1, 1, 1, 1, 1, 1, 1, 1, 1, 1, 1, 1, 1, 3, 1, 1, 1, 1, 3, 1, 1, 1, 1, 1, 1, 1, 1, 1, 1, 1, 1, 1, 2, 1, 1, 1, 1, 1, 1, 2, 1, 1, 1, 2, 1, 1, 1, 1, 1, 1, 1, 1, 1, 1, 1, 1, 1, 1, 2, 1, 5, 1, 1, 1, 1, 1, 1, 1, 1, 1, 1, 1, 3, 1, 1, 1, 1, 2, 1, 1, 1, 1, 1, 1, 1, 1, 1, 1, 1, 1, 1, 1, 1, 1, 1, 2, 1, 1, 1, 1, 1, 1, 1, 1, 1, 1, 1, 1, 1, 1, 1, 1, 1, 1, 1, 1, 1, 1, 1, 2, 1, 1, 2, 1, 1, 1, 1, 1, 1, 1, 1, 2, 1, 1, 1, 1, 1, 1, 1, 1, 1, 2, 1, 1, 1, 1, 1, 1, 1, 1, 1, 2, 1, 1, 1, 1, 1, 1, 1, 1, 2, 2, 1, 1, 1, 1, 1, 1, 1, 1, 2, 1, 1, 1, 1, 1, 1, 1, 1, 1, 1, 2, 1, 1, 1, 1, 1, 1, 1, 1, 1, 1, 1, 1, 1, 2, 1, 1, 1, 1, 1, 1, 1, 1, 1, 1, 1, 1, 1, 1, 1, 1, 1, 1, 3, 3, 1, 1, 1, 1, 1, 1, 1, 1, 1, 1, 1, 1, 1, 1, 1, 1, 1, 1, 1, 1, 10, 1, 1, 1, 1, 1, 1, 1, 1, 1, 1, 1, 1, 1, 1, 1, 1, 1, 1, 1, 2, 1, 1, 1, 1, 1, 1, 1, 1, 1, 2, 2, 1, 1, 1, 1, 1, 1, 1, 1, 1, 1, 1, 1, 1, 1, 1, 1, 1, 1, 1, 1, 1, 1, 1, 1, 3, 1, 3, 3, 1, 1, 1, 1, 1, 1, 1, 1, 1, 1, 1, 1, 1, 1, 1, 1, 1, 2, 1, 1, 1, 1, 1, 1, 1, 1, 1, 2, 1, 1, 1, 1, 1, 1, 1, 1, 1, 1, 1, 1, 1, 1, 1, 1, 1, 1, 1, 1, 1, 1, 1, 1, 1, 1, 1, 1, 1, 1, 1, 1, 1, 2, 1, 1, 1, 1, 1, 1, 1, 1, 1, 1, 1, 1, 1, 1, 1, 1, 1, 1, 1, 2, 1, 1, 1, 2, 1, 1, 1, 1, 1, 1, 1, 1, 1, 1, 1, 1, 1, 1, 1, 1, 2, 1, 1, 1, 1, 1, 1, 1, 4, 3, 1, 1, 1, 1, 1, 1, 1, 3, 1, 1, 1, 1, 1, 1, 1, 1, 1, 1, 1, 1, 1, 1, 1, 1, 1, 1, 1, 1, 1, 1, 1, 1, 1, 1, 1, 1, 1, 1, 1, 4, 4, 1, 1, 1, 1, 1, 1, 1, 1, 1, 1, 1, 1, 1, 1, 1, 1, 1, 1, 1, 1, 1, 1, 1, 1, 1, 1, 1, 1, 1, 1, 1, 1, 1, 1, 1, 1, 1, 1, 1, 1, 1, 1, 1, 1, 1, 1, 1, 1, 1, 1, 1, 1, 1, 1, 1, 1, 1, 1, 1, 1, 1, 1, 1, 1, 1, 1, 1, 1, 1, 1, 1, 1, 1, 1, 1, 1, 2, 1, 2, 1, 1, 1, 1, 1, 1, 1, 1, 1, 1, 1, 1, 1, 1, 1, 1, 1, 1, 1, 1, 1, 1, 1, 1, 1, 1, 1, 1, 2, 1, 1, 1, 1, 1, 1, 1, 1, 1, 1, 1, 1, 1, 3, 1, 2, 1, 1, 1, 1, 2, 1, 1, 1, 1, 1, 1, 3, 1, 1, 1, 1, 1, 1, 1, 1, 1, 1, 1, 1, 1, 1, 1, 1, 1, 1, 2, 2, 1, 1, 1, 1, 1, 1, 1, 1, 1, 1, 1, 1, 1, 1, 1, 1, 1, 1, 1, 1, 1, 1, 1, 1, 1, 1, 1, 1, 2, 1, 1, 1, 1, 1, 1, 1, 1, 1, 1, 1, 1, 1, 1, 1, 2, 1, 1, 1, 1, 1, 1, 2, 1, 1, 1, 2, 1, 1, 2, 1, 1, 1, 2, 1, 1, 1, 1, 1, 1, 1, 1, 1, 1, 1, 1, 1, 1, 1, 1, 1, 1, 1, 1, 1, 1, 1, 1, 1, 1, 1, 1, 1, 1, 1, 1, 1, 1, 1, 1, 1, 1, 1, 2, 1, 1, 1, 1, 1, 1, 1, 1, 1, 1, 1, 1, 1, 1, 1, 1, 1, 2, 1, 1, 1, 1, 1, 1, 1, 1, 1, 1, 1, 1, 1, 1, 1, 1, 1, 1, 2, 1, 1, 1, 1, 1, 1, 1, 3, 1, 1, 1, 1, 1, 1, 1, 1, 2, 1, 1, 1, 1, 1, 1, 1, 1, 1, 1, 1, 1, 1, 1, 1, 1, 1, 1, 1, 1, 1, 1, 1, 1, 1, 1, 1, 1, 1, 1, 1, 1, 1, 1, 1, 1, 1, 1, 1, 1, 1, 1, 2, 1, 1, 1, 1, 1, 1, 1, 1, 1, 1, 1, 1, 1, 1, 1, 1, 2, 1, 1, 1, 1, 1, 1, 1, 1, 1, 1, 1, 1, 1, 1, 1, 1, 1, 1, 1, 1, 1, 1, 1, 1, 1, 2, 2, 1, 2, 1, 1, 1, 1, 1, 1, 1, 1, 1, 1, 1, 1, 1, 1, 1, 1, 1, 1, 1, 1, 1, 1, 1, 2, 2, 1, 1, 1, 1, 1, 1, 2, 1, 1, 1, 1, 1, 1, 1, 1, 1, 1, 2, 1, 1, 1, 1, 1, 1, 1, 1, 1, 1, 1, 1, 1, 1, 1, 1, 1, 1, 1, 1, 1, 1, 1, 1, 1, 1, 1, 1, 1, 1, 1, 1, 1, 1, 1, 1, 1, 1, 1, 1, 1, 1, 1, 1, 1, 1, 1, 1, 1, 1, 1, 1, 1, 1, 1, 1, 1, 1, 1, 10, 1, 1, 1, 1, 1, 1, 1, 1, 1, 1, 1, 1, 1, 1, 1, 1, 1, 1, 1, 1, 1, 1, 1, 1, 1, 1, 1, 1, 3, 1, 5, 1, 1, 1, 2, 1, 1, 1, 1, 1, 1, 1, 1, 1, 1, 2, 1, 1, 1, 1, 1, 1, 1, 1, 1, 1, 2, 1, 1, 1, 1, 1, 1, 1, 1, 1, 1, 1, 1, 1, 1, 1, 1, 3, 1, 1, 1, 1, 2, 1, 1, 1, 1, 2, 1, 1, 1, 2, 1, 1, 1, 1, 1, 2, 1, 3, 1, 1, 1, 3, 1, 1, 1, 1, 1, 1, 1, 1, 1, 1, 1, 1, 1, 1, 1, 1, 1, 1, 1, 1, 1, 1, 1, 1, 1, 1, 1, 1, 1, 1, 1, 1, 1, 1, 1, 1, 2, 1, 1, 1, 1, 1, 2, 1, 1, 1, 1, 1, 1, 1, 1, 1, 1, 1, 1, 1, 1, 2, 1, 1, 1, 2, 1, 1, 1, 1, 1, 1, 1, 1, 1, 1, 5, 2, 1, 1, 1, 1, 1, 1, 1, 1, 1, 1, 1, 1, 1, 1, 1, 1, 1, 1, 1, 1, 1, 1, 1, 2, 1, 1, 1, 1, 1, 1, 1, 1, 1, 1, 6, 1, 1, 1, 1, 1, 1, 1, 1, 1, 1, 2, 1, 1, 1, 1, 1, 1, 1, 1, 1, 1, 1, 1, 1, 1, 1, 1, 1, 1, 1, 1, 3, 1, 1, 1, 1, 1, 2, 1, 1, 1, 1, 1, 1, 1, 1, 1, 1, 1, 1, 2, 1, 3, 1, 1, 1, 1, 1, 2, 1, 1, 2, 1, 1, 1, 1, 1, 1, 1, 1, 1, 1, 1, 1, 1, 1, 1, 1, 1, 1, 1, 1, 1, 1, 1, 1, 1, 1, 1, 1, 1, 1, 1, 1, 1, 1, 1, 1, 1, 1, 1, 1, 1, 2, 1, 1, 1, 1, 1, 1, 1, 1, 1, 1, 1, 1, 2, 1, 1, 1, 1, 1, 1, 1, 2, 3, 1, 1, 1, 1, 1, 2, 1, 1, 1, 2, 2, 1, 1, 1, 1, 1, 1, 1, 1, 1, 1, 1, 1, 2, 1, 1, 1, 1, 1, 1, 1, 1, 1, 1, 1, 1, 1, 1, 1, 1, 2, 1, 1, 1, 1, 1, 2, 1, 1, 1, 1, 1, 1, 1, 1, 1, 1, 1, 1, 2, 1, 1, 1, 1, 1, 1, 1, 1, 1, 1, 1, 2, 1, 1, 1, 1, 1, 1, 2, 1, 1, 1, 1, 1, 1, 1, 1, 1, 1, 1, 1, 1, 1, 1, 2, 1, 1, 1, 1, 1, 1, 1, 1, 1, 1, 1, 1, 1, 1, 1, 1, 1, 3, 1, 1, 1, 1, 1, 2, 2, 1, 1, 1, 1, 1, 1, 2, 1, 1, 1, 1, 1, 1, 1, 1, 1, 1, 1, 1, 1, 2, 1, 1, 1, 4, 1, 1, 1, 1, 1, 1, 1, 1, 1, 1, 7, 1, 1, 1, 1, 1, 1, 1, 2, 1, 1, 1, 1, 1, 1, 1, 1, 1, 1, 1, 1, 2, 2, 1, 1, 1, 1, 1, 1, 1, 1, 1, 2, 1, 2, 2, 1, 1, 2, 2, 1, 1, 1, 1, 1, 1, 1, 1, 2, 1, 1, 1, 1, 1, 1, 1, 1, 1, 1, 1, 1, 1, 1, 1, 1, 1, 3, 1, 1, 1, 1, 1, 1, 1, 1, 1, 1, 2, 1, 2, 1, 1, 1, 1, 1, 1, 1, 1, 1, 1, 1, 1, 1, 1, 1, 1, 1, 1, 1, 1, 1, 2, 1, 1, 2, 1, 1, 1, 1, 1, 1, 1, 1, 1, 1, 1, 1, 1, 1, 1, 1, 1, 1, 1, 1, 1, 1, 1, 1, 2, 3, 1, 1, 1, 1, 1, 1, 3, 2, 1, 1, 4, 1, 1, 1, 2, 1, 1, 1, 2, 1, 1, 1, 1, 1, 1, 1, 1, 1, 1, 1, 1, 1, 1, 1, 1, 1, 1, 1, 1, 1, 1, 1, 1, 1, 1, 1, 1, 1, 1, 1, 6, 1, 1, 1, 1, 1, 1, 1, 1, 1, 1, 1, 1, 1, 1, 1, 1, 1, 1, 1, 2, 1, 1, 1, 1, 1, 1, 1, 1, 1, 1, 1, 1, 1, 27, 1, 1, 1, 1, 1, 1, 1, 1, 1, 1, 1, 1, 1, 1, 1, 1, 1, 1, 1, 1, 1, 1, 3, 1, 1, 1, 2, 1, 1, 1, 2, 1, 1, 1, 1, 1, 1, 1, 1, 1, 1, 1, 2, 1, 1, 1, 1, 1, 1, 1, 3, 1, 1, 1, 1, 2, 1, 1, 1, 1, 1, 1, 1, 1, 1, 1, 1, 1, 1, 1, 1, 1, 1, 1, 1, 1, 1, 1, 1, 1, 1, 1, 2, 1, 1, 1, 1, 1, 1, 2, 1, 1, 1, 1, 1, 1, 1, 1, 1, 1, 1, 1, 1, 2, 1, 1, 1, 1, 1, 1, 3, 1, 1, 1, 1, 1, 1, 1, 1, 1, 1, 1, 1, 1, 1, 1, 1, 1, 1, 1, 1, 1, 1, 1, 1, 1, 1, 1, 1, 1, 1, 1, 1, 1, 2, 1, 1, 1, 1, 1, 1, 1, 1, 1, 1, 1, 1, 1, 1, 1, 2, 1, 1, 1, 1, 1, 1, 1, 1, 1, 1, 1, 1, 1, 1, 1, 1, 1, 1, 1, 1, 1, 1, 1, 3, 1, 1, 1, 1, 1, 1, 1, 1, 1, 1, 1, 1, 1, 1, 1, 1, 1, 1, 1, 1, 1, 1, 1, 1, 1, 1, 1, 2, 1, 1, 1, 1, 1, 2, 1, 1, 1, 1, 2, 1, 1, 1, 1, 1, 1, 2, 2, 1, 1, 1, 1, 3, 1, 1, 1, 1, 1, 1, 1, 1, 1, 1, 1, 1, 1, 1, 1, 1, 1, 1, 1, 1, 2, 2, 1, 1, 1, 1, 1, 2, 1, 1, 2, 2, 1, 1, 1, 1, 1, 1, 1, 1, 1, 11, 1, 1, 1, 1, 1, 1, 1, 1, 1, 1, 1, 1, 1, 1, 1, 1, 1, 1, 1, 1, 1, 1, 1, 1, 1, 1, 1, 1, 1, 1, 1, 1, 1, 1, 1, 1, 1, 1, 1, 1, 1, 1, 1, 1, 1, 1, 1, 1, 6, 1, 1, 1, 1, 1, 1, 1, 1, 1, 1, 1, 1, 1, 1, 1, 2, 1, 1, 1, 1, 1, 1, 1, 1, 1, 1, 1, 1, 1, 2, 1, 1, 1, 1, 1, 1, 1, 1, 1, 1, 1, 1, 1, 1, 1, 1, 1, 1, 1, 1, 1, 1, 1, 1, 1, 1, 1, 1, 1, 1, 1, 1, 1, 1, 1, 1, 1, 1, 1, 1, 1, 1, 1, 1, 1, 1, 1, 1, 1, 1, 1, 1, 1, 1, 1, 1, 1, 1, 1, 1, 1, 1, 1, 1, 1, 1, 1, 1, 1, 1, 1, 1, 1, 1, 1, 1, 2, 1, 1, 1, 1, 1, 1, 1, 1, 1, 1, 1, 1, 1, 1, 1, 1, 1, 1, 1, 1, 2, 1, 5, 1, 1, 1, 1, 1, 1, 1, 1, 1, 1, 1, 1, 1, 1, 1, 1, 1, 1, 1, 1, 1, 1, 1, 1, 1, 1, 1, 1, 1, 1, 2, 1, 1, 1, 2, 1, 1, 1, 1, 1, 1, 1, 1, 1, 2, 1, 1, 1, 1, 1, 1, 1, 1, 1, 1, 4, 2, 1, 1, 1, 1, 1, 1, 1, 1, 1, 1, 1, 1, 1, 1, 1, 1, 1, 1, 1, 1, 1, 3, 1, 1, 1, 1, 1, 1, 1, 1, 1, 1, 1, 1, 1, 1, 1, 1, 1, 1, 1, 1, 1, 1, 1, 1, 1, 1, 1, 1, 1, 1, 1, 1, 1, 1, 1, 1, 1, 1, 1, 1, 1, 1, 1, 1, 1, 21, 1, 1, 1, 1, 1, 1, 1, 1, 1, 1, 1, 1, 6, 1, 1, 1, 1, 1, 1, 1, 1, 1, 2, 1, 1, 1, 1, 1, 1, 1, 1, 1, 1, 1, 1, 1, 1, 1, 1, 1, 1, 2, 1, 2, 1, 1, 1, 1, 1, 1, 1, 1, 1, 1, 1, 1, 1, 1, 1, 1, 1, 1, 1, 1, 1, 1, 1, 2, 1, 1, 1, 1, 1, 1, 1, 2, 1, 1, 1, 1, 1, 1, 1, 1, 1, 1, 1, 1, 1, 2, 1, 2, 1, 1, 1, 1, 1, 1, 1, 1, 1, 1, 1, 1, 1, 1, 1, 1, 1, 1, 1, 1, 1, 1, 1, 1, 1, 1, 1, 1, 1, 1, 1, 1, 1, 1, 1, 1, 1, 1, 1, 1, 1, 1, 1, 1, 1, 1, 1, 1, 1, 2, 1, 4, 1, 2, 1, 1, 1, 1, 1, 1, 1, 1, 1, 1, 2, 2, 1, 1, 1, 1, 2, 1, 1, 1, 1, 1, 1, 1, 1, 1, 1, 1, 1, 1, 1, 1, 1, 1, 2, 1, 1, 1, 1, 1, 1, 1, 1, 1, 1, 3, 1, 1, 1, 1, 1, 1, 1, 1, 1, 2, 1, 1, 1, 1, 1, 1, 1, 1, 3, 1, 1, 1, 1, 1, 1, 1, 1, 1, 1, 7, 1, 3, 1, 1, 1, 2, 1, 1, 1, 1, 1, 1, 1, 2, 1, 1, 1, 1, 1, 1, 1, 1, 1, 1, 1, 1, 1, 1, 1, 1, 1, 1, 1, 1, 1, 1, 1, 1, 1, 1, 1, 1, 1, 1, 1, 1, 1, 1, 1, 1, 1, 1, 1, 1, 1, 1, 1, 1, 1, 1, 1, 1, 1, 1, 1, 1, 2, 1, 1, 1, 1, 1, 1, 1, 1, 1, 1, 1, 1, 1, 4, 1, 1, 1, 1, 1, 1, 1, 1, 1, 1, 1, 1, 1, 1, 1, 1, 1, 1, 1, 1, 1, 2, 1, 1, 1, 1, 1, 1, 1, 1, 1, 1, 1, 1, 1, 1, 1, 1, 1, 1, 1, 1, 1, 1, 1, 1, 1, 1, 1, 5, 1, 1, 1, 1, 1, 2, 1, 1, 1, 1, 1, 2, 1, 1, 1, 1, 1, 1, 1, 1, 1, 1, 1, 2, 1, 1, 1, 1, 1, 1, 1, 1, 1, 1, 1, 1, 1, 1, 1, 1, 1, 1, 2, 1, 1, 1, 1, 1, 1, 1, 1, 2, 1, 1, 1, 1, 1, 1, 1, 1, 1, 1, 1, 1, 2, 2, 1, 2, 1, 1, 2, 1, 1, 2, 1, 1, 1, 1, 1, 1, 1, 1, 1, 1, 2, 1, 1, 1, 1, 1, 1, 1, 1, 1, 1, 1, 1, 1, 1, 1, 1, 1, 1, 1, 1, 1, 1, 1, 1, 1, 1, 1, 1, 1, 1, 1, 1, 2, 1, 1, 1, 1, 1, 1, 1, 1, 1, 1, 1, 1, 1, 1, 1, 1, 1, 1, 1, 1, 1, 1, 1, 1, 1, 3, 1, 1, 2, 2, 1, 1, 1, 1, 1, 1, 1, 1, 1, 1, 1, 1, 1, 1, 1, 1, 1, 1, 1, 1, 1, 1, 1, 1, 1, 1, 1, 1, 1, 1, 1, 1, 1, 1, 1, 1, 1, 1, 1, 1, 1, 1, 1, 1, 2, 1, 1, 1, 1, 1, 1, 1, 4, 1, 1, 1, 1, 1, 1, 1, 1, 1, 1, 1, 1, 1, 1, 1, 1, 1, 1, 1, 1, 1, 1, 1, 1, 1, 1, 1, 1, 1, 1, 1, 1, 1, 1, 1, 1, 1, 1, 1, 1, 1, 2, 1, 5, 5, 1, 1, 1, 1, 1, 1, 1, 1, 1, 2, 1, 1, 1, 1, 2, 1, 1, 1, 1, 1, 1, 1, 1, 1, 1, 1, 1, 3, 1, 1, 1, 1, 1, 1, 1, 1, 1, 1, 1, 3, 1, 1, 2, 1, 1, 1, 1, 3, 1, 1, 1, 1, 1, 1, 1, 1, 2, 1, 1, 1, 1, 1, 1, 1, 1, 1, 1, 1, 1, 1, 1, 1, 1, 1, 1, 2, 1, 1, 1, 1, 1, 1, 1, 1, 1, 1, 1, 1, 1, 4, 1, 1, 1, 1, 1, 1, 1, 1, 1, 1, 1, 1, 1, 1, 1, 1, 1, 1, 1, 1, 1, 1, 1, 1, 1, 1, 1, 1, 1, 1, 1, 1, 1, 1, 1, 1, 1, 1, 1, 1, 1, 4, 1, 1, 1, 1, 1, 1, 1, 1, 1, 1, 1, 1, 1, 1, 1, 1, 1, 1, 1, 1, 1, 1, 1, 1, 1, 1, 1, 1, 1, 1, 1, 1, 1, 1, 1, 1, 1, 1, 1, 1, 1, 1, 1, 1, 1, 1, 1, 1, 1, 1, 1, 1, 1, 1, 1, 1, 1, 1, 1, 1, 1, 1, 1, 1, 1, 1, 1, 1, 1, 1, 1, 1, 1, 1, 1, 1, 1, 1, 1, 1, 1, 1, 1, 1, 1, 1, 1, 1, 1, 1, 1, 1, 2, 1, 1, 1, 5, 1, 1, 1, 2, 1, 1, 1, 1, 1, 1, 1, 1, 1, 1, 1, 1, 1, 1, 1, 1, 1, 1, 1, 1, 1, 1, 1, 1, 1, 1, 1, 1, 1, 1, 6, 1, 1, 1, 1, 1, 1, 1, 1, 1, 1, 1, 1, 1, 1, 1, 1, 1, 1, 1, 1, 1, 1, 2, 1, 1, 1, 1, 1, 1, 5, 1, 1, 1, 1, 1, 1, 1, 1, 1, 1, 1, 1, 1, 1, 1, 1, 1, 1, 1, 1, 1, 1, 1, 1, 1, 1, 1, 1, 1, 1, 1, 1, 1, 1, 1, 1, 1, 1, 1, 1, 1, 1, 1, 2, 1, 1, 1, 1, 2, 1, 1, 1, 1, 1, 1, 1, 1, 1, 1, 1, 1, 1, 1, 1, 1, 1, 3, 1, 2, 1, 1, 1, 1, 1, 1, 1, 1, 1, 1, 1, 1, 2, 1, 1, 1, 1, 1, 1, 1, 1, 1, 1, 1, 1, 1, 1, 1, 2, 1, 1, 1, 1, 1, 3, 1, 1, 1, 1, 1, 1, 1, 1, 1, 1, 1, 1, 1, 1, 1, 1, 1, 1, 1, 1, 1, 1, 1, 1, 2, 2, 1, 1, 1, 1, 1, 1, 1, 1, 1, 1, 1, 1, 1, 1, 1, 1, 1, 1, 1, 1, 1, 1, 2, 1, 1, 1, 1, 1, 1, 1, 1, 1, 1, 1, 1, 1, 1, 1, 1, 1, 1, 1, 1, 2, 1, 1, 1, 1, 1, 1, 1, 1, 1, 1, 1, 1, 1, 1, 1, 1, 1, 1, 1, 1, 1, 1, 1, 1, 1, 1, 1, 1, 1, 1, 1, 1, 1, 1, 1, 1, 1, 1, 1, 1, 1, 1, 1, 1, 1, 1, 1, 1, 1, 1, 1, 1, 1, 1, 1, 1, 1, 1, 7, 1, 1, 1, 3, 1, 1, 1, 1, 1, 2, 1, 1, 1, 1, 1, 1, 1, 1, 1, 1, 1, 1, 1, 1, 1, 1, 1, 1, 1, 1, 1, 1, 1, 1, 1, 1, 1, 1, 1, 1, 1, 2, 1, 1, 1, 1, 1, 1, 1, 1, 1, 1, 1, 1, 1, 1, 1, 1, 1, 1, 1, 1, 1, 1, 1, 1, 1, 1, 1, 1, 1, 1, 1, 1, 1, 1, 1, 1, 1, 1, 1, 1, 1, 1, 1, 1, 1, 1, 1, 1, 1, 1, 1, 1, 1, 1, 1, 1, 1, 1, 1, 1, 1, 1, 1, 1, 1, 1, 1, 1, 1, 1, 1, 1, 1, 1, 1, 1, 1, 1, 1, 1, 1, 1, 1, 1, 1, 1, 1, 1, 1, 1, 1, 1, 1, 1, 1, 1, 1, 1, 1, 1, 1, 1, 1, 2, 1, 1, 1, 1, 1, 1, 1, 1, 1, 1, 1, 2, 1, 1, 3, 1, 1, 1, 1, 1, 1, 1, 1, 1, 2, 1, 6, 4, 1, 1, 1, 1, 1, 1, 1, 1, 1, 4, 1, 1, 1, 1, 1, 1, 1, 1, 1, 1, 1, 1, 1, 1, 1, 1, 1, 1, 2, 2, 2, 1, 1, 1, 1, 1, 1, 1, 2, 1, 1, 1, 1, 1, 1, 1, 1, 1, 1, 1, 1, 1, 1, 1, 1, 1, 2, 1, 1, 1, 1, 1, 1, 2, 1, 1, 1, 2, 1, 1, 1, 1, 1, 1, 1, 1, 1, 1, 1, 1, 1, 1, 1, 1, 1, 1, 1, 1, 1, 1, 1, 1, 1, 1, 4, 1, 1, 1, 1, 2, 1, 1, 1, 1, 2, 1, 1, 1, 1, 1, 1, 1, 1, 1, 1, 1, 3, 3, 1, 1, 1, 1, 1, 1, 1, 1, 1, 1, 1, 1, 1, 1, 1, 1, 1, 1, 1, 1, 1, 1, 2, 1, 1, 1, 1, 1, 1, 1, 1, 1, 1, 1, 1, 2, 1, 1, 1, 1, 1, 1, 1, 1, 1, 1, 1, 1, 1, 1, 1, 1, 1, 1, 1, 1, 1, 1, 1, 1, 1, 1, 1, 1, 1, 1, 1, 1, 1, 1, 1])"
      ]
     },
     "execution_count": 15,
     "metadata": {},
     "output_type": "execute_result"
    }
   ],
   "source": [
    "bow.values()"
   ]
  },
  {
   "cell_type": "code",
   "execution_count": 16,
   "metadata": {},
   "outputs": [
    {
     "data": {
      "text/plain": [
       "collections.Counter"
      ]
     },
     "execution_count": 16,
     "metadata": {},
     "output_type": "execute_result"
    }
   ],
   "source": [
    "type(bow)"
   ]
  },
  {
   "cell_type": "code",
   "execution_count": null,
   "metadata": {},
   "outputs": [],
   "source": []
  },
  {
   "cell_type": "code",
   "execution_count": null,
   "metadata": {},
   "outputs": [],
   "source": []
  },
  {
   "cell_type": "code",
   "execution_count": null,
   "metadata": {},
   "outputs": [],
   "source": []
  },
  {
   "cell_type": "markdown",
   "metadata": {},
   "source": [
    "### Frequency of Words Appearing in Message\n",
    "With our vocabulary, now we'll remove some of the most common words such as 'the', 'and', 'it', etc. These words don't contribute to identifying sentiment and are really common, resulting in a lot of noise in our input. If we can filter these out, then our network should have an easier time learning.\n",
    "\n",
    "We also want to remove really rare words that show up in a only a few twits. Here you'll want to divide the count of each word by the number of messages. Then remove words that only appear in some small fraction of the messages."
   ]
  },
  {
   "cell_type": "code",
   "execution_count": 17,
   "metadata": {},
   "outputs": [
    {
     "data": {
      "text/plain": [
       "15544613.0"
      ]
     },
     "execution_count": 17,
     "metadata": {},
     "output_type": "execute_result"
    }
   ],
   "source": [
    "total = sum(bow.values(),0.0)\n",
    "total\n"
   ]
  },
  {
   "cell_type": "code",
   "execution_count": 18,
   "metadata": {},
   "outputs": [
    {
     "data": {
      "text/plain": [
       "15544613"
      ]
     },
     "execution_count": 18,
     "metadata": {},
     "output_type": "execute_result"
    }
   ],
   "source": [
    "len(bow_list)"
   ]
  },
  {
   "cell_type": "code",
   "execution_count": null,
   "metadata": {},
   "outputs": [],
   "source": []
  },
  {
   "cell_type": "code",
   "execution_count": 19,
   "metadata": {},
   "outputs": [
    {
     "name": "stdout",
     "output_type": "stream",
     "text": [
      "['be', 'the', 'to', 'for', 'on', 'of', 'and', 'in', 'this', 'it', 'at', 'will', 'up', 'buy', 'report']\n"
     ]
    },
    {
     "data": {
      "text/plain": [
       "5990"
      ]
     },
     "execution_count": 19,
     "metadata": {},
     "output_type": "execute_result"
    }
   ],
   "source": [
    "\"\"\"\n",
    "Set the following variables:\n",
    "    freqs\n",
    "    low_cutoff\n",
    "    high_cutoff\n",
    "    K_most_common\n",
    "\"\"\"\n",
    "\n",
    "# TODO Implement \n",
    "\n",
    "# Dictionart that contains the Frequency of words appearing in messages.\n",
    "# The key is the token and the value is the frequency of that word in the corpus.\n",
    "freqs  = {key : value / total for key,value in bow.items()}\n",
    "\n",
    "# Float that is the frequency cutoff. Drop words with a frequency that is lower or equal to this number.\n",
    "low_cutoff = 0.000005\n",
    "\n",
    "# Integer that is the cut off for most common words. Drop words that are the `high_cutoff` most common words.\n",
    "high_cutoff = 15\n",
    "\n",
    "# The k most common words in the corpus. Use `high_cutoff` as the k.\n",
    "K_most_common = [word[0] for word in bow.most_common(high_cutoff)]\n",
    "\n",
    "\n",
    "filtered_words = [word for word in freqs if (freqs[word] > low_cutoff and word not in K_most_common)]\n",
    "print(K_most_common)\n",
    "len(filtered_words) "
   ]
  },
  {
   "cell_type": "code",
   "execution_count": 20,
   "metadata": {},
   "outputs": [
    {
     "data": {
      "text/plain": [
       "['great',\n",
       " 'ill',\n",
       " 'wait',\n",
       " 'staanalystalert',\n",
       " 'jefferies',\n",
       " 'maintain',\n",
       " 'with',\n",
       " 'rat',\n",
       " 'hold',\n",
       " 'set']"
      ]
     },
     "execution_count": 20,
     "metadata": {},
     "output_type": "execute_result"
    }
   ],
   "source": [
    "filtered_words[:10]"
   ]
  },
  {
   "cell_type": "code",
   "execution_count": null,
   "metadata": {},
   "outputs": [],
   "source": []
  },
  {
   "cell_type": "markdown",
   "metadata": {},
   "source": [
    "### Updating Vocabulary by Removing Filtered Words\n",
    "Let's creat three variables that will help with our vocabulary."
   ]
  },
  {
   "cell_type": "code",
   "execution_count": 21,
   "metadata": {},
   "outputs": [
    {
     "data": {
      "text/plain": [
       "[['great', 'buy', 'at', 'ill', 'wait'],\n",
       " [],\n",
       " ['staanalystalert',\n",
       "  'for',\n",
       "  'jefferies',\n",
       "  'maintain',\n",
       "  'with',\n",
       "  'rat',\n",
       "  'of',\n",
       "  'hold',\n",
       "  'set',\n",
       "  'target',\n",
       "  'price',\n",
       "  'at',\n",
       "  'usd',\n",
       "  'our',\n",
       "  'own',\n",
       "  'verdict',\n",
       "  'be',\n",
       "  'buy'],\n",
       " ['hear',\n",
       "  'there',\n",
       "  'guy',\n",
       "  'who',\n",
       "  'know',\n",
       "  'someone',\n",
       "  'who',\n",
       "  'think',\n",
       "  'somebody',\n",
       "  'know',\n",
       "  'something',\n",
       "  'on',\n",
       "  'stocktwits'],\n",
       " ['reveal', 'yourself']]"
      ]
     },
     "execution_count": 21,
     "metadata": {},
     "output_type": "execute_result"
    }
   ],
   "source": [
    "tokenized[:5]"
   ]
  },
  {
   "cell_type": "code",
   "execution_count": 22,
   "metadata": {},
   "outputs": [],
   "source": [
    "vocab = {word: ii+1 for ii, word in enumerate(filtered_words)}"
   ]
  },
  {
   "cell_type": "code",
   "execution_count": 23,
   "metadata": {},
   "outputs": [
    {
     "data": {
      "text/plain": [
       "[('great', 1), ('ill', 2)]"
      ]
     },
     "execution_count": 23,
     "metadata": {},
     "output_type": "execute_result"
    }
   ],
   "source": [
    "list(vocab.items())[0:2]"
   ]
  },
  {
   "cell_type": "code",
   "execution_count": 24,
   "metadata": {},
   "outputs": [],
   "source": [
    "id2vocab = {ii:word for ii, word in enumerate(filtered_words) }"
   ]
  },
  {
   "cell_type": "code",
   "execution_count": 25,
   "metadata": {},
   "outputs": [
    {
     "data": {
      "text/plain": [
       "[(0, 'great'), (1, 'ill')]"
      ]
     },
     "execution_count": 25,
     "metadata": {},
     "output_type": "execute_result"
    }
   ],
   "source": [
    "list(id2vocab.items())[0:2]"
   ]
  },
  {
   "cell_type": "code",
   "execution_count": 26,
   "metadata": {},
   "outputs": [],
   "source": [
    "\"\"\"\n",
    "Set the following variables:\n",
    "    vocab\n",
    "    id2vocab\n",
    "    filtered\n",
    "\"\"\"\n",
    "\n",
    "#TODO Implement\n",
    "\n",
    "# A dictionary for the `filtered_words`. The key is the word and value is an id that represents the word.\n",
    "vocab = {word: ii+1 for ii, word in enumerate(filtered_words)}\n",
    "# Reverse of the `vocab` dictionary. The key is word id and value is the word. \n",
    "id2vocab = {ii+ 1:word for ii, word in enumerate(filtered_words) }\n",
    "# tokenized with the words not in `filtered_words` removed.\n",
    "filtered = []\n",
    "for twit in tokenized:\n",
    "    filtered.append([word for word in twit if word in filtered_words])"
   ]
  },
  {
   "cell_type": "code",
   "execution_count": null,
   "metadata": {},
   "outputs": [],
   "source": []
  },
  {
   "cell_type": "code",
   "execution_count": null,
   "metadata": {},
   "outputs": [],
   "source": []
  },
  {
   "cell_type": "code",
   "execution_count": null,
   "metadata": {},
   "outputs": [],
   "source": []
  },
  {
   "cell_type": "code",
   "execution_count": null,
   "metadata": {},
   "outputs": [],
   "source": []
  },
  {
   "cell_type": "code",
   "execution_count": null,
   "metadata": {},
   "outputs": [],
   "source": []
  },
  {
   "cell_type": "markdown",
   "metadata": {},
   "source": [
    "### Balancing the classes\n",
    "Let's do a few last pre-processing steps. If we look at how our twits are labeled, we'll find that 50% of them are neutral. This means that our network will be 50% accurate just by guessing 0 every single time. To help our network learn appropriately, we'll want to balance our classes.\n",
    "That is, make sure each of our different sentiment scores show up roughly as frequently in the data.\n",
    "\n",
    "What we can do here is go through each of our examples and randomly drop twits with neutral sentiment. What should be the probability we drop these twits if we want to get around 20% neutral twits starting at 50% neutral? We should also take this opportunity to remove messages with length 0."
   ]
  },
  {
   "cell_type": "code",
   "execution_count": 27,
   "metadata": {},
   "outputs": [],
   "source": [
    "balanced = {'messages': [], 'sentiments':[]}\n",
    "\n",
    "n_neutral = sum(1 for each in sentiments if each == 2)\n",
    "N_examples = len(sentiments)\n",
    "keep_prob = (N_examples - n_neutral)/4/n_neutral\n",
    "\n",
    "for idx, sentiment in enumerate(sentiments):\n",
    "    message = filtered[idx]\n",
    "    if len(message) == 0:\n",
    "        # skip this message because it has length zero\n",
    "        continue\n",
    "    elif sentiment != 2 or random.random() < keep_prob:\n",
    "        balanced['messages'].append(message)\n",
    "        balanced['sentiments'].append(sentiment) "
   ]
  },
  {
   "cell_type": "markdown",
   "metadata": {},
   "source": [
    "If you did it correctly, you should see the following result "
   ]
  },
  {
   "cell_type": "code",
   "execution_count": 28,
   "metadata": {},
   "outputs": [
    {
     "data": {
      "text/plain": [
       "0.19434763625590107"
      ]
     },
     "execution_count": 28,
     "metadata": {},
     "output_type": "execute_result"
    }
   ],
   "source": [
    "n_neutral = sum(1 for each in balanced['sentiments'] if each == 2)\n",
    "N_examples = len(balanced['sentiments'])\n",
    "n_neutral/N_examples"
   ]
  },
  {
   "cell_type": "code",
   "execution_count": 29,
   "metadata": {},
   "outputs": [
    {
     "data": {
      "text/plain": [
       "[('great', 1), ('ill', 2), ('wait', 3)]"
      ]
     },
     "execution_count": 29,
     "metadata": {},
     "output_type": "execute_result"
    }
   ],
   "source": [
    "list(vocab.items())[:3]"
   ]
  },
  {
   "cell_type": "markdown",
   "metadata": {},
   "source": [
    "Finally let's convert our tokens into integer ids which we can pass to the network."
   ]
  },
  {
   "cell_type": "code",
   "execution_count": 30,
   "metadata": {},
   "outputs": [],
   "source": [
    "token_ids = [[vocab[word] for word in message] for message in balanced['messages']]\n",
    "sentiments = balanced['sentiments']"
   ]
  },
  {
   "cell_type": "markdown",
   "metadata": {},
   "source": [
    "## Neural Network\n",
    "Now we have our vocabulary which means we can transform our tokens into ids, which are then passed to our network. So, let's define the network now!\n",
    "\n",
    "Here is a nice diagram showing the network we'd like to build: \n",
    "\n",
    "#### Embed -> RNN -> Dense -> Softmax\n",
    "### Implement the text classifier\n",
    "Before we build text classifier, if you remember from the other network that you built in  \"Sentiment Analysis with an RNN\"  exercise  - which there, the network called \" SentimentRNN\", here we named it \"TextClassifer\" - consists of three main parts: 1) init function `__init__` 2) forward pass `forward`  3) hidden state `init_hidden`. \n",
    "\n",
    "This network is pretty similar to the network you built expect in the  `forward` pass, we use softmax instead of sigmoid. The reason we are not using sigmoid is that the output of NN is not a binary. In our network, sentiment scores have 5 possible outcomes. We are looking for an outcome with the highest probability thus softmax is a better choice."
   ]
  },
  {
   "cell_type": "code",
   "execution_count": 31,
   "metadata": {},
   "outputs": [],
   "source": [
    "class TextClassifier(nn.Module):\n",
    "    def __init__(self, vocab_size, embed_size, lstm_size, output_size, lstm_layers=1, dropout=0.1):\n",
    "        \"\"\"\n",
    "        Initialize the model by setting up the layers.\n",
    "        \n",
    "        Parameters\n",
    "        ----------\n",
    "            vocab_size : The vocabulary size.\n",
    "            embed_size : The embedding layer size.\n",
    "            lstm_size : The LSTM layer size.\n",
    "            output_size : The output size.\n",
    "            lstm_layers : The number of LSTM layers.\n",
    "            dropout : The dropout probability.\n",
    "        \"\"\"\n",
    "        \n",
    "        super().__init__()\n",
    "        self.vocab_size = vocab_size\n",
    "        self.embed_size = embed_size\n",
    "        self.lstm_size = lstm_size\n",
    "        self.output_size = output_size\n",
    "        self.lstm_layers = lstm_layers\n",
    "        self.dropout = dropout\n",
    "        \n",
    "        # TODO Implement\n",
    "\n",
    "        # Setup embedding layer\n",
    "        self.embedding = nn.Embedding(num_embeddings=self.vocab_size, embedding_dim=self.embed_size)\n",
    "\n",
    "        self.lstm = nn.LSTM(input_size=self.embed_size, \n",
    "                            hidden_size=self.lstm_size,\n",
    "                            num_layers=self.lstm_layers, \n",
    "                            batch_first=False, \n",
    "                            dropout=self.dropout)\n",
    "        self.dropout = nn.Dropout(p=0.3)\n",
    "        self.fc = nn.Linear(in_features=self.lstm_size, out_features=self.output_size)\n",
    "        self.log_smax = nn.LogSoftmax(dim=1)\n",
    "        \n",
    "        \n",
    "        # Setup additional layers\n",
    " \n",
    "\n",
    "\n",
    "    def init_hidden(self, batch_size):\n",
    "        \"\"\" \n",
    "        Initializes hidden state\n",
    "        \n",
    "        Parameters\n",
    "        ----------\n",
    "            batch_size : The size of batches.\n",
    "        \n",
    "        Returns\n",
    "        -------\n",
    "            hidden_state\n",
    "            \n",
    "        \"\"\"\n",
    "        \n",
    "        # TODO Implement \n",
    "        weight = next(self.parameters()).data\n",
    "\n",
    "        # Create two new tensors with sizes n_layers x batch_size x hidden_dim,\n",
    "        # initialized to zero, for hidden state and cell state of LSTM\n",
    "        hidden = (weight.new(self.lstm_layers, batch_size, self.lstm_size).zero_(),\n",
    "                      weight.new(self.lstm_layers, batch_size, self.lstm_size).zero_())\n",
    "        \n",
    "        return hidden\n",
    "\n",
    "\n",
    "    def forward(self, nn_input, hidden_state):\n",
    "        \"\"\"\n",
    "        Perform a forward pass of our model on nn_input.\n",
    "        \n",
    "        Parameters\n",
    "        ----------\n",
    "            nn_input : The batch of input to the NN.\n",
    "            hidden_state : The LSTM hidden state.\n",
    "\n",
    "        Returns\n",
    "        -------\n",
    "            logps: log softmax output\n",
    "            hidden_state: The new hidden state.\n",
    "\n",
    "        \"\"\"\n",
    "\n",
    "        embeds = self.embedding(nn_input)\n",
    "        lstm_out, hidden_state = self.lstm(embeds, hidden_state)\n",
    "        lstm_out = lstm_out[-1]\n",
    "        \n",
    "        logps = self.log_smax(self.dropout(self.fc(lstm_out)))\n",
    "        \n",
    "        return logps, hidden_state"
   ]
  },
  {
   "cell_type": "markdown",
   "metadata": {},
   "source": [
    "### View Model"
   ]
  },
  {
   "cell_type": "code",
   "execution_count": 32,
   "metadata": {},
   "outputs": [
    {
     "name": "stdout",
     "output_type": "stream",
     "text": [
      "tensor([[-1.3124, -2.0772, -1.6619, -1.5257, -1.6179],\n",
      "        [-1.3667, -2.1714, -1.7567, -1.5912, -1.3675],\n",
      "        [-1.6085, -2.0672, -1.6576, -1.5161, -1.3352],\n",
      "        [-1.3071, -2.0746, -1.6032, -1.6032, -1.6032]])\n"
     ]
    }
   ],
   "source": [
    "model = TextClassifier(len(vocab), 10, 6, 5, dropout=0.1, lstm_layers=2)\n",
    "model.embedding.weight.data.uniform_(-1, 1)\n",
    "input = torch.randint(0, 1000, (5, 4), dtype=torch.int64)\n",
    "hidden = model.init_hidden(4)\n",
    "\n",
    "logps, _ = model.forward(input, hidden)\n",
    "print(logps)"
   ]
  },
  {
   "cell_type": "markdown",
   "metadata": {},
   "source": [
    "## Training\n",
    "### DataLoaders and Batching\n",
    "Now we should build a generator that we can use to loop through our data. It'll be more efficient if we can pass our sequences in as batches. Our input tensors should look like `(sequence_length, batch_size)`. So if our sequences are 40 tokens long and we pass in 25 sequences, then we'd have an input size of `(40, 25)`.\n",
    "\n",
    "If we set our sequence length to 40, what do we do with messages that are more or less than 40 tokens? For messages with fewer than 40 tokens, we will pad the empty spots with zeros. We should be sure to **left** pad so that the RNN starts from nothing before going through the data. If the message has 20 tokens, then the first 20 spots of our 40 long sequence will be 0. If a message has more than 40 tokens, we'll just keep the first 40 tokens."
   ]
  },
  {
   "cell_type": "code",
   "execution_count": 33,
   "metadata": {},
   "outputs": [],
   "source": [
    "def dataloader(messages, labels, sequence_length=30, batch_size=32, shuffle=False):\n",
    "    \"\"\" \n",
    "    Build a dataloader.\n",
    "    \"\"\"\n",
    "    if shuffle:\n",
    "        indices = list(range(len(messages)))\n",
    "        random.shuffle(indices)\n",
    "        messages = [messages[idx] for idx in indices]\n",
    "        labels = [labels[idx] for idx in indices]\n",
    "\n",
    "    total_sequences = len(messages)\n",
    "\n",
    "    for ii in range(0, total_sequences, batch_size):\n",
    "        batch_messages = messages[ii: ii+batch_size]\n",
    "        \n",
    "        # First initialize a tensor of all zeros\n",
    "        batch = torch.zeros((sequence_length, len(batch_messages)), dtype=torch.int64)\n",
    "        for batch_num, tokens in enumerate(batch_messages):\n",
    "            token_tensor = torch.tensor(tokens)\n",
    "            # Left pad!\n",
    "            start_idx = max(sequence_length - len(token_tensor), 0)\n",
    "            batch[start_idx:, batch_num] = token_tensor[:sequence_length]\n",
    "        \n",
    "        label_tensor = torch.tensor(labels[ii: ii+len(batch_messages)])\n",
    "        \n",
    "        yield batch, label_tensor"
   ]
  },
  {
   "cell_type": "markdown",
   "metadata": {},
   "source": [
    "### Training and  Validation\n",
    "With our data in nice shape, we'll split it into training and validation sets."
   ]
  },
  {
   "cell_type": "code",
   "execution_count": 34,
   "metadata": {},
   "outputs": [],
   "source": [
    "\"\"\"\n",
    "Split data into training and validation datasets. Use an appropriate split size.\n",
    "The features are the `token_ids` and the labels are the `sentiments`.\n",
    "\"\"\"   \n",
    "\n",
    "# TODO Implement \n",
    "valid_split = int(0.85*len(token_ids))\n",
    "\n",
    "train_features = token_ids[:valid_split]\n",
    "valid_features = token_ids[valid_split:]\n",
    "train_labels = sentiments[:valid_split]\n",
    "valid_labels = sentiments[valid_split:]"
   ]
  },
  {
   "cell_type": "code",
   "execution_count": 35,
   "metadata": {},
   "outputs": [],
   "source": [
    "text_batch, labels = next(iter(dataloader(train_features, train_labels, sequence_length=40, batch_size=1024)))\n",
    "model = TextClassifier(len(vocab)+1, 200, 128, 5, dropout=0.)\n",
    "hidden = model.init_hidden(1024)\n",
    "logps, hidden = model.forward(text_batch, hidden)"
   ]
  },
  {
   "cell_type": "markdown",
   "metadata": {},
   "source": [
    "### Training\n",
    "It's time to train the neural network!"
   ]
  },
  {
   "cell_type": "code",
   "execution_count": 36,
   "metadata": {},
   "outputs": [
    {
     "data": {
      "text/plain": [
       "TextClassifier(\n",
       "  (embedding): Embedding(5991, 1024)\n",
       "  (lstm): LSTM(1024, 512, num_layers=2, dropout=0.2)\n",
       "  (dropout): Dropout(p=0.3)\n",
       "  (fc): Linear(in_features=512, out_features=5, bias=True)\n",
       "  (log_smax): LogSoftmax()\n",
       ")"
      ]
     },
     "execution_count": 36,
     "metadata": {},
     "output_type": "execute_result"
    }
   ],
   "source": [
    "device = torch.device(\"cuda\" if torch.cuda.is_available() else \"cpu\")\n",
    "\n",
    "model = TextClassifier(len(vocab)+1, 1024, 512, 5, lstm_layers=2, dropout=0.2)\n",
    "model.embedding.weight.data.uniform_(-1, 1)\n",
    "model.to(device)"
   ]
  },
  {
   "cell_type": "code",
   "execution_count": 37,
   "metadata": {},
   "outputs": [
    {
     "name": "stdout",
     "output_type": "stream",
     "text": [
      "Starting epoch 1\n",
      "Epoch: 1/2... Step: 100... Loss: 1.092674... Val Loss: 1.057797 Val Accuracy: 0.5791\n",
      "New best accuracy - model saved\n",
      "Epoch: 1/2... Step: 200... Loss: 1.069717... Val Loss: 0.973376 Val Accuracy: 0.6128\n",
      "New best accuracy - model saved\n",
      "Epoch: 1/2... Step: 300... Loss: 1.011294... Val Loss: 0.936310 Val Accuracy: 0.6352\n",
      "New best accuracy - model saved\n",
      "Epoch: 1/2... Step: 400... Loss: 0.974857... Val Loss: 0.917207 Val Accuracy: 0.6436\n",
      "New best accuracy - model saved\n",
      "Epoch: 1/2... Step: 500... Loss: 0.986933... Val Loss: 0.895571 Val Accuracy: 0.6545\n",
      "New best accuracy - model saved\n",
      "Epoch: 1/2... Step: 600... Loss: 1.006380... Val Loss: 0.874404 Val Accuracy: 0.6603\n",
      "New best accuracy - model saved\n",
      "Epoch: 1/2... Step: 700... Loss: 0.917483... Val Loss: 0.869443 Val Accuracy: 0.6635\n",
      "New best accuracy - model saved\n",
      "Epoch: 1/2... Step: 800... Loss: 1.005873... Val Loss: 0.859736 Val Accuracy: 0.6681\n",
      "New best accuracy - model saved\n",
      "Starting epoch 2\n",
      "Epoch: 2/2... Step: 100... Loss: 0.911046... Val Loss: 0.848887 Val Accuracy: 0.6709\n",
      "New best accuracy - model saved\n",
      "Epoch: 2/2... Step: 200... Loss: 0.976981... Val Loss: 0.847801 Val Accuracy: 0.6744\n",
      "New best accuracy - model saved\n",
      "Epoch: 2/2... Step: 300... Loss: 0.934513... Val Loss: 0.841097 Val Accuracy: 0.6747\n",
      "New best accuracy - model saved\n",
      "Epoch: 2/2... Step: 400... Loss: 0.918247... Val Loss: 0.836902 Val Accuracy: 0.6749\n",
      "New best accuracy - model saved\n",
      "Epoch: 2/2... Step: 500... Loss: 0.935934... Val Loss: 0.837236 Val Accuracy: 0.6769\n",
      "New best accuracy - model saved\n",
      "Epoch: 2/2... Step: 600... Loss: 0.937919... Val Loss: 0.834243 Val Accuracy: 0.6764\n",
      "Epoch: 2/2... Step: 700... Loss: 0.953813... Val Loss: 0.825675 Val Accuracy: 0.6807\n",
      "New best accuracy - model saved\n",
      "Epoch: 2/2... Step: 800... Loss: 0.935417... Val Loss: 0.830357 Val Accuracy: 0.6822\n",
      "New best accuracy - model saved\n"
     ]
    }
   ],
   "source": [
    "\"\"\"\n",
    "Train your model with dropout. Make sure to clip your gradients.\n",
    "Print the training loss, validation loss, and validation accuracy for every 100 steps.\n",
    "\"\"\"\n",
    "\n",
    "epochs = 2\n",
    "batch_size = 1024\n",
    "sequence_length = 40\n",
    "learning_rate = 1e-3\n",
    "\n",
    "print_every = 100\n",
    "clip = 5\n",
    "best_val_acc = 0\n",
    "\n",
    "criterion = nn.NLLLoss()\n",
    "optimizer = optim.Adam(model.parameters(), lr=learning_rate)\n",
    "model.train()\n",
    "\n",
    "for epoch in range(epochs):\n",
    "    print('Starting epoch {}'.format(epoch + 1))\n",
    "    steps = 0        \n",
    "    hidden = model.init_hidden(batch_size)\n",
    "    for text_batch, labels in dataloader(\n",
    "            train_features, train_labels, batch_size=batch_size, sequence_length=sequence_length, shuffle=True):\n",
    "        if text_batch.size() != torch.Size([sequence_length, batch_size]):\n",
    "            continue\n",
    "        steps += 1\n",
    "        hidden = tuple([each.data for each in hidden])\n",
    "        \n",
    "        # Set Device\n",
    "        text_batch, labels = text_batch.to(device), labels.to(device)\n",
    "        for each in hidden:\n",
    "            each.to(device)\n",
    "        \n",
    "        model.zero_grad()\n",
    "        log_ps, hidden = model.forward(text_batch, hidden)\n",
    "        loss = criterion(log_ps, labels)\n",
    "        loss.backward()\n",
    "        nn.utils.clip_grad_norm_(model.parameters(), clip)\n",
    "        optimizer.step()\n",
    "        \n",
    "        if steps % print_every == 0:\n",
    "            model.eval()\n",
    "            val_losses = []\n",
    "            val_accuracy = []\n",
    "            val_hidden = model.init_hidden(batch_size)\n",
    "\n",
    "            for val_text_batch, val_labels in dataloader(\n",
    "            valid_features, valid_labels, batch_size=batch_size, sequence_length=sequence_length):\n",
    "                if val_text_batch.size() != torch.Size([sequence_length, batch_size]):\n",
    "                    continue\n",
    "                val_text_batch, val_labels = val_text_batch.to(device), val_labels.to(device)\n",
    "                val_hidden = tuple([each.data for each in val_hidden])\n",
    "                for each in val_hidden:\n",
    "                    each.to(device)\n",
    "                val_log_ps, hidden = model.forward(val_text_batch, val_hidden)\n",
    "                val_loss = criterion(val_log_ps.squeeze(), val_labels)\n",
    "                val_losses.append(val_loss.item())\n",
    "                \n",
    "                val_ps = torch.exp(val_log_ps)\n",
    "                top_p, top_class = val_ps.topk(1, dim=1)\n",
    "                equals = top_class == val_labels.view(*top_class.shape)\n",
    "                val_accuracy.append(torch.mean(equals.type(torch.FloatTensor)).item())\n",
    "\n",
    "            model.train()\n",
    "            this_val_acc = sum(val_accuracy)/len(val_accuracy)\n",
    "            \n",
    "            print(\"Epoch: {}/{}...\".format(epoch+1, epochs),\n",
    "                  \"Step: {}...\".format(steps),\n",
    "                  \"Loss: {:.6f}...\".format(loss.item()),\n",
    "                  \"Val Loss: {:.6f}\".format(sum(val_losses)/len(val_losses)),\n",
    "                 \"Val Accuracy: {:.4f}\".format(this_val_acc))\n",
    "            if this_val_acc > best_val_acc:\n",
    "                torch.save({\n",
    "            'epoch': epoch,\n",
    "            'step': steps,\n",
    "            'model_state_dict': model.state_dict(),\n",
    "            'optimizer_state_dict': optimizer.state_dict(),\n",
    "            'loss': loss,\n",
    "            }, 'best_model')\n",
    "                best_val_acc = this_val_acc\n",
    "                print(\"New best accuracy - model saved\")"
   ]
  },
  {
   "cell_type": "markdown",
   "metadata": {},
   "source": [
    "## Making Predictions\n",
    "### Prediction \n",
    "Okay, now that you have a trained model, try it on some new twits and see if it works appropriately. Remember that for any new text, you'll need to preprocess it first before passing it to the network. Implement the `predict` function to generate the prediction vector from a message."
   ]
  },
  {
   "cell_type": "code",
   "execution_count": 38,
   "metadata": {},
   "outputs": [],
   "source": [
    "def predict(text, model, vocab):\n",
    "    \"\"\" \n",
    "    Make a prediction on a single sentence.\n",
    "\n",
    "    Parameters\n",
    "    ----------\n",
    "        text : The string to make a prediction on.\n",
    "        model : The model to use for making the prediction.\n",
    "        vocab : Dictionary for word to word ids. The key is the word and the value is the word id.\n",
    "\n",
    "    Returns\n",
    "    -------\n",
    "        pred : Prediction vector\n",
    "    \"\"\"    \n",
    "    \n",
    "    # TODO Implement\n",
    "    \n",
    "    tokens = preprocess(text)\n",
    "    \n",
    "    # Filter non-vocab words\n",
    "    tokens = [word for word in tokens if word in filtered_words]\n",
    "    # Convert words to ids\n",
    "    tokens = [vocab[word] for word in tokens]\n",
    "        \n",
    "    # Adding a batch dimension\n",
    "    text_input = torch.tensor(tokens).unsqueeze(1)\n",
    "    # Get the NN output\n",
    "    #print(text_input.size())\n",
    "    hidden  = model.init_hidden(text_input.size(1))\n",
    "    logps, _ = model.forward(text_input, hidden)\n",
    "    # Take the exponent of the NN output to get a range of 0 to 1 for each label.\n",
    "    pred = torch.exp(logps)\n",
    "    \n",
    "    return pred.detach().numpy()"
   ]
  },
  {
   "cell_type": "code",
   "execution_count": 39,
   "metadata": {},
   "outputs": [],
   "source": [
    "text = \"Google is working on self driving cars, I'm bullish on $goog\"\n",
    "model.eval()\n",
    "model.to(\"cpu\")\n",
    "predict(text, model, vocab)\n",
    "pred = predict(text, model, vocab)"
   ]
  },
  {
   "cell_type": "markdown",
   "metadata": {},
   "source": [
    "### Questions: What is the prediction of the model? What is the uncertainty of the prediction?\n",
    "** TODO: Answer Question**"
   ]
  },
  {
   "cell_type": "code",
   "execution_count": 40,
   "metadata": {},
   "outputs": [],
   "source": [
    "import numpy as np"
   ]
  },
  {
   "cell_type": "code",
   "execution_count": 41,
   "metadata": {},
   "outputs": [
    {
     "name": "stdout",
     "output_type": "stream",
     "text": [
      "1 is the class predicted with the highest likelihood 69.7058379650116%\n"
     ]
    }
   ],
   "source": [
    "print(f'{np.argmax(pred) - 2} is the class predicted with the highest likelihood {np.max(pred)*100}%')"
   ]
  },
  {
   "cell_type": "markdown",
   "metadata": {},
   "source": [
    "Now we have a trained model and we can make predictions. We can use this model to track the sentiments of various stocks by predicting the sentiments of twits as they are coming in. Now we have a stream of twits. For each of those twits, pull out the stocks mentioned in them and keep track of the sentiments. Remember that in the twits, ticker symbols are encoded with a dollar sign as the first character, all caps, and 2-4 letters, like $AAPL. Ideally, you'd want to track the sentiments of the stocks in your universe and use this as a signal in your larger model(s).\n",
    "\n",
    "## Testing\n",
    "### Load the Data "
   ]
  },
  {
   "cell_type": "code",
   "execution_count": 42,
   "metadata": {},
   "outputs": [],
   "source": [
    "with open(os.path.join('..', '..', 'data', 'project_6_stocktwits', 'test_twits.json'), 'r') as f:\n",
    "    test_data = json.load(f)"
   ]
  },
  {
   "cell_type": "markdown",
   "metadata": {},
   "source": [
    "### Twit Stream"
   ]
  },
  {
   "cell_type": "code",
   "execution_count": 43,
   "metadata": {},
   "outputs": [
    {
     "data": {
      "text/plain": [
       "{'message_body': '$JWN has moved -1.69% on 10-31. Check out the movement and peers at  https://dividendbot.com?s=JWN',\n",
       " 'timestamp': '2018-11-01T00:00:05Z'}"
      ]
     },
     "execution_count": 43,
     "metadata": {},
     "output_type": "execute_result"
    }
   ],
   "source": [
    "def twit_stream():\n",
    "    for twit in test_data['data']:\n",
    "        yield twit\n",
    "\n",
    "next(twit_stream())"
   ]
  },
  {
   "cell_type": "markdown",
   "metadata": {},
   "source": [
    "Using the `prediction` function, let's apply it to a stream of twits."
   ]
  },
  {
   "cell_type": "code",
   "execution_count": 44,
   "metadata": {},
   "outputs": [],
   "source": [
    "def score_twits(stream, model, vocab, universe):\n",
    "    \"\"\" \n",
    "    Given a stream of twits and a universe of tickers, return sentiment scores for tickers in the universe.\n",
    "    \"\"\"\n",
    "    for twit in stream:\n",
    "\n",
    "        # Get the message text\n",
    "        text = twit['message_body']\n",
    "        symbols = re.findall('\\$[A-Z]{2,4}', text)\n",
    "        score = predict(text, model, vocab)\n",
    "\n",
    "        for symbol in symbols:\n",
    "            if symbol in universe:\n",
    "                yield {'symbol': symbol, 'score': score, 'timestamp': twit['timestamp']}"
   ]
  },
  {
   "cell_type": "code",
   "execution_count": 45,
   "metadata": {},
   "outputs": [
    {
     "data": {
      "text/plain": [
       "{'symbol': '$AAPL',\n",
       " 'score': array([[ 0.11725944,  0.14221765,  0.1775586 ,  0.30143824,  0.26152608]], dtype=float32),\n",
       " 'timestamp': '2018-11-01T00:00:18Z'}"
      ]
     },
     "execution_count": 45,
     "metadata": {},
     "output_type": "execute_result"
    }
   ],
   "source": [
    "universe = {'$BBRY', '$AAPL', '$AMZN', '$BABA', '$YHOO', '$LQMT', '$FB', '$GOOG', '$BBBY', '$JNUG', '$SBUX', '$MU'}\n",
    "score_stream = score_twits(twit_stream(), model, vocab, universe)\n",
    "\n",
    "next(score_stream)"
   ]
  },
  {
   "cell_type": "markdown",
   "metadata": {},
   "source": [
    "That's it. You have successfully built a model for sentiment analysis! "
   ]
  },
  {
   "cell_type": "markdown",
   "metadata": {},
   "source": [
    "## Submission\n",
    "Now that you're done with the project, it's time to submit it. Click the submit button in the bottom right. One of our reviewers will give you feedback on your project with a pass or not passed grade. You can continue to the next section while you wait for feedback."
   ]
  }
 ],
 "metadata": {
  "kernelspec": {
   "display_name": "Python 3",
   "language": "python",
   "name": "python3"
  },
  "language_info": {
   "codemirror_mode": {
    "name": "ipython",
    "version": 3
   },
   "file_extension": ".py",
   "mimetype": "text/x-python",
   "name": "python",
   "nbconvert_exporter": "python",
   "pygments_lexer": "ipython3",
   "version": "3.6.3"
  }
 },
 "nbformat": 4,
 "nbformat_minor": 2
}
